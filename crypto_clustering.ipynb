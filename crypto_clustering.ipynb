{
 "cells": [
  {
   "cell_type": "markdown",
   "metadata": {},
   "source": [
    "# Clustering Crypto"
   ]
  },
  {
   "cell_type": "code",
   "execution_count": 91,
   "metadata": {},
   "outputs": [],
   "source": [
    "# Initial imports\n",
    "import requests\n",
    "from pathlib import Path\n",
    "import pandas as pd\n",
    "import plotly.express as px\n",
    "from sklearn.preprocessing import StandardScaler, MinMaxScaler\n",
    "from sklearn.decomposition import PCA\n",
    "from sklearn.cluster import KMeans\n",
    "import warnings\n",
    "warnings.filterwarnings('ignore')"
   ]
  },
  {
   "cell_type": "markdown",
   "metadata": {},
   "source": [
    "### Fetching Cryptocurrency Data"
   ]
  },
  {
   "cell_type": "code",
   "execution_count": 92,
   "metadata": {},
   "outputs": [],
   "source": [
    "# Use the following endpoint to fetch json data\n",
    "url = \"https://min-api.cryptocompare.com/data/all/coinlist\""
   ]
  },
  {
   "cell_type": "code",
   "execution_count": 93,
   "metadata": {},
   "outputs": [],
   "source": [
    "# Create a DataFrame \n",
    "# HINT: You will need to use the 'Data' key from the json response, then transpose the DataFrame."
   ]
  },
  {
   "cell_type": "code",
   "execution_count": 94,
   "metadata": {},
   "outputs": [
    {
     "data": {
      "text/html": [
       "<div>\n",
       "<style scoped>\n",
       "    .dataframe tbody tr th:only-of-type {\n",
       "        vertical-align: middle;\n",
       "    }\n",
       "\n",
       "    .dataframe tbody tr th {\n",
       "        vertical-align: top;\n",
       "    }\n",
       "\n",
       "    .dataframe thead th {\n",
       "        text-align: right;\n",
       "    }\n",
       "</style>\n",
       "<table border=\"1\" class=\"dataframe\">\n",
       "  <thead>\n",
       "    <tr style=\"text-align: right;\">\n",
       "      <th></th>\n",
       "      <th>Unnamed: 0</th>\n",
       "      <th>CoinName</th>\n",
       "      <th>Algorithm</th>\n",
       "      <th>IsTrading</th>\n",
       "      <th>ProofType</th>\n",
       "      <th>TotalCoinsMined</th>\n",
       "      <th>TotalCoinSupply</th>\n",
       "    </tr>\n",
       "  </thead>\n",
       "  <tbody>\n",
       "    <tr>\n",
       "      <th>0</th>\n",
       "      <td>42</td>\n",
       "      <td>42 Coin</td>\n",
       "      <td>Scrypt</td>\n",
       "      <td>True</td>\n",
       "      <td>PoW/PoS</td>\n",
       "      <td>4.199995e+01</td>\n",
       "      <td>42</td>\n",
       "    </tr>\n",
       "    <tr>\n",
       "      <th>1</th>\n",
       "      <td>365</td>\n",
       "      <td>365Coin</td>\n",
       "      <td>X11</td>\n",
       "      <td>True</td>\n",
       "      <td>PoW/PoS</td>\n",
       "      <td>NaN</td>\n",
       "      <td>2300000000</td>\n",
       "    </tr>\n",
       "    <tr>\n",
       "      <th>2</th>\n",
       "      <td>404</td>\n",
       "      <td>404Coin</td>\n",
       "      <td>Scrypt</td>\n",
       "      <td>True</td>\n",
       "      <td>PoW/PoS</td>\n",
       "      <td>1.055185e+09</td>\n",
       "      <td>532000000</td>\n",
       "    </tr>\n",
       "    <tr>\n",
       "      <th>3</th>\n",
       "      <td>611</td>\n",
       "      <td>SixEleven</td>\n",
       "      <td>SHA-256</td>\n",
       "      <td>True</td>\n",
       "      <td>PoW</td>\n",
       "      <td>NaN</td>\n",
       "      <td>611000</td>\n",
       "    </tr>\n",
       "    <tr>\n",
       "      <th>4</th>\n",
       "      <td>808</td>\n",
       "      <td>808</td>\n",
       "      <td>SHA-256</td>\n",
       "      <td>True</td>\n",
       "      <td>PoW/PoS</td>\n",
       "      <td>0.000000e+00</td>\n",
       "      <td>0</td>\n",
       "    </tr>\n",
       "    <tr>\n",
       "      <th>5</th>\n",
       "      <td>1337</td>\n",
       "      <td>EliteCoin</td>\n",
       "      <td>X13</td>\n",
       "      <td>True</td>\n",
       "      <td>PoW/PoS</td>\n",
       "      <td>2.927942e+10</td>\n",
       "      <td>314159265359</td>\n",
       "    </tr>\n",
       "    <tr>\n",
       "      <th>6</th>\n",
       "      <td>2015</td>\n",
       "      <td>2015 coin</td>\n",
       "      <td>X11</td>\n",
       "      <td>True</td>\n",
       "      <td>PoW/PoS</td>\n",
       "      <td>NaN</td>\n",
       "      <td>0</td>\n",
       "    </tr>\n",
       "    <tr>\n",
       "      <th>7</th>\n",
       "      <td>BTC</td>\n",
       "      <td>Bitcoin</td>\n",
       "      <td>SHA-256</td>\n",
       "      <td>True</td>\n",
       "      <td>PoW</td>\n",
       "      <td>1.792718e+07</td>\n",
       "      <td>21000000</td>\n",
       "    </tr>\n",
       "    <tr>\n",
       "      <th>8</th>\n",
       "      <td>ETH</td>\n",
       "      <td>Ethereum</td>\n",
       "      <td>Ethash</td>\n",
       "      <td>True</td>\n",
       "      <td>PoW</td>\n",
       "      <td>1.076842e+08</td>\n",
       "      <td>0</td>\n",
       "    </tr>\n",
       "    <tr>\n",
       "      <th>9</th>\n",
       "      <td>LTC</td>\n",
       "      <td>Litecoin</td>\n",
       "      <td>Scrypt</td>\n",
       "      <td>True</td>\n",
       "      <td>PoW</td>\n",
       "      <td>6.303924e+07</td>\n",
       "      <td>84000000</td>\n",
       "    </tr>\n",
       "  </tbody>\n",
       "</table>\n",
       "</div>"
      ],
      "text/plain": [
       "  Unnamed: 0   CoinName Algorithm  IsTrading ProofType  TotalCoinsMined  \\\n",
       "0         42    42 Coin    Scrypt       True   PoW/PoS     4.199995e+01   \n",
       "1        365    365Coin       X11       True   PoW/PoS              NaN   \n",
       "2        404    404Coin    Scrypt       True   PoW/PoS     1.055185e+09   \n",
       "3        611  SixEleven   SHA-256       True       PoW              NaN   \n",
       "4        808        808   SHA-256       True   PoW/PoS     0.000000e+00   \n",
       "5       1337  EliteCoin       X13       True   PoW/PoS     2.927942e+10   \n",
       "6       2015  2015 coin       X11       True   PoW/PoS              NaN   \n",
       "7        BTC    Bitcoin   SHA-256       True       PoW     1.792718e+07   \n",
       "8        ETH   Ethereum    Ethash       True       PoW     1.076842e+08   \n",
       "9        LTC   Litecoin    Scrypt       True       PoW     6.303924e+07   \n",
       "\n",
       "  TotalCoinSupply  \n",
       "0              42  \n",
       "1      2300000000  \n",
       "2       532000000  \n",
       "3          611000  \n",
       "4               0  \n",
       "5    314159265359  \n",
       "6               0  \n",
       "7        21000000  \n",
       "8               0  \n",
       "9        84000000  "
      ]
     },
     "execution_count": 94,
     "metadata": {},
     "output_type": "execute_result"
    }
   ],
   "source": [
    "# Alternatively, use the provided csv file:\n",
    "# file_path = Path(\"Resources/crypto_data.csv\")\n",
    "file_path = Path(\"Data/crypto_data.csv\")\n",
    "# Create a DataFrame\n",
    "crypto_df = pd.read_csv(file_path)\n",
    "crypto_df.head(10)"
   ]
  },
  {
   "cell_type": "markdown",
   "metadata": {},
   "source": [
    "### Data Preprocessing"
   ]
  },
  {
   "cell_type": "code",
   "execution_count": 95,
   "metadata": {},
   "outputs": [
    {
     "data": {
      "text/html": [
       "<div>\n",
       "<style scoped>\n",
       "    .dataframe tbody tr th:only-of-type {\n",
       "        vertical-align: middle;\n",
       "    }\n",
       "\n",
       "    .dataframe tbody tr th {\n",
       "        vertical-align: top;\n",
       "    }\n",
       "\n",
       "    .dataframe thead th {\n",
       "        text-align: right;\n",
       "    }\n",
       "</style>\n",
       "<table border=\"1\" class=\"dataframe\">\n",
       "  <thead>\n",
       "    <tr style=\"text-align: right;\">\n",
       "      <th></th>\n",
       "      <th>CoinName</th>\n",
       "      <th>Algorithm</th>\n",
       "      <th>IsTrading</th>\n",
       "      <th>ProofType</th>\n",
       "      <th>TotalCoinsMined</th>\n",
       "      <th>TotalCoinSupply</th>\n",
       "    </tr>\n",
       "  </thead>\n",
       "  <tbody>\n",
       "    <tr>\n",
       "      <th>0</th>\n",
       "      <td>42 Coin</td>\n",
       "      <td>Scrypt</td>\n",
       "      <td>True</td>\n",
       "      <td>PoW/PoS</td>\n",
       "      <td>4.199995e+01</td>\n",
       "      <td>42</td>\n",
       "    </tr>\n",
       "    <tr>\n",
       "      <th>1</th>\n",
       "      <td>365Coin</td>\n",
       "      <td>X11</td>\n",
       "      <td>True</td>\n",
       "      <td>PoW/PoS</td>\n",
       "      <td>NaN</td>\n",
       "      <td>2300000000</td>\n",
       "    </tr>\n",
       "    <tr>\n",
       "      <th>2</th>\n",
       "      <td>404Coin</td>\n",
       "      <td>Scrypt</td>\n",
       "      <td>True</td>\n",
       "      <td>PoW/PoS</td>\n",
       "      <td>1.055185e+09</td>\n",
       "      <td>532000000</td>\n",
       "    </tr>\n",
       "    <tr>\n",
       "      <th>3</th>\n",
       "      <td>SixEleven</td>\n",
       "      <td>SHA-256</td>\n",
       "      <td>True</td>\n",
       "      <td>PoW</td>\n",
       "      <td>NaN</td>\n",
       "      <td>611000</td>\n",
       "    </tr>\n",
       "    <tr>\n",
       "      <th>4</th>\n",
       "      <td>808</td>\n",
       "      <td>SHA-256</td>\n",
       "      <td>True</td>\n",
       "      <td>PoW/PoS</td>\n",
       "      <td>0.000000e+00</td>\n",
       "      <td>0</td>\n",
       "    </tr>\n",
       "    <tr>\n",
       "      <th>5</th>\n",
       "      <td>EliteCoin</td>\n",
       "      <td>X13</td>\n",
       "      <td>True</td>\n",
       "      <td>PoW/PoS</td>\n",
       "      <td>2.927942e+10</td>\n",
       "      <td>314159265359</td>\n",
       "    </tr>\n",
       "    <tr>\n",
       "      <th>6</th>\n",
       "      <td>2015 coin</td>\n",
       "      <td>X11</td>\n",
       "      <td>True</td>\n",
       "      <td>PoW/PoS</td>\n",
       "      <td>NaN</td>\n",
       "      <td>0</td>\n",
       "    </tr>\n",
       "    <tr>\n",
       "      <th>7</th>\n",
       "      <td>Bitcoin</td>\n",
       "      <td>SHA-256</td>\n",
       "      <td>True</td>\n",
       "      <td>PoW</td>\n",
       "      <td>1.792718e+07</td>\n",
       "      <td>21000000</td>\n",
       "    </tr>\n",
       "    <tr>\n",
       "      <th>8</th>\n",
       "      <td>Ethereum</td>\n",
       "      <td>Ethash</td>\n",
       "      <td>True</td>\n",
       "      <td>PoW</td>\n",
       "      <td>1.076842e+08</td>\n",
       "      <td>0</td>\n",
       "    </tr>\n",
       "    <tr>\n",
       "      <th>9</th>\n",
       "      <td>Litecoin</td>\n",
       "      <td>Scrypt</td>\n",
       "      <td>True</td>\n",
       "      <td>PoW</td>\n",
       "      <td>6.303924e+07</td>\n",
       "      <td>84000000</td>\n",
       "    </tr>\n",
       "  </tbody>\n",
       "</table>\n",
       "</div>"
      ],
      "text/plain": [
       "    CoinName Algorithm  IsTrading ProofType  TotalCoinsMined TotalCoinSupply\n",
       "0    42 Coin    Scrypt       True   PoW/PoS     4.199995e+01              42\n",
       "1    365Coin       X11       True   PoW/PoS              NaN      2300000000\n",
       "2    404Coin    Scrypt       True   PoW/PoS     1.055185e+09       532000000\n",
       "3  SixEleven   SHA-256       True       PoW              NaN          611000\n",
       "4        808   SHA-256       True   PoW/PoS     0.000000e+00               0\n",
       "5  EliteCoin       X13       True   PoW/PoS     2.927942e+10    314159265359\n",
       "6  2015 coin       X11       True   PoW/PoS              NaN               0\n",
       "7    Bitcoin   SHA-256       True       PoW     1.792718e+07        21000000\n",
       "8   Ethereum    Ethash       True       PoW     1.076842e+08               0\n",
       "9   Litecoin    Scrypt       True       PoW     6.303924e+07        84000000"
      ]
     },
     "execution_count": 95,
     "metadata": {},
     "output_type": "execute_result"
    }
   ],
   "source": [
    "# Keep only necessary columns:\n",
    "# 'CoinName','Algorithm','IsTrading','ProofType','TotalCoinsMined','TotalCoinSupply'\n",
    "crypto_df = crypto_df.drop([\"Unnamed: 0\"], axis=1)\n",
    "crypto_df.head(10)"
   ]
  },
  {
   "cell_type": "code",
   "execution_count": 96,
   "metadata": {},
   "outputs": [
    {
     "data": {
      "text/html": [
       "<div>\n",
       "<style scoped>\n",
       "    .dataframe tbody tr th:only-of-type {\n",
       "        vertical-align: middle;\n",
       "    }\n",
       "\n",
       "    .dataframe tbody tr th {\n",
       "        vertical-align: top;\n",
       "    }\n",
       "\n",
       "    .dataframe thead th {\n",
       "        text-align: right;\n",
       "    }\n",
       "</style>\n",
       "<table border=\"1\" class=\"dataframe\">\n",
       "  <thead>\n",
       "    <tr style=\"text-align: right;\">\n",
       "      <th></th>\n",
       "      <th>CoinName</th>\n",
       "      <th>Algorithm</th>\n",
       "      <th>IsTrading</th>\n",
       "      <th>ProofType</th>\n",
       "      <th>TotalCoinsMined</th>\n",
       "      <th>TotalCoinSupply</th>\n",
       "    </tr>\n",
       "  </thead>\n",
       "  <tbody>\n",
       "    <tr>\n",
       "      <th>0</th>\n",
       "      <td>42 Coin</td>\n",
       "      <td>Scrypt</td>\n",
       "      <td>True</td>\n",
       "      <td>PoW/PoS</td>\n",
       "      <td>4.199995e+01</td>\n",
       "      <td>42</td>\n",
       "    </tr>\n",
       "    <tr>\n",
       "      <th>1</th>\n",
       "      <td>365Coin</td>\n",
       "      <td>X11</td>\n",
       "      <td>True</td>\n",
       "      <td>PoW/PoS</td>\n",
       "      <td>NaN</td>\n",
       "      <td>2300000000</td>\n",
       "    </tr>\n",
       "    <tr>\n",
       "      <th>2</th>\n",
       "      <td>404Coin</td>\n",
       "      <td>Scrypt</td>\n",
       "      <td>True</td>\n",
       "      <td>PoW/PoS</td>\n",
       "      <td>1.055185e+09</td>\n",
       "      <td>532000000</td>\n",
       "    </tr>\n",
       "    <tr>\n",
       "      <th>3</th>\n",
       "      <td>SixEleven</td>\n",
       "      <td>SHA-256</td>\n",
       "      <td>True</td>\n",
       "      <td>PoW</td>\n",
       "      <td>NaN</td>\n",
       "      <td>611000</td>\n",
       "    </tr>\n",
       "    <tr>\n",
       "      <th>4</th>\n",
       "      <td>808</td>\n",
       "      <td>SHA-256</td>\n",
       "      <td>True</td>\n",
       "      <td>PoW/PoS</td>\n",
       "      <td>0.000000e+00</td>\n",
       "      <td>0</td>\n",
       "    </tr>\n",
       "    <tr>\n",
       "      <th>...</th>\n",
       "      <td>...</td>\n",
       "      <td>...</td>\n",
       "      <td>...</td>\n",
       "      <td>...</td>\n",
       "      <td>...</td>\n",
       "      <td>...</td>\n",
       "    </tr>\n",
       "    <tr>\n",
       "      <th>1243</th>\n",
       "      <td>Super Zero</td>\n",
       "      <td>Ethash</td>\n",
       "      <td>True</td>\n",
       "      <td>PoW</td>\n",
       "      <td>NaN</td>\n",
       "      <td>1000000000</td>\n",
       "    </tr>\n",
       "    <tr>\n",
       "      <th>1244</th>\n",
       "      <td>UOS</td>\n",
       "      <td>SHA-256</td>\n",
       "      <td>True</td>\n",
       "      <td>DPoI</td>\n",
       "      <td>NaN</td>\n",
       "      <td>1000000000</td>\n",
       "    </tr>\n",
       "    <tr>\n",
       "      <th>1245</th>\n",
       "      <td>Beldex</td>\n",
       "      <td>CryptoNight</td>\n",
       "      <td>True</td>\n",
       "      <td>PoW</td>\n",
       "      <td>9.802226e+08</td>\n",
       "      <td>1400222610</td>\n",
       "    </tr>\n",
       "    <tr>\n",
       "      <th>1246</th>\n",
       "      <td>Horizen</td>\n",
       "      <td>Equihash</td>\n",
       "      <td>True</td>\n",
       "      <td>PoW</td>\n",
       "      <td>7.296538e+06</td>\n",
       "      <td>21000000</td>\n",
       "    </tr>\n",
       "    <tr>\n",
       "      <th>1247</th>\n",
       "      <td>BitcoinPlus</td>\n",
       "      <td>Scrypt</td>\n",
       "      <td>True</td>\n",
       "      <td>PoS</td>\n",
       "      <td>1.283270e+05</td>\n",
       "      <td>1000000</td>\n",
       "    </tr>\n",
       "  </tbody>\n",
       "</table>\n",
       "<p>1144 rows × 6 columns</p>\n",
       "</div>"
      ],
      "text/plain": [
       "         CoinName    Algorithm  IsTrading ProofType  TotalCoinsMined  \\\n",
       "0         42 Coin       Scrypt       True   PoW/PoS     4.199995e+01   \n",
       "1         365Coin          X11       True   PoW/PoS              NaN   \n",
       "2         404Coin       Scrypt       True   PoW/PoS     1.055185e+09   \n",
       "3       SixEleven      SHA-256       True       PoW              NaN   \n",
       "4             808      SHA-256       True   PoW/PoS     0.000000e+00   \n",
       "...           ...          ...        ...       ...              ...   \n",
       "1243   Super Zero       Ethash       True       PoW              NaN   \n",
       "1244          UOS      SHA-256       True      DPoI              NaN   \n",
       "1245       Beldex  CryptoNight       True       PoW     9.802226e+08   \n",
       "1246      Horizen     Equihash       True       PoW     7.296538e+06   \n",
       "1247  BitcoinPlus       Scrypt       True       PoS     1.283270e+05   \n",
       "\n",
       "     TotalCoinSupply  \n",
       "0                 42  \n",
       "1         2300000000  \n",
       "2          532000000  \n",
       "3             611000  \n",
       "4                  0  \n",
       "...              ...  \n",
       "1243      1000000000  \n",
       "1244      1000000000  \n",
       "1245      1400222610  \n",
       "1246        21000000  \n",
       "1247         1000000  \n",
       "\n",
       "[1144 rows x 6 columns]"
      ]
     },
     "execution_count": 96,
     "metadata": {},
     "output_type": "execute_result"
    }
   ],
   "source": [
    "# Keep only cryptocurrencies that are trading\n",
    "crypto_df = crypto_df.loc[crypto_df['IsTrading'] == True]\n",
    "crypto_df"
   ]
  },
  {
   "cell_type": "code",
   "execution_count": 97,
   "metadata": {},
   "outputs": [
    {
     "data": {
      "text/html": [
       "<div>\n",
       "<style scoped>\n",
       "    .dataframe tbody tr th:only-of-type {\n",
       "        vertical-align: middle;\n",
       "    }\n",
       "\n",
       "    .dataframe tbody tr th {\n",
       "        vertical-align: top;\n",
       "    }\n",
       "\n",
       "    .dataframe thead th {\n",
       "        text-align: right;\n",
       "    }\n",
       "</style>\n",
       "<table border=\"1\" class=\"dataframe\">\n",
       "  <thead>\n",
       "    <tr style=\"text-align: right;\">\n",
       "      <th></th>\n",
       "      <th>CoinName</th>\n",
       "      <th>Algorithm</th>\n",
       "      <th>ProofType</th>\n",
       "      <th>TotalCoinsMined</th>\n",
       "      <th>TotalCoinSupply</th>\n",
       "    </tr>\n",
       "  </thead>\n",
       "  <tbody>\n",
       "    <tr>\n",
       "      <th>0</th>\n",
       "      <td>42 Coin</td>\n",
       "      <td>Scrypt</td>\n",
       "      <td>PoW/PoS</td>\n",
       "      <td>4.199995e+01</td>\n",
       "      <td>42</td>\n",
       "    </tr>\n",
       "    <tr>\n",
       "      <th>1</th>\n",
       "      <td>365Coin</td>\n",
       "      <td>X11</td>\n",
       "      <td>PoW/PoS</td>\n",
       "      <td>NaN</td>\n",
       "      <td>2300000000</td>\n",
       "    </tr>\n",
       "    <tr>\n",
       "      <th>2</th>\n",
       "      <td>404Coin</td>\n",
       "      <td>Scrypt</td>\n",
       "      <td>PoW/PoS</td>\n",
       "      <td>1.055185e+09</td>\n",
       "      <td>532000000</td>\n",
       "    </tr>\n",
       "    <tr>\n",
       "      <th>3</th>\n",
       "      <td>SixEleven</td>\n",
       "      <td>SHA-256</td>\n",
       "      <td>PoW</td>\n",
       "      <td>NaN</td>\n",
       "      <td>611000</td>\n",
       "    </tr>\n",
       "    <tr>\n",
       "      <th>4</th>\n",
       "      <td>808</td>\n",
       "      <td>SHA-256</td>\n",
       "      <td>PoW/PoS</td>\n",
       "      <td>0.000000e+00</td>\n",
       "      <td>0</td>\n",
       "    </tr>\n",
       "    <tr>\n",
       "      <th>...</th>\n",
       "      <td>...</td>\n",
       "      <td>...</td>\n",
       "      <td>...</td>\n",
       "      <td>...</td>\n",
       "      <td>...</td>\n",
       "    </tr>\n",
       "    <tr>\n",
       "      <th>1243</th>\n",
       "      <td>Super Zero</td>\n",
       "      <td>Ethash</td>\n",
       "      <td>PoW</td>\n",
       "      <td>NaN</td>\n",
       "      <td>1000000000</td>\n",
       "    </tr>\n",
       "    <tr>\n",
       "      <th>1244</th>\n",
       "      <td>UOS</td>\n",
       "      <td>SHA-256</td>\n",
       "      <td>DPoI</td>\n",
       "      <td>NaN</td>\n",
       "      <td>1000000000</td>\n",
       "    </tr>\n",
       "    <tr>\n",
       "      <th>1245</th>\n",
       "      <td>Beldex</td>\n",
       "      <td>CryptoNight</td>\n",
       "      <td>PoW</td>\n",
       "      <td>9.802226e+08</td>\n",
       "      <td>1400222610</td>\n",
       "    </tr>\n",
       "    <tr>\n",
       "      <th>1246</th>\n",
       "      <td>Horizen</td>\n",
       "      <td>Equihash</td>\n",
       "      <td>PoW</td>\n",
       "      <td>7.296538e+06</td>\n",
       "      <td>21000000</td>\n",
       "    </tr>\n",
       "    <tr>\n",
       "      <th>1247</th>\n",
       "      <td>BitcoinPlus</td>\n",
       "      <td>Scrypt</td>\n",
       "      <td>PoS</td>\n",
       "      <td>1.283270e+05</td>\n",
       "      <td>1000000</td>\n",
       "    </tr>\n",
       "  </tbody>\n",
       "</table>\n",
       "<p>1144 rows × 5 columns</p>\n",
       "</div>"
      ],
      "text/plain": [
       "         CoinName    Algorithm ProofType  TotalCoinsMined TotalCoinSupply\n",
       "0         42 Coin       Scrypt   PoW/PoS     4.199995e+01              42\n",
       "1         365Coin          X11   PoW/PoS              NaN      2300000000\n",
       "2         404Coin       Scrypt   PoW/PoS     1.055185e+09       532000000\n",
       "3       SixEleven      SHA-256       PoW              NaN          611000\n",
       "4             808      SHA-256   PoW/PoS     0.000000e+00               0\n",
       "...           ...          ...       ...              ...             ...\n",
       "1243   Super Zero       Ethash       PoW              NaN      1000000000\n",
       "1244          UOS      SHA-256      DPoI              NaN      1000000000\n",
       "1245       Beldex  CryptoNight       PoW     9.802226e+08      1400222610\n",
       "1246      Horizen     Equihash       PoW     7.296538e+06        21000000\n",
       "1247  BitcoinPlus       Scrypt       PoS     1.283270e+05         1000000\n",
       "\n",
       "[1144 rows x 5 columns]"
      ]
     },
     "execution_count": 97,
     "metadata": {},
     "output_type": "execute_result"
    }
   ],
   "source": [
    "# Remove the \"IsTrading\" column\n",
    "crypto_df = crypto_df.drop([\"IsTrading\"], axis = 1)\n",
    "crypto_df"
   ]
  },
  {
   "cell_type": "code",
   "execution_count": 98,
   "metadata": {},
   "outputs": [
    {
     "data": {
      "text/plain": [
       "CoinName           0\n",
       "Algorithm          0\n",
       "ProofType          0\n",
       "TotalCoinsMined    0\n",
       "TotalCoinSupply    0\n",
       "dtype: int64"
      ]
     },
     "execution_count": 98,
     "metadata": {},
     "output_type": "execute_result"
    }
   ],
   "source": [
    "# Remove rows with at least 1 null value\n",
    "crypto_df= crypto_df.dropna()\n",
    "crypto_df.isnull().sum()"
   ]
  },
  {
   "cell_type": "code",
   "execution_count": 99,
   "metadata": {},
   "outputs": [
    {
     "data": {
      "text/plain": [
       "CoinName           0\n",
       "Algorithm          0\n",
       "ProofType          0\n",
       "TotalCoinsMined    0\n",
       "TotalCoinSupply    0\n",
       "dtype: int64"
      ]
     },
     "execution_count": 99,
     "metadata": {},
     "output_type": "execute_result"
    }
   ],
   "source": [
    "# Remove rows with cryptocurrencies having no coins mined\n",
    "crypto_df = crypto_df.loc[crypto_df['TotalCoinsMined'] != 0]\n",
    "crypto_df.isnull().sum()"
   ]
  },
  {
   "cell_type": "code",
   "execution_count": 100,
   "metadata": {},
   "outputs": [
    {
     "data": {
      "text/html": [
       "<div>\n",
       "<style scoped>\n",
       "    .dataframe tbody tr th:only-of-type {\n",
       "        vertical-align: middle;\n",
       "    }\n",
       "\n",
       "    .dataframe tbody tr th {\n",
       "        vertical-align: top;\n",
       "    }\n",
       "\n",
       "    .dataframe thead th {\n",
       "        text-align: right;\n",
       "    }\n",
       "</style>\n",
       "<table border=\"1\" class=\"dataframe\">\n",
       "  <thead>\n",
       "    <tr style=\"text-align: right;\">\n",
       "      <th></th>\n",
       "      <th>CoinName</th>\n",
       "      <th>Algorithm</th>\n",
       "      <th>ProofType</th>\n",
       "      <th>TotalCoinsMined</th>\n",
       "      <th>TotalCoinSupply</th>\n",
       "    </tr>\n",
       "  </thead>\n",
       "  <tbody>\n",
       "    <tr>\n",
       "      <th>0</th>\n",
       "      <td>42 Coin</td>\n",
       "      <td>Scrypt</td>\n",
       "      <td>PoW/PoS</td>\n",
       "      <td>4.199995e+01</td>\n",
       "      <td>42</td>\n",
       "    </tr>\n",
       "    <tr>\n",
       "      <th>2</th>\n",
       "      <td>404Coin</td>\n",
       "      <td>Scrypt</td>\n",
       "      <td>PoW/PoS</td>\n",
       "      <td>1.055185e+09</td>\n",
       "      <td>532000000</td>\n",
       "    </tr>\n",
       "    <tr>\n",
       "      <th>5</th>\n",
       "      <td>EliteCoin</td>\n",
       "      <td>X13</td>\n",
       "      <td>PoW/PoS</td>\n",
       "      <td>2.927942e+10</td>\n",
       "      <td>314159265359</td>\n",
       "    </tr>\n",
       "    <tr>\n",
       "      <th>7</th>\n",
       "      <td>Bitcoin</td>\n",
       "      <td>SHA-256</td>\n",
       "      <td>PoW</td>\n",
       "      <td>1.792718e+07</td>\n",
       "      <td>21000000</td>\n",
       "    </tr>\n",
       "    <tr>\n",
       "      <th>8</th>\n",
       "      <td>Ethereum</td>\n",
       "      <td>Ethash</td>\n",
       "      <td>PoW</td>\n",
       "      <td>1.076842e+08</td>\n",
       "      <td>0</td>\n",
       "    </tr>\n",
       "    <tr>\n",
       "      <th>...</th>\n",
       "      <td>...</td>\n",
       "      <td>...</td>\n",
       "      <td>...</td>\n",
       "      <td>...</td>\n",
       "      <td>...</td>\n",
       "    </tr>\n",
       "    <tr>\n",
       "      <th>1238</th>\n",
       "      <td>ZEPHYR</td>\n",
       "      <td>SHA-256</td>\n",
       "      <td>DPoS</td>\n",
       "      <td>2.000000e+09</td>\n",
       "      <td>2000000000</td>\n",
       "    </tr>\n",
       "    <tr>\n",
       "      <th>1242</th>\n",
       "      <td>Gapcoin</td>\n",
       "      <td>Scrypt</td>\n",
       "      <td>PoW/PoS</td>\n",
       "      <td>1.493105e+07</td>\n",
       "      <td>250000000</td>\n",
       "    </tr>\n",
       "    <tr>\n",
       "      <th>1245</th>\n",
       "      <td>Beldex</td>\n",
       "      <td>CryptoNight</td>\n",
       "      <td>PoW</td>\n",
       "      <td>9.802226e+08</td>\n",
       "      <td>1400222610</td>\n",
       "    </tr>\n",
       "    <tr>\n",
       "      <th>1246</th>\n",
       "      <td>Horizen</td>\n",
       "      <td>Equihash</td>\n",
       "      <td>PoW</td>\n",
       "      <td>7.296538e+06</td>\n",
       "      <td>21000000</td>\n",
       "    </tr>\n",
       "    <tr>\n",
       "      <th>1247</th>\n",
       "      <td>BitcoinPlus</td>\n",
       "      <td>Scrypt</td>\n",
       "      <td>PoS</td>\n",
       "      <td>1.283270e+05</td>\n",
       "      <td>1000000</td>\n",
       "    </tr>\n",
       "  </tbody>\n",
       "</table>\n",
       "<p>533 rows × 5 columns</p>\n",
       "</div>"
      ],
      "text/plain": [
       "         CoinName    Algorithm ProofType  TotalCoinsMined TotalCoinSupply\n",
       "0         42 Coin       Scrypt   PoW/PoS     4.199995e+01              42\n",
       "2         404Coin       Scrypt   PoW/PoS     1.055185e+09       532000000\n",
       "5       EliteCoin          X13   PoW/PoS     2.927942e+10    314159265359\n",
       "7         Bitcoin      SHA-256       PoW     1.792718e+07        21000000\n",
       "8        Ethereum       Ethash       PoW     1.076842e+08               0\n",
       "...           ...          ...       ...              ...             ...\n",
       "1238       ZEPHYR      SHA-256      DPoS     2.000000e+09      2000000000\n",
       "1242      Gapcoin       Scrypt   PoW/PoS     1.493105e+07       250000000\n",
       "1245       Beldex  CryptoNight       PoW     9.802226e+08      1400222610\n",
       "1246      Horizen     Equihash       PoW     7.296538e+06        21000000\n",
       "1247  BitcoinPlus       Scrypt       PoS     1.283270e+05         1000000\n",
       "\n",
       "[533 rows x 5 columns]"
      ]
     },
     "execution_count": 100,
     "metadata": {},
     "output_type": "execute_result"
    }
   ],
   "source": [
    "crypto_df"
   ]
  },
  {
   "cell_type": "code",
   "execution_count": 101,
   "metadata": {},
   "outputs": [
    {
     "data": {
      "text/html": [
       "<div>\n",
       "<style scoped>\n",
       "    .dataframe tbody tr th:only-of-type {\n",
       "        vertical-align: middle;\n",
       "    }\n",
       "\n",
       "    .dataframe tbody tr th {\n",
       "        vertical-align: top;\n",
       "    }\n",
       "\n",
       "    .dataframe thead th {\n",
       "        text-align: right;\n",
       "    }\n",
       "</style>\n",
       "<table border=\"1\" class=\"dataframe\">\n",
       "  <thead>\n",
       "    <tr style=\"text-align: right;\">\n",
       "      <th></th>\n",
       "      <th>CoinName</th>\n",
       "      <th>Algorithm</th>\n",
       "      <th>ProofType</th>\n",
       "      <th>TotalCoinsMined</th>\n",
       "      <th>TotalCoinSupply</th>\n",
       "    </tr>\n",
       "  </thead>\n",
       "  <tbody>\n",
       "    <tr>\n",
       "      <th>0</th>\n",
       "      <td>42 Coin</td>\n",
       "      <td>Scrypt</td>\n",
       "      <td>PoW/PoS</td>\n",
       "      <td>4.199995e+01</td>\n",
       "      <td>42</td>\n",
       "    </tr>\n",
       "    <tr>\n",
       "      <th>2</th>\n",
       "      <td>404Coin</td>\n",
       "      <td>Scrypt</td>\n",
       "      <td>PoW/PoS</td>\n",
       "      <td>1.055185e+09</td>\n",
       "      <td>532000000</td>\n",
       "    </tr>\n",
       "    <tr>\n",
       "      <th>5</th>\n",
       "      <td>EliteCoin</td>\n",
       "      <td>X13</td>\n",
       "      <td>PoW/PoS</td>\n",
       "      <td>2.927942e+10</td>\n",
       "      <td>314159265359</td>\n",
       "    </tr>\n",
       "    <tr>\n",
       "      <th>7</th>\n",
       "      <td>Bitcoin</td>\n",
       "      <td>SHA-256</td>\n",
       "      <td>PoW</td>\n",
       "      <td>1.792718e+07</td>\n",
       "      <td>21000000</td>\n",
       "    </tr>\n",
       "    <tr>\n",
       "      <th>8</th>\n",
       "      <td>Ethereum</td>\n",
       "      <td>Ethash</td>\n",
       "      <td>PoW</td>\n",
       "      <td>1.076842e+08</td>\n",
       "      <td>0</td>\n",
       "    </tr>\n",
       "    <tr>\n",
       "      <th>9</th>\n",
       "      <td>Litecoin</td>\n",
       "      <td>Scrypt</td>\n",
       "      <td>PoW</td>\n",
       "      <td>6.303924e+07</td>\n",
       "      <td>84000000</td>\n",
       "    </tr>\n",
       "    <tr>\n",
       "      <th>10</th>\n",
       "      <td>Dash</td>\n",
       "      <td>X11</td>\n",
       "      <td>PoW/PoS</td>\n",
       "      <td>9.031294e+06</td>\n",
       "      <td>22000000</td>\n",
       "    </tr>\n",
       "    <tr>\n",
       "      <th>11</th>\n",
       "      <td>Monero</td>\n",
       "      <td>CryptoNight-V7</td>\n",
       "      <td>PoW</td>\n",
       "      <td>1.720114e+07</td>\n",
       "      <td>0</td>\n",
       "    </tr>\n",
       "    <tr>\n",
       "      <th>12</th>\n",
       "      <td>Ethereum Classic</td>\n",
       "      <td>Ethash</td>\n",
       "      <td>PoW</td>\n",
       "      <td>1.133597e+08</td>\n",
       "      <td>210000000</td>\n",
       "    </tr>\n",
       "    <tr>\n",
       "      <th>13</th>\n",
       "      <td>ZCash</td>\n",
       "      <td>Equihash</td>\n",
       "      <td>PoW</td>\n",
       "      <td>7.383056e+06</td>\n",
       "      <td>21000000</td>\n",
       "    </tr>\n",
       "  </tbody>\n",
       "</table>\n",
       "</div>"
      ],
      "text/plain": [
       "            CoinName       Algorithm ProofType  TotalCoinsMined  \\\n",
       "0            42 Coin          Scrypt   PoW/PoS     4.199995e+01   \n",
       "2            404Coin          Scrypt   PoW/PoS     1.055185e+09   \n",
       "5          EliteCoin             X13   PoW/PoS     2.927942e+10   \n",
       "7            Bitcoin         SHA-256       PoW     1.792718e+07   \n",
       "8           Ethereum          Ethash       PoW     1.076842e+08   \n",
       "9           Litecoin          Scrypt       PoW     6.303924e+07   \n",
       "10              Dash             X11   PoW/PoS     9.031294e+06   \n",
       "11            Monero  CryptoNight-V7       PoW     1.720114e+07   \n",
       "12  Ethereum Classic          Ethash       PoW     1.133597e+08   \n",
       "13             ZCash        Equihash       PoW     7.383056e+06   \n",
       "\n",
       "   TotalCoinSupply  \n",
       "0               42  \n",
       "2        532000000  \n",
       "5     314159265359  \n",
       "7         21000000  \n",
       "8                0  \n",
       "9         84000000  \n",
       "10        22000000  \n",
       "11               0  \n",
       "12       210000000  \n",
       "13        21000000  "
      ]
     },
     "execution_count": 101,
     "metadata": {},
     "output_type": "execute_result"
    }
   ],
   "source": [
    "# Drop rows where there are 'N/A' text values\n",
    "for column in crypto_df:\n",
    "    crypto_df = crypto_df.loc[crypto_df[column] != 'N/A']\n",
    "crypto_df.head(10)"
   ]
  },
  {
   "cell_type": "code",
   "execution_count": 102,
   "metadata": {},
   "outputs": [
    {
     "data": {
      "text/html": [
       "<div>\n",
       "<style scoped>\n",
       "    .dataframe tbody tr th:only-of-type {\n",
       "        vertical-align: middle;\n",
       "    }\n",
       "\n",
       "    .dataframe tbody tr th {\n",
       "        vertical-align: top;\n",
       "    }\n",
       "\n",
       "    .dataframe thead th {\n",
       "        text-align: right;\n",
       "    }\n",
       "</style>\n",
       "<table border=\"1\" class=\"dataframe\">\n",
       "  <thead>\n",
       "    <tr style=\"text-align: right;\">\n",
       "      <th></th>\n",
       "      <th>CoinName</th>\n",
       "    </tr>\n",
       "  </thead>\n",
       "  <tbody>\n",
       "    <tr>\n",
       "      <th>count</th>\n",
       "      <td>533</td>\n",
       "    </tr>\n",
       "    <tr>\n",
       "      <th>unique</th>\n",
       "      <td>532</td>\n",
       "    </tr>\n",
       "    <tr>\n",
       "      <th>top</th>\n",
       "      <td>DubaiCoin</td>\n",
       "    </tr>\n",
       "    <tr>\n",
       "      <th>freq</th>\n",
       "      <td>2</td>\n",
       "    </tr>\n",
       "  </tbody>\n",
       "</table>\n",
       "</div>"
      ],
      "text/plain": [
       "         CoinName\n",
       "count         533\n",
       "unique        532\n",
       "top     DubaiCoin\n",
       "freq            2"
      ]
     },
     "execution_count": 102,
     "metadata": {},
     "output_type": "execute_result"
    }
   ],
   "source": [
    "# Store the 'CoinName'column in its own DataFrame prior to dropping it from crypto_df\n",
    "coins_name_df = crypto_df['CoinName'].to_frame()\n",
    "coins_name_df.describe()"
   ]
  },
  {
   "cell_type": "code",
   "execution_count": 103,
   "metadata": {},
   "outputs": [
    {
     "data": {
      "text/html": [
       "<div>\n",
       "<style scoped>\n",
       "    .dataframe tbody tr th:only-of-type {\n",
       "        vertical-align: middle;\n",
       "    }\n",
       "\n",
       "    .dataframe tbody tr th {\n",
       "        vertical-align: top;\n",
       "    }\n",
       "\n",
       "    .dataframe thead th {\n",
       "        text-align: right;\n",
       "    }\n",
       "</style>\n",
       "<table border=\"1\" class=\"dataframe\">\n",
       "  <thead>\n",
       "    <tr style=\"text-align: right;\">\n",
       "      <th></th>\n",
       "      <th>Algorithm</th>\n",
       "      <th>ProofType</th>\n",
       "      <th>TotalCoinsMined</th>\n",
       "      <th>TotalCoinSupply</th>\n",
       "    </tr>\n",
       "  </thead>\n",
       "  <tbody>\n",
       "    <tr>\n",
       "      <th>0</th>\n",
       "      <td>Scrypt</td>\n",
       "      <td>PoW/PoS</td>\n",
       "      <td>4.199995e+01</td>\n",
       "      <td>42</td>\n",
       "    </tr>\n",
       "    <tr>\n",
       "      <th>2</th>\n",
       "      <td>Scrypt</td>\n",
       "      <td>PoW/PoS</td>\n",
       "      <td>1.055185e+09</td>\n",
       "      <td>532000000</td>\n",
       "    </tr>\n",
       "    <tr>\n",
       "      <th>5</th>\n",
       "      <td>X13</td>\n",
       "      <td>PoW/PoS</td>\n",
       "      <td>2.927942e+10</td>\n",
       "      <td>314159265359</td>\n",
       "    </tr>\n",
       "    <tr>\n",
       "      <th>7</th>\n",
       "      <td>SHA-256</td>\n",
       "      <td>PoW</td>\n",
       "      <td>1.792718e+07</td>\n",
       "      <td>21000000</td>\n",
       "    </tr>\n",
       "    <tr>\n",
       "      <th>8</th>\n",
       "      <td>Ethash</td>\n",
       "      <td>PoW</td>\n",
       "      <td>1.076842e+08</td>\n",
       "      <td>0</td>\n",
       "    </tr>\n",
       "    <tr>\n",
       "      <th>...</th>\n",
       "      <td>...</td>\n",
       "      <td>...</td>\n",
       "      <td>...</td>\n",
       "      <td>...</td>\n",
       "    </tr>\n",
       "    <tr>\n",
       "      <th>1238</th>\n",
       "      <td>SHA-256</td>\n",
       "      <td>DPoS</td>\n",
       "      <td>2.000000e+09</td>\n",
       "      <td>2000000000</td>\n",
       "    </tr>\n",
       "    <tr>\n",
       "      <th>1242</th>\n",
       "      <td>Scrypt</td>\n",
       "      <td>PoW/PoS</td>\n",
       "      <td>1.493105e+07</td>\n",
       "      <td>250000000</td>\n",
       "    </tr>\n",
       "    <tr>\n",
       "      <th>1245</th>\n",
       "      <td>CryptoNight</td>\n",
       "      <td>PoW</td>\n",
       "      <td>9.802226e+08</td>\n",
       "      <td>1400222610</td>\n",
       "    </tr>\n",
       "    <tr>\n",
       "      <th>1246</th>\n",
       "      <td>Equihash</td>\n",
       "      <td>PoW</td>\n",
       "      <td>7.296538e+06</td>\n",
       "      <td>21000000</td>\n",
       "    </tr>\n",
       "    <tr>\n",
       "      <th>1247</th>\n",
       "      <td>Scrypt</td>\n",
       "      <td>PoS</td>\n",
       "      <td>1.283270e+05</td>\n",
       "      <td>1000000</td>\n",
       "    </tr>\n",
       "  </tbody>\n",
       "</table>\n",
       "<p>533 rows × 4 columns</p>\n",
       "</div>"
      ],
      "text/plain": [
       "        Algorithm ProofType  TotalCoinsMined TotalCoinSupply\n",
       "0          Scrypt   PoW/PoS     4.199995e+01              42\n",
       "2          Scrypt   PoW/PoS     1.055185e+09       532000000\n",
       "5             X13   PoW/PoS     2.927942e+10    314159265359\n",
       "7         SHA-256       PoW     1.792718e+07        21000000\n",
       "8          Ethash       PoW     1.076842e+08               0\n",
       "...           ...       ...              ...             ...\n",
       "1238      SHA-256      DPoS     2.000000e+09      2000000000\n",
       "1242       Scrypt   PoW/PoS     1.493105e+07       250000000\n",
       "1245  CryptoNight       PoW     9.802226e+08      1400222610\n",
       "1246     Equihash       PoW     7.296538e+06        21000000\n",
       "1247       Scrypt       PoS     1.283270e+05         1000000\n",
       "\n",
       "[533 rows x 4 columns]"
      ]
     },
     "execution_count": 103,
     "metadata": {},
     "output_type": "execute_result"
    }
   ],
   "source": [
    "# Drop the 'CoinName' column since it's not going to be used on the clustering algorithm\n",
    "final_crypto_df = crypto_df.drop(['CoinName'], axis=1)\n",
    "final_crypto_df"
   ]
  },
  {
   "cell_type": "code",
   "execution_count": 104,
   "metadata": {},
   "outputs": [
    {
     "data": {
      "text/html": [
       "<div>\n",
       "<style scoped>\n",
       "    .dataframe tbody tr th:only-of-type {\n",
       "        vertical-align: middle;\n",
       "    }\n",
       "\n",
       "    .dataframe tbody tr th {\n",
       "        vertical-align: top;\n",
       "    }\n",
       "\n",
       "    .dataframe thead th {\n",
       "        text-align: right;\n",
       "    }\n",
       "</style>\n",
       "<table border=\"1\" class=\"dataframe\">\n",
       "  <thead>\n",
       "    <tr style=\"text-align: right;\">\n",
       "      <th></th>\n",
       "      <th>TotalCoinsMined</th>\n",
       "      <th>Algorithm_1GB AES Pattern Search</th>\n",
       "      <th>Algorithm_536</th>\n",
       "      <th>Algorithm_Argon2d</th>\n",
       "      <th>Algorithm_BLAKE256</th>\n",
       "      <th>Algorithm_Blake</th>\n",
       "      <th>Algorithm_Blake2S</th>\n",
       "      <th>Algorithm_Blake2b</th>\n",
       "      <th>Algorithm_C11</th>\n",
       "      <th>Algorithm_Cloverhash</th>\n",
       "      <th>...</th>\n",
       "      <th>TotalCoinSupply_91388946</th>\n",
       "      <th>TotalCoinSupply_92000000000</th>\n",
       "      <th>TotalCoinSupply_9354000</th>\n",
       "      <th>TotalCoinSupply_9507271</th>\n",
       "      <th>TotalCoinSupply_9736000</th>\n",
       "      <th>TotalCoinSupply_98000000</th>\n",
       "      <th>TotalCoinSupply_98100000000</th>\n",
       "      <th>TotalCoinSupply_990000000000</th>\n",
       "      <th>TotalCoinSupply_999481516</th>\n",
       "      <th>TotalCoinSupply_9999999</th>\n",
       "    </tr>\n",
       "  </thead>\n",
       "  <tbody>\n",
       "    <tr>\n",
       "      <th>0</th>\n",
       "      <td>4.199995e+01</td>\n",
       "      <td>0</td>\n",
       "      <td>0</td>\n",
       "      <td>0</td>\n",
       "      <td>0</td>\n",
       "      <td>0</td>\n",
       "      <td>0</td>\n",
       "      <td>0</td>\n",
       "      <td>0</td>\n",
       "      <td>0</td>\n",
       "      <td>...</td>\n",
       "      <td>0</td>\n",
       "      <td>0</td>\n",
       "      <td>0</td>\n",
       "      <td>0</td>\n",
       "      <td>0</td>\n",
       "      <td>0</td>\n",
       "      <td>0</td>\n",
       "      <td>0</td>\n",
       "      <td>0</td>\n",
       "      <td>0</td>\n",
       "    </tr>\n",
       "    <tr>\n",
       "      <th>2</th>\n",
       "      <td>1.055185e+09</td>\n",
       "      <td>0</td>\n",
       "      <td>0</td>\n",
       "      <td>0</td>\n",
       "      <td>0</td>\n",
       "      <td>0</td>\n",
       "      <td>0</td>\n",
       "      <td>0</td>\n",
       "      <td>0</td>\n",
       "      <td>0</td>\n",
       "      <td>...</td>\n",
       "      <td>0</td>\n",
       "      <td>0</td>\n",
       "      <td>0</td>\n",
       "      <td>0</td>\n",
       "      <td>0</td>\n",
       "      <td>0</td>\n",
       "      <td>0</td>\n",
       "      <td>0</td>\n",
       "      <td>0</td>\n",
       "      <td>0</td>\n",
       "    </tr>\n",
       "    <tr>\n",
       "      <th>5</th>\n",
       "      <td>2.927942e+10</td>\n",
       "      <td>0</td>\n",
       "      <td>0</td>\n",
       "      <td>0</td>\n",
       "      <td>0</td>\n",
       "      <td>0</td>\n",
       "      <td>0</td>\n",
       "      <td>0</td>\n",
       "      <td>0</td>\n",
       "      <td>0</td>\n",
       "      <td>...</td>\n",
       "      <td>0</td>\n",
       "      <td>0</td>\n",
       "      <td>0</td>\n",
       "      <td>0</td>\n",
       "      <td>0</td>\n",
       "      <td>0</td>\n",
       "      <td>0</td>\n",
       "      <td>0</td>\n",
       "      <td>0</td>\n",
       "      <td>0</td>\n",
       "    </tr>\n",
       "    <tr>\n",
       "      <th>7</th>\n",
       "      <td>1.792718e+07</td>\n",
       "      <td>0</td>\n",
       "      <td>0</td>\n",
       "      <td>0</td>\n",
       "      <td>0</td>\n",
       "      <td>0</td>\n",
       "      <td>0</td>\n",
       "      <td>0</td>\n",
       "      <td>0</td>\n",
       "      <td>0</td>\n",
       "      <td>...</td>\n",
       "      <td>0</td>\n",
       "      <td>0</td>\n",
       "      <td>0</td>\n",
       "      <td>0</td>\n",
       "      <td>0</td>\n",
       "      <td>0</td>\n",
       "      <td>0</td>\n",
       "      <td>0</td>\n",
       "      <td>0</td>\n",
       "      <td>0</td>\n",
       "    </tr>\n",
       "    <tr>\n",
       "      <th>8</th>\n",
       "      <td>1.076842e+08</td>\n",
       "      <td>0</td>\n",
       "      <td>0</td>\n",
       "      <td>0</td>\n",
       "      <td>0</td>\n",
       "      <td>0</td>\n",
       "      <td>0</td>\n",
       "      <td>0</td>\n",
       "      <td>0</td>\n",
       "      <td>0</td>\n",
       "      <td>...</td>\n",
       "      <td>0</td>\n",
       "      <td>0</td>\n",
       "      <td>0</td>\n",
       "      <td>0</td>\n",
       "      <td>0</td>\n",
       "      <td>0</td>\n",
       "      <td>0</td>\n",
       "      <td>0</td>\n",
       "      <td>0</td>\n",
       "      <td>0</td>\n",
       "    </tr>\n",
       "    <tr>\n",
       "      <th>...</th>\n",
       "      <td>...</td>\n",
       "      <td>...</td>\n",
       "      <td>...</td>\n",
       "      <td>...</td>\n",
       "      <td>...</td>\n",
       "      <td>...</td>\n",
       "      <td>...</td>\n",
       "      <td>...</td>\n",
       "      <td>...</td>\n",
       "      <td>...</td>\n",
       "      <td>...</td>\n",
       "      <td>...</td>\n",
       "      <td>...</td>\n",
       "      <td>...</td>\n",
       "      <td>...</td>\n",
       "      <td>...</td>\n",
       "      <td>...</td>\n",
       "      <td>...</td>\n",
       "      <td>...</td>\n",
       "      <td>...</td>\n",
       "      <td>...</td>\n",
       "    </tr>\n",
       "    <tr>\n",
       "      <th>1238</th>\n",
       "      <td>2.000000e+09</td>\n",
       "      <td>0</td>\n",
       "      <td>0</td>\n",
       "      <td>0</td>\n",
       "      <td>0</td>\n",
       "      <td>0</td>\n",
       "      <td>0</td>\n",
       "      <td>0</td>\n",
       "      <td>0</td>\n",
       "      <td>0</td>\n",
       "      <td>...</td>\n",
       "      <td>0</td>\n",
       "      <td>0</td>\n",
       "      <td>0</td>\n",
       "      <td>0</td>\n",
       "      <td>0</td>\n",
       "      <td>0</td>\n",
       "      <td>0</td>\n",
       "      <td>0</td>\n",
       "      <td>0</td>\n",
       "      <td>0</td>\n",
       "    </tr>\n",
       "    <tr>\n",
       "      <th>1242</th>\n",
       "      <td>1.493105e+07</td>\n",
       "      <td>0</td>\n",
       "      <td>0</td>\n",
       "      <td>0</td>\n",
       "      <td>0</td>\n",
       "      <td>0</td>\n",
       "      <td>0</td>\n",
       "      <td>0</td>\n",
       "      <td>0</td>\n",
       "      <td>0</td>\n",
       "      <td>...</td>\n",
       "      <td>0</td>\n",
       "      <td>0</td>\n",
       "      <td>0</td>\n",
       "      <td>0</td>\n",
       "      <td>0</td>\n",
       "      <td>0</td>\n",
       "      <td>0</td>\n",
       "      <td>0</td>\n",
       "      <td>0</td>\n",
       "      <td>0</td>\n",
       "    </tr>\n",
       "    <tr>\n",
       "      <th>1245</th>\n",
       "      <td>9.802226e+08</td>\n",
       "      <td>0</td>\n",
       "      <td>0</td>\n",
       "      <td>0</td>\n",
       "      <td>0</td>\n",
       "      <td>0</td>\n",
       "      <td>0</td>\n",
       "      <td>0</td>\n",
       "      <td>0</td>\n",
       "      <td>0</td>\n",
       "      <td>...</td>\n",
       "      <td>0</td>\n",
       "      <td>0</td>\n",
       "      <td>0</td>\n",
       "      <td>0</td>\n",
       "      <td>0</td>\n",
       "      <td>0</td>\n",
       "      <td>0</td>\n",
       "      <td>0</td>\n",
       "      <td>0</td>\n",
       "      <td>0</td>\n",
       "    </tr>\n",
       "    <tr>\n",
       "      <th>1246</th>\n",
       "      <td>7.296538e+06</td>\n",
       "      <td>0</td>\n",
       "      <td>0</td>\n",
       "      <td>0</td>\n",
       "      <td>0</td>\n",
       "      <td>0</td>\n",
       "      <td>0</td>\n",
       "      <td>0</td>\n",
       "      <td>0</td>\n",
       "      <td>0</td>\n",
       "      <td>...</td>\n",
       "      <td>0</td>\n",
       "      <td>0</td>\n",
       "      <td>0</td>\n",
       "      <td>0</td>\n",
       "      <td>0</td>\n",
       "      <td>0</td>\n",
       "      <td>0</td>\n",
       "      <td>0</td>\n",
       "      <td>0</td>\n",
       "      <td>0</td>\n",
       "    </tr>\n",
       "    <tr>\n",
       "      <th>1247</th>\n",
       "      <td>1.283270e+05</td>\n",
       "      <td>0</td>\n",
       "      <td>0</td>\n",
       "      <td>0</td>\n",
       "      <td>0</td>\n",
       "      <td>0</td>\n",
       "      <td>0</td>\n",
       "      <td>0</td>\n",
       "      <td>0</td>\n",
       "      <td>0</td>\n",
       "      <td>...</td>\n",
       "      <td>0</td>\n",
       "      <td>0</td>\n",
       "      <td>0</td>\n",
       "      <td>0</td>\n",
       "      <td>0</td>\n",
       "      <td>0</td>\n",
       "      <td>0</td>\n",
       "      <td>0</td>\n",
       "      <td>0</td>\n",
       "      <td>0</td>\n",
       "    </tr>\n",
       "  </tbody>\n",
       "</table>\n",
       "<p>533 rows × 379 columns</p>\n",
       "</div>"
      ],
      "text/plain": [
       "      TotalCoinsMined  Algorithm_1GB AES Pattern Search  Algorithm_536  \\\n",
       "0        4.199995e+01                                 0              0   \n",
       "2        1.055185e+09                                 0              0   \n",
       "5        2.927942e+10                                 0              0   \n",
       "7        1.792718e+07                                 0              0   \n",
       "8        1.076842e+08                                 0              0   \n",
       "...               ...                               ...            ...   \n",
       "1238     2.000000e+09                                 0              0   \n",
       "1242     1.493105e+07                                 0              0   \n",
       "1245     9.802226e+08                                 0              0   \n",
       "1246     7.296538e+06                                 0              0   \n",
       "1247     1.283270e+05                                 0              0   \n",
       "\n",
       "      Algorithm_Argon2d  Algorithm_BLAKE256  Algorithm_Blake  \\\n",
       "0                     0                   0                0   \n",
       "2                     0                   0                0   \n",
       "5                     0                   0                0   \n",
       "7                     0                   0                0   \n",
       "8                     0                   0                0   \n",
       "...                 ...                 ...              ...   \n",
       "1238                  0                   0                0   \n",
       "1242                  0                   0                0   \n",
       "1245                  0                   0                0   \n",
       "1246                  0                   0                0   \n",
       "1247                  0                   0                0   \n",
       "\n",
       "      Algorithm_Blake2S  Algorithm_Blake2b  Algorithm_C11  \\\n",
       "0                     0                  0              0   \n",
       "2                     0                  0              0   \n",
       "5                     0                  0              0   \n",
       "7                     0                  0              0   \n",
       "8                     0                  0              0   \n",
       "...                 ...                ...            ...   \n",
       "1238                  0                  0              0   \n",
       "1242                  0                  0              0   \n",
       "1245                  0                  0              0   \n",
       "1246                  0                  0              0   \n",
       "1247                  0                  0              0   \n",
       "\n",
       "      Algorithm_Cloverhash  ...  TotalCoinSupply_91388946  \\\n",
       "0                        0  ...                         0   \n",
       "2                        0  ...                         0   \n",
       "5                        0  ...                         0   \n",
       "7                        0  ...                         0   \n",
       "8                        0  ...                         0   \n",
       "...                    ...  ...                       ...   \n",
       "1238                     0  ...                         0   \n",
       "1242                     0  ...                         0   \n",
       "1245                     0  ...                         0   \n",
       "1246                     0  ...                         0   \n",
       "1247                     0  ...                         0   \n",
       "\n",
       "      TotalCoinSupply_92000000000  TotalCoinSupply_9354000  \\\n",
       "0                               0                        0   \n",
       "2                               0                        0   \n",
       "5                               0                        0   \n",
       "7                               0                        0   \n",
       "8                               0                        0   \n",
       "...                           ...                      ...   \n",
       "1238                            0                        0   \n",
       "1242                            0                        0   \n",
       "1245                            0                        0   \n",
       "1246                            0                        0   \n",
       "1247                            0                        0   \n",
       "\n",
       "      TotalCoinSupply_9507271  TotalCoinSupply_9736000  \\\n",
       "0                           0                        0   \n",
       "2                           0                        0   \n",
       "5                           0                        0   \n",
       "7                           0                        0   \n",
       "8                           0                        0   \n",
       "...                       ...                      ...   \n",
       "1238                        0                        0   \n",
       "1242                        0                        0   \n",
       "1245                        0                        0   \n",
       "1246                        0                        0   \n",
       "1247                        0                        0   \n",
       "\n",
       "      TotalCoinSupply_98000000  TotalCoinSupply_98100000000  \\\n",
       "0                            0                            0   \n",
       "2                            0                            0   \n",
       "5                            0                            0   \n",
       "7                            0                            0   \n",
       "8                            0                            0   \n",
       "...                        ...                          ...   \n",
       "1238                         0                            0   \n",
       "1242                         0                            0   \n",
       "1245                         0                            0   \n",
       "1246                         0                            0   \n",
       "1247                         0                            0   \n",
       "\n",
       "      TotalCoinSupply_990000000000  TotalCoinSupply_999481516  \\\n",
       "0                                0                          0   \n",
       "2                                0                          0   \n",
       "5                                0                          0   \n",
       "7                                0                          0   \n",
       "8                                0                          0   \n",
       "...                            ...                        ...   \n",
       "1238                             0                          0   \n",
       "1242                             0                          0   \n",
       "1245                             0                          0   \n",
       "1246                             0                          0   \n",
       "1247                             0                          0   \n",
       "\n",
       "      TotalCoinSupply_9999999  \n",
       "0                           0  \n",
       "2                           0  \n",
       "5                           0  \n",
       "7                           0  \n",
       "8                           0  \n",
       "...                       ...  \n",
       "1238                        0  \n",
       "1242                        0  \n",
       "1245                        0  \n",
       "1246                        0  \n",
       "1247                        0  \n",
       "\n",
       "[533 rows x 379 columns]"
      ]
     },
     "execution_count": 104,
     "metadata": {},
     "output_type": "execute_result"
    }
   ],
   "source": [
    "# Create dummy variables for text features\n",
    "X = pd.get_dummies(final_crypto_df)\n",
    "X"
   ]
  },
  {
   "cell_type": "code",
   "execution_count": 105,
   "metadata": {},
   "outputs": [],
   "source": [
    "# Standardize data\n",
    "X_scaled = StandardScaler().fit_transform(X)"
   ]
  },
  {
   "cell_type": "markdown",
   "metadata": {},
   "source": [
    "### Reducing Dimensions Using PCA"
   ]
  },
  {
   "cell_type": "code",
   "execution_count": 106,
   "metadata": {},
   "outputs": [],
   "source": [
    "# Use PCA to reduce dimensions to 3 principal components\n",
    "pca = PCA(n_components=3)"
   ]
  },
  {
   "cell_type": "code",
   "execution_count": 107,
   "metadata": {},
   "outputs": [
    {
     "data": {
      "text/html": [
       "<div>\n",
       "<style scoped>\n",
       "    .dataframe tbody tr th:only-of-type {\n",
       "        vertical-align: middle;\n",
       "    }\n",
       "\n",
       "    .dataframe tbody tr th {\n",
       "        vertical-align: top;\n",
       "    }\n",
       "\n",
       "    .dataframe thead th {\n",
       "        text-align: right;\n",
       "    }\n",
       "</style>\n",
       "<table border=\"1\" class=\"dataframe\">\n",
       "  <thead>\n",
       "    <tr style=\"text-align: right;\">\n",
       "      <th></th>\n",
       "      <th>PC 1</th>\n",
       "      <th>PC 2</th>\n",
       "      <th>PC 3</th>\n",
       "    </tr>\n",
       "  </thead>\n",
       "  <tbody>\n",
       "    <tr>\n",
       "      <th>0</th>\n",
       "      <td>-0.320153</td>\n",
       "      <td>-0.025333</td>\n",
       "      <td>-0.040073</td>\n",
       "    </tr>\n",
       "    <tr>\n",
       "      <th>2</th>\n",
       "      <td>-0.300935</td>\n",
       "      <td>-0.027283</td>\n",
       "      <td>-0.045818</td>\n",
       "    </tr>\n",
       "    <tr>\n",
       "      <th>5</th>\n",
       "      <td>0.520987</td>\n",
       "      <td>-0.014440</td>\n",
       "      <td>-0.122389</td>\n",
       "    </tr>\n",
       "    <tr>\n",
       "      <th>7</th>\n",
       "      <td>-0.232868</td>\n",
       "      <td>-0.175550</td>\n",
       "      <td>-0.060589</td>\n",
       "    </tr>\n",
       "    <tr>\n",
       "      <th>8</th>\n",
       "      <td>-0.020182</td>\n",
       "      <td>-0.138364</td>\n",
       "      <td>-0.304817</td>\n",
       "    </tr>\n",
       "  </tbody>\n",
       "</table>\n",
       "</div>"
      ],
      "text/plain": [
       "       PC 1      PC 2      PC 3\n",
       "0 -0.320153 -0.025333 -0.040073\n",
       "2 -0.300935 -0.027283 -0.045818\n",
       "5  0.520987 -0.014440 -0.122389\n",
       "7 -0.232868 -0.175550 -0.060589\n",
       "8 -0.020182 -0.138364 -0.304817"
      ]
     },
     "execution_count": 107,
     "metadata": {},
     "output_type": "execute_result"
    }
   ],
   "source": [
    "# Create a DataFrame with the principal components data\n",
    "crypto_pca = pca.fit_transform(X_scaled)\n",
    "pcs_df = pd.DataFrame(data= crypto_pca, columns=[\"PC 1\", \"PC 2\", \"PC 3\"], index = crypto_df.index)\n",
    "pcs_df.head()                                                "
   ]
  },
  {
   "cell_type": "code",
   "execution_count": 108,
   "metadata": {},
   "outputs": [
    {
     "data": {
      "text/plain": [
       "array([0.00830629, 0.00792463, 0.00789915])"
      ]
     },
     "execution_count": 108,
     "metadata": {},
     "output_type": "execute_result"
    }
   ],
   "source": [
    "# Fetch the explained variance- Adding up the 3 arrays only explains approx 24% of variance. \n",
    "# Hence need more components- this can be determined using the K curve.\n",
    "pca.explained_variance_ratio_"
   ]
  },
  {
   "cell_type": "markdown",
   "metadata": {},
   "source": [
    "### Clustering Crytocurrencies Using K-Means\n",
    "\n",
    "#### Find the Best Value for `k` Using the Elbow Curve"
   ]
  },
  {
   "cell_type": "code",
   "execution_count": 109,
   "metadata": {},
   "outputs": [
    {
     "data": {},
     "metadata": {},
     "output_type": "display_data"
    },
    {
     "data": {
      "application/vnd.holoviews_exec.v0+json": "",
      "text/html": [
       "<div id='2959'>\n",
       "\n",
       "\n",
       "\n",
       "\n",
       "\n",
       "  <div class=\"bk-root\" id=\"ad993610-abd6-4cab-9c9e-0a8b5fdeb213\" data-root-id=\"2959\"></div>\n",
       "</div>\n",
       "<script type=\"application/javascript\">(function(root) {\n",
       "  function embed_document(root) {\n",
       "    var docs_json = {\"c7b4a5bd-614f-4029-af02-df7e8be94317\":{\"defs\":[{\"extends\":null,\"module\":null,\"name\":\"ReactiveHTML1\",\"overrides\":[],\"properties\":[]},{\"extends\":null,\"module\":null,\"name\":\"FlexBox1\",\"overrides\":[],\"properties\":[{\"default\":\"flex-start\",\"kind\":null,\"name\":\"align_content\"},{\"default\":\"flex-start\",\"kind\":null,\"name\":\"align_items\"},{\"default\":\"row\",\"kind\":null,\"name\":\"flex_direction\"},{\"default\":\"wrap\",\"kind\":null,\"name\":\"flex_wrap\"},{\"default\":\"flex-start\",\"kind\":null,\"name\":\"justify_content\"}]},{\"extends\":null,\"module\":null,\"name\":\"TemplateActions1\",\"overrides\":[],\"properties\":[{\"default\":0,\"kind\":null,\"name\":\"open_modal\"},{\"default\":0,\"kind\":null,\"name\":\"close_modal\"}]},{\"extends\":null,\"module\":null,\"name\":\"MaterialTemplateActions1\",\"overrides\":[],\"properties\":[{\"default\":0,\"kind\":null,\"name\":\"open_modal\"},{\"default\":0,\"kind\":null,\"name\":\"close_modal\"}]}],\"roots\":{\"references\":[{\"attributes\":{\"children\":[{\"id\":\"2960\"},{\"id\":\"2964\"},{\"id\":\"3030\"}],\"margin\":[0,0,0,0],\"name\":\"Row05768\",\"tags\":[\"embedded\"]},\"id\":\"2959\",\"type\":\"Row\"},{\"attributes\":{\"ticks\":[1,2,3,4,5,6,7,8,9,10]},\"id\":\"3003\",\"type\":\"FixedTicker\"},{\"attributes\":{\"line_alpha\":0.1,\"line_color\":\"#30a2da\",\"line_width\":2,\"x\":{\"field\":\"k\"},\"y\":{\"field\":\"inertia\"}},\"id\":\"2998\",\"type\":\"Line\"},{\"attributes\":{},\"id\":\"3019\",\"type\":\"UnionRenderers\"},{\"attributes\":{\"active_multi\":null,\"tools\":[{\"id\":\"2963\"},{\"id\":\"2981\"},{\"id\":\"2982\"},{\"id\":\"2983\"},{\"id\":\"2984\"},{\"id\":\"2985\"}]},\"id\":\"2987\",\"type\":\"Toolbar\"},{\"attributes\":{\"line_color\":\"#30a2da\",\"line_width\":2,\"x\":{\"field\":\"k\"},\"y\":{\"field\":\"inertia\"}},\"id\":\"3002\",\"type\":\"Line\"},{\"attributes\":{},\"id\":\"2981\",\"type\":\"SaveTool\"},{\"attributes\":{\"line_alpha\":0.2,\"line_color\":\"#30a2da\",\"line_width\":2,\"x\":{\"field\":\"k\"},\"y\":{\"field\":\"inertia\"}},\"id\":\"2999\",\"type\":\"Line\"},{\"attributes\":{},\"id\":\"2982\",\"type\":\"PanTool\"},{\"attributes\":{\"margin\":[5,5,5,5],\"name\":\"HSpacer05773\",\"sizing_mode\":\"stretch_width\"},\"id\":\"3030\",\"type\":\"Spacer\"},{\"attributes\":{},\"id\":\"2985\",\"type\":\"ResetTool\"},{\"attributes\":{},\"id\":\"2983\",\"type\":\"WheelZoomTool\"},{\"attributes\":{},\"id\":\"3009\",\"type\":\"BasicTickFormatter\"},{\"attributes\":{},\"id\":\"3010\",\"type\":\"AllLabels\"},{\"attributes\":{\"overlay\":{\"id\":\"2986\"}},\"id\":\"2984\",\"type\":\"BoxZoomTool\"},{\"attributes\":{},\"id\":\"2995\",\"type\":\"Selection\"},{\"attributes\":{\"text\":\"Elbow Curve\",\"text_color\":\"black\",\"text_font_size\":\"12pt\"},\"id\":\"2965\",\"type\":\"Title\"},{\"attributes\":{\"data_source\":{\"id\":\"2994\"},\"glyph\":{\"id\":\"2997\"},\"hover_glyph\":null,\"muted_glyph\":{\"id\":\"2999\"},\"nonselection_glyph\":{\"id\":\"2998\"},\"selection_glyph\":{\"id\":\"3002\"},\"view\":{\"id\":\"3001\"}},\"id\":\"3000\",\"type\":\"GlyphRenderer\"},{\"attributes\":{\"end\":10.0,\"reset_end\":10.0,\"reset_start\":1.0,\"start\":1.0,\"tags\":[[[\"k\",\"k\",null]]]},\"id\":\"2961\",\"type\":\"Range1d\"},{\"attributes\":{\"axis\":{\"id\":\"2973\"},\"grid_line_color\":null,\"ticker\":null},\"id\":\"2976\",\"type\":\"Grid\"},{\"attributes\":{},\"id\":\"2969\",\"type\":\"LinearScale\"},{\"attributes\":{},\"id\":\"2971\",\"type\":\"LinearScale\"},{\"attributes\":{},\"id\":\"3004\",\"type\":\"BasicTickFormatter\"},{\"attributes\":{\"callback\":null,\"renderers\":[{\"id\":\"3000\"}],\"tags\":[\"hv_created\"],\"tooltips\":[[\"k\",\"@{k}\"],[\"inertia\",\"@{inertia}\"]]},\"id\":\"2963\",\"type\":\"HoverTool\"},{\"attributes\":{\"axis_label\":\"inertia\",\"formatter\":{\"id\":\"3009\"},\"major_label_policy\":{\"id\":\"3010\"},\"ticker\":{\"id\":\"2978\"}},\"id\":\"2977\",\"type\":\"LinearAxis\"},{\"attributes\":{\"source\":{\"id\":\"2994\"}},\"id\":\"3001\",\"type\":\"CDSView\"},{\"attributes\":{\"axis_label\":\"k\",\"formatter\":{\"id\":\"3004\"},\"major_label_policy\":{\"id\":\"3005\"},\"ticker\":{\"id\":\"3003\"}},\"id\":\"2973\",\"type\":\"LinearAxis\"},{\"attributes\":{\"below\":[{\"id\":\"2973\"}],\"center\":[{\"id\":\"2976\"},{\"id\":\"2980\"}],\"height\":300,\"left\":[{\"id\":\"2977\"}],\"margin\":[5,5,5,5],\"min_border_bottom\":10,\"min_border_left\":10,\"min_border_right\":10,\"min_border_top\":10,\"renderers\":[{\"id\":\"3000\"}],\"sizing_mode\":\"fixed\",\"title\":{\"id\":\"2965\"},\"toolbar\":{\"id\":\"2987\"},\"width\":700,\"x_range\":{\"id\":\"2961\"},\"x_scale\":{\"id\":\"2969\"},\"y_range\":{\"id\":\"2962\"},\"y_scale\":{\"id\":\"2971\"}},\"id\":\"2964\",\"subtype\":\"Figure\",\"type\":\"Plot\"},{\"attributes\":{\"data\":{\"inertia\":{\"__ndarray__\":\"x4iIiHEKs0D4Uwagc+2pQHrxvwEBH5xALb07pg9yf0BOSbIkNW9tQIgl6yhGAV1ANBJ75a8vWECAUglTDpdTQNdpOBiV809AHua8lUIKSkA=\",\"dtype\":\"float64\",\"order\":\"little\",\"shape\":[10]},\"k\":[1,2,3,4,5,6,7,8,9,10]},\"selected\":{\"id\":\"2995\"},\"selection_policy\":{\"id\":\"3019\"}},\"id\":\"2994\",\"type\":\"ColumnDataSource\"},{\"attributes\":{},\"id\":\"2978\",\"type\":\"BasicTicker\"},{\"attributes\":{\"axis\":{\"id\":\"2977\"},\"dimension\":1,\"grid_line_color\":null,\"ticker\":null},\"id\":\"2980\",\"type\":\"Grid\"},{\"attributes\":{\"margin\":[5,5,5,5],\"name\":\"HSpacer05772\",\"sizing_mode\":\"stretch_width\"},\"id\":\"2960\",\"type\":\"Spacer\"},{\"attributes\":{\"end\":5356.679822840699,\"reset_end\":5356.679822840699,\"reset_start\":-430.1561762470054,\"start\":-430.1561762470054,\"tags\":[[[\"inertia\",\"inertia\",null]]]},\"id\":\"2962\",\"type\":\"Range1d\"},{\"attributes\":{\"bottom_units\":\"screen\",\"fill_alpha\":0.5,\"fill_color\":\"lightgrey\",\"left_units\":\"screen\",\"level\":\"overlay\",\"line_alpha\":1.0,\"line_color\":\"black\",\"line_dash\":[4,4],\"line_width\":2,\"right_units\":\"screen\",\"syncable\":false,\"top_units\":\"screen\"},\"id\":\"2986\",\"type\":\"BoxAnnotation\"},{\"attributes\":{},\"id\":\"3005\",\"type\":\"AllLabels\"},{\"attributes\":{\"line_color\":\"#30a2da\",\"line_width\":2,\"x\":{\"field\":\"k\"},\"y\":{\"field\":\"inertia\"}},\"id\":\"2997\",\"type\":\"Line\"}],\"root_ids\":[\"2959\"]},\"title\":\"Bokeh Application\",\"version\":\"2.3.2\"}};\n",
       "    var render_items = [{\"docid\":\"c7b4a5bd-614f-4029-af02-df7e8be94317\",\"root_ids\":[\"2959\"],\"roots\":{\"2959\":\"ad993610-abd6-4cab-9c9e-0a8b5fdeb213\"}}];\n",
       "    root.Bokeh.embed.embed_items_notebook(docs_json, render_items);\n",
       "  }\n",
       "  if (root.Bokeh !== undefined && root.Bokeh.Panel !== undefined) {\n",
       "    embed_document(root);\n",
       "  } else {\n",
       "    var attempts = 0;\n",
       "    var timer = setInterval(function(root) {\n",
       "      if (root.Bokeh !== undefined && root.Bokeh.Panel !== undefined) {\n",
       "        clearInterval(timer);\n",
       "        embed_document(root);\n",
       "      } else if (document.readyState == \"complete\") {\n",
       "        attempts++;\n",
       "        if (attempts > 200) {\n",
       "          clearInterval(timer);\n",
       "          console.log(\"Bokeh: ERROR: Unable to run BokehJS code because BokehJS library is missing\");\n",
       "        }\n",
       "      }\n",
       "    }, 25, root)\n",
       "  }\n",
       "})(window);</script>"
      ],
      "text/plain": [
       ":Curve   [k]   (inertia)"
      ]
     },
     "execution_count": 109,
     "metadata": {
      "application/vnd.holoviews_exec.v0+json": {
       "id": "2959"
      }
     },
     "output_type": "execute_result"
    }
   ],
   "source": [
    "import hvplot.pandas\n",
    "inertia = []\n",
    "k = list(range(1, 11))\n",
    "\n",
    "# Calculate the inertia for the range of k values\n",
    "for i in k:\n",
    "    km = KMeans(n_clusters=i, random_state=0)\n",
    "    km.fit(pcs_df)\n",
    "    inertia.append(km.inertia_)\n",
    "\n",
    "# Create the Elbow Curve using hvPlot\n",
    "elbow_data = {\"k\": k, \"inertia\": inertia}\n",
    "df_elbow = pd.DataFrame(elbow_data)\n",
    "df_elbow.hvplot.line(x=\"k\", y=\"inertia\", xticks=k, title=\"Elbow Curve\")"
   ]
  },
  {
   "cell_type": "markdown",
   "metadata": {},
   "source": [
    "##Running K-Means with `k=4` as the curve dips significantly after 4.\n",
    "Note that K could be 5 or K can be 4 as each time I run the code the elbow curve changes. For the purposes of this assignment, I will use 4 as the number of clusters based on the above diagram."
   ]
  },
  {
   "cell_type": "code",
   "execution_count": 110,
   "metadata": {},
   "outputs": [],
   "source": [
    "# Initialize the K-Means model\n",
    "model = KMeans(n_clusters=4, random_state=0)\n",
    "\n",
    "# Fit the model\n",
    "model.fit(pcs_df)\n",
    "\n",
    "# Predict clusters\n",
    "predictions = model.predict(pcs_df)"
   ]
  },
  {
   "cell_type": "code",
   "execution_count": 111,
   "metadata": {},
   "outputs": [
    {
     "data": {
      "text/html": [
       "<div>\n",
       "<style scoped>\n",
       "    .dataframe tbody tr th:only-of-type {\n",
       "        vertical-align: middle;\n",
       "    }\n",
       "\n",
       "    .dataframe tbody tr th {\n",
       "        vertical-align: top;\n",
       "    }\n",
       "\n",
       "    .dataframe thead th {\n",
       "        text-align: right;\n",
       "    }\n",
       "</style>\n",
       "<table border=\"1\" class=\"dataframe\">\n",
       "  <thead>\n",
       "    <tr style=\"text-align: right;\">\n",
       "      <th></th>\n",
       "      <th>Algorithm</th>\n",
       "      <th>ProofType</th>\n",
       "      <th>TotalCoinsMined</th>\n",
       "      <th>TotalCoinSupply</th>\n",
       "      <th>PC 1</th>\n",
       "      <th>PC 2</th>\n",
       "      <th>PC 3</th>\n",
       "      <th>CoinName</th>\n",
       "      <th>Class</th>\n",
       "    </tr>\n",
       "  </thead>\n",
       "  <tbody>\n",
       "    <tr>\n",
       "      <th>1226</th>\n",
       "      <td>SHA-256</td>\n",
       "      <td>PoS</td>\n",
       "      <td>1.000000e+09</td>\n",
       "      <td>1000000000</td>\n",
       "      <td>0.059149</td>\n",
       "      <td>-0.059068</td>\n",
       "      <td>0.069639</td>\n",
       "      <td>TigerCash</td>\n",
       "      <td>0</td>\n",
       "    </tr>\n",
       "    <tr>\n",
       "      <th>1230</th>\n",
       "      <td>Leased POS</td>\n",
       "      <td>LPoS</td>\n",
       "      <td>1.000000e+08</td>\n",
       "      <td>100000000</td>\n",
       "      <td>-0.707428</td>\n",
       "      <td>0.431246</td>\n",
       "      <td>0.190239</td>\n",
       "      <td>Waves</td>\n",
       "      <td>0</td>\n",
       "    </tr>\n",
       "    <tr>\n",
       "      <th>1231</th>\n",
       "      <td>PoS</td>\n",
       "      <td>PoS</td>\n",
       "      <td>9.283138e+06</td>\n",
       "      <td>8634140</td>\n",
       "      <td>0.205530</td>\n",
       "      <td>0.104074</td>\n",
       "      <td>0.072783</td>\n",
       "      <td>Particl</td>\n",
       "      <td>0</td>\n",
       "    </tr>\n",
       "    <tr>\n",
       "      <th>1234</th>\n",
       "      <td>TRC10</td>\n",
       "      <td>DPoS</td>\n",
       "      <td>9.899887e+11</td>\n",
       "      <td>990000000000</td>\n",
       "      <td>36.601737</td>\n",
       "      <td>-1.726118</td>\n",
       "      <td>-6.511537</td>\n",
       "      <td>BitTorrent</td>\n",
       "      <td>2</td>\n",
       "    </tr>\n",
       "    <tr>\n",
       "      <th>1237</th>\n",
       "      <td>PoS</td>\n",
       "      <td>PoS/LPoS</td>\n",
       "      <td>1.000000e+09</td>\n",
       "      <td>1000000000</td>\n",
       "      <td>0.217696</td>\n",
       "      <td>-0.071715</td>\n",
       "      <td>0.050249</td>\n",
       "      <td>Nxt</td>\n",
       "      <td>0</td>\n",
       "    </tr>\n",
       "    <tr>\n",
       "      <th>1238</th>\n",
       "      <td>SHA-256</td>\n",
       "      <td>DPoS</td>\n",
       "      <td>2.000000e+09</td>\n",
       "      <td>2000000000</td>\n",
       "      <td>2.333671</td>\n",
       "      <td>-0.135814</td>\n",
       "      <td>-0.164504</td>\n",
       "      <td>ZEPHYR</td>\n",
       "      <td>0</td>\n",
       "    </tr>\n",
       "    <tr>\n",
       "      <th>1242</th>\n",
       "      <td>Scrypt</td>\n",
       "      <td>PoW/PoS</td>\n",
       "      <td>1.493105e+07</td>\n",
       "      <td>250000000</td>\n",
       "      <td>-0.324924</td>\n",
       "      <td>-0.086762</td>\n",
       "      <td>-0.067717</td>\n",
       "      <td>Gapcoin</td>\n",
       "      <td>0</td>\n",
       "    </tr>\n",
       "    <tr>\n",
       "      <th>1245</th>\n",
       "      <td>CryptoNight</td>\n",
       "      <td>PoW</td>\n",
       "      <td>9.802226e+08</td>\n",
       "      <td>1400222610</td>\n",
       "      <td>0.026661</td>\n",
       "      <td>-0.358117</td>\n",
       "      <td>-0.171569</td>\n",
       "      <td>Beldex</td>\n",
       "      <td>0</td>\n",
       "    </tr>\n",
       "    <tr>\n",
       "      <th>1246</th>\n",
       "      <td>Equihash</td>\n",
       "      <td>PoW</td>\n",
       "      <td>7.296538e+06</td>\n",
       "      <td>21000000</td>\n",
       "      <td>-0.297485</td>\n",
       "      <td>-0.278676</td>\n",
       "      <td>-0.154539</td>\n",
       "      <td>Horizen</td>\n",
       "      <td>0</td>\n",
       "    </tr>\n",
       "    <tr>\n",
       "      <th>1247</th>\n",
       "      <td>Scrypt</td>\n",
       "      <td>PoS</td>\n",
       "      <td>1.283270e+05</td>\n",
       "      <td>1000000</td>\n",
       "      <td>-0.134163</td>\n",
       "      <td>-0.026006</td>\n",
       "      <td>-0.007347</td>\n",
       "      <td>BitcoinPlus</td>\n",
       "      <td>0</td>\n",
       "    </tr>\n",
       "  </tbody>\n",
       "</table>\n",
       "</div>"
      ],
      "text/plain": [
       "        Algorithm ProofType  TotalCoinsMined TotalCoinSupply       PC 1  \\\n",
       "1226      SHA-256       PoS     1.000000e+09      1000000000   0.059149   \n",
       "1230   Leased POS      LPoS     1.000000e+08       100000000  -0.707428   \n",
       "1231          PoS       PoS     9.283138e+06         8634140   0.205530   \n",
       "1234        TRC10      DPoS     9.899887e+11    990000000000  36.601737   \n",
       "1237          PoS  PoS/LPoS     1.000000e+09      1000000000   0.217696   \n",
       "1238      SHA-256      DPoS     2.000000e+09      2000000000   2.333671   \n",
       "1242       Scrypt   PoW/PoS     1.493105e+07       250000000  -0.324924   \n",
       "1245  CryptoNight       PoW     9.802226e+08      1400222610   0.026661   \n",
       "1246     Equihash       PoW     7.296538e+06        21000000  -0.297485   \n",
       "1247       Scrypt       PoS     1.283270e+05         1000000  -0.134163   \n",
       "\n",
       "          PC 2      PC 3     CoinName  Class  \n",
       "1226 -0.059068  0.069639    TigerCash      0  \n",
       "1230  0.431246  0.190239        Waves      0  \n",
       "1231  0.104074  0.072783      Particl      0  \n",
       "1234 -1.726118 -6.511537   BitTorrent      2  \n",
       "1237 -0.071715  0.050249          Nxt      0  \n",
       "1238 -0.135814 -0.164504       ZEPHYR      0  \n",
       "1242 -0.086762 -0.067717      Gapcoin      0  \n",
       "1245 -0.358117 -0.171569       Beldex      0  \n",
       "1246 -0.278676 -0.154539      Horizen      0  \n",
       "1247 -0.026006 -0.007347  BitcoinPlus      0  "
      ]
     },
     "execution_count": 111,
     "metadata": {},
     "output_type": "execute_result"
    }
   ],
   "source": [
    "# Create a new DataFrame including predicted clusters and cryptocurrencies features\n",
    "clustered_df = pd.concat([final_crypto_df, pcs_df, coins_name_df], axis =\"columns\", join = 'inner')\n",
    "clustered_df['Class'] = predictions\n",
    "clustered_df.tail(10)"
   ]
  },
  {
   "cell_type": "markdown",
   "metadata": {},
   "source": [
    "### Visualizing Results\n",
    "\n",
    "#### 3D-Scatter with Clusters"
   ]
  },
  {
   "cell_type": "code",
   "execution_count": 112,
   "metadata": {},
   "outputs": [
    {
     "data": {
      "application/vnd.plotly.v1+json": {
       "config": {
        "plotlyServerURL": "https://plot.ly"
       },
       "data": [
        {
         "customdata": [
          [
           "Scrypt"
          ],
          [
           "Scrypt"
          ],
          [
           "X13"
          ],
          [
           "SHA-256"
          ],
          [
           "Ethash"
          ],
          [
           "Scrypt"
          ],
          [
           "X11"
          ],
          [
           "CryptoNight-V7"
          ],
          [
           "Ethash"
          ],
          [
           "Equihash"
          ],
          [
           "SHA-512"
          ],
          [
           "Multiple"
          ],
          [
           "SHA-256"
          ],
          [
           "SHA-256"
          ],
          [
           "Scrypt"
          ],
          [
           "X15"
          ],
          [
           "X11"
          ],
          [
           "Scrypt"
          ],
          [
           "Scrypt"
          ],
          [
           "Scrypt"
          ],
          [
           "Multiple"
          ],
          [
           "Scrypt"
          ],
          [
           "SHA-256"
          ],
          [
           "Scrypt"
          ],
          [
           "Scrypt"
          ],
          [
           "Scrypt"
          ],
          [
           "Quark"
          ],
          [
           "Groestl"
          ],
          [
           "Scrypt"
          ],
          [
           "Scrypt"
          ],
          [
           "Scrypt"
          ],
          [
           "Scrypt"
          ],
          [
           "Scrypt"
          ],
          [
           "X11"
          ],
          [
           "Scrypt"
          ],
          [
           "Groestl"
          ],
          [
           "Multiple"
          ],
          [
           "SHA-256"
          ],
          [
           "Scrypt"
          ],
          [
           "Scrypt"
          ],
          [
           "Scrypt"
          ],
          [
           "Scrypt"
          ],
          [
           "PoS"
          ],
          [
           "Scrypt"
          ],
          [
           "Scrypt"
          ],
          [
           "NeoScrypt"
          ],
          [
           "Scrypt"
          ],
          [
           "Scrypt"
          ],
          [
           "Scrypt"
          ],
          [
           "Scrypt"
          ],
          [
           "X11"
          ],
          [
           "Scrypt"
          ],
          [
           "X11"
          ],
          [
           "SHA-256"
          ],
          [
           "Scrypt"
          ],
          [
           "Scrypt"
          ],
          [
           "Scrypt"
          ],
          [
           "SHA3"
          ],
          [
           "Scrypt"
          ],
          [
           "HybridScryptHash256"
          ],
          [
           "Scrypt"
          ],
          [
           "Scrypt"
          ],
          [
           "SHA-256"
          ],
          [
           "Scrypt"
          ],
          [
           "X13"
          ],
          [
           "Scrypt"
          ],
          [
           "SHA-256"
          ],
          [
           "Scrypt"
          ],
          [
           "X13"
          ],
          [
           "NeoScrypt"
          ],
          [
           "Scrypt"
          ],
          [
           "Scrypt"
          ],
          [
           "Scrypt"
          ],
          [
           "Scrypt"
          ],
          [
           "Scrypt"
          ],
          [
           "Scrypt"
          ],
          [
           "X11"
          ],
          [
           "X11"
          ],
          [
           "SHA-256"
          ],
          [
           "Multiple"
          ],
          [
           "SHA-256"
          ],
          [
           "PHI1612"
          ],
          [
           "X11"
          ],
          [
           "SHA-256"
          ],
          [
           "SHA-256"
          ],
          [
           "SHA-256"
          ],
          [
           "X11"
          ],
          [
           "Scrypt"
          ],
          [
           "Scrypt"
          ],
          [
           "Scrypt"
          ],
          [
           "Scrypt"
          ],
          [
           "Lyra2REv2"
          ],
          [
           "Scrypt"
          ],
          [
           "X11"
          ],
          [
           "Multiple"
          ],
          [
           "SHA-256"
          ],
          [
           "X13"
          ],
          [
           "Scrypt"
          ],
          [
           "CryptoNight"
          ],
          [
           "CryptoNight"
          ],
          [
           "Shabal256"
          ],
          [
           "Counterparty"
          ],
          [
           "Scrypt"
          ],
          [
           "SHA-256"
          ],
          [
           "Groestl"
          ],
          [
           "Scrypt"
          ],
          [
           "Scrypt"
          ],
          [
           "Scrypt"
          ],
          [
           "X13"
          ],
          [
           "Scrypt"
          ],
          [
           "Scrypt"
          ],
          [
           "Scrypt"
          ],
          [
           "Scrypt"
          ],
          [
           "X13"
          ],
          [
           "Scrypt"
          ],
          [
           "Stanford Folding"
          ],
          [
           "X11"
          ],
          [
           "Multiple"
          ],
          [
           "QuBit"
          ],
          [
           "Scrypt"
          ],
          [
           "Scrypt"
          ],
          [
           "Scrypt"
          ],
          [
           "M7 POW"
          ],
          [
           "Scrypt"
          ],
          [
           "SHA-256"
          ],
          [
           "Scrypt"
          ],
          [
           "X11"
          ],
          [
           "SHA3"
          ],
          [
           "X11"
          ],
          [
           "Lyra2RE"
          ],
          [
           "SHA-256"
          ],
          [
           "QUAIT"
          ],
          [
           "X11"
          ],
          [
           "X11"
          ],
          [
           "Scrypt"
          ],
          [
           "Scrypt"
          ],
          [
           "Scrypt"
          ],
          [
           "Ethash"
          ],
          [
           "X13"
          ],
          [
           "Blake2b"
          ],
          [
           "SHA-256"
          ],
          [
           "X15"
          ],
          [
           "X11"
          ],
          [
           "SHA-256"
          ],
          [
           "BLAKE256"
          ],
          [
           "Scrypt"
          ],
          [
           "1GB AES Pattern Search"
          ],
          [
           "SHA-256"
          ],
          [
           "X11"
          ],
          [
           "Scrypt"
          ],
          [
           "SHA-256"
          ],
          [
           "SHA-256"
          ],
          [
           "NIST5"
          ],
          [
           "Scrypt"
          ],
          [
           "Scrypt"
          ],
          [
           "X11"
          ],
          [
           "Dagger"
          ],
          [
           "Scrypt"
          ],
          [
           "X11GOST"
          ],
          [
           "X11"
          ],
          [
           "Scrypt"
          ],
          [
           "SHA-256"
          ],
          [
           "Scrypt"
          ],
          [
           "PoS"
          ],
          [
           "Scrypt"
          ],
          [
           "X11"
          ],
          [
           "X11"
          ],
          [
           "SHA-256"
          ],
          [
           "SHA-256"
          ],
          [
           "NIST5"
          ],
          [
           "X11"
          ],
          [
           "Scrypt"
          ],
          [
           "POS 3.0"
          ],
          [
           "Scrypt"
          ],
          [
           "Scrypt"
          ],
          [
           "Scrypt"
          ],
          [
           "X13"
          ],
          [
           "X11"
          ],
          [
           "X11"
          ],
          [
           "Equihash"
          ],
          [
           "X11"
          ],
          [
           "Scrypt"
          ],
          [
           "CryptoNight"
          ],
          [
           "SHA-256"
          ],
          [
           "SHA-256"
          ],
          [
           "X11"
          ],
          [
           "Scrypt"
          ],
          [
           "Multiple"
          ],
          [
           "Scrypt"
          ],
          [
           "Scrypt"
          ],
          [
           "Scrypt"
          ],
          [
           "SHA-256"
          ],
          [
           "Scrypt"
          ],
          [
           "Scrypt"
          ],
          [
           "SHA-256D"
          ],
          [
           "PoS"
          ],
          [
           "Scrypt"
          ],
          [
           "X11"
          ],
          [
           "Lyra2Z"
          ],
          [
           "PoS"
          ],
          [
           "X13"
          ],
          [
           "X14"
          ],
          [
           "PoS"
          ],
          [
           "SHA-256D"
          ],
          [
           "Ethash"
          ],
          [
           "Equihash"
          ],
          [
           "DPoS"
          ],
          [
           "X11"
          ],
          [
           "Scrypt"
          ],
          [
           "X11"
          ],
          [
           "X13"
          ],
          [
           "X11"
          ],
          [
           "PoS"
          ],
          [
           "Scrypt"
          ],
          [
           "Scrypt"
          ],
          [
           "X11"
          ],
          [
           "PoS"
          ],
          [
           "X11"
          ],
          [
           "SHA-256"
          ],
          [
           "Scrypt"
          ],
          [
           "X11"
          ],
          [
           "Scrypt"
          ],
          [
           "Scrypt"
          ],
          [
           "X11"
          ],
          [
           "CryptoNight"
          ],
          [
           "Scrypt"
          ],
          [
           "Scrypt"
          ],
          [
           "Scrypt"
          ],
          [
           "Scrypt"
          ],
          [
           "Quark"
          ],
          [
           "QuBit"
          ],
          [
           "Scrypt"
          ],
          [
           "CryptoNight"
          ],
          [
           "Lyra2RE"
          ],
          [
           "Scrypt"
          ],
          [
           "SHA-256"
          ],
          [
           "X11"
          ],
          [
           "Scrypt"
          ],
          [
           "X11"
          ],
          [
           "Scrypt"
          ],
          [
           "CryptoNight-V7"
          ],
          [
           "Scrypt"
          ],
          [
           "Scrypt"
          ],
          [
           "Scrypt"
          ],
          [
           "X13"
          ],
          [
           "X11"
          ],
          [
           "Equihash"
          ],
          [
           "Scrypt"
          ],
          [
           "Scrypt"
          ],
          [
           "Lyra2RE"
          ],
          [
           "Scrypt"
          ],
          [
           "Dagger-Hashimoto"
          ],
          [
           "X11"
          ],
          [
           "Blake2S"
          ],
          [
           "X11"
          ],
          [
           "Scrypt"
          ],
          [
           "PoS"
          ],
          [
           "X11"
          ],
          [
           "NIST5"
          ],
          [
           "PoS"
          ],
          [
           "X11"
          ],
          [
           "Scrypt"
          ],
          [
           "Scrypt"
          ],
          [
           "Scrypt"
          ],
          [
           "SHA-256"
          ],
          [
           "X11"
          ],
          [
           "Scrypt"
          ],
          [
           "Scrypt"
          ],
          [
           "SHA-256"
          ],
          [
           "PoS"
          ],
          [
           "Scrypt"
          ],
          [
           "X15"
          ],
          [
           "SHA-256"
          ],
          [
           "Scrypt"
          ],
          [
           "POS 3.0"
          ],
          [
           "CryptoNight-V7"
          ],
          [
           "536"
          ],
          [
           "Argon2d"
          ],
          [
           "Blake2b"
          ],
          [
           "Cloverhash"
          ],
          [
           "CryptoNight"
          ],
          [
           "NIST5"
          ],
          [
           "X11"
          ],
          [
           "NIST5"
          ],
          [
           "Skein"
          ],
          [
           "Scrypt"
          ],
          [
           "X13"
          ],
          [
           "Scrypt"
          ],
          [
           "X11"
          ],
          [
           "X11"
          ],
          [
           "Scrypt"
          ],
          [
           "CryptoNight"
          ],
          [
           "X13"
          ],
          [
           "Time Travel"
          ],
          [
           "Scrypt"
          ],
          [
           "Keccak"
          ],
          [
           "SkunkHash v2 Raptor"
          ],
          [
           "X11"
          ],
          [
           "Skein"
          ],
          [
           "SHA-256"
          ],
          [
           "X11"
          ],
          [
           "Scrypt"
          ],
          [
           "Scrypt"
          ],
          [
           "PoS"
          ],
          [
           "Scrypt"
          ],
          [
           "Scrypt"
          ],
          [
           "Scrypt"
          ],
          [
           "Scrypt"
          ],
          [
           "Scrypt"
          ],
          [
           "Scrypt"
          ],
          [
           "Scrypt"
          ],
          [
           "CryptoNight"
          ],
          [
           "SHA-512"
          ],
          [
           "Ouroboros"
          ],
          [
           "X11"
          ],
          [
           "Equihash"
          ],
          [
           "NeoScrypt"
          ],
          [
           "X11"
          ],
          [
           "Scrypt"
          ],
          [
           "NeoScrypt"
          ],
          [
           "Lyra2REv2"
          ],
          [
           "Equihash"
          ],
          [
           "Scrypt"
          ],
          [
           "SHA-256"
          ],
          [
           "NIST5"
          ],
          [
           "PHI1612"
          ],
          [
           "Dagger"
          ],
          [
           "Scrypt"
          ],
          [
           "Quark"
          ],
          [
           "Scrypt"
          ],
          [
           "POS 2.0"
          ],
          [
           "Scrypt"
          ],
          [
           "SHA-256"
          ],
          [
           "X11"
          ],
          [
           "NeoScrypt"
          ],
          [
           "Ethash"
          ],
          [
           "NeoScrypt"
          ],
          [
           "X11"
          ],
          [
           "DPoS"
          ],
          [
           "NIST5"
          ],
          [
           "X13"
          ],
          [
           "Multiple"
          ],
          [
           "Scrypt"
          ],
          [
           "CryptoNight"
          ],
          [
           "CryptoNight"
          ],
          [
           "Ethash"
          ],
          [
           "NIST5"
          ],
          [
           "Quark"
          ],
          [
           "X11"
          ],
          [
           "CryptoNight-V7"
          ],
          [
           "Scrypt"
          ],
          [
           "Scrypt"
          ],
          [
           "Scrypt"
          ],
          [
           "X11"
          ],
          [
           "BLAKE256"
          ],
          [
           "X11"
          ],
          [
           "NeoScrypt"
          ],
          [
           "Quark"
          ],
          [
           "NeoScrypt"
          ],
          [
           "Scrypt"
          ],
          [
           "Scrypt"
          ],
          [
           "Scrypt"
          ],
          [
           "X11"
          ],
          [
           "X11"
          ],
          [
           "SHA-256"
          ],
          [
           "C11"
          ],
          [
           "POS 3.0"
          ],
          [
           "Ethash"
          ],
          [
           "Scrypt"
          ],
          [
           "CryptoNight"
          ],
          [
           "SkunkHash"
          ],
          [
           "Scrypt"
          ],
          [
           "CryptoNight"
          ],
          [
           "Scrypt"
          ],
          [
           "Dagger"
          ],
          [
           "Lyra2REv2"
          ],
          [
           "X13"
          ],
          [
           "Scrypt"
          ],
          [
           "Scrypt"
          ],
          [
           "X11"
          ],
          [
           "C11"
          ],
          [
           "X11"
          ],
          [
           "XEVAN"
          ],
          [
           "Scrypt"
          ],
          [
           "VBFT"
          ],
          [
           "Ethash"
          ],
          [
           "CryptoNight"
          ],
          [
           "Scrypt"
          ],
          [
           "IMesh"
          ],
          [
           "NIST5"
          ],
          [
           "Scrypt"
          ],
          [
           "Scrypt"
          ],
          [
           "Equihash"
          ],
          [
           "Scrypt"
          ],
          [
           "Lyra2Z"
          ],
          [
           "Green Protocol"
          ],
          [
           "PoS"
          ],
          [
           "Scrypt"
          ],
          [
           "Semux BFT consensus"
          ],
          [
           "X11"
          ],
          [
           "Quark"
          ],
          [
           "PoS"
          ],
          [
           "CryptoNight"
          ],
          [
           "X16R"
          ],
          [
           "Scrypt"
          ],
          [
           "NIST5"
          ],
          [
           "Lyra2RE"
          ],
          [
           "XEVAN"
          ],
          [
           "Tribus"
          ],
          [
           "Scrypt"
          ],
          [
           "Lyra2Z"
          ],
          [
           "CryptoNight"
          ],
          [
           "CryptoNight Heavy"
          ],
          [
           "CryptoNight"
          ],
          [
           "Scrypt"
          ],
          [
           "Scrypt"
          ],
          [
           "Jump Consistent Hash"
          ],
          [
           "SHA-256D"
          ],
          [
           "CryptoNight"
          ],
          [
           "Scrypt"
          ],
          [
           "X15"
          ],
          [
           "Scrypt"
          ],
          [
           "Quark"
          ],
          [
           "SHA-256"
          ],
          [
           "DPoS"
          ],
          [
           "X16R"
          ],
          [
           "HMQ1725"
          ],
          [
           "X11"
          ],
          [
           "X16R"
          ],
          [
           "Quark"
          ],
          [
           "Quark"
          ],
          [
           "Scrypt"
          ],
          [
           "Lyra2REv2"
          ],
          [
           "Quark"
          ],
          [
           "Scrypt"
          ],
          [
           "Scrypt"
          ],
          [
           "CryptoNight-V7"
          ],
          [
           "Cryptonight-GPU"
          ],
          [
           "XEVAN"
          ],
          [
           "CryptoNight Heavy"
          ],
          [
           "X11"
          ],
          [
           "X11"
          ],
          [
           "Scrypt"
          ],
          [
           "PoS"
          ],
          [
           "SHA-256"
          ],
          [
           "Keccak"
          ],
          [
           "X11"
          ],
          [
           "X11"
          ],
          [
           "Scrypt"
          ],
          [
           "SHA-512"
          ],
          [
           "X16R"
          ],
          [
           "ECC 256K1"
          ],
          [
           "Equihash"
          ],
          [
           "XEVAN"
          ],
          [
           "Lyra2Z"
          ],
          [
           "SHA-256"
          ],
          [
           "XEVAN"
          ],
          [
           "X11"
          ],
          [
           "CryptoNight"
          ],
          [
           "Quark"
          ],
          [
           "Blake"
          ],
          [
           "Blake"
          ],
          [
           "Equihash"
          ],
          [
           "Exosis"
          ],
          [
           "Scrypt"
          ],
          [
           "Scrypt"
          ],
          [
           "Equihash"
          ],
          [
           "Quark"
          ],
          [
           "Equihash"
          ],
          [
           "Quark"
          ],
          [
           "Scrypt"
          ],
          [
           "QuBit"
          ],
          [
           "X11"
          ],
          [
           "Scrypt"
          ],
          [
           "XEVAN"
          ],
          [
           "SHA-256D"
          ],
          [
           "X11"
          ],
          [
           "SHA-256"
          ],
          [
           "X13"
          ],
          [
           "SHA-256"
          ],
          [
           "X11"
          ],
          [
           "DPoS"
          ],
          [
           "Scrypt"
          ],
          [
           "Scrypt"
          ],
          [
           "X11"
          ],
          [
           "NeoScrypt"
          ],
          [
           "Scrypt"
          ],
          [
           "Blake"
          ],
          [
           "Scrypt"
          ],
          [
           "SHA-256"
          ],
          [
           "Scrypt"
          ],
          [
           "X11"
          ],
          [
           "Scrypt"
          ],
          [
           "Scrypt"
          ],
          [
           "SHA-256"
          ],
          [
           "X11"
          ],
          [
           "SHA-256"
          ],
          [
           "Scrypt"
          ],
          [
           "Scrypt"
          ],
          [
           "Scrypt"
          ],
          [
           "Groestl"
          ],
          [
           "X11"
          ],
          [
           "Scrypt"
          ],
          [
           "PoS"
          ],
          [
           "Scrypt"
          ],
          [
           "Scrypt"
          ],
          [
           "X11"
          ],
          [
           "SHA-256"
          ],
          [
           "DPoS"
          ],
          [
           "Scrypt"
          ],
          [
           "Scrypt"
          ],
          [
           "NeoScrypt"
          ],
          [
           "SHA3-256"
          ],
          [
           "Multiple"
          ],
          [
           "X13"
          ],
          [
           "Equihash+Scrypt"
          ],
          [
           "DPoS"
          ],
          [
           "Ethash"
          ],
          [
           "DPoS"
          ],
          [
           "SHA-256"
          ],
          [
           "Leased POS"
          ],
          [
           "PoS"
          ],
          [
           "PoS"
          ],
          [
           "SHA-256"
          ],
          [
           "Scrypt"
          ],
          [
           "CryptoNight"
          ],
          [
           "Equihash"
          ],
          [
           "Scrypt"
          ]
         ],
         "hovertemplate": "<b>%{hovertext}</b><br><br>Class=%{marker.color}<br>PC 1=%{x}<br>PC 2=%{y}<br>PC 3=%{z}<br>Algorithm=%{customdata[0]}<extra></extra>",
         "hovertext": [
          "42 Coin",
          "404Coin",
          "EliteCoin",
          "Bitcoin",
          "Ethereum",
          "Litecoin",
          "Dash",
          "Monero",
          "Ethereum Classic",
          "ZCash",
          "Bitshares",
          "DigiByte",
          "BitcoinDark",
          "PayCoin",
          "ProsperCoin",
          "KoboCoin",
          "Spreadcoin",
          "Argentum",
          "Aurora Coin",
          "BlueCoin",
          "MyriadCoin",
          "MoonCoin",
          "ZetaCoin",
          "SexCoin",
          "Quatloo",
          "EnergyCoin",
          "QuarkCoin",
          "Riecoin",
          "Digitalcoin ",
          "BitBar",
          "Catcoin",
          "CryptoBullion",
          "CannaCoin",
          "CryptCoin",
          "CasinoCoin",
          "Diamond",
          "Verge",
          "DevCoin",
          "EarthCoin",
          "E-Gulden",
          "Einsteinium",
          "Emerald",
          "Exclusive Coin",
          "FlutterCoin",
          "Franko",
          "FeatherCoin",
          "GrandCoin",
          "GlobalCoin",
          "GoldCoin",
          "HoboNickels",
          "HyperStake",
          "Infinite Coin",
          "IOCoin",
          "IXcoin",
          "KrugerCoin",
          "LuckyCoin",
          "Litebar ",
          "MaxCoin",
          "MegaCoin",
          "MediterraneanCoin",
          "MintCoin",
          "MinCoin",
          "MazaCoin",
          "Nautilus Coin",
          "NavCoin",
          "NobleCoin",
          "Namecoin",
          "NyanCoin",
          "OpalCoin",
          "Orbitcoin",
          "PotCoin",
          "PhoenixCoin",
          "Reddcoin",
          "RonPaulCoin",
          "StableCoin",
          "SmartCoin",
          "SuperCoin",
          "SyncCoin",
          "SysCoin",
          "TeslaCoin",
          "TigerCoin",
          "TittieCoin",
          "TorCoin",
          "TerraCoin",
          "UnbreakableCoin",
          "Unobtanium",
          "UroCoin",
          "UnitaryStatus Dollar",
          "UltraCoin",
          "ViaCoin",
          "VeriCoin",
          "Vertcoin",
          "WorldCoin",
          "X11 Coin",
          "Crypti",
          "JouleCoin",
          "StealthCoin",
          "ZCC Coin",
          "ByteCoin",
          "DigitalNote ",
          "BurstCoin",
          "StorjCoin",
          "MonaCoin",
          "Neutron",
          "FairCoin",
          "Gulden",
          "RubyCoin",
          "PesetaCoin",
          "Kore",
          "Wild Beast Coin",
          "Dnotes",
          "Flo",
          "8BIT Coin",
          "Sativa Coin",
          "ArtByte",
          "Folding Coin",
          "Ucoin",
          "Unitus",
          "CypherPunkCoin",
          "OmniCron",
          "Vtorrent",
          "GreenCoin",
          "Cryptonite",
          "MasterCoin",
          "SoonCoin",
          "1Credit",
          "IslaCoin",
          "Nexus",
          "MarsCoin ",
          "Crypto",
          "Anarchists Prime",
          "Droidz",
          "BowsCoin",
          "Squall Coin",
          "Song Coin",
          "BitZeny",
          "Diggits",
          "Expanse",
          "Paycon",
          "Siacoin",
          "Emercoin",
          "EverGreenCoin",
          "MindCoin",
          "I0coin",
          "Decred",
          "Revolution VR",
          "HOdlcoin",
          "EDRCoin",
          "Hitcoin",
          "Gamecredits",
          "DubaiCoin",
          "CarpeDiemCoin",
          "PWR Coin",
          "BillaryCoin",
          "GPU Coin",
          "Adzcoin",
          "SoilCoin",
          "YoCoin",
          "SibCoin",
          "EuropeCoin",
          "ZeitCoin",
          "SwingCoin",
          "SafeExchangeCoin",
          "Nebuchadnezzar",
          "Francs",
          "BolivarCoin",
          "Ratecoin",
          "Revenu",
          "Clockcoin",
          "VIP Tokens",
          "BitSend",
          "Omni",
          "Let it Ride",
          "PutinCoin",
          "iBankCoin",
          "Frankywillcoin",
          "MudraCoin",
          "PizzaCoin",
          "Lutetium Coin",
          "Komodo",
          "GoldBlocks",
          "CarterCoin",
          "Karbo",
          "BitTokens",
          "ZayedCoin",
          "MustangCoin",
          "ZoneCoin",
          "Circuits of Value",
          "RootCoin",
          "DopeCoin",
          "BitCurrency",
          "DollarCoin",
          "Swiscoin",
          "Shilling",
          "BuzzCoin",
          "Opair",
          "PesoBit",
          "Halloween Coin",
          "ZCoin",
          "CoffeeCoin",
          "RoyalCoin",
          "GanjaCoin V2",
          "TeamUP",
          "LanaCoin",
          "Elementrem",
          "ZClassic",
          "ARK",
          "InsaneCoin",
          "KiloCoin",
          "ArtexCoin",
          "EmberCoin",
          "XenixCoin",
          "FreeCoin",
          "PLNCoin",
          "AquariusCoin",
          "Kurrent",
          "Creatio",
          "Eternity",
          "Eurocoin",
          "BitcoinFast",
          "Stakenet",
          "BitConnect Coin",
          "MoneyCoin",
          "Enigma",
          "Cannabis Industry Coin",
          "Russiacoin",
          "PandaCoin",
          "GameUnits",
          "GAKHcoin",
          "Allsafe",
          "LiteCreed",
          "OsmiumCoin",
          "Bikercoins",
          "HexxCoin",
          "Klingon Empire Darsek",
          "Internet of People",
          "KushCoin",
          "Printerium",
          "PacCoin",
          "Impeach",
          "Citadel",
          "Zilbercoin",
          "FirstCoin",
          "BeaverCoin",
          "FindCoin",
          "VaultCoin",
          "Zero",
          "OpenChat",
          "Canada eCoin",
          "Zoin",
          "RenosCoin",
          "DubaiCoin",
          "VirtacoinPlus",
          "TajCoin",
          "Impact",
          "EB3coin",
          "Atmos",
          "HappyCoin",
          "Coinonat",
          "MacronCoin",
          "Condensate",
          "Independent Money System",
          "ArgusCoin",
          "LomoCoin",
          "ProCurrency",
          "GoldReserve",
          "BenjiRolls",
          "GrowthCoin",
          "ILCoin",
          "Phreak",
          "Degas Coin",
          "HTML5 Coin",
          "Ultimate Secure Cash",
          "EquiTrader",
          "QTUM",
          "Quantum Resistant Ledger",
          "Espers",
          "Dynamic",
          "Nano",
          "ChanCoin",
          "Dinastycoin",
          "Denarius",
          "DigitalPrice",
          "Virta Unique Coin",
          "Bitcoin Planet",
          "Unify",
          "BritCoin",
          "SocialCoin",
          "ArcticCoin",
          "DAS",
          "Linda",
          "LeviarCoin",
          "DeepOnion",
          "Bitcore",
          "gCn Coin",
          "SmartCash",
          "Signatum",
          "Onix",
          "Cream",
          "Bitcoin Cash",
          "Monoeci",
          "Draftcoin",
          "Sojourn Coin",
          "Stakecoin",
          "NewYorkCoin",
          "FrazCoin",
          "Kronecoin",
          "AdCoin",
          "Linx",
          "CoinonatX",
          "Ethereum Dark",
          "Sumokoin",
          "Obsidian",
          "Cardano",
          "Regalcoin",
          "BitcoinZ",
          "TrezarCoin",
          "Elements",
          "TerraNovaCoin",
          "VIVO Coin",
          "Rupee",
          "Bitcoin Gold",
          "WomenCoin",
          "Theresa May Coin",
          "NamoCoin",
          "LUXCoin",
          "Pirl",
          "Xios",
          "Bitcloud 2.0",
          "eBoost",
          "KekCoin",
          "BlackholeCoin",
          "Infinity Economics",
          "Pura",
          "Innova",
          "Ellaism",
          "GoByte",
          "Magnet",
          "Lamden Tau",
          "Electra",
          "Bitcoin Diamond",
          "SHIELD",
          "Cash & Back Coin",
          "UltraNote",
          "BitCoal",
          "DaxxCoin",
          "Bulwark",
          "Kalkulus",
          "AC3",
          "Lethean",
          "GermanCoin",
          "LiteCoin Ultra",
          "PopularCoin",
          "PhantomX",
          "Photon",
          "Sucre",
          "SparksPay",
          "Digiwage",
          "GunCoin",
          "IrishCoin",
          "Trollcoin",
          "Litecoin Plus",
          "Monkey Project",
          "Pioneer Coin",
          "UnitedBitcoin",
          "Interzone",
          "TokenPay",
          "1717 Masonic Commemorative Token",
          "My Big Coin",
          "TurtleCoin",
          "MUNcoin",
          "Unified Society USDEX",
          "Niobio Cash",
          "ShareChain",
          "Travelflex",
          "KREDS",
          "Tokyo Coin",
          "BitFlip",
          "LottoCoin",
          "Crypto Improvement Fund",
          "Stipend",
          "Pushi",
          "Ellerium",
          "Velox",
          "Ontology",
          "Callisto Network",
          "BitTube",
          "Poseidon",
          "Aidos Kuneen",
          "Bitspace",
          "Briacoin",
          "Ignition",
          "Bitrolium",
          "MedicCoin",
          "Alpenschillling",
          "Bitcoin Green",
          "Deviant Coin",
          "Abjcoin",
          "Semux",
          "FuturoCoin",
          "Carebit",
          "Zealium",
          "Monero Classic",
          "Proton",
          "iDealCash",
          "Jumpcoin",
          "Infinex",
          "Bitcoin Incognito",
          "KEYCO",
          "HollyWoodCoin",
          "GINcoin",
          "PlatinCoin",
          "Loki",
          "Newton Coin",
          "Swisscoin",
          "Xt3ch",
          "MassGrid",
          "TheVig",
          "PluraCoin",
          "EmaratCoin",
          "Dekado",
          "Lynx",
          "Poseidon Quark",
          "BitcoinWSpectrum",
          "Muse",
          "Motion",
          "PlusOneCoin",
          "Axe",
          "Trivechain",
          "Dystem",
          "Giant",
          "Peony Coin",
          "Absolute Coin",
          "Vitae",
          "HexCoin",
          "TPCash",
          "Webchain",
          "Ryo",
          "Urals Coin",
          "Qwertycoin",
          "ARENON",
          "EUNO",
          "MMOCoin",
          "Ketan",
          "Project Pai",
          "XDNA",
          "PAXEX",
          "Azart",
          "ThunderStake",
          "Kcash",
          "Xchange",
          "Acute Angle Cloud",
          "CrypticCoin",
          "Bettex coin",
          "Actinium",
          "Bitcoin SV",
          "BitMoney",
          "Junson Ming Chan Coin",
          "FREDEnergy",
          "HerbCoin",
          "Universal Molecule",
          "Lithium",
          "PirateCash",
          "Exosis",
          "Block-Logic",
          "Oduwa",
          "Beam",
          "Galilel",
          "Bithereum",
          "Crypto Sports",
          "Credit",
          "SLICE",
          "Dash Platinum",
          "Nasdacoin",
          "Beetle Coin",
          "Titan Coin",
          "Award",
          "BLAST",
          "Bitcoin Rhodium",
          "GlobalToken",
          "Insane Coin",
          "ALAX",
          "LiteDoge",
          "SolarCoin",
          "TruckCoin",
          "UFO Coin",
          "OrangeCoin",
          "BlakeCoin",
          "BitstarCoin",
          "NeosCoin",
          "HyperCoin",
          "PinkCoin",
          "Crypto Escudo",
          "AudioCoin",
          "IncaKoin",
          "Piggy Coin",
          "Crown Coin",
          "Genstake",
          "SmileyCoin",
          "XiaoMiCoin",
          "Groestlcoin",
          "CapriCoin",
          " ClubCoin",
          "Radium",
          "Bata",
          "Pakcoin",
          "Creditbit ",
          "OKCash",
          "Lisk",
          "HiCoin",
          "WhiteCoin",
          "FriendshipCoin",
          "Fiii",
          "JoinCoin",
          "Triangles Coin",
          "Vollar",
          "EOS",
          "Reality Clash",
          "Oxycoin",
          "TigerCash",
          "Waves",
          "Particl",
          "Nxt",
          "ZEPHYR",
          "Gapcoin",
          "Beldex",
          "Horizen",
          "BitcoinPlus"
         ],
         "legendgroup": "0",
         "marker": {
          "color": [
           0,
           0,
           0,
           0,
           0,
           0,
           0,
           0,
           0,
           0,
           0,
           0,
           0,
           0,
           0,
           0,
           0,
           0,
           0,
           0,
           0,
           0,
           0,
           0,
           0,
           0,
           0,
           0,
           0,
           0,
           0,
           0,
           0,
           0,
           0,
           0,
           0,
           0,
           0,
           0,
           0,
           0,
           0,
           0,
           0,
           0,
           0,
           0,
           0,
           0,
           0,
           0,
           0,
           0,
           0,
           0,
           0,
           0,
           0,
           0,
           0,
           0,
           0,
           0,
           0,
           0,
           0,
           0,
           0,
           0,
           0,
           0,
           0,
           0,
           0,
           0,
           0,
           0,
           0,
           0,
           0,
           0,
           0,
           0,
           0,
           0,
           0,
           0,
           0,
           0,
           0,
           0,
           0,
           0,
           0,
           0,
           0,
           0,
           0,
           0,
           0,
           0,
           0,
           0,
           0,
           0,
           0,
           0,
           0,
           0,
           0,
           0,
           0,
           0,
           0,
           0,
           0,
           0,
           0,
           0,
           0,
           0,
           0,
           0,
           0,
           0,
           0,
           0,
           0,
           0,
           0,
           0,
           0,
           0,
           0,
           0,
           0,
           0,
           0,
           0,
           0,
           0,
           0,
           0,
           0,
           0,
           0,
           0,
           0,
           0,
           0,
           0,
           0,
           0,
           0,
           0,
           0,
           0,
           0,
           0,
           0,
           0,
           0,
           0,
           0,
           0,
           0,
           0,
           0,
           0,
           0,
           0,
           0,
           0,
           0,
           0,
           0,
           0,
           0,
           0,
           0,
           0,
           0,
           0,
           0,
           0,
           0,
           0,
           0,
           0,
           0,
           0,
           0,
           0,
           0,
           0,
           0,
           0,
           0,
           0,
           0,
           0,
           0,
           0,
           0,
           0,
           0,
           0,
           0,
           0,
           0,
           0,
           0,
           0,
           0,
           0,
           0,
           0,
           0,
           0,
           0,
           0,
           0,
           0,
           0,
           0,
           0,
           0,
           0,
           0,
           0,
           0,
           0,
           0,
           0,
           0,
           0,
           0,
           0,
           0,
           0,
           0,
           0,
           0,
           0,
           0,
           0,
           0,
           0,
           0,
           0,
           0,
           0,
           0,
           0,
           0,
           0,
           0,
           0,
           0,
           0,
           0,
           0,
           0,
           0,
           0,
           0,
           0,
           0,
           0,
           0,
           0,
           0,
           0,
           0,
           0,
           0,
           0,
           0,
           0,
           0,
           0,
           0,
           0,
           0,
           0,
           0,
           0,
           0,
           0,
           0,
           0,
           0,
           0,
           0,
           0,
           0,
           0,
           0,
           0,
           0,
           0,
           0,
           0,
           0,
           0,
           0,
           0,
           0,
           0,
           0,
           0,
           0,
           0,
           0,
           0,
           0,
           0,
           0,
           0,
           0,
           0,
           0,
           0,
           0,
           0,
           0,
           0,
           0,
           0,
           0,
           0,
           0,
           0,
           0,
           0,
           0,
           0,
           0,
           0,
           0,
           0,
           0,
           0,
           0,
           0,
           0,
           0,
           0,
           0,
           0,
           0,
           0,
           0,
           0,
           0,
           0,
           0,
           0,
           0,
           0,
           0,
           0,
           0,
           0,
           0,
           0,
           0,
           0,
           0,
           0,
           0,
           0,
           0,
           0,
           0,
           0,
           0,
           0,
           0,
           0,
           0,
           0,
           0,
           0,
           0,
           0,
           0,
           0,
           0,
           0,
           0,
           0,
           0,
           0,
           0,
           0,
           0,
           0,
           0,
           0,
           0,
           0,
           0,
           0,
           0,
           0,
           0,
           0,
           0,
           0,
           0,
           0,
           0,
           0,
           0,
           0,
           0,
           0,
           0,
           0,
           0,
           0,
           0,
           0,
           0,
           0,
           0,
           0,
           0,
           0,
           0,
           0,
           0,
           0,
           0,
           0,
           0,
           0,
           0,
           0,
           0,
           0,
           0,
           0,
           0,
           0,
           0,
           0,
           0,
           0,
           0,
           0,
           0,
           0,
           0,
           0,
           0,
           0,
           0,
           0,
           0,
           0,
           0,
           0,
           0,
           0,
           0,
           0,
           0,
           0,
           0,
           0,
           0,
           0,
           0,
           0,
           0,
           0,
           0,
           0,
           0,
           0,
           0,
           0,
           0,
           0,
           0,
           0,
           0,
           0,
           0,
           0,
           0,
           0,
           0,
           0,
           0,
           0,
           0,
           0,
           0,
           0,
           0,
           0,
           0,
           0,
           0,
           0,
           0,
           0,
           0,
           0,
           0,
           0,
           0,
           0,
           0,
           0,
           0,
           0,
           0,
           0,
           0,
           0,
           0,
           0,
           0
          ],
          "coloraxis": "coloraxis",
          "symbol": "circle"
         },
         "mode": "markers",
         "name": "0",
         "scene": "scene",
         "showlegend": true,
         "type": "scatter3d",
         "x": [
          -0.32015257062464286,
          -0.30093539294297256,
          0.5209865045105381,
          -0.2328677312941345,
          -0.020182366194786566,
          -0.3688373516154768,
          -0.30726480437754017,
          -0.12464243698038167,
          -0.1005199499970268,
          -0.29748384762351865,
          0.017303472584092986,
          -0.08156295678059226,
          -0.23901194618004976,
          0.01963192522985292,
          -0.29482913371000774,
          -0.2284323179907581,
          -0.27976475834285514,
          -0.3264805820617316,
          -0.31052524481701316,
          -0.14104902641565603,
          0.001216290651773105,
          -0.34336106519799126,
          -0.2287028347502669,
          -0.33750931659576333,
          -0.2957261298348669,
          -0.14677264744751942,
          -0.18072948401319172,
          -0.415490337812522,
          -0.33675690748879433,
          -0.3176222490252277,
          -0.3390443762795461,
          -0.2753417314148871,
          -0.33601841859284803,
          -0.3846789736577241,
          0.3226184953685801,
          -0.45511623182822947,
          -0.009833362938669802,
          0.008765600608139322,
          -0.12972505363116107,
          -0.3388914385160341,
          -0.3375527818889179,
          -0.33562495676635834,
          0.16786121983484698,
          -0.06697472553940415,
          -0.33371101091259936,
          -0.26724737841311097,
          -0.3214592062356072,
          -0.34192153343784065,
          -0.33612749901895617,
          -0.27870050621327624,
          0.005278402110602171,
          1.1517976367887595,
          -0.3071685140148833,
          -0.2328324064311609,
          -0.3331473646165859,
          -0.27315964260679915,
          -0.3416309727966636,
          -0.8250265710651594,
          -0.3204042648023513,
          -0.25266200601572886,
          0.23091721733976908,
          -0.2754120006303711,
          -0.19070123608456632,
          -0.08916246885272959,
          0.04840117428927916,
          -0.2986424801994992,
          -0.23290337566084124,
          -0.3316609858734494,
          0.04783222358482103,
          -0.31934999977717443,
          -0.3170939825041008,
          -0.31819297845943845,
          0.17933882421050396,
          -0.29488123727886184,
          -0.33867921536046003,
          -0.3293669078393335,
          -0.012906002355709873,
          -0.3322336568880291,
          -0.22493272906466533,
          -0.08606277477393588,
          -0.23880831481019837,
          0.6544712036685694,
          -0.26811578030081273,
          -0.258748675631136,
          -0.1501320897468881,
          -0.2248547752400831,
          -0.16850651678831813,
          -0.2913802356695708,
          -0.28138830453448643,
          -0.35120987143849486,
          -0.07685104182940262,
          -0.40544214845619575,
          -0.3335030593618717,
          -0.32999056798022913,
          0.047959832018070324,
          -0.29112448764053983,
          0.048032603077662,
          -0.15338297993093758,
          3.046405391275255,
          0.031255530620923865,
          -0.5725151982409015,
          0.14394452470033767,
          -0.34102632807532196,
          -0.2089943719179195,
          -0.19405543964046074,
          -0.32693047559370125,
          -0.006655006777153981,
          -0.33295364408785105,
          0.03881112600897842,
          -0.3396903511353555,
          -0.013336433720938014,
          -0.33111686724820205,
          -0.1481309931000189,
          -0.06572842059447698,
          -0.16004153971972845,
          -0.09215158141326073,
          -0.12481172210982477,
          -0.10747743228462679,
          -0.09229998533799921,
          -0.3343263617833128,
          -0.2593870623620239,
          -0.20633092788807186,
          -0.4921693342279545,
          -0.3362708357686914,
          -0.23292877621341718,
          -0.008126022553338096,
          -0.1546442553029982,
          -2.6157919162449104,
          -0.34839362067186336,
          -0.2562093143683114,
          -0.22954384680207207,
          -0.5024311238079475,
          -0.30123013042050095,
          -0.09371749521294565,
          -0.3410860742519417,
          -0.33810503004516124,
          -0.13964367479367082,
          -0.04469448516332724,
          -0.0579788421276079,
          0.26618264281656556,
          -0.0927295902200514,
          -0.2109155870464869,
          -0.34925026431233674,
          -0.2328334327410807,
          -0.1323815889255711,
          -0.24006128974643093,
          -0.13005048314524176,
          -0.23898534976630215,
          -0.15435906073775318,
          -0.3687614234623746,
          -0.2906520543536361,
          0.12810883569685869,
          0.005879153280460622,
          -0.30687109909929505,
          -0.08902928584105707,
          -0.37555141134629727,
          -0.29591265652786714,
          -0.33229560571691885,
          -0.2667972385228369,
          -0.3252064415039015,
          0.5186402645212008,
          -0.24861288882188007,
          -0.29747156648889206,
          0.05665188377801342,
          -0.27330213530185316,
          -0.2890698160327637,
          -0.32602157439695906,
          -0.21545800061418785,
          -0.213507227807867,
          -0.24142382181036687,
          -0.3367152882016258,
          -0.3401231879571094,
          0.12814975149730198,
          -0.048502776177999724,
          -0.31713604915828925,
          -0.28083237865958743,
          0.07238352598170518,
          -0.2892069539208554,
          -0.0936427375616398,
          -0.25369595457207006,
          -0.2603864633374466,
          -0.2834138841111769,
          -0.06345452899524143,
          -0.21920250668238953,
          -0.2303527890669139,
          -0.32892882063621554,
          -0.2810058897961328,
          -0.25852579230024886,
          -0.14812571981938386,
          -0.2772248871463616,
          -0.0050640887969229135,
          -0.23708998554131427,
          -1.019774319202257,
          -0.28490850423579556,
          0.13335186556392598,
          0.19532759550236475,
          -0.14777290319717384,
          -0.3252705950699069,
          -0.5394393786998165,
          0.20328613503368284,
          0.2586624249046757,
          -0.28499630378016055,
          0.19640408905721643,
          -0.17405447958386758,
          -0.04440588866453529,
          -0.29750361489939253,
          4.432633015644331,
          -0.2774827445635538,
          -0.2556405017737237,
          -0.16764377399720107,
          1.555901141865709,
          -0.33132398102699984,
          0.062457161457334605,
          -0.30829372039340674,
          -0.3069442602806273,
          -0.3501097778115612,
          0.05665188377801342,
          -0.23251221938556238,
          -0.1975524184312649,
          -0.328154809440288,
          -0.726774176242958,
          -0.3167530818255244,
          -0.316232756984813,
          -0.32705270950498927,
          -0.08294771909895358,
          -0.32028914344701104,
          0.46526506473651574,
          -0.31161301317157625,
          -0.3178189995564902,
          -0.008087811708950723,
          -0.15070441101383972,
          -0.3333770166856851,
          -0.07066911763846,
          -0.2616958866592661,
          -0.1562084025059403,
          -0.21918093926447643,
          -0.33141457340542996,
          -0.2593846381730909,
          -0.3391876783016701,
          -0.3208983646217235,
          -0.24906293195510018,
          -0.09014505245042413,
          -0.44822470868660397,
          -0.34204663439444316,
          0.26797859814882563,
          -0.1750693633694469,
          -0.3565011935637216,
          -0.1438651203510366,
          -0.33602038264916817,
          -0.26209271424512653,
          -0.10066825072771654,
          0.4724712987964268,
          -0.28831621809649166,
          0.5431481196649093,
          -0.37475684846259666,
          -0.3302894827286811,
          0.19542918644802884,
          -0.28822284390416847,
          -0.2933477366956079,
          0.07037597395048226,
          -0.16163076274648627,
          -0.3199523274232327,
          -0.3212264516267894,
          -0.15503060351115674,
          0.02093870267823511,
          -0.31680931225474185,
          -0.3361948261206528,
          0.0868997958876453,
          -0.21375495130829578,
          0.04489852406367026,
          -0.3080061120924321,
          0.4532246626081446,
          0.011532227246321216,
          -0.33528532832746977,
          -0.007372451162838298,
          -0.2841607079052757,
          0.2031875141315737,
          -0.09097062961093502,
          -0.31443316688842826,
          -0.24790859636196846,
          0.16070388234408917,
          -0.2200313653880715,
          -0.30192955890405754,
          -0.23745454613596817,
          -0.2899166512162676,
          -0.33887334503603705,
          -0.07512599027880403,
          -0.3362720568725313,
          -0.24614793968230236,
          -0.3505908462714871,
          -0.11198949646451443,
          -0.01902316157977289,
          0.042811069666610704,
          -0.26463312674820055,
          2.3446316906637774,
          -0.05602445414734428,
          0.5361144103192996,
          -0.3791702342533224,
          -0.2894639163946833,
          -0.23286696702940732,
          -0.3261308656392211,
          -0.08551322903083287,
          -0.33117727494742266,
          0.19512429293841402,
          1.43553110226185,
          -0.27326713372576933,
          -0.3693465902992574,
          -0.2954436253905788,
          -0.29543167463784886,
          -0.32092374372355437,
          -0.3177827105324085,
          0.01862592178559847,
          -0.02420333005896789,
          0.6234631274815775,
          -0.3330277191964405,
          -0.20723815898885284,
          -0.24869597611085673,
          -0.31266429245015886,
          -0.31407764493530926,
          -0.3410901220889796,
          -0.1743922871529546,
          -0.2973741554946303,
          0.48100768010248846,
          -0.21909560481913506,
          -0.26183730687292733,
          0.11592777400662395,
          -0.3659614184527076,
          -0.28101071884805023,
          -0.17258912425113385,
          -0.29469132909049023,
          -0.021741561312840142,
          -0.3143169930631336,
          0.16122654453942145,
          -0.33085250072468936,
          -0.35399945059571863,
          -0.048395396908386096,
          -0.3443843864050705,
          -0.3264697886565844,
          3.2220763508622405,
          0.19065054044621213,
          -0.03068780298516645,
          -0.26728545464742737,
          -0.2273086439985212,
          0.3331151970625034,
          0.014610002699761353,
          -0.11139352688974023,
          -0.04663658498863094,
          -0.0263994522420021,
          -0.3487986816569357,
          -0.24353146081718746,
          -0.15816433446571546,
          -0.2598805577818343,
          -0.273967598627113,
          -0.2600556841828639,
          0.3887369376705716,
          -0.3475269638203891,
          -0.2954886560743582,
          -0.04646491340881962,
          -0.16766864474751259,
          -0.3261088395725088,
          -0.3075080673805421,
          -0.3137592532521111,
          -0.14631057012130988,
          -0.3578875567009662,
          -0.23441234290083704,
          -0.38266772032424623,
          0.004838596172752644,
          0.2049512757164461,
          -0.2383925039028984,
          0.8945855400845496,
          -1.7183167159167418,
          -0.31421807462457163,
          -0.055464592299064704,
          -0.14612267294767453,
          -0.30555302326143624,
          -0.4033050014359139,
          0.27140096696229904,
          -0.3242071628997302,
          -0.10549870021387935,
          -0.1744883141667746,
          -0.3733224538554782,
          -0.275339291043967,
          -0.1939388212419923,
          -0.08890825763483647,
          0.15682272785871737,
          -0.040047412000665236,
          0.043934131894993345,
          -0.29484810327774796,
          -0.24009307734384447,
          -0.2123524919369354,
          -0.32241294591719966,
          -0.32053482979103537,
          -0.3445308033290735,
          -0.012301416752965491,
          -0.4812976280739869,
          -0.014858835347429258,
          0.19094671992213255,
          -0.27106350307519284,
          3.004987159285532,
          -0.30196684250013367,
          -0.1713711644598978,
          0.11794460905721776,
          0.019793250117881737,
          -0.31925519681200504,
          -0.28788900776452375,
          -0.25311816790089,
          -0.26103820880390316,
          -0.18785017835411283,
          -0.44472987921534307,
          -0.08900807030275984,
          -0.4589689863608233,
          0.02800558262612139,
          0.09389148477938672,
          0.6965847585781337,
          -0.15205266417515445,
          -0.09330233471552038,
          -0.6376622024970364,
          -0.19868438625756726,
          0.04929665674004255,
          -0.3554414408886893,
          -0.05864949774010259,
          1.4164034044812606,
          0.07221932125799194,
          0.011141117308666449,
          1.3684095450004043,
          -0.6326012876787186,
          -0.267487714850399,
          -0.30135156895005755,
          -0.606438811768957,
          -0.0480277820178761,
          -0.15855053488869758,
          -0.0861972993425058,
          -0.42074701819236,
          -0.04828375987236658,
          -0.33757023448893736,
          -0.15497582279661096,
          -0.2588922903241831,
          -0.11990253567762763,
          -0.21011974143403056,
          1.7861578138110603,
          -0.09647621469424032,
          -0.2602165820697964,
          -0.08506684497735753,
          0.08750098050521332,
          -0.28042803157514423,
          -0.29389861156105224,
          -0.14722423457310727,
          -0.289166313970935,
          -0.29288402344823955,
          -0.004143128152354742,
          -0.41666337814420257,
          0.6728120263731345,
          -0.28998889595991617,
          -0.08065928500571705,
          -0.4620425188407039,
          -0.23286700138044336,
          -0.49070743368099407,
          0.17878077906723433,
          0.04854308129282896,
          -0.12512384695139683,
          -0.12790292007344684,
          -0.12113158242721743,
          -0.16957822037314135,
          -0.2674695881086,
          -0.2931623839990967,
          -0.28086965214095266,
          -0.36110729992768426,
          -0.1552023567445969,
          -0.35389376760974567,
          0.07127678655221491,
          0.18757116906695745,
          -0.22602879255762376,
          -0.10735888562705878,
          -0.35545320191790736,
          -0.12213102719718705,
          -0.010898802363166211,
          -0.3259230391349821,
          -0.26420718090013273,
          0.01281671505361558,
          -0.38696385137325023,
          -0.2774220505016064,
          3.2314690723143404,
          -0.06892445442241998,
          -0.3396552502202999,
          -0.1519513530014106,
          -0.28896243334006144,
          -0.2646318207324384,
          -0.12460769522592577,
          -0.31580119937358136,
          -0.07797138817613943,
          -0.14803979965592948,
          -0.15811535955028208,
          -0.16017924045654425,
          -0.3063680261173179,
          0.08870984341907812,
          -0.15602876715540187,
          -0.2587480999514987,
          -0.2404628756012416,
          0.10359489687765662,
          -0.2455368468856846,
          -0.36778701290641813,
          -0.3272143296478215,
          -0.3178014874717017,
          0.19102452420585078,
          -0.33435043199662734,
          -0.3396612324567947,
          -0.8261018725980048,
          -0.24558492596120984,
          4.425644234170189,
          0.07038829197760242,
          -0.37227577313633015,
          -0.32087969820462575,
          0.6653583906133914,
          -0.27154198353761305,
          0.03912459387591665,
          -0.4411531856368423,
          3.2385873751857175,
          -0.04501818001183786,
          3.239725011801694,
          0.05914915841459899,
          -0.7074283274976496,
          0.2055298848766825,
          0.21769588873655676,
          2.333670521881865,
          -0.3249240903397858,
          0.02666123705260353,
          -0.2974848141304181,
          -0.1341632020427735
         ],
         "y": [
          -0.025333438599562677,
          -0.027282838964874725,
          -0.014439889967172211,
          -0.17554997129461555,
          -0.13836412844203905,
          -0.21597606300571373,
          0.07619650764091992,
          -0.3329762212759062,
          -0.13345968407121608,
          -0.27867559931177727,
          -0.2599344097851607,
          -0.26623695913480694,
          0.06201894560865228,
          -0.013113231536668603,
          -0.22005060417262182,
          0.1642677552674029,
          -0.1253531013414296,
          -0.23500677859958938,
          -0.02960233059679307,
          -0.04059882859215531,
          -0.21924987480158242,
          -0.2505454528987304,
          -0.1569310643479028,
          -0.23553627592200999,
          -0.16871692493977805,
          -0.04032575234699601,
          -0.15450108631044543,
          -0.14785541677142416,
          -0.2605227653345859,
          -0.0343200969046227,
          -0.2520345896234401,
          -0.03303888269938642,
          -0.2530614339560883,
          -0.27065195781873314,
          0.162356804078031,
          0.1253885147042201,
          -0.27160016860619685,
          -0.2247718082649628,
          -0.2606159852177519,
          -0.2520418863452128,
          -0.24826748905173696,
          -0.2514382651083155,
          0.0523182787501022,
          -0.07185815998179963,
          -0.25284967120586765,
          -0.20718067452697936,
          -0.2539934583496606,
          -0.2796104231337726,
          -0.2592834187817718,
          -0.03523685146098986,
          0.024566302382381302,
          -0.31941128734742774,
          0.07619191358926411,
          -0.17555165665793543,
          -0.2545799421323717,
          -0.18404626109339073,
          -0.25605959962797253,
          0.2278147116364128,
          -0.20367290098872753,
          -0.2997270113377812,
          -0.044577042643538727,
          -0.20229613318344059,
          0.06226565269715091,
          -0.024906662928942534,
          0.00039321976373126935,
          -0.25446971232133014,
          -0.1755482706876455,
          -0.24750117733889476,
          0.0004203646290513019,
          0.05821053900070736,
          -0.003643113035447023,
          -0.030411582023476394,
          -0.05588466089246897,
          -0.22004811829054408,
          -0.23548045958474684,
          -0.2473545421117434,
          0.025433887581413905,
          0.08003652868228708,
          -0.1660214920776033,
          -0.013894761934719774,
          -0.16022138562242655,
          -0.22382335132761175,
          0.005108555978490123,
          -0.15915767763869243,
          -0.12447608792873875,
          -0.16611511580079422,
          -0.13028556142404338,
          -0.030096669936990332,
          -0.02002622060551079,
          -0.23287388358431232,
          -0.07263736101301158,
          -0.15564470784806334,
          -0.25456297179402726,
          0.08013659842035863,
          -0.03416599900979767,
          -0.15187531018629427,
          0.0004108044434262927,
          -0.11015315407692547,
          -0.49536341454072286,
          -0.30839568961828917,
          0.7172958353269954,
          0.06356140028759863,
          -0.25100227279064297,
          0.06298535935633445,
          0.02782494218286849,
          -0.25299733932249163,
          -0.03324237695641425,
          -0.25352002155307896,
          0.0010990440163644757,
          -0.24703915682524913,
          -0.0178992988968214,
          -0.21461594500825026,
          -0.04026094513345979,
          -0.012894659730476004,
          -0.25921023923546616,
          -0.3171324054979315,
          0.03039723910749998,
          -0.18989323674414987,
          -0.19451288295979888,
          -0.24969322712485223,
          -0.0353285886917905,
          -0.2484044300456505,
          -0.3904222949028382,
          -0.2546088018692236,
          -0.17554705881713847,
          -0.25354291592713807,
          0.0184278322497561,
          0.7949484274519163,
          -0.12754750652947136,
          -0.6603673026015332,
          -0.15607242278577704,
          -0.6678313491154101,
          -0.1613671830208851,
          0.0405478472539105,
          -0.25182894798338756,
          -0.23550785419544099,
          -0.01302046951321727,
          -0.1303786656938128,
          0.05133734239656618,
          -0.1216298155039355,
          -0.06559011539040988,
          0.22876688524732605,
          -0.14172848982079472,
          -0.17555160769227937,
          0.027011833127054373,
          -0.18417817550843915,
          -0.04948911878558297,
          0.0620176766831314,
          0.06886813157548155,
          -0.21597968556821828,
          -0.005244929067762403,
          -0.17619622838709909,
          0.015891493796845284,
          -0.05494380602373149,
          -0.024031527150520184,
          -0.15727770549225362,
          -0.20216559145995966,
          -0.25499554413190145,
          -0.34429755333676154,
          0.0730291218418213,
          -0.05635465814353851,
          0.02401626377495941,
          0.18520783551674785,
          0.057248405531890284,
          -0.18403946271000524,
          -0.15008972459653872,
          0.08039496968454529,
          0.06176362453006977,
          0.06190550633350944,
          0.07843058149902551,
          0.07670946864654045,
          -0.2547774672656891,
          0.11846348320312028,
          -0.06918506427863494,
          -0.030078978374513624,
          -0.0200527440510113,
          -0.04056662796495505,
          -0.1500831816931318,
          0.0813170706080891,
          -0.30017965442107203,
          0.0693415247899561,
          0.0169336196220415,
          -0.26106462355738785,
          -0.026827176912890955,
          -0.16325284371902415,
          0.056356352502044814,
          -0.07133534895490663,
          -0.20012509262246672,
          -0.040261196723784615,
          -0.23706067573505393,
          -0.033318280288584315,
          -0.15429540481771592,
          0.09477604895142944,
          -0.1915788718589254,
          0.047642591303193926,
          0.1013862433284605,
          -0.040278029745727605,
          0.07875974429152381,
          -0.29089954186615913,
          0.10444718430625488,
          0.0032710007612032376,
          0.05983288504130017,
          0.10796233497773676,
          0.07378737097812327,
          -0.1322217160509478,
          -0.278674656207151,
          -0.16505550955447026,
          0.015819636929233622,
          -0.24605185058377982,
          -0.11530241871526818,
          -0.07232705425157687,
          0.07951678256134591,
          0.10321583803513022,
          -0.0317128558111433,
          -0.054940315474553233,
          -0.1469697879376911,
          0.057248405531890284,
          0.014873855258662243,
          0.009178091884161573,
          -0.0375163676329812,
          0.2780528476202063,
          -0.03250255785124108,
          -0.03455021961094463,
          0.022187362021276413,
          -0.2788154658355764,
          -0.006733469122321185,
          -0.052996844836896276,
          -0.024706368966808966,
          -0.029972311291606945,
          0.06312279253125137,
          -0.08355778238114484,
          -0.2520111065991782,
          -0.26754365093470917,
          -0.6660733970337972,
          -0.02485126419311267,
          -0.02682820590301256,
          0.07347250600796605,
          -0.035328704350812486,
          -0.1520603224463113,
          -0.027869785964202375,
          -0.5499909122996866,
          -9.745821567454128e-05,
          -0.11647922020888947,
          -0.25474632914600626,
          0.004646133093435467,
          -0.20011522872533474,
          -0.3734642160242746,
          -0.11060725495844126,
          -0.25500004167910084,
          -0.42168682191026996,
          -0.024481219236896824,
          -1.4746899981207948,
          0.03868233995963554,
          0.33841104731222404,
          0.008737022733085804,
          -0.2285626048561513,
          0.10130776004814807,
          0.038677885039630454,
          -0.1386722191256211,
          0.09391694220487008,
          0.033785465821823256,
          -0.01759856793511389,
          -0.025783174782584604,
          -0.11007454529793441,
          0.06087078694295786,
          0.038191133282069696,
          -0.25815362824026117,
          -0.06187673108195839,
          -0.16345930550818172,
          0.04971600937180393,
          -0.07721667138971043,
          0.21290619122800863,
          0.0716750658029387,
          -0.2523452665269459,
          0.07656444686980346,
          -0.3699489728959651,
          0.11522477772256687,
          -0.18469869422967322,
          -0.025748391221272333,
          -0.1952943021951561,
          -0.27719707996558174,
          0.007936726816138578,
          -0.11004292981910642,
          0.02629561183023491,
          0.06837931441943544,
          -0.25522444477800865,
          -0.002182118582846413,
          -0.24839280607170192,
          -0.13385034678571325,
          -0.15145674456255895,
          -0.01331489684774941,
          -0.273700187077824,
          0.003159881275775376,
          -0.23815860025905167,
          -0.36969731262424993,
          -0.5043888167195136,
          0.5583848655054471,
          -0.13482968993282193,
          0.0683577142602977,
          -0.17555000775799115,
          0.07689608342608906,
          -0.03060988542966602,
          -0.2172997226627486,
          0.1021383408381582,
          -0.2651928638440443,
          -0.184041132649178,
          -0.2159517670247441,
          -0.16873040333963318,
          -0.16873097351481847,
          -0.05148211363076855,
          -0.03545489508424204,
          -0.35299612586949736,
          -0.26064058136035434,
          1.1155620838258713,
          0.04181693458377914,
          -0.32067467136514705,
          0.04328493969520521,
          -0.1515012932867393,
          -0.03385466725965275,
          -0.12375091381639561,
          -0.037449154103156065,
          -0.27868083276705186,
          -0.06784115719196104,
          0.024458605946033368,
          0.0112259195675257,
          -0.09730860509015705,
          -0.2703471893379759,
          -0.0713351185589112,
          -0.021900401460466814,
          -0.16876629569654,
          -0.004773831339203237,
          -0.026161072525101515,
          0.05720453131664644,
          -0.07625596327604457,
          -0.15453207084043888,
          -0.1290315155970134,
          -0.16867360106770676,
          0.05193943897130873,
          -0.11830043734210748,
          0.03657764216661587,
          0.005238092618492786,
          -0.2539114546507875,
          -0.035411841624682444,
          -0.36692774058100286,
          -0.27212959618393073,
          -0.19555786687802162,
          0.06057298094486954,
          0.03810164397217899,
          -0.15301917859738445,
          -0.5611868407025109,
          -0.011111876886783303,
          -0.08915459254571872,
          -0.2522997507217814,
          0.06932574318439419,
          -0.047805610824550135,
          -0.14631129138896065,
          -0.17821885221153783,
          0.0382292602494241,
          -0.13187897327857825,
          -0.23502451458220563,
          -0.019303255013839712,
          -0.03272015979753471,
          -0.00561524542178332,
          -0.17417726151126528,
          -0.16202630496050865,
          -0.19984206371404767,
          0.03654860161543763,
          0.10103992598295872,
          -0.07186540836523414,
          -0.40304708604709966,
          0.059046549860323885,
          -0.025399582211044085,
          -0.30774111647065466,
          -0.2512769899330334,
          -0.1793598120314244,
          -0.13347131191251094,
          0.0033779884353776343,
          -0.16920870705692503,
          -0.26409994142301174,
          -0.1149758629704096,
          0.020049062507798227,
          -0.0013700457218814798,
          0.0771228228825679,
          -0.02340169917554941,
          -0.09403473206292258,
          -0.12741346120535257,
          -0.3175979147429069,
          -0.2200496991269695,
          -0.22076198443596426,
          0.0721721023077179,
          -0.0023325495253544754,
          -0.036501635665231555,
          -0.33823758642537893,
          -0.01794867996969749,
          -0.24570470582743023,
          -0.006836690413584262,
          0.10657821356090907,
          -0.04286465468814033,
          -0.09521286117002992,
          -0.1100411510038484,
          -0.02195851080849914,
          0.07230713584266762,
          -0.3495507919379564,
          -0.01510787127805284,
          -0.0322749461902624,
          -0.1585403264905613,
          -0.6598418955611428,
          0.07171435680567503,
          -0.48100888335981945,
          -0.02319815468755485,
          -0.2197550357933137,
          -0.3606827210108343,
          -0.3041636899179891,
          -0.381471345477798,
          -0.03961603843611206,
          -0.025825529975663217,
          -0.3655800783216555,
          0.03300982146110526,
          -0.31785376294478945,
          -0.06724041955098513,
          0.17439195067203028,
          -0.23525675572331722,
          0.07416345050544645,
          0.0643449468738085,
          -0.004789566798750114,
          -0.2244622386035383,
          -0.23631307380604347,
          -0.16136138914014359,
          -0.004339885164948111,
          0.00209533706958315,
          0.0678130526699274,
          -0.02356542248910421,
          0.1086558376177944,
          0.05339843306475781,
          -0.25249664143832196,
          -0.11007715890770205,
          -0.5602773924083332,
          0.04356268046526959,
          -0.06313935183951849,
          -0.43689522751208093,
          0.05858263110576767,
          0.06933341968683468,
          -0.026895298816041725,
          0.05722380402519619,
          -0.17827286290896321,
          0.057693132282802775,
          0.04571922906359586,
          -0.15008512064137203,
          -0.032326598094238664,
          -0.4352573177244265,
          -0.14320802454352877,
          -0.7295957575557694,
          -0.3737617444738185,
          0.13862443317426953,
          -0.23723817818818296,
          -0.1755500061190894,
          0.5261814591190975,
          0.016288434689578805,
          -0.35519395113350577,
          0.00017032205819343202,
          -0.3396984542134362,
          -0.33610585614703414,
          -0.12880433000200042,
          -0.2383820183476493,
          -0.1839216372016356,
          -0.07134184890784177,
          -0.3663356500166918,
          0.06911458683216017,
          -0.367945590331934,
          0.07885593911629492,
          -0.0496680511025453,
          -0.17425566317964822,
          0.0793627339535675,
          -0.06723985842758431,
          0.09599023751816853,
          -0.3117748106977252,
          0.055156151824736974,
          -0.19052103130633888,
          -0.22299360575070287,
          -0.2374586758661207,
          0.01581674119129977,
          -0.20391565567799816,
          -0.048002999662722215,
          -0.25349487283182354,
          0.018299352805536177,
          -0.18873404900074556,
          -0.08828672825754455,
          -0.33572248029861457,
          -0.024641046685406356,
          -0.019796925994526284,
          -0.04026529600909522,
          0.033617744531455516,
          -0.2592036694783219,
          -0.0691086141268491,
          0.03998802613388089,
          -0.051648895469411954,
          -0.15915770510459773,
          -0.01033666495786354,
          -0.17297528205292725,
          0.0013339304925733373,
          -0.15784445481157502,
          0.07887991605607109,
          -0.06587645938972518,
          0.10458463179243452,
          -0.18521725547190074,
          -0.2567791127131256,
          -0.5203896041247623,
          -0.032737974976378835,
          -0.16406014828803575,
          -0.03169256429945276,
          -0.07582244342695511,
          0.05989419590987517,
          -1.7815902583823828,
          -0.24699424877966186,
          0.008489540612583607,
          -0.22000150572612828,
          -0.13411248941813672,
          -0.12932497092551754,
          -0.1341667665153994,
          -0.059067867157603905,
          0.4312460827501361,
          0.1040738841143118,
          -0.07171518277548226,
          -0.13581381908011658,
          -0.08676195438743407,
          -0.35811696135043913,
          -0.27867555319934684,
          -0.026006122732430643
         ],
         "z": [
          -0.040072848662641075,
          -0.04581765420634371,
          -0.1223894648909499,
          -0.060588851076378444,
          -0.304816656505267,
          -0.10932094001977845,
          0.0384949145650043,
          -0.11331773859545266,
          -0.36082755876376105,
          -0.15453869971100856,
          0.7428447120281895,
          -0.18639046112337201,
          0.08291936949774972,
          0.09408101740136972,
          -0.13476719466576323,
          -0.08340414651668912,
          -0.084542198672979,
          -0.12108655327274437,
          -0.0423845243157488,
          -0.05647120653810221,
          -0.1366293913977887,
          -0.14497394097012742,
          0.008035266639350964,
          -0.14059741069585643,
          -0.09611455001547183,
          -0.0554902755519271,
          -0.13660301421619236,
          -0.039982139873239,
          -0.1483098491987218,
          -0.0405973373300145,
          -0.1481166596249248,
          -0.040952983880425835,
          -0.1533998352533738,
          -0.1547157055430692,
          0.31745205414967925,
          0.11156488254056686,
          -0.2477178285294284,
          -0.11302364037952375,
          -0.19454726043714543,
          -0.14814287054810624,
          -0.15192425657724293,
          -0.14916093351419146,
          0.03474503855439492,
          -0.06742227656567995,
          -0.15796050241326423,
          -0.17361881022493303,
          -0.14665494137651658,
          -0.16661375035350748,
          -0.15473564522680902,
          -0.03943373666593245,
          0.004928159797356547,
          -0.4197451701322497,
          0.03847841203978845,
          -0.06059490515516638,
          -0.1543220324873935,
          -0.11434984329401693,
          -0.14864781152123505,
          0.44982135736968426,
          -0.10299170906608177,
          -0.14138357167840346,
          -0.06241812367716641,
          -0.11521789544237579,
          0.10759945219449424,
          -0.007011435624878162,
          -0.043351514368066245,
          -0.15784136672788981,
          -0.06058274224010429,
          -0.1540399123549485,
          -0.04325400592498435,
          -0.07787108141998432,
          -0.03772872504106545,
          -0.04420900500802973,
          -0.11138021755116823,
          -0.13475826500307342,
          -0.1403969100088628,
          -0.15067617535126457,
          0.00804465645337937,
          0.0072109045888785715,
          0.0014735391321201066,
          -0.0032586374763893104,
          -0.0010990989795492906,
          -0.48859415117269794,
          -0.0127556952956881,
          -0.028760954304470277,
          -0.002423596567231787,
          -0.0003908229871239298,
          -0.09812682803301574,
          -0.03752811306346669,
          -0.023534801297109283,
          -0.05429633650269032,
          -0.06095762128851866,
          -0.013975702204692452,
          -0.1542610724770559,
          0.0033572623733519806,
          -0.035112473029509136,
          -0.0030925525754232747,
          -0.04328834755110324,
          -0.03653586813259786,
          -0.7158645682840051,
          -0.23140719443174576,
          1.310557627467424,
          0.019956402434050613,
          -0.15149975436060314,
          0.11781617118959012,
          0.01395646259631097,
          -0.15586289570943623,
          -0.021702298014800243,
          -0.1559904742104356,
          -0.034220924813059606,
          -0.1502035049612601,
          -0.014898303675524116,
          -0.130237873533459,
          -0.05525747828371964,
          -0.030528851922543093,
          -0.11043171193298051,
          -0.09385913485859593,
          0.021740252529294735,
          -0.1413119358027326,
          -0.08109164043533182,
          -0.14436573675328027,
          -0.04167322121755817,
          -0.20348592396278048,
          0.34872483091537687,
          -0.14801525040725105,
          -0.06057838901878694,
          -0.16784290580940653,
          -0.0254655757910098,
          1.8403501151885069,
          -0.08932172797510159,
          -0.30001871170457045,
          0.004601206779890073,
          -0.7551173936660932,
          -0.10499453256294716,
          -0.08823186345847873,
          -0.147940969572241,
          -0.14049531557492792,
          0.00997433807367268,
          -0.5380894828943865,
          -0.02667888694009625,
          -0.2505215268444775,
          0.037866646516590906,
          -0.09562985204655965,
          -0.10461971541832889,
          -0.0605947292631575,
          -0.18190480461941452,
          -0.18431859469738232,
          -0.9346074334653288,
          0.08291481132623192,
          -0.02125905092403962,
          -0.10933395280970526,
          0.0947381751091992,
          -0.06329888857631813,
          -0.027828163990777154,
          -0.030274055422158122,
          -0.00365605932145866,
          -0.07949462425688454,
          -0.07995338277257673,
          -0.1657509332850055,
          -0.1419136118715512,
          0.0005712734400512868,
          -0.11486627776156834,
          0.056654988079823214,
          0.4272218277342202,
          0.04832128634657027,
          -0.11432542247735147,
          -0.13304696528670362,
          0.00770284681292766,
          0.11177728124423568,
          0.1178480315553141,
          0.009439288268067185,
          0.008288066243574919,
          -0.14447876127404663,
          -0.16087933301755158,
          -0.049021260827160844,
          -0.03683850411188145,
          -0.023630077506639896,
          -0.018516568378741802,
          -0.13302346219258565,
          0.04571933459684633,
          -0.12670581539234418,
          -0.008902257837250275,
          -0.03718835710513919,
          -0.1387467948530742,
          0.01210616992383626,
          0.00019665825418978887,
          -0.0018916721674339205,
          -0.062099255477744815,
          -0.1399225293006731,
          -0.05525838203404573,
          -0.13702663336484347,
          -0.02197495421173993,
          0.00712151861802165,
          0.9739512415926456,
          -0.11619062174451093,
          -0.3784320029175294,
          0.08303381280978898,
          -0.055318848783195686,
          0.005797847117531528,
          -0.004601272029588949,
          0.08283553560994311,
          0.0020165847389073508,
          0.03924486027894473,
          0.08402509612466828,
          -0.31185669807893346,
          -0.5274238803940723,
          -0.15453531193720074,
          0.04301706480949757,
          -0.0137506224309079,
          -0.19503510433823706,
          -0.09261577566469273,
          -0.3093686304737517,
          0.00958262569738748,
          0.05125040342659837,
          -0.04925887226118639,
          -0.030261516843982726,
          -0.1051962257921748,
          0.04832128634657027,
          -0.11078620440184708,
          0.032526846613370575,
          -0.04642894804336505,
          -0.20959992881638567,
          -0.0390404033897349,
          -0.049563663670469,
          -0.018490481370011806,
          -0.1582830592002503,
          -0.029379906114499813,
          -0.1034706718045149,
          -0.03403930416160408,
          -0.03825584868351244,
          0.009951084340018143,
          0.0579482273641467,
          -0.15122993825562617,
          -0.1863557643100165,
          -0.30238720726133245,
          -0.04821423636923785,
          0.012102473636397722,
          0.013246367536172867,
          -0.04167363668217898,
          -0.11273271948245175,
          -0.03633072575391702,
          -0.11127020798977902,
          0.006330181667309264,
          -0.3068443619752351,
          -0.15332528057878786,
          0.005378942235114731,
          -0.07918055888711514,
          -0.19291331586288865,
          -0.038167066867107496,
          -0.15244596229084656,
          -0.20731072445630955,
          -0.003253720884997494,
          -1.149703995722455,
          0.00632816536359212,
          0.266314547878754,
          -0.1207324363808475,
          -0.16301379355339285,
          0.08220799904002021,
          0.006312162620215311,
          -0.05833646890769444,
          0.050748187378181174,
          -0.018609295859488124,
          -0.03354406449794244,
          -0.043317340374418915,
          -0.03625349356335383,
          0.15137105914434085,
          0.012220861191331832,
          -0.15580215083771168,
          -0.014425200981551126,
          0.0016232562167327355,
          0.0464812787911568,
          -0.022402005678636913,
          -0.2007781000333375,
          0.15480591776968272,
          -0.14489930045024824,
          -0.027331293292450855,
          -0.08052342366045855,
          -0.09115970926818054,
          -0.13704129899121067,
          -0.27013076872445224,
          -0.11299797548049768,
          -0.14711572514294627,
          0.004151841541112949,
          -0.06637574763539784,
          0.007321435132215538,
          0.040146638177611056,
          -0.14787517233747252,
          -0.031518533810704956,
          -0.15047855498104537,
          -0.18348628193824038,
          -0.10422200861453494,
          -0.080416305437602,
          -0.15805731086731703,
          -0.04216731209709704,
          -0.14707965627779673,
          -0.6374443072339085,
          -0.64889715404778,
          0.9600885234723576,
          -0.04917776378324847,
          0.04006904715393224,
          -0.060588982058313604,
          0.00389290467698404,
          -0.0014800900206297775,
          -0.13837403018784453,
          0.08058827990360719,
          -0.40170714769675236,
          -0.11433142115028147,
          -0.10923366519821154,
          -0.09616296645702026,
          -0.09616501461212963,
          -0.03239743007915561,
          -0.0456188535702528,
          -0.1718559340360699,
          0.7465711310165281,
          0.5870743578351626,
          -0.028098275533363234,
          -0.18102822999394505,
          -0.04783966751145102,
          -0.1135015777421369,
          -0.04385601120862523,
          -0.1395423175089683,
          0.08595192945609678,
          -0.15455749907028954,
          -0.1869151869200576,
          0.05058676358786969,
          -0.006443835762384624,
          -0.33798444991114296,
          -0.05901351027106014,
          -0.06209842786064127,
          -0.0424904148996998,
          -0.09629189720687834,
          0.0133564452971742,
          -0.0377946069882074,
          0.12546677089972597,
          -0.1169627602905965,
          -0.08622747992320366,
          -0.5244740222568383,
          -0.19663990536946005,
          0.0003549915007847248,
          -0.11401752077364252,
          -0.03804433215036916,
          -0.09957640648121241,
          -0.19010267904820877,
          -0.11146717325068702,
          -0.2192894608080019,
          -0.10989754453378378,
          -0.3723505339772754,
          0.09232233288135168,
          0.01363042369145887,
          -0.1049432418863874,
          -0.12114020947701085,
          -0.07250272605754937,
          -0.17222148575929364,
          -0.16708082718900474,
          -0.008958947740461085,
          -0.514517997068964,
          -0.10136129856001293,
          -0.14376731623284733,
          0.015998791179755813,
          -0.13040030617272194,
          -0.1211502635925796,
          -0.038438989244510696,
          -0.04463961198753466,
          0.0012936558432067855,
          -0.02447625470303457,
          0.000823752003545928,
          0.17501604955758737,
          -0.09389133559723778,
          -0.3786186925177951,
          -0.03967752764030351,
          -0.3298877648164244,
          -0.010885674504989304,
          -0.046203054713239565,
          -0.18800461907056915,
          -0.21380459156249962,
          -0.06007907312622822,
          0.015354683234039714,
          -0.004954497991621496,
          -0.09022392125334758,
          -0.18985315584612752,
          -0.09144273826388002,
          0.4498388655848881,
          -0.06036313565693352,
          -0.2750075635679979,
          -0.005752482026032539,
          0.046724031489077666,
          -0.5334899566961099,
          -0.13259266700881037,
          -0.13476394360551883,
          -0.22001479325583095,
          0.00801392415685956,
          -0.03168402240081701,
          -0.048283175225317165,
          -0.18639304372878726,
          -0.015075687923965788,
          -0.02485490948235619,
          -0.002738571047454755,
          0.0842158192529845,
          -0.043526411377350846,
          -0.1611796871653389,
          -0.06636935786317794,
          -0.042699152426606005,
          0.08603035842313374,
          -0.1699382232609186,
          0.1499845773461643,
          -0.0440341214588037,
          -0.08809171691593567,
          -0.29335034202569177,
          -0.2593239318997691,
          -0.2481741021670254,
          -0.00030436184152394385,
          0.013485177018108797,
          -0.1757509360785549,
          -0.49860318795155784,
          -0.2964936316948889,
          -0.07825460741902762,
          0.006893759613811697,
          -0.0025168925984054014,
          -0.14599003871790006,
          -0.13351171226973158,
          -0.0365797632148225,
          -0.013157068798250725,
          -0.3122472523913948,
          -2.1009299186010366e-05,
          0.15035736087174847,
          0.2822559615944006,
          0.10282446313278591,
          -0.1455442504036879,
          -0.10497372007101344,
          0.21337489206201576,
          -0.006793982029481667,
          -0.036001603152621374,
          -0.005314628833693884,
          0.1736537666633836,
          0.0317488030265749,
          -0.15173438907030265,
          -0.03626288204313668,
          -0.11617751820423158,
          -0.3332400515635768,
          -0.318384961599532,
          -0.9228217279340787,
          0.03609087533407941,
          -0.008931372587944315,
          -0.013853956975470344,
          -0.021261980933267716,
          0.016340883154531832,
          -0.31589855427728764,
          0.03994915716033333,
          -0.13303042718658709,
          -0.04575471878458193,
          0.7153418861986766,
          0.024826750223355936,
          -0.7162611799973415,
          -0.20660856711225925,
          -0.13951321610060377,
          -0.0436123349171479,
          -0.06058897617113205,
          -1.1753930177986895,
          -0.024807187246814487,
          -0.1780395885380783,
          -0.040201455563214146,
          0.21466456508156442,
          0.2044890357609336,
          -0.008550911716703826,
          -0.14140751036634053,
          -0.11199222490492287,
          -0.06212260428730178,
          -0.193524583858476,
          -0.033987576443499534,
          -0.20419815901429,
          0.008064186391000115,
          -0.12820306856299374,
          -0.049288157115993464,
          0.03965876021591296,
          -0.03657774757508572,
          -0.18298941345144581,
          -0.5415971649007248,
          -0.00753993489641338,
          -0.0469616809449319,
          -0.1432391913006078,
          0.001197228671976891,
          -0.013761024357539333,
          -0.10346467551068493,
          -0.08570024629483912,
          -0.1517653364467118,
          -0.02592709329813725,
          -0.1792096971274382,
          -0.06414786274310855,
          0.21033833703017746,
          -0.04051898832211142,
          0.04570331635849099,
          -0.05527310728405789,
          -0.01921177598611749,
          -0.11040811237619484,
          -0.06758890479490635,
          0.0583588873373244,
          -0.007406784862816907,
          -0.02876105296613771,
          -0.045457540540926544,
          -0.19240079940744267,
          -0.03926793591103112,
          -0.025850312297626084,
          0.008178854771173081,
          -0.05748289509767355,
          0.07856702908011931,
          -0.12095242407174939,
          -0.1581370193149336,
          0.6052132032179537,
          0.051697538826947824,
          0.050108729962503394,
          -0.024092499165332397,
          -0.01823721765111502,
          -0.07668566205811245,
          -1.6809599087009721,
          -0.19107228919239583,
          -0.04148531678169124,
          0.0444343780322308,
          -0.12250614038731872,
          -0.5322556246269176,
          -0.12270111189249133,
          0.06963897082131557,
          0.19023889149384368,
          0.07278252979803458,
          0.05024933026458792,
          -0.16450421948735136,
          -0.06771729640482148,
          -0.1715689652355314,
          -0.1545385340682169,
          -0.007346824565475978
         ]
        },
        {
         "customdata": [
          [
           "VeChainThor Authority"
          ],
          [
           "SHA-256 + Hive"
          ],
          [
           "Proof-of-Authority"
          ]
         ],
         "hovertemplate": "<b>%{hovertext}</b><br><br>Class=%{marker.color}<br>PC 1=%{x}<br>PC 2=%{y}<br>PC 3=%{z}<br>Algorithm=%{customdata[0]}<extra></extra>",
         "hovertext": [
          "Vechain",
          "LitecoinCash",
          "Poa Network"
         ],
         "legendgroup": "3",
         "marker": {
          "color": [
           3,
           3,
           3
          ],
          "coloraxis": "coloraxis",
          "symbol": "diamond"
         },
         "mode": "markers",
         "name": "3",
         "scene": "scene",
         "showlegend": true,
         "type": "scatter3d",
         "x": [
          11.55398823310069,
          5.509773073185056,
          -0.19699687211232048
         ],
         "y": [
          2.76322463712473,
          2.930645754879283,
          15.241619349175046
         ],
         "z": [
          15.27429552418012,
          15.630409276556799,
          28.55421780258444
         ]
        },
        {
         "customdata": [
          [
           "Proof-of-BibleHash"
          ]
         ],
         "hovertemplate": "<b>%{hovertext}</b><br><br>Class=%{marker.color}<br>PC 1=%{x}<br>PC 2=%{y}<br>PC 3=%{z}<br>Algorithm=%{customdata[0]}<extra></extra>",
         "hovertext": [
          "BiblePay"
         ],
         "legendgroup": "1",
         "marker": {
          "color": [
           1
          ],
          "coloraxis": "coloraxis",
          "symbol": "square"
         },
         "mode": "markers",
         "name": "1",
         "scene": "scene",
         "showlegend": true,
         "type": "scatter3d",
         "x": [
          0.5034049580508371
         ],
         "y": [
          36.3609223740452
         ],
         "z": [
          -15.179880500700218
         ]
        },
        {
         "customdata": [
          [
           "TRC10"
          ]
         ],
         "hovertemplate": "<b>%{hovertext}</b><br><br>Class=%{marker.color}<br>PC 1=%{x}<br>PC 2=%{y}<br>PC 3=%{z}<br>Algorithm=%{customdata[0]}<extra></extra>",
         "hovertext": [
          "BitTorrent"
         ],
         "legendgroup": "2",
         "marker": {
          "color": [
           2
          ],
          "coloraxis": "coloraxis",
          "symbol": "x"
         },
         "mode": "markers",
         "name": "2",
         "scene": "scene",
         "showlegend": true,
         "type": "scatter3d",
         "x": [
          36.60173721217358
         ],
         "y": [
          -1.726117831797323
         ],
         "z": [
          -6.511536626634953
         ]
        }
       ],
       "layout": {
        "autosize": true,
        "coloraxis": {
         "colorbar": {
          "title": {
           "text": "Class"
          }
         },
         "colorscale": [
          [
           0,
           "#0d0887"
          ],
          [
           0.1111111111111111,
           "#46039f"
          ],
          [
           0.2222222222222222,
           "#7201a8"
          ],
          [
           0.3333333333333333,
           "#9c179e"
          ],
          [
           0.4444444444444444,
           "#bd3786"
          ],
          [
           0.5555555555555556,
           "#d8576b"
          ],
          [
           0.6666666666666666,
           "#ed7953"
          ],
          [
           0.7777777777777778,
           "#fb9f3a"
          ],
          [
           0.8888888888888888,
           "#fdca26"
          ],
          [
           1,
           "#f0f921"
          ]
         ]
        },
        "legend": {
         "title": {
          "text": "Class"
         },
         "tracegroupgap": 0,
         "x": 0,
         "y": 1
        },
        "scene": {
         "aspectmode": "auto",
         "aspectratio": {
          "x": 0.9732931347067666,
          "y": 0.9466135809842889,
          "z": 1.0853844843665281
         },
         "domain": {
          "x": [
           0,
           1
          ],
          "y": [
           0,
           1
          ]
         },
         "xaxis": {
          "title": {
           "text": "PC 1"
          },
          "type": "linear"
         },
         "yaxis": {
          "title": {
           "text": "PC 2"
          },
          "type": "linear"
         },
         "zaxis": {
          "title": {
           "text": "PC 3"
          },
          "type": "linear"
         }
        },
        "template": {
         "data": {
          "bar": [
           {
            "error_x": {
             "color": "#2a3f5f"
            },
            "error_y": {
             "color": "#2a3f5f"
            },
            "marker": {
             "line": {
              "color": "#E5ECF6",
              "width": 0.5
             },
             "pattern": {
              "fillmode": "overlay",
              "size": 10,
              "solidity": 0.2
             }
            },
            "type": "bar"
           }
          ],
          "barpolar": [
           {
            "marker": {
             "line": {
              "color": "#E5ECF6",
              "width": 0.5
             },
             "pattern": {
              "fillmode": "overlay",
              "size": 10,
              "solidity": 0.2
             }
            },
            "type": "barpolar"
           }
          ],
          "carpet": [
           {
            "aaxis": {
             "endlinecolor": "#2a3f5f",
             "gridcolor": "white",
             "linecolor": "white",
             "minorgridcolor": "white",
             "startlinecolor": "#2a3f5f"
            },
            "baxis": {
             "endlinecolor": "#2a3f5f",
             "gridcolor": "white",
             "linecolor": "white",
             "minorgridcolor": "white",
             "startlinecolor": "#2a3f5f"
            },
            "type": "carpet"
           }
          ],
          "choropleth": [
           {
            "colorbar": {
             "outlinewidth": 0,
             "ticks": ""
            },
            "type": "choropleth"
           }
          ],
          "contour": [
           {
            "colorbar": {
             "outlinewidth": 0,
             "ticks": ""
            },
            "colorscale": [
             [
              0,
              "#0d0887"
             ],
             [
              0.1111111111111111,
              "#46039f"
             ],
             [
              0.2222222222222222,
              "#7201a8"
             ],
             [
              0.3333333333333333,
              "#9c179e"
             ],
             [
              0.4444444444444444,
              "#bd3786"
             ],
             [
              0.5555555555555556,
              "#d8576b"
             ],
             [
              0.6666666666666666,
              "#ed7953"
             ],
             [
              0.7777777777777778,
              "#fb9f3a"
             ],
             [
              0.8888888888888888,
              "#fdca26"
             ],
             [
              1,
              "#f0f921"
             ]
            ],
            "type": "contour"
           }
          ],
          "contourcarpet": [
           {
            "colorbar": {
             "outlinewidth": 0,
             "ticks": ""
            },
            "type": "contourcarpet"
           }
          ],
          "heatmap": [
           {
            "colorbar": {
             "outlinewidth": 0,
             "ticks": ""
            },
            "colorscale": [
             [
              0,
              "#0d0887"
             ],
             [
              0.1111111111111111,
              "#46039f"
             ],
             [
              0.2222222222222222,
              "#7201a8"
             ],
             [
              0.3333333333333333,
              "#9c179e"
             ],
             [
              0.4444444444444444,
              "#bd3786"
             ],
             [
              0.5555555555555556,
              "#d8576b"
             ],
             [
              0.6666666666666666,
              "#ed7953"
             ],
             [
              0.7777777777777778,
              "#fb9f3a"
             ],
             [
              0.8888888888888888,
              "#fdca26"
             ],
             [
              1,
              "#f0f921"
             ]
            ],
            "type": "heatmap"
           }
          ],
          "heatmapgl": [
           {
            "colorbar": {
             "outlinewidth": 0,
             "ticks": ""
            },
            "colorscale": [
             [
              0,
              "#0d0887"
             ],
             [
              0.1111111111111111,
              "#46039f"
             ],
             [
              0.2222222222222222,
              "#7201a8"
             ],
             [
              0.3333333333333333,
              "#9c179e"
             ],
             [
              0.4444444444444444,
              "#bd3786"
             ],
             [
              0.5555555555555556,
              "#d8576b"
             ],
             [
              0.6666666666666666,
              "#ed7953"
             ],
             [
              0.7777777777777778,
              "#fb9f3a"
             ],
             [
              0.8888888888888888,
              "#fdca26"
             ],
             [
              1,
              "#f0f921"
             ]
            ],
            "type": "heatmapgl"
           }
          ],
          "histogram": [
           {
            "marker": {
             "pattern": {
              "fillmode": "overlay",
              "size": 10,
              "solidity": 0.2
             }
            },
            "type": "histogram"
           }
          ],
          "histogram2d": [
           {
            "colorbar": {
             "outlinewidth": 0,
             "ticks": ""
            },
            "colorscale": [
             [
              0,
              "#0d0887"
             ],
             [
              0.1111111111111111,
              "#46039f"
             ],
             [
              0.2222222222222222,
              "#7201a8"
             ],
             [
              0.3333333333333333,
              "#9c179e"
             ],
             [
              0.4444444444444444,
              "#bd3786"
             ],
             [
              0.5555555555555556,
              "#d8576b"
             ],
             [
              0.6666666666666666,
              "#ed7953"
             ],
             [
              0.7777777777777778,
              "#fb9f3a"
             ],
             [
              0.8888888888888888,
              "#fdca26"
             ],
             [
              1,
              "#f0f921"
             ]
            ],
            "type": "histogram2d"
           }
          ],
          "histogram2dcontour": [
           {
            "colorbar": {
             "outlinewidth": 0,
             "ticks": ""
            },
            "colorscale": [
             [
              0,
              "#0d0887"
             ],
             [
              0.1111111111111111,
              "#46039f"
             ],
             [
              0.2222222222222222,
              "#7201a8"
             ],
             [
              0.3333333333333333,
              "#9c179e"
             ],
             [
              0.4444444444444444,
              "#bd3786"
             ],
             [
              0.5555555555555556,
              "#d8576b"
             ],
             [
              0.6666666666666666,
              "#ed7953"
             ],
             [
              0.7777777777777778,
              "#fb9f3a"
             ],
             [
              0.8888888888888888,
              "#fdca26"
             ],
             [
              1,
              "#f0f921"
             ]
            ],
            "type": "histogram2dcontour"
           }
          ],
          "mesh3d": [
           {
            "colorbar": {
             "outlinewidth": 0,
             "ticks": ""
            },
            "type": "mesh3d"
           }
          ],
          "parcoords": [
           {
            "line": {
             "colorbar": {
              "outlinewidth": 0,
              "ticks": ""
             }
            },
            "type": "parcoords"
           }
          ],
          "pie": [
           {
            "automargin": true,
            "type": "pie"
           }
          ],
          "scatter": [
           {
            "marker": {
             "colorbar": {
              "outlinewidth": 0,
              "ticks": ""
             }
            },
            "type": "scatter"
           }
          ],
          "scatter3d": [
           {
            "line": {
             "colorbar": {
              "outlinewidth": 0,
              "ticks": ""
             }
            },
            "marker": {
             "colorbar": {
              "outlinewidth": 0,
              "ticks": ""
             }
            },
            "type": "scatter3d"
           }
          ],
          "scattercarpet": [
           {
            "marker": {
             "colorbar": {
              "outlinewidth": 0,
              "ticks": ""
             }
            },
            "type": "scattercarpet"
           }
          ],
          "scattergeo": [
           {
            "marker": {
             "colorbar": {
              "outlinewidth": 0,
              "ticks": ""
             }
            },
            "type": "scattergeo"
           }
          ],
          "scattergl": [
           {
            "marker": {
             "colorbar": {
              "outlinewidth": 0,
              "ticks": ""
             }
            },
            "type": "scattergl"
           }
          ],
          "scattermapbox": [
           {
            "marker": {
             "colorbar": {
              "outlinewidth": 0,
              "ticks": ""
             }
            },
            "type": "scattermapbox"
           }
          ],
          "scatterpolar": [
           {
            "marker": {
             "colorbar": {
              "outlinewidth": 0,
              "ticks": ""
             }
            },
            "type": "scatterpolar"
           }
          ],
          "scatterpolargl": [
           {
            "marker": {
             "colorbar": {
              "outlinewidth": 0,
              "ticks": ""
             }
            },
            "type": "scatterpolargl"
           }
          ],
          "scatterternary": [
           {
            "marker": {
             "colorbar": {
              "outlinewidth": 0,
              "ticks": ""
             }
            },
            "type": "scatterternary"
           }
          ],
          "surface": [
           {
            "colorbar": {
             "outlinewidth": 0,
             "ticks": ""
            },
            "colorscale": [
             [
              0,
              "#0d0887"
             ],
             [
              0.1111111111111111,
              "#46039f"
             ],
             [
              0.2222222222222222,
              "#7201a8"
             ],
             [
              0.3333333333333333,
              "#9c179e"
             ],
             [
              0.4444444444444444,
              "#bd3786"
             ],
             [
              0.5555555555555556,
              "#d8576b"
             ],
             [
              0.6666666666666666,
              "#ed7953"
             ],
             [
              0.7777777777777778,
              "#fb9f3a"
             ],
             [
              0.8888888888888888,
              "#fdca26"
             ],
             [
              1,
              "#f0f921"
             ]
            ],
            "type": "surface"
           }
          ],
          "table": [
           {
            "cells": {
             "fill": {
              "color": "#EBF0F8"
             },
             "line": {
              "color": "white"
             }
            },
            "header": {
             "fill": {
              "color": "#C8D4E3"
             },
             "line": {
              "color": "white"
             }
            },
            "type": "table"
           }
          ]
         },
         "layout": {
          "annotationdefaults": {
           "arrowcolor": "#2a3f5f",
           "arrowhead": 0,
           "arrowwidth": 1
          },
          "autotypenumbers": "strict",
          "coloraxis": {
           "colorbar": {
            "outlinewidth": 0,
            "ticks": ""
           }
          },
          "colorscale": {
           "diverging": [
            [
             0,
             "#8e0152"
            ],
            [
             0.1,
             "#c51b7d"
            ],
            [
             0.2,
             "#de77ae"
            ],
            [
             0.3,
             "#f1b6da"
            ],
            [
             0.4,
             "#fde0ef"
            ],
            [
             0.5,
             "#f7f7f7"
            ],
            [
             0.6,
             "#e6f5d0"
            ],
            [
             0.7,
             "#b8e186"
            ],
            [
             0.8,
             "#7fbc41"
            ],
            [
             0.9,
             "#4d9221"
            ],
            [
             1,
             "#276419"
            ]
           ],
           "sequential": [
            [
             0,
             "#0d0887"
            ],
            [
             0.1111111111111111,
             "#46039f"
            ],
            [
             0.2222222222222222,
             "#7201a8"
            ],
            [
             0.3333333333333333,
             "#9c179e"
            ],
            [
             0.4444444444444444,
             "#bd3786"
            ],
            [
             0.5555555555555556,
             "#d8576b"
            ],
            [
             0.6666666666666666,
             "#ed7953"
            ],
            [
             0.7777777777777778,
             "#fb9f3a"
            ],
            [
             0.8888888888888888,
             "#fdca26"
            ],
            [
             1,
             "#f0f921"
            ]
           ],
           "sequentialminus": [
            [
             0,
             "#0d0887"
            ],
            [
             0.1111111111111111,
             "#46039f"
            ],
            [
             0.2222222222222222,
             "#7201a8"
            ],
            [
             0.3333333333333333,
             "#9c179e"
            ],
            [
             0.4444444444444444,
             "#bd3786"
            ],
            [
             0.5555555555555556,
             "#d8576b"
            ],
            [
             0.6666666666666666,
             "#ed7953"
            ],
            [
             0.7777777777777778,
             "#fb9f3a"
            ],
            [
             0.8888888888888888,
             "#fdca26"
            ],
            [
             1,
             "#f0f921"
            ]
           ]
          },
          "colorway": [
           "#636efa",
           "#EF553B",
           "#00cc96",
           "#ab63fa",
           "#FFA15A",
           "#19d3f3",
           "#FF6692",
           "#B6E880",
           "#FF97FF",
           "#FECB52"
          ],
          "font": {
           "color": "#2a3f5f"
          },
          "geo": {
           "bgcolor": "white",
           "lakecolor": "white",
           "landcolor": "#E5ECF6",
           "showlakes": true,
           "showland": true,
           "subunitcolor": "white"
          },
          "hoverlabel": {
           "align": "left"
          },
          "hovermode": "closest",
          "mapbox": {
           "style": "light"
          },
          "paper_bgcolor": "white",
          "plot_bgcolor": "#E5ECF6",
          "polar": {
           "angularaxis": {
            "gridcolor": "white",
            "linecolor": "white",
            "ticks": ""
           },
           "bgcolor": "#E5ECF6",
           "radialaxis": {
            "gridcolor": "white",
            "linecolor": "white",
            "ticks": ""
           }
          },
          "scene": {
           "xaxis": {
            "backgroundcolor": "#E5ECF6",
            "gridcolor": "white",
            "gridwidth": 2,
            "linecolor": "white",
            "showbackground": true,
            "ticks": "",
            "zerolinecolor": "white"
           },
           "yaxis": {
            "backgroundcolor": "#E5ECF6",
            "gridcolor": "white",
            "gridwidth": 2,
            "linecolor": "white",
            "showbackground": true,
            "ticks": "",
            "zerolinecolor": "white"
           },
           "zaxis": {
            "backgroundcolor": "#E5ECF6",
            "gridcolor": "white",
            "gridwidth": 2,
            "linecolor": "white",
            "showbackground": true,
            "ticks": "",
            "zerolinecolor": "white"
           }
          },
          "shapedefaults": {
           "line": {
            "color": "#2a3f5f"
           }
          },
          "ternary": {
           "aaxis": {
            "gridcolor": "white",
            "linecolor": "white",
            "ticks": ""
           },
           "baxis": {
            "gridcolor": "white",
            "linecolor": "white",
            "ticks": ""
           },
           "bgcolor": "#E5ECF6",
           "caxis": {
            "gridcolor": "white",
            "linecolor": "white",
            "ticks": ""
           }
          },
          "title": {
           "x": 0.05
          },
          "xaxis": {
           "automargin": true,
           "gridcolor": "white",
           "linecolor": "white",
           "ticks": "",
           "title": {
            "standoff": 15
           },
           "zerolinecolor": "white",
           "zerolinewidth": 2
          },
          "yaxis": {
           "automargin": true,
           "gridcolor": "white",
           "linecolor": "white",
           "ticks": "",
           "title": {
            "standoff": 15
           },
           "zerolinecolor": "white",
           "zerolinewidth": 2
          }
         }
        },
        "title": {
         "text": "Scatter Diagram"
        }
       }
      },
      "image/png": "[encoded data removed]",
      "text/html": [
       "<div>                            <div id=\"467b6059-3943-4608-9a6e-a68844ca9123\" class=\"plotly-graph-div\" style=\"height:525px; width:1000px;\"></div>            <script type=\"text/javascript\">                require([\"plotly\"], function(Plotly) {                    window.PLOTLYENV=window.PLOTLYENV || {};                                    if (document.getElementById(\"467b6059-3943-4608-9a6e-a68844ca9123\")) {                    Plotly.newPlot(                        \"467b6059-3943-4608-9a6e-a68844ca9123\",                        [{\"customdata\":[[\"Scrypt\"],[\"Scrypt\"],[\"X13\"],[\"SHA-256\"],[\"Ethash\"],[\"Scrypt\"],[\"X11\"],[\"CryptoNight-V7\"],[\"Ethash\"],[\"Equihash\"],[\"SHA-512\"],[\"Multiple\"],[\"SHA-256\"],[\"SHA-256\"],[\"Scrypt\"],[\"X15\"],[\"X11\"],[\"Scrypt\"],[\"Scrypt\"],[\"Scrypt\"],[\"Multiple\"],[\"Scrypt\"],[\"SHA-256\"],[\"Scrypt\"],[\"Scrypt\"],[\"Scrypt\"],[\"Quark\"],[\"Groestl\"],[\"Scrypt\"],[\"Scrypt\"],[\"Scrypt\"],[\"Scrypt\"],[\"Scrypt\"],[\"X11\"],[\"Scrypt\"],[\"Groestl\"],[\"Multiple\"],[\"SHA-256\"],[\"Scrypt\"],[\"Scrypt\"],[\"Scrypt\"],[\"Scrypt\"],[\"PoS\"],[\"Scrypt\"],[\"Scrypt\"],[\"NeoScrypt\"],[\"Scrypt\"],[\"Scrypt\"],[\"Scrypt\"],[\"Scrypt\"],[\"X11\"],[\"Scrypt\"],[\"X11\"],[\"SHA-256\"],[\"Scrypt\"],[\"Scrypt\"],[\"Scrypt\"],[\"SHA3\"],[\"Scrypt\"],[\"HybridScryptHash256\"],[\"Scrypt\"],[\"Scrypt\"],[\"SHA-256\"],[\"Scrypt\"],[\"X13\"],[\"Scrypt\"],[\"SHA-256\"],[\"Scrypt\"],[\"X13\"],[\"NeoScrypt\"],[\"Scrypt\"],[\"Scrypt\"],[\"Scrypt\"],[\"Scrypt\"],[\"Scrypt\"],[\"Scrypt\"],[\"X11\"],[\"X11\"],[\"SHA-256\"],[\"Multiple\"],[\"SHA-256\"],[\"PHI1612\"],[\"X11\"],[\"SHA-256\"],[\"SHA-256\"],[\"SHA-256\"],[\"X11\"],[\"Scrypt\"],[\"Scrypt\"],[\"Scrypt\"],[\"Scrypt\"],[\"Lyra2REv2\"],[\"Scrypt\"],[\"X11\"],[\"Multiple\"],[\"SHA-256\"],[\"X13\"],[\"Scrypt\"],[\"CryptoNight\"],[\"CryptoNight\"],[\"Shabal256\"],[\"Counterparty\"],[\"Scrypt\"],[\"SHA-256\"],[\"Groestl\"],[\"Scrypt\"],[\"Scrypt\"],[\"Scrypt\"],[\"X13\"],[\"Scrypt\"],[\"Scrypt\"],[\"Scrypt\"],[\"Scrypt\"],[\"X13\"],[\"Scrypt\"],[\"Stanford Folding\"],[\"X11\"],[\"Multiple\"],[\"QuBit\"],[\"Scrypt\"],[\"Scrypt\"],[\"Scrypt\"],[\"M7 POW\"],[\"Scrypt\"],[\"SHA-256\"],[\"Scrypt\"],[\"X11\"],[\"SHA3\"],[\"X11\"],[\"Lyra2RE\"],[\"SHA-256\"],[\"QUAIT\"],[\"X11\"],[\"X11\"],[\"Scrypt\"],[\"Scrypt\"],[\"Scrypt\"],[\"Ethash\"],[\"X13\"],[\"Blake2b\"],[\"SHA-256\"],[\"X15\"],[\"X11\"],[\"SHA-256\"],[\"BLAKE256\"],[\"Scrypt\"],[\"1GB AES Pattern Search\"],[\"SHA-256\"],[\"X11\"],[\"Scrypt\"],[\"SHA-256\"],[\"SHA-256\"],[\"NIST5\"],[\"Scrypt\"],[\"Scrypt\"],[\"X11\"],[\"Dagger\"],[\"Scrypt\"],[\"X11GOST\"],[\"X11\"],[\"Scrypt\"],[\"SHA-256\"],[\"Scrypt\"],[\"PoS\"],[\"Scrypt\"],[\"X11\"],[\"X11\"],[\"SHA-256\"],[\"SHA-256\"],[\"NIST5\"],[\"X11\"],[\"Scrypt\"],[\"POS 3.0\"],[\"Scrypt\"],[\"Scrypt\"],[\"Scrypt\"],[\"X13\"],[\"X11\"],[\"X11\"],[\"Equihash\"],[\"X11\"],[\"Scrypt\"],[\"CryptoNight\"],[\"SHA-256\"],[\"SHA-256\"],[\"X11\"],[\"Scrypt\"],[\"Multiple\"],[\"Scrypt\"],[\"Scrypt\"],[\"Scrypt\"],[\"SHA-256\"],[\"Scrypt\"],[\"Scrypt\"],[\"SHA-256D\"],[\"PoS\"],[\"Scrypt\"],[\"X11\"],[\"Lyra2Z\"],[\"PoS\"],[\"X13\"],[\"X14\"],[\"PoS\"],[\"SHA-256D\"],[\"Ethash\"],[\"Equihash\"],[\"DPoS\"],[\"X11\"],[\"Scrypt\"],[\"X11\"],[\"X13\"],[\"X11\"],[\"PoS\"],[\"Scrypt\"],[\"Scrypt\"],[\"X11\"],[\"PoS\"],[\"X11\"],[\"SHA-256\"],[\"Scrypt\"],[\"X11\"],[\"Scrypt\"],[\"Scrypt\"],[\"X11\"],[\"CryptoNight\"],[\"Scrypt\"],[\"Scrypt\"],[\"Scrypt\"],[\"Scrypt\"],[\"Quark\"],[\"QuBit\"],[\"Scrypt\"],[\"CryptoNight\"],[\"Lyra2RE\"],[\"Scrypt\"],[\"SHA-256\"],[\"X11\"],[\"Scrypt\"],[\"X11\"],[\"Scrypt\"],[\"CryptoNight-V7\"],[\"Scrypt\"],[\"Scrypt\"],[\"Scrypt\"],[\"X13\"],[\"X11\"],[\"Equihash\"],[\"Scrypt\"],[\"Scrypt\"],[\"Lyra2RE\"],[\"Scrypt\"],[\"Dagger-Hashimoto\"],[\"X11\"],[\"Blake2S\"],[\"X11\"],[\"Scrypt\"],[\"PoS\"],[\"X11\"],[\"NIST5\"],[\"PoS\"],[\"X11\"],[\"Scrypt\"],[\"Scrypt\"],[\"Scrypt\"],[\"SHA-256\"],[\"X11\"],[\"Scrypt\"],[\"Scrypt\"],[\"SHA-256\"],[\"PoS\"],[\"Scrypt\"],[\"X15\"],[\"SHA-256\"],[\"Scrypt\"],[\"POS 3.0\"],[\"CryptoNight-V7\"],[\"536\"],[\"Argon2d\"],[\"Blake2b\"],[\"Cloverhash\"],[\"CryptoNight\"],[\"NIST5\"],[\"X11\"],[\"NIST5\"],[\"Skein\"],[\"Scrypt\"],[\"X13\"],[\"Scrypt\"],[\"X11\"],[\"X11\"],[\"Scrypt\"],[\"CryptoNight\"],[\"X13\"],[\"Time Travel\"],[\"Scrypt\"],[\"Keccak\"],[\"SkunkHash v2 Raptor\"],[\"X11\"],[\"Skein\"],[\"SHA-256\"],[\"X11\"],[\"Scrypt\"],[\"Scrypt\"],[\"PoS\"],[\"Scrypt\"],[\"Scrypt\"],[\"Scrypt\"],[\"Scrypt\"],[\"Scrypt\"],[\"Scrypt\"],[\"Scrypt\"],[\"CryptoNight\"],[\"SHA-512\"],[\"Ouroboros\"],[\"X11\"],[\"Equihash\"],[\"NeoScrypt\"],[\"X11\"],[\"Scrypt\"],[\"NeoScrypt\"],[\"Lyra2REv2\"],[\"Equihash\"],[\"Scrypt\"],[\"SHA-256\"],[\"NIST5\"],[\"PHI1612\"],[\"Dagger\"],[\"Scrypt\"],[\"Quark\"],[\"Scrypt\"],[\"POS 2.0\"],[\"Scrypt\"],[\"SHA-256\"],[\"X11\"],[\"NeoScrypt\"],[\"Ethash\"],[\"NeoScrypt\"],[\"X11\"],[\"DPoS\"],[\"NIST5\"],[\"X13\"],[\"Multiple\"],[\"Scrypt\"],[\"CryptoNight\"],[\"CryptoNight\"],[\"Ethash\"],[\"NIST5\"],[\"Quark\"],[\"X11\"],[\"CryptoNight-V7\"],[\"Scrypt\"],[\"Scrypt\"],[\"Scrypt\"],[\"X11\"],[\"BLAKE256\"],[\"X11\"],[\"NeoScrypt\"],[\"Quark\"],[\"NeoScrypt\"],[\"Scrypt\"],[\"Scrypt\"],[\"Scrypt\"],[\"X11\"],[\"X11\"],[\"SHA-256\"],[\"C11\"],[\"POS 3.0\"],[\"Ethash\"],[\"Scrypt\"],[\"CryptoNight\"],[\"SkunkHash\"],[\"Scrypt\"],[\"CryptoNight\"],[\"Scrypt\"],[\"Dagger\"],[\"Lyra2REv2\"],[\"X13\"],[\"Scrypt\"],[\"Scrypt\"],[\"X11\"],[\"C11\"],[\"X11\"],[\"XEVAN\"],[\"Scrypt\"],[\"VBFT\"],[\"Ethash\"],[\"CryptoNight\"],[\"Scrypt\"],[\"IMesh\"],[\"NIST5\"],[\"Scrypt\"],[\"Scrypt\"],[\"Equihash\"],[\"Scrypt\"],[\"Lyra2Z\"],[\"Green Protocol\"],[\"PoS\"],[\"Scrypt\"],[\"Semux BFT consensus\"],[\"X11\"],[\"Quark\"],[\"PoS\"],[\"CryptoNight\"],[\"X16R\"],[\"Scrypt\"],[\"NIST5\"],[\"Lyra2RE\"],[\"XEVAN\"],[\"Tribus\"],[\"Scrypt\"],[\"Lyra2Z\"],[\"CryptoNight\"],[\"CryptoNight Heavy\"],[\"CryptoNight\"],[\"Scrypt\"],[\"Scrypt\"],[\"Jump Consistent Hash\"],[\"SHA-256D\"],[\"CryptoNight\"],[\"Scrypt\"],[\"X15\"],[\"Scrypt\"],[\"Quark\"],[\"SHA-256\"],[\"DPoS\"],[\"X16R\"],[\"HMQ1725\"],[\"X11\"],[\"X16R\"],[\"Quark\"],[\"Quark\"],[\"Scrypt\"],[\"Lyra2REv2\"],[\"Quark\"],[\"Scrypt\"],[\"Scrypt\"],[\"CryptoNight-V7\"],[\"Cryptonight-GPU\"],[\"XEVAN\"],[\"CryptoNight Heavy\"],[\"X11\"],[\"X11\"],[\"Scrypt\"],[\"PoS\"],[\"SHA-256\"],[\"Keccak\"],[\"X11\"],[\"X11\"],[\"Scrypt\"],[\"SHA-512\"],[\"X16R\"],[\"ECC 256K1\"],[\"Equihash\"],[\"XEVAN\"],[\"Lyra2Z\"],[\"SHA-256\"],[\"XEVAN\"],[\"X11\"],[\"CryptoNight\"],[\"Quark\"],[\"Blake\"],[\"Blake\"],[\"Equihash\"],[\"Exosis\"],[\"Scrypt\"],[\"Scrypt\"],[\"Equihash\"],[\"Quark\"],[\"Equihash\"],[\"Quark\"],[\"Scrypt\"],[\"QuBit\"],[\"X11\"],[\"Scrypt\"],[\"XEVAN\"],[\"SHA-256D\"],[\"X11\"],[\"SHA-256\"],[\"X13\"],[\"SHA-256\"],[\"X11\"],[\"DPoS\"],[\"Scrypt\"],[\"Scrypt\"],[\"X11\"],[\"NeoScrypt\"],[\"Scrypt\"],[\"Blake\"],[\"Scrypt\"],[\"SHA-256\"],[\"Scrypt\"],[\"X11\"],[\"Scrypt\"],[\"Scrypt\"],[\"SHA-256\"],[\"X11\"],[\"SHA-256\"],[\"Scrypt\"],[\"Scrypt\"],[\"Scrypt\"],[\"Groestl\"],[\"X11\"],[\"Scrypt\"],[\"PoS\"],[\"Scrypt\"],[\"Scrypt\"],[\"X11\"],[\"SHA-256\"],[\"DPoS\"],[\"Scrypt\"],[\"Scrypt\"],[\"NeoScrypt\"],[\"SHA3-256\"],[\"Multiple\"],[\"X13\"],[\"Equihash+Scrypt\"],[\"DPoS\"],[\"Ethash\"],[\"DPoS\"],[\"SHA-256\"],[\"Leased POS\"],[\"PoS\"],[\"PoS\"],[\"SHA-256\"],[\"Scrypt\"],[\"CryptoNight\"],[\"Equihash\"],[\"Scrypt\"]],\"hovertemplate\":\"<b>%{hovertext}</b><br><br>Class=%{marker.color}<br>PC 1=%{x}<br>PC 2=%{y}<br>PC 3=%{z}<br>Algorithm=%{customdata[0]}<extra></extra>\",\"hovertext\":[\"42 Coin\",\"404Coin\",\"EliteCoin\",\"Bitcoin\",\"Ethereum\",\"Litecoin\",\"Dash\",\"Monero\",\"Ethereum Classic\",\"ZCash\",\"Bitshares\",\"DigiByte\",\"BitcoinDark\",\"PayCoin\",\"ProsperCoin\",\"KoboCoin\",\"Spreadcoin\",\"Argentum\",\"Aurora Coin\",\"BlueCoin\",\"MyriadCoin\",\"MoonCoin\",\"ZetaCoin\",\"SexCoin\",\"Quatloo\",\"EnergyCoin\",\"QuarkCoin\",\"Riecoin\",\"Digitalcoin \",\"BitBar\",\"Catcoin\",\"CryptoBullion\",\"CannaCoin\",\"CryptCoin\",\"CasinoCoin\",\"Diamond\",\"Verge\",\"DevCoin\",\"EarthCoin\",\"E-Gulden\",\"Einsteinium\",\"Emerald\",\"Exclusive Coin\",\"FlutterCoin\",\"Franko\",\"FeatherCoin\",\"GrandCoin\",\"GlobalCoin\",\"GoldCoin\",\"HoboNickels\",\"HyperStake\",\"Infinite Coin\",\"IOCoin\",\"IXcoin\",\"KrugerCoin\",\"LuckyCoin\",\"Litebar \",\"MaxCoin\",\"MegaCoin\",\"MediterraneanCoin\",\"MintCoin\",\"MinCoin\",\"MazaCoin\",\"Nautilus Coin\",\"NavCoin\",\"NobleCoin\",\"Namecoin\",\"NyanCoin\",\"OpalCoin\",\"Orbitcoin\",\"PotCoin\",\"PhoenixCoin\",\"Reddcoin\",\"RonPaulCoin\",\"StableCoin\",\"SmartCoin\",\"SuperCoin\",\"SyncCoin\",\"SysCoin\",\"TeslaCoin\",\"TigerCoin\",\"TittieCoin\",\"TorCoin\",\"TerraCoin\",\"UnbreakableCoin\",\"Unobtanium\",\"UroCoin\",\"UnitaryStatus Dollar\",\"UltraCoin\",\"ViaCoin\",\"VeriCoin\",\"Vertcoin\",\"WorldCoin\",\"X11 Coin\",\"Crypti\",\"JouleCoin\",\"StealthCoin\",\"ZCC Coin\",\"ByteCoin\",\"DigitalNote \",\"BurstCoin\",\"StorjCoin\",\"MonaCoin\",\"Neutron\",\"FairCoin\",\"Gulden\",\"RubyCoin\",\"PesetaCoin\",\"Kore\",\"Wild Beast Coin\",\"Dnotes\",\"Flo\",\"8BIT Coin\",\"Sativa Coin\",\"ArtByte\",\"Folding Coin\",\"Ucoin\",\"Unitus\",\"CypherPunkCoin\",\"OmniCron\",\"Vtorrent\",\"GreenCoin\",\"Cryptonite\",\"MasterCoin\",\"SoonCoin\",\"1Credit\",\"IslaCoin\",\"Nexus\",\"MarsCoin \",\"Crypto\",\"Anarchists Prime\",\"Droidz\",\"BowsCoin\",\"Squall Coin\",\"Song Coin\",\"BitZeny\",\"Diggits\",\"Expanse\",\"Paycon\",\"Siacoin\",\"Emercoin\",\"EverGreenCoin\",\"MindCoin\",\"I0coin\",\"Decred\",\"Revolution VR\",\"HOdlcoin\",\"EDRCoin\",\"Hitcoin\",\"Gamecredits\",\"DubaiCoin\",\"CarpeDiemCoin\",\"PWR Coin\",\"BillaryCoin\",\"GPU Coin\",\"Adzcoin\",\"SoilCoin\",\"YoCoin\",\"SibCoin\",\"EuropeCoin\",\"ZeitCoin\",\"SwingCoin\",\"SafeExchangeCoin\",\"Nebuchadnezzar\",\"Francs\",\"BolivarCoin\",\"Ratecoin\",\"Revenu\",\"Clockcoin\",\"VIP Tokens\",\"BitSend\",\"Omni\",\"Let it Ride\",\"PutinCoin\",\"iBankCoin\",\"Frankywillcoin\",\"MudraCoin\",\"PizzaCoin\",\"Lutetium Coin\",\"Komodo\",\"GoldBlocks\",\"CarterCoin\",\"Karbo\",\"BitTokens\",\"ZayedCoin\",\"MustangCoin\",\"ZoneCoin\",\"Circuits of Value\",\"RootCoin\",\"DopeCoin\",\"BitCurrency\",\"DollarCoin\",\"Swiscoin\",\"Shilling\",\"BuzzCoin\",\"Opair\",\"PesoBit\",\"Halloween Coin\",\"ZCoin\",\"CoffeeCoin\",\"RoyalCoin\",\"GanjaCoin V2\",\"TeamUP\",\"LanaCoin\",\"Elementrem\",\"ZClassic\",\"ARK\",\"InsaneCoin\",\"KiloCoin\",\"ArtexCoin\",\"EmberCoin\",\"XenixCoin\",\"FreeCoin\",\"PLNCoin\",\"AquariusCoin\",\"Kurrent\",\"Creatio\",\"Eternity\",\"Eurocoin\",\"BitcoinFast\",\"Stakenet\",\"BitConnect Coin\",\"MoneyCoin\",\"Enigma\",\"Cannabis Industry Coin\",\"Russiacoin\",\"PandaCoin\",\"GameUnits\",\"GAKHcoin\",\"Allsafe\",\"LiteCreed\",\"OsmiumCoin\",\"Bikercoins\",\"HexxCoin\",\"Klingon Empire Darsek\",\"Internet of People\",\"KushCoin\",\"Printerium\",\"PacCoin\",\"Impeach\",\"Citadel\",\"Zilbercoin\",\"FirstCoin\",\"BeaverCoin\",\"FindCoin\",\"VaultCoin\",\"Zero\",\"OpenChat\",\"Canada eCoin\",\"Zoin\",\"RenosCoin\",\"DubaiCoin\",\"VirtacoinPlus\",\"TajCoin\",\"Impact\",\"EB3coin\",\"Atmos\",\"HappyCoin\",\"Coinonat\",\"MacronCoin\",\"Condensate\",\"Independent Money System\",\"ArgusCoin\",\"LomoCoin\",\"ProCurrency\",\"GoldReserve\",\"BenjiRolls\",\"GrowthCoin\",\"ILCoin\",\"Phreak\",\"Degas Coin\",\"HTML5 Coin\",\"Ultimate Secure Cash\",\"EquiTrader\",\"QTUM\",\"Quantum Resistant Ledger\",\"Espers\",\"Dynamic\",\"Nano\",\"ChanCoin\",\"Dinastycoin\",\"Denarius\",\"DigitalPrice\",\"Virta Unique Coin\",\"Bitcoin Planet\",\"Unify\",\"BritCoin\",\"SocialCoin\",\"ArcticCoin\",\"DAS\",\"Linda\",\"LeviarCoin\",\"DeepOnion\",\"Bitcore\",\"gCn Coin\",\"SmartCash\",\"Signatum\",\"Onix\",\"Cream\",\"Bitcoin Cash\",\"Monoeci\",\"Draftcoin\",\"Sojourn Coin\",\"Stakecoin\",\"NewYorkCoin\",\"FrazCoin\",\"Kronecoin\",\"AdCoin\",\"Linx\",\"CoinonatX\",\"Ethereum Dark\",\"Sumokoin\",\"Obsidian\",\"Cardano\",\"Regalcoin\",\"BitcoinZ\",\"TrezarCoin\",\"Elements\",\"TerraNovaCoin\",\"VIVO Coin\",\"Rupee\",\"Bitcoin Gold\",\"WomenCoin\",\"Theresa May Coin\",\"NamoCoin\",\"LUXCoin\",\"Pirl\",\"Xios\",\"Bitcloud 2.0\",\"eBoost\",\"KekCoin\",\"BlackholeCoin\",\"Infinity Economics\",\"Pura\",\"Innova\",\"Ellaism\",\"GoByte\",\"Magnet\",\"Lamden Tau\",\"Electra\",\"Bitcoin Diamond\",\"SHIELD\",\"Cash & Back Coin\",\"UltraNote\",\"BitCoal\",\"DaxxCoin\",\"Bulwark\",\"Kalkulus\",\"AC3\",\"Lethean\",\"GermanCoin\",\"LiteCoin Ultra\",\"PopularCoin\",\"PhantomX\",\"Photon\",\"Sucre\",\"SparksPay\",\"Digiwage\",\"GunCoin\",\"IrishCoin\",\"Trollcoin\",\"Litecoin Plus\",\"Monkey Project\",\"Pioneer Coin\",\"UnitedBitcoin\",\"Interzone\",\"TokenPay\",\"1717 Masonic Commemorative Token\",\"My Big Coin\",\"TurtleCoin\",\"MUNcoin\",\"Unified Society USDEX\",\"Niobio Cash\",\"ShareChain\",\"Travelflex\",\"KREDS\",\"Tokyo Coin\",\"BitFlip\",\"LottoCoin\",\"Crypto Improvement Fund\",\"Stipend\",\"Pushi\",\"Ellerium\",\"Velox\",\"Ontology\",\"Callisto Network\",\"BitTube\",\"Poseidon\",\"Aidos Kuneen\",\"Bitspace\",\"Briacoin\",\"Ignition\",\"Bitrolium\",\"MedicCoin\",\"Alpenschillling\",\"Bitcoin Green\",\"Deviant Coin\",\"Abjcoin\",\"Semux\",\"FuturoCoin\",\"Carebit\",\"Zealium\",\"Monero Classic\",\"Proton\",\"iDealCash\",\"Jumpcoin\",\"Infinex\",\"Bitcoin Incognito\",\"KEYCO\",\"HollyWoodCoin\",\"GINcoin\",\"PlatinCoin\",\"Loki\",\"Newton Coin\",\"Swisscoin\",\"Xt3ch\",\"MassGrid\",\"TheVig\",\"PluraCoin\",\"EmaratCoin\",\"Dekado\",\"Lynx\",\"Poseidon Quark\",\"BitcoinWSpectrum\",\"Muse\",\"Motion\",\"PlusOneCoin\",\"Axe\",\"Trivechain\",\"Dystem\",\"Giant\",\"Peony Coin\",\"Absolute Coin\",\"Vitae\",\"HexCoin\",\"TPCash\",\"Webchain\",\"Ryo\",\"Urals Coin\",\"Qwertycoin\",\"ARENON\",\"EUNO\",\"MMOCoin\",\"Ketan\",\"Project Pai\",\"XDNA\",\"PAXEX\",\"Azart\",\"ThunderStake\",\"Kcash\",\"Xchange\",\"Acute Angle Cloud\",\"CrypticCoin\",\"Bettex coin\",\"Actinium\",\"Bitcoin SV\",\"BitMoney\",\"Junson Ming Chan Coin\",\"FREDEnergy\",\"HerbCoin\",\"Universal Molecule\",\"Lithium\",\"PirateCash\",\"Exosis\",\"Block-Logic\",\"Oduwa\",\"Beam\",\"Galilel\",\"Bithereum\",\"Crypto Sports\",\"Credit\",\"SLICE\",\"Dash Platinum\",\"Nasdacoin\",\"Beetle Coin\",\"Titan Coin\",\"Award\",\"BLAST\",\"Bitcoin Rhodium\",\"GlobalToken\",\"Insane Coin\",\"ALAX\",\"LiteDoge\",\"SolarCoin\",\"TruckCoin\",\"UFO Coin\",\"OrangeCoin\",\"BlakeCoin\",\"BitstarCoin\",\"NeosCoin\",\"HyperCoin\",\"PinkCoin\",\"Crypto Escudo\",\"AudioCoin\",\"IncaKoin\",\"Piggy Coin\",\"Crown Coin\",\"Genstake\",\"SmileyCoin\",\"XiaoMiCoin\",\"Groestlcoin\",\"CapriCoin\",\" ClubCoin\",\"Radium\",\"Bata\",\"Pakcoin\",\"Creditbit \",\"OKCash\",\"Lisk\",\"HiCoin\",\"WhiteCoin\",\"FriendshipCoin\",\"Fiii\",\"JoinCoin\",\"Triangles Coin\",\"Vollar\",\"EOS\",\"Reality Clash\",\"Oxycoin\",\"TigerCash\",\"Waves\",\"Particl\",\"Nxt\",\"ZEPHYR\",\"Gapcoin\",\"Beldex\",\"Horizen\",\"BitcoinPlus\"],\"legendgroup\":\"0\",\"marker\":{\"color\":[0,0,0,0,0,0,0,0,0,0,0,0,0,0,0,0,0,0,0,0,0,0,0,0,0,0,0,0,0,0,0,0,0,0,0,0,0,0,0,0,0,0,0,0,0,0,0,0,0,0,0,0,0,0,0,0,0,0,0,0,0,0,0,0,0,0,0,0,0,0,0,0,0,0,0,0,0,0,0,0,0,0,0,0,0,0,0,0,0,0,0,0,0,0,0,0,0,0,0,0,0,0,0,0,0,0,0,0,0,0,0,0,0,0,0,0,0,0,0,0,0,0,0,0,0,0,0,0,0,0,0,0,0,0,0,0,0,0,0,0,0,0,0,0,0,0,0,0,0,0,0,0,0,0,0,0,0,0,0,0,0,0,0,0,0,0,0,0,0,0,0,0,0,0,0,0,0,0,0,0,0,0,0,0,0,0,0,0,0,0,0,0,0,0,0,0,0,0,0,0,0,0,0,0,0,0,0,0,0,0,0,0,0,0,0,0,0,0,0,0,0,0,0,0,0,0,0,0,0,0,0,0,0,0,0,0,0,0,0,0,0,0,0,0,0,0,0,0,0,0,0,0,0,0,0,0,0,0,0,0,0,0,0,0,0,0,0,0,0,0,0,0,0,0,0,0,0,0,0,0,0,0,0,0,0,0,0,0,0,0,0,0,0,0,0,0,0,0,0,0,0,0,0,0,0,0,0,0,0,0,0,0,0,0,0,0,0,0,0,0,0,0,0,0,0,0,0,0,0,0,0,0,0,0,0,0,0,0,0,0,0,0,0,0,0,0,0,0,0,0,0,0,0,0,0,0,0,0,0,0,0,0,0,0,0,0,0,0,0,0,0,0,0,0,0,0,0,0,0,0,0,0,0,0,0,0,0,0,0,0,0,0,0,0,0,0,0,0,0,0,0,0,0,0,0,0,0,0,0,0,0,0,0,0,0,0,0,0,0,0,0,0,0,0,0,0,0,0,0,0,0,0,0,0,0,0,0,0,0,0,0,0,0,0,0,0,0,0,0,0,0,0,0,0,0,0,0,0,0,0,0,0,0,0,0,0,0,0,0,0,0,0,0,0,0,0,0,0,0,0,0,0,0,0,0,0,0,0,0,0,0,0,0,0,0,0,0,0,0,0,0,0,0,0,0,0,0,0,0,0,0,0,0,0,0,0,0,0,0,0,0,0,0,0,0,0,0,0],\"coloraxis\":\"coloraxis\",\"symbol\":\"circle\"},\"mode\":\"markers\",\"name\":\"0\",\"scene\":\"scene\",\"showlegend\":true,\"type\":\"scatter3d\",\"x\":[-0.32015257062464286,-0.30093539294297256,0.5209865045105381,-0.2328677312941345,-0.020182366194786566,-0.3688373516154768,-0.30726480437754017,-0.12464243698038167,-0.1005199499970268,-0.29748384762351865,0.017303472584092986,-0.08156295678059226,-0.23901194618004976,0.01963192522985292,-0.29482913371000774,-0.2284323179907581,-0.27976475834285514,-0.3264805820617316,-0.31052524481701316,-0.14104902641565603,0.001216290651773105,-0.34336106519799126,-0.2287028347502669,-0.33750931659576333,-0.2957261298348669,-0.14677264744751942,-0.18072948401319172,-0.415490337812522,-0.33675690748879433,-0.3176222490252277,-0.3390443762795461,-0.2753417314148871,-0.33601841859284803,-0.3846789736577241,0.3226184953685801,-0.45511623182822947,-0.009833362938669802,0.008765600608139322,-0.12972505363116107,-0.3388914385160341,-0.3375527818889179,-0.33562495676635834,0.16786121983484698,-0.06697472553940415,-0.33371101091259936,-0.26724737841311097,-0.3214592062356072,-0.34192153343784065,-0.33612749901895617,-0.27870050621327624,0.005278402110602171,1.1517976367887595,-0.3071685140148833,-0.2328324064311609,-0.3331473646165859,-0.27315964260679915,-0.3416309727966636,-0.8250265710651594,-0.3204042648023513,-0.25266200601572886,0.23091721733976908,-0.2754120006303711,-0.19070123608456632,-0.08916246885272959,0.04840117428927916,-0.2986424801994992,-0.23290337566084124,-0.3316609858734494,0.04783222358482103,-0.31934999977717443,-0.3170939825041008,-0.31819297845943845,0.17933882421050396,-0.29488123727886184,-0.33867921536046003,-0.3293669078393335,-0.012906002355709873,-0.3322336568880291,-0.22493272906466533,-0.08606277477393588,-0.23880831481019837,0.6544712036685694,-0.26811578030081273,-0.258748675631136,-0.1501320897468881,-0.2248547752400831,-0.16850651678831813,-0.2913802356695708,-0.28138830453448643,-0.35120987143849486,-0.07685104182940262,-0.40544214845619575,-0.3335030593618717,-0.32999056798022913,0.047959832018070324,-0.29112448764053983,0.048032603077662,-0.15338297993093758,3.046405391275255,0.031255530620923865,-0.5725151982409015,0.14394452470033767,-0.34102632807532196,-0.2089943719179195,-0.19405543964046074,-0.32693047559370125,-0.006655006777153981,-0.33295364408785105,0.03881112600897842,-0.3396903511353555,-0.013336433720938014,-0.33111686724820205,-0.1481309931000189,-0.06572842059447698,-0.16004153971972845,-0.09215158141326073,-0.12481172210982477,-0.10747743228462679,-0.09229998533799921,-0.3343263617833128,-0.2593870623620239,-0.20633092788807186,-0.4921693342279545,-0.3362708357686914,-0.23292877621341718,-0.008126022553338096,-0.1546442553029982,-2.6157919162449104,-0.34839362067186336,-0.2562093143683114,-0.22954384680207207,-0.5024311238079475,-0.30123013042050095,-0.09371749521294565,-0.3410860742519417,-0.33810503004516124,-0.13964367479367082,-0.04469448516332724,-0.0579788421276079,0.26618264281656556,-0.0927295902200514,-0.2109155870464869,-0.34925026431233674,-0.2328334327410807,-0.1323815889255711,-0.24006128974643093,-0.13005048314524176,-0.23898534976630215,-0.15435906073775318,-0.3687614234623746,-0.2906520543536361,0.12810883569685869,0.005879153280460622,-0.30687109909929505,-0.08902928584105707,-0.37555141134629727,-0.29591265652786714,-0.33229560571691885,-0.2667972385228369,-0.3252064415039015,0.5186402645212008,-0.24861288882188007,-0.29747156648889206,0.05665188377801342,-0.27330213530185316,-0.2890698160327637,-0.32602157439695906,-0.21545800061418785,-0.213507227807867,-0.24142382181036687,-0.3367152882016258,-0.3401231879571094,0.12814975149730198,-0.048502776177999724,-0.31713604915828925,-0.28083237865958743,0.07238352598170518,-0.2892069539208554,-0.0936427375616398,-0.25369595457207006,-0.2603864633374466,-0.2834138841111769,-0.06345452899524143,-0.21920250668238953,-0.2303527890669139,-0.32892882063621554,-0.2810058897961328,-0.25852579230024886,-0.14812571981938386,-0.2772248871463616,-0.0050640887969229135,-0.23708998554131427,-1.019774319202257,-0.28490850423579556,0.13335186556392598,0.19532759550236475,-0.14777290319717384,-0.3252705950699069,-0.5394393786998165,0.20328613503368284,0.2586624249046757,-0.28499630378016055,0.19640408905721643,-0.17405447958386758,-0.04440588866453529,-0.29750361489939253,4.432633015644331,-0.2774827445635538,-0.2556405017737237,-0.16764377399720107,1.555901141865709,-0.33132398102699984,0.062457161457334605,-0.30829372039340674,-0.3069442602806273,-0.3501097778115612,0.05665188377801342,-0.23251221938556238,-0.1975524184312649,-0.328154809440288,-0.726774176242958,-0.3167530818255244,-0.316232756984813,-0.32705270950498927,-0.08294771909895358,-0.32028914344701104,0.46526506473651574,-0.31161301317157625,-0.3178189995564902,-0.008087811708950723,-0.15070441101383972,-0.3333770166856851,-0.07066911763846,-0.2616958866592661,-0.1562084025059403,-0.21918093926447643,-0.33141457340542996,-0.2593846381730909,-0.3391876783016701,-0.3208983646217235,-0.24906293195510018,-0.09014505245042413,-0.44822470868660397,-0.34204663439444316,0.26797859814882563,-0.1750693633694469,-0.3565011935637216,-0.1438651203510366,-0.33602038264916817,-0.26209271424512653,-0.10066825072771654,0.4724712987964268,-0.28831621809649166,0.5431481196649093,-0.37475684846259666,-0.3302894827286811,0.19542918644802884,-0.28822284390416847,-0.2933477366956079,0.07037597395048226,-0.16163076274648627,-0.3199523274232327,-0.3212264516267894,-0.15503060351115674,0.02093870267823511,-0.31680931225474185,-0.3361948261206528,0.0868997958876453,-0.21375495130829578,0.04489852406367026,-0.3080061120924321,0.4532246626081446,0.011532227246321216,-0.33528532832746977,-0.007372451162838298,-0.2841607079052757,0.2031875141315737,-0.09097062961093502,-0.31443316688842826,-0.24790859636196846,0.16070388234408917,-0.2200313653880715,-0.30192955890405754,-0.23745454613596817,-0.2899166512162676,-0.33887334503603705,-0.07512599027880403,-0.3362720568725313,-0.24614793968230236,-0.3505908462714871,-0.11198949646451443,-0.01902316157977289,0.042811069666610704,-0.26463312674820055,2.3446316906637774,-0.05602445414734428,0.5361144103192996,-0.3791702342533224,-0.2894639163946833,-0.23286696702940732,-0.3261308656392211,-0.08551322903083287,-0.33117727494742266,0.19512429293841402,1.43553110226185,-0.27326713372576933,-0.3693465902992574,-0.2954436253905788,-0.29543167463784886,-0.32092374372355437,-0.3177827105324085,0.01862592178559847,-0.02420333005896789,0.6234631274815775,-0.3330277191964405,-0.20723815898885284,-0.24869597611085673,-0.31266429245015886,-0.31407764493530926,-0.3410901220889796,-0.1743922871529546,-0.2973741554946303,0.48100768010248846,-0.21909560481913506,-0.26183730687292733,0.11592777400662395,-0.3659614184527076,-0.28101071884805023,-0.17258912425113385,-0.29469132909049023,-0.021741561312840142,-0.3143169930631336,0.16122654453942145,-0.33085250072468936,-0.35399945059571863,-0.048395396908386096,-0.3443843864050705,-0.3264697886565844,3.2220763508622405,0.19065054044621213,-0.03068780298516645,-0.26728545464742737,-0.2273086439985212,0.3331151970625034,0.014610002699761353,-0.11139352688974023,-0.04663658498863094,-0.0263994522420021,-0.3487986816569357,-0.24353146081718746,-0.15816433446571546,-0.2598805577818343,-0.273967598627113,-0.2600556841828639,0.3887369376705716,-0.3475269638203891,-0.2954886560743582,-0.04646491340881962,-0.16766864474751259,-0.3261088395725088,-0.3075080673805421,-0.3137592532521111,-0.14631057012130988,-0.3578875567009662,-0.23441234290083704,-0.38266772032424623,0.004838596172752644,0.2049512757164461,-0.2383925039028984,0.8945855400845496,-1.7183167159167418,-0.31421807462457163,-0.055464592299064704,-0.14612267294767453,-0.30555302326143624,-0.4033050014359139,0.27140096696229904,-0.3242071628997302,-0.10549870021387935,-0.1744883141667746,-0.3733224538554782,-0.275339291043967,-0.1939388212419923,-0.08890825763483647,0.15682272785871737,-0.040047412000665236,0.043934131894993345,-0.29484810327774796,-0.24009307734384447,-0.2123524919369354,-0.32241294591719966,-0.32053482979103537,-0.3445308033290735,-0.012301416752965491,-0.4812976280739869,-0.014858835347429258,0.19094671992213255,-0.27106350307519284,3.004987159285532,-0.30196684250013367,-0.1713711644598978,0.11794460905721776,0.019793250117881737,-0.31925519681200504,-0.28788900776452375,-0.25311816790089,-0.26103820880390316,-0.18785017835411283,-0.44472987921534307,-0.08900807030275984,-0.4589689863608233,0.02800558262612139,0.09389148477938672,0.6965847585781337,-0.15205266417515445,-0.09330233471552038,-0.6376622024970364,-0.19868438625756726,0.04929665674004255,-0.3554414408886893,-0.05864949774010259,1.4164034044812606,0.07221932125799194,0.011141117308666449,1.3684095450004043,-0.6326012876787186,-0.267487714850399,-0.30135156895005755,-0.606438811768957,-0.0480277820178761,-0.15855053488869758,-0.0861972993425058,-0.42074701819236,-0.04828375987236658,-0.33757023448893736,-0.15497582279661096,-0.2588922903241831,-0.11990253567762763,-0.21011974143403056,1.7861578138110603,-0.09647621469424032,-0.2602165820697964,-0.08506684497735753,0.08750098050521332,-0.28042803157514423,-0.29389861156105224,-0.14722423457310727,-0.289166313970935,-0.29288402344823955,-0.004143128152354742,-0.41666337814420257,0.6728120263731345,-0.28998889595991617,-0.08065928500571705,-0.4620425188407039,-0.23286700138044336,-0.49070743368099407,0.17878077906723433,0.04854308129282896,-0.12512384695139683,-0.12790292007344684,-0.12113158242721743,-0.16957822037314135,-0.2674695881086,-0.2931623839990967,-0.28086965214095266,-0.36110729992768426,-0.1552023567445969,-0.35389376760974567,0.07127678655221491,0.18757116906695745,-0.22602879255762376,-0.10735888562705878,-0.35545320191790736,-0.12213102719718705,-0.010898802363166211,-0.3259230391349821,-0.26420718090013273,0.01281671505361558,-0.38696385137325023,-0.2774220505016064,3.2314690723143404,-0.06892445442241998,-0.3396552502202999,-0.1519513530014106,-0.28896243334006144,-0.2646318207324384,-0.12460769522592577,-0.31580119937358136,-0.07797138817613943,-0.14803979965592948,-0.15811535955028208,-0.16017924045654425,-0.3063680261173179,0.08870984341907812,-0.15602876715540187,-0.2587480999514987,-0.2404628756012416,0.10359489687765662,-0.2455368468856846,-0.36778701290641813,-0.3272143296478215,-0.3178014874717017,0.19102452420585078,-0.33435043199662734,-0.3396612324567947,-0.8261018725980048,-0.24558492596120984,4.425644234170189,0.07038829197760242,-0.37227577313633015,-0.32087969820462575,0.6653583906133914,-0.27154198353761305,0.03912459387591665,-0.4411531856368423,3.2385873751857175,-0.04501818001183786,3.239725011801694,0.05914915841459899,-0.7074283274976496,0.2055298848766825,0.21769588873655676,2.333670521881865,-0.3249240903397858,0.02666123705260353,-0.2974848141304181,-0.1341632020427735],\"y\":[-0.025333438599562677,-0.027282838964874725,-0.014439889967172211,-0.17554997129461555,-0.13836412844203905,-0.21597606300571373,0.07619650764091992,-0.3329762212759062,-0.13345968407121608,-0.27867559931177727,-0.2599344097851607,-0.26623695913480694,0.06201894560865228,-0.013113231536668603,-0.22005060417262182,0.1642677552674029,-0.1253531013414296,-0.23500677859958938,-0.02960233059679307,-0.04059882859215531,-0.21924987480158242,-0.2505454528987304,-0.1569310643479028,-0.23553627592200999,-0.16871692493977805,-0.04032575234699601,-0.15450108631044543,-0.14785541677142416,-0.2605227653345859,-0.0343200969046227,-0.2520345896234401,-0.03303888269938642,-0.2530614339560883,-0.27065195781873314,0.162356804078031,0.1253885147042201,-0.27160016860619685,-0.2247718082649628,-0.2606159852177519,-0.2520418863452128,-0.24826748905173696,-0.2514382651083155,0.0523182787501022,-0.07185815998179963,-0.25284967120586765,-0.20718067452697936,-0.2539934583496606,-0.2796104231337726,-0.2592834187817718,-0.03523685146098986,0.024566302382381302,-0.31941128734742774,0.07619191358926411,-0.17555165665793543,-0.2545799421323717,-0.18404626109339073,-0.25605959962797253,0.2278147116364128,-0.20367290098872753,-0.2997270113377812,-0.044577042643538727,-0.20229613318344059,0.06226565269715091,-0.024906662928942534,0.00039321976373126935,-0.25446971232133014,-0.1755482706876455,-0.24750117733889476,0.0004203646290513019,0.05821053900070736,-0.003643113035447023,-0.030411582023476394,-0.05588466089246897,-0.22004811829054408,-0.23548045958474684,-0.2473545421117434,0.025433887581413905,0.08003652868228708,-0.1660214920776033,-0.013894761934719774,-0.16022138562242655,-0.22382335132761175,0.005108555978490123,-0.15915767763869243,-0.12447608792873875,-0.16611511580079422,-0.13028556142404338,-0.030096669936990332,-0.02002622060551079,-0.23287388358431232,-0.07263736101301158,-0.15564470784806334,-0.25456297179402726,0.08013659842035863,-0.03416599900979767,-0.15187531018629427,0.0004108044434262927,-0.11015315407692547,-0.49536341454072286,-0.30839568961828917,0.7172958353269954,0.06356140028759863,-0.25100227279064297,0.06298535935633445,0.02782494218286849,-0.25299733932249163,-0.03324237695641425,-0.25352002155307896,0.0010990440163644757,-0.24703915682524913,-0.0178992988968214,-0.21461594500825026,-0.04026094513345979,-0.012894659730476004,-0.25921023923546616,-0.3171324054979315,0.03039723910749998,-0.18989323674414987,-0.19451288295979888,-0.24969322712485223,-0.0353285886917905,-0.2484044300456505,-0.3904222949028382,-0.2546088018692236,-0.17554705881713847,-0.25354291592713807,0.0184278322497561,0.7949484274519163,-0.12754750652947136,-0.6603673026015332,-0.15607242278577704,-0.6678313491154101,-0.1613671830208851,0.0405478472539105,-0.25182894798338756,-0.23550785419544099,-0.01302046951321727,-0.1303786656938128,0.05133734239656618,-0.1216298155039355,-0.06559011539040988,0.22876688524732605,-0.14172848982079472,-0.17555160769227937,0.027011833127054373,-0.18417817550843915,-0.04948911878558297,0.0620176766831314,0.06886813157548155,-0.21597968556821828,-0.005244929067762403,-0.17619622838709909,0.015891493796845284,-0.05494380602373149,-0.024031527150520184,-0.15727770549225362,-0.20216559145995966,-0.25499554413190145,-0.34429755333676154,0.0730291218418213,-0.05635465814353851,0.02401626377495941,0.18520783551674785,0.057248405531890284,-0.18403946271000524,-0.15008972459653872,0.08039496968454529,0.06176362453006977,0.06190550633350944,0.07843058149902551,0.07670946864654045,-0.2547774672656891,0.11846348320312028,-0.06918506427863494,-0.030078978374513624,-0.0200527440510113,-0.04056662796495505,-0.1500831816931318,0.0813170706080891,-0.30017965442107203,0.0693415247899561,0.0169336196220415,-0.26106462355738785,-0.026827176912890955,-0.16325284371902415,0.056356352502044814,-0.07133534895490663,-0.20012509262246672,-0.040261196723784615,-0.23706067573505393,-0.033318280288584315,-0.15429540481771592,0.09477604895142944,-0.1915788718589254,0.047642591303193926,0.1013862433284605,-0.040278029745727605,0.07875974429152381,-0.29089954186615913,0.10444718430625488,0.0032710007612032376,0.05983288504130017,0.10796233497773676,0.07378737097812327,-0.1322217160509478,-0.278674656207151,-0.16505550955447026,0.015819636929233622,-0.24605185058377982,-0.11530241871526818,-0.07232705425157687,0.07951678256134591,0.10321583803513022,-0.0317128558111433,-0.054940315474553233,-0.1469697879376911,0.057248405531890284,0.014873855258662243,0.009178091884161573,-0.0375163676329812,0.2780528476202063,-0.03250255785124108,-0.03455021961094463,0.022187362021276413,-0.2788154658355764,-0.006733469122321185,-0.052996844836896276,-0.024706368966808966,-0.029972311291606945,0.06312279253125137,-0.08355778238114484,-0.2520111065991782,-0.26754365093470917,-0.6660733970337972,-0.02485126419311267,-0.02682820590301256,0.07347250600796605,-0.035328704350812486,-0.1520603224463113,-0.027869785964202375,-0.5499909122996866,-9.745821567454128e-05,-0.11647922020888947,-0.25474632914600626,0.004646133093435467,-0.20011522872533474,-0.3734642160242746,-0.11060725495844126,-0.25500004167910084,-0.42168682191026996,-0.024481219236896824,-1.4746899981207948,0.03868233995963554,0.33841104731222404,0.008737022733085804,-0.2285626048561513,0.10130776004814807,0.038677885039630454,-0.1386722191256211,0.09391694220487008,0.033785465821823256,-0.01759856793511389,-0.025783174782584604,-0.11007454529793441,0.06087078694295786,0.038191133282069696,-0.25815362824026117,-0.06187673108195839,-0.16345930550818172,0.04971600937180393,-0.07721667138971043,0.21290619122800863,0.0716750658029387,-0.2523452665269459,0.07656444686980346,-0.3699489728959651,0.11522477772256687,-0.18469869422967322,-0.025748391221272333,-0.1952943021951561,-0.27719707996558174,0.007936726816138578,-0.11004292981910642,0.02629561183023491,0.06837931441943544,-0.25522444477800865,-0.002182118582846413,-0.24839280607170192,-0.13385034678571325,-0.15145674456255895,-0.01331489684774941,-0.273700187077824,0.003159881275775376,-0.23815860025905167,-0.36969731262424993,-0.5043888167195136,0.5583848655054471,-0.13482968993282193,0.0683577142602977,-0.17555000775799115,0.07689608342608906,-0.03060988542966602,-0.2172997226627486,0.1021383408381582,-0.2651928638440443,-0.184041132649178,-0.2159517670247441,-0.16873040333963318,-0.16873097351481847,-0.05148211363076855,-0.03545489508424204,-0.35299612586949736,-0.26064058136035434,1.1155620838258713,0.04181693458377914,-0.32067467136514705,0.04328493969520521,-0.1515012932867393,-0.03385466725965275,-0.12375091381639561,-0.037449154103156065,-0.27868083276705186,-0.06784115719196104,0.024458605946033368,0.0112259195675257,-0.09730860509015705,-0.2703471893379759,-0.0713351185589112,-0.021900401460466814,-0.16876629569654,-0.004773831339203237,-0.026161072525101515,0.05720453131664644,-0.07625596327604457,-0.15453207084043888,-0.1290315155970134,-0.16867360106770676,0.05193943897130873,-0.11830043734210748,0.03657764216661587,0.005238092618492786,-0.2539114546507875,-0.035411841624682444,-0.36692774058100286,-0.27212959618393073,-0.19555786687802162,0.06057298094486954,0.03810164397217899,-0.15301917859738445,-0.5611868407025109,-0.011111876886783303,-0.08915459254571872,-0.2522997507217814,0.06932574318439419,-0.047805610824550135,-0.14631129138896065,-0.17821885221153783,0.0382292602494241,-0.13187897327857825,-0.23502451458220563,-0.019303255013839712,-0.03272015979753471,-0.00561524542178332,-0.17417726151126528,-0.16202630496050865,-0.19984206371404767,0.03654860161543763,0.10103992598295872,-0.07186540836523414,-0.40304708604709966,0.059046549860323885,-0.025399582211044085,-0.30774111647065466,-0.2512769899330334,-0.1793598120314244,-0.13347131191251094,0.0033779884353776343,-0.16920870705692503,-0.26409994142301174,-0.1149758629704096,0.020049062507798227,-0.0013700457218814798,0.0771228228825679,-0.02340169917554941,-0.09403473206292258,-0.12741346120535257,-0.3175979147429069,-0.2200496991269695,-0.22076198443596426,0.0721721023077179,-0.0023325495253544754,-0.036501635665231555,-0.33823758642537893,-0.01794867996969749,-0.24570470582743023,-0.006836690413584262,0.10657821356090907,-0.04286465468814033,-0.09521286117002992,-0.1100411510038484,-0.02195851080849914,0.07230713584266762,-0.3495507919379564,-0.01510787127805284,-0.0322749461902624,-0.1585403264905613,-0.6598418955611428,0.07171435680567503,-0.48100888335981945,-0.02319815468755485,-0.2197550357933137,-0.3606827210108343,-0.3041636899179891,-0.381471345477798,-0.03961603843611206,-0.025825529975663217,-0.3655800783216555,0.03300982146110526,-0.31785376294478945,-0.06724041955098513,0.17439195067203028,-0.23525675572331722,0.07416345050544645,0.0643449468738085,-0.004789566798750114,-0.2244622386035383,-0.23631307380604347,-0.16136138914014359,-0.004339885164948111,0.00209533706958315,0.0678130526699274,-0.02356542248910421,0.1086558376177944,0.05339843306475781,-0.25249664143832196,-0.11007715890770205,-0.5602773924083332,0.04356268046526959,-0.06313935183951849,-0.43689522751208093,0.05858263110576767,0.06933341968683468,-0.026895298816041725,0.05722380402519619,-0.17827286290896321,0.057693132282802775,0.04571922906359586,-0.15008512064137203,-0.032326598094238664,-0.4352573177244265,-0.14320802454352877,-0.7295957575557694,-0.3737617444738185,0.13862443317426953,-0.23723817818818296,-0.1755500061190894,0.5261814591190975,0.016288434689578805,-0.35519395113350577,0.00017032205819343202,-0.3396984542134362,-0.33610585614703414,-0.12880433000200042,-0.2383820183476493,-0.1839216372016356,-0.07134184890784177,-0.3663356500166918,0.06911458683216017,-0.367945590331934,0.07885593911629492,-0.0496680511025453,-0.17425566317964822,0.0793627339535675,-0.06723985842758431,0.09599023751816853,-0.3117748106977252,0.055156151824736974,-0.19052103130633888,-0.22299360575070287,-0.2374586758661207,0.01581674119129977,-0.20391565567799816,-0.048002999662722215,-0.25349487283182354,0.018299352805536177,-0.18873404900074556,-0.08828672825754455,-0.33572248029861457,-0.024641046685406356,-0.019796925994526284,-0.04026529600909522,0.033617744531455516,-0.2592036694783219,-0.0691086141268491,0.03998802613388089,-0.051648895469411954,-0.15915770510459773,-0.01033666495786354,-0.17297528205292725,0.0013339304925733373,-0.15784445481157502,0.07887991605607109,-0.06587645938972518,0.10458463179243452,-0.18521725547190074,-0.2567791127131256,-0.5203896041247623,-0.032737974976378835,-0.16406014828803575,-0.03169256429945276,-0.07582244342695511,0.05989419590987517,-1.7815902583823828,-0.24699424877966186,0.008489540612583607,-0.22000150572612828,-0.13411248941813672,-0.12932497092551754,-0.1341667665153994,-0.059067867157603905,0.4312460827501361,0.1040738841143118,-0.07171518277548226,-0.13581381908011658,-0.08676195438743407,-0.35811696135043913,-0.27867555319934684,-0.026006122732430643],\"z\":[-0.040072848662641075,-0.04581765420634371,-0.1223894648909499,-0.060588851076378444,-0.304816656505267,-0.10932094001977845,0.0384949145650043,-0.11331773859545266,-0.36082755876376105,-0.15453869971100856,0.7428447120281895,-0.18639046112337201,0.08291936949774972,0.09408101740136972,-0.13476719466576323,-0.08340414651668912,-0.084542198672979,-0.12108655327274437,-0.0423845243157488,-0.05647120653810221,-0.1366293913977887,-0.14497394097012742,0.008035266639350964,-0.14059741069585643,-0.09611455001547183,-0.0554902755519271,-0.13660301421619236,-0.039982139873239,-0.1483098491987218,-0.0405973373300145,-0.1481166596249248,-0.040952983880425835,-0.1533998352533738,-0.1547157055430692,0.31745205414967925,0.11156488254056686,-0.2477178285294284,-0.11302364037952375,-0.19454726043714543,-0.14814287054810624,-0.15192425657724293,-0.14916093351419146,0.03474503855439492,-0.06742227656567995,-0.15796050241326423,-0.17361881022493303,-0.14665494137651658,-0.16661375035350748,-0.15473564522680902,-0.03943373666593245,0.004928159797356547,-0.4197451701322497,0.03847841203978845,-0.06059490515516638,-0.1543220324873935,-0.11434984329401693,-0.14864781152123505,0.44982135736968426,-0.10299170906608177,-0.14138357167840346,-0.06241812367716641,-0.11521789544237579,0.10759945219449424,-0.007011435624878162,-0.043351514368066245,-0.15784136672788981,-0.06058274224010429,-0.1540399123549485,-0.04325400592498435,-0.07787108141998432,-0.03772872504106545,-0.04420900500802973,-0.11138021755116823,-0.13475826500307342,-0.1403969100088628,-0.15067617535126457,0.00804465645337937,0.0072109045888785715,0.0014735391321201066,-0.0032586374763893104,-0.0010990989795492906,-0.48859415117269794,-0.0127556952956881,-0.028760954304470277,-0.002423596567231787,-0.0003908229871239298,-0.09812682803301574,-0.03752811306346669,-0.023534801297109283,-0.05429633650269032,-0.06095762128851866,-0.013975702204692452,-0.1542610724770559,0.0033572623733519806,-0.035112473029509136,-0.0030925525754232747,-0.04328834755110324,-0.03653586813259786,-0.7158645682840051,-0.23140719443174576,1.310557627467424,0.019956402434050613,-0.15149975436060314,0.11781617118959012,0.01395646259631097,-0.15586289570943623,-0.021702298014800243,-0.1559904742104356,-0.034220924813059606,-0.1502035049612601,-0.014898303675524116,-0.130237873533459,-0.05525747828371964,-0.030528851922543093,-0.11043171193298051,-0.09385913485859593,0.021740252529294735,-0.1413119358027326,-0.08109164043533182,-0.14436573675328027,-0.04167322121755817,-0.20348592396278048,0.34872483091537687,-0.14801525040725105,-0.06057838901878694,-0.16784290580940653,-0.0254655757910098,1.8403501151885069,-0.08932172797510159,-0.30001871170457045,0.004601206779890073,-0.7551173936660932,-0.10499453256294716,-0.08823186345847873,-0.147940969572241,-0.14049531557492792,0.00997433807367268,-0.5380894828943865,-0.02667888694009625,-0.2505215268444775,0.037866646516590906,-0.09562985204655965,-0.10461971541832889,-0.0605947292631575,-0.18190480461941452,-0.18431859469738232,-0.9346074334653288,0.08291481132623192,-0.02125905092403962,-0.10933395280970526,0.0947381751091992,-0.06329888857631813,-0.027828163990777154,-0.030274055422158122,-0.00365605932145866,-0.07949462425688454,-0.07995338277257673,-0.1657509332850055,-0.1419136118715512,0.0005712734400512868,-0.11486627776156834,0.056654988079823214,0.4272218277342202,0.04832128634657027,-0.11432542247735147,-0.13304696528670362,0.00770284681292766,0.11177728124423568,0.1178480315553141,0.009439288268067185,0.008288066243574919,-0.14447876127404663,-0.16087933301755158,-0.049021260827160844,-0.03683850411188145,-0.023630077506639896,-0.018516568378741802,-0.13302346219258565,0.04571933459684633,-0.12670581539234418,-0.008902257837250275,-0.03718835710513919,-0.1387467948530742,0.01210616992383626,0.00019665825418978887,-0.0018916721674339205,-0.062099255477744815,-0.1399225293006731,-0.05525838203404573,-0.13702663336484347,-0.02197495421173993,0.00712151861802165,0.9739512415926456,-0.11619062174451093,-0.3784320029175294,0.08303381280978898,-0.055318848783195686,0.005797847117531528,-0.004601272029588949,0.08283553560994311,0.0020165847389073508,0.03924486027894473,0.08402509612466828,-0.31185669807893346,-0.5274238803940723,-0.15453531193720074,0.04301706480949757,-0.0137506224309079,-0.19503510433823706,-0.09261577566469273,-0.3093686304737517,0.00958262569738748,0.05125040342659837,-0.04925887226118639,-0.030261516843982726,-0.1051962257921748,0.04832128634657027,-0.11078620440184708,0.032526846613370575,-0.04642894804336505,-0.20959992881638567,-0.0390404033897349,-0.049563663670469,-0.018490481370011806,-0.1582830592002503,-0.029379906114499813,-0.1034706718045149,-0.03403930416160408,-0.03825584868351244,0.009951084340018143,0.0579482273641467,-0.15122993825562617,-0.1863557643100165,-0.30238720726133245,-0.04821423636923785,0.012102473636397722,0.013246367536172867,-0.04167363668217898,-0.11273271948245175,-0.03633072575391702,-0.11127020798977902,0.006330181667309264,-0.3068443619752351,-0.15332528057878786,0.005378942235114731,-0.07918055888711514,-0.19291331586288865,-0.038167066867107496,-0.15244596229084656,-0.20731072445630955,-0.003253720884997494,-1.149703995722455,0.00632816536359212,0.266314547878754,-0.1207324363808475,-0.16301379355339285,0.08220799904002021,0.006312162620215311,-0.05833646890769444,0.050748187378181174,-0.018609295859488124,-0.03354406449794244,-0.043317340374418915,-0.03625349356335383,0.15137105914434085,0.012220861191331832,-0.15580215083771168,-0.014425200981551126,0.0016232562167327355,0.0464812787911568,-0.022402005678636913,-0.2007781000333375,0.15480591776968272,-0.14489930045024824,-0.027331293292450855,-0.08052342366045855,-0.09115970926818054,-0.13704129899121067,-0.27013076872445224,-0.11299797548049768,-0.14711572514294627,0.004151841541112949,-0.06637574763539784,0.007321435132215538,0.040146638177611056,-0.14787517233747252,-0.031518533810704956,-0.15047855498104537,-0.18348628193824038,-0.10422200861453494,-0.080416305437602,-0.15805731086731703,-0.04216731209709704,-0.14707965627779673,-0.6374443072339085,-0.64889715404778,0.9600885234723576,-0.04917776378324847,0.04006904715393224,-0.060588982058313604,0.00389290467698404,-0.0014800900206297775,-0.13837403018784453,0.08058827990360719,-0.40170714769675236,-0.11433142115028147,-0.10923366519821154,-0.09616296645702026,-0.09616501461212963,-0.03239743007915561,-0.0456188535702528,-0.1718559340360699,0.7465711310165281,0.5870743578351626,-0.028098275533363234,-0.18102822999394505,-0.04783966751145102,-0.1135015777421369,-0.04385601120862523,-0.1395423175089683,0.08595192945609678,-0.15455749907028954,-0.1869151869200576,0.05058676358786969,-0.006443835762384624,-0.33798444991114296,-0.05901351027106014,-0.06209842786064127,-0.0424904148996998,-0.09629189720687834,0.0133564452971742,-0.0377946069882074,0.12546677089972597,-0.1169627602905965,-0.08622747992320366,-0.5244740222568383,-0.19663990536946005,0.0003549915007847248,-0.11401752077364252,-0.03804433215036916,-0.09957640648121241,-0.19010267904820877,-0.11146717325068702,-0.2192894608080019,-0.10989754453378378,-0.3723505339772754,0.09232233288135168,0.01363042369145887,-0.1049432418863874,-0.12114020947701085,-0.07250272605754937,-0.17222148575929364,-0.16708082718900474,-0.008958947740461085,-0.514517997068964,-0.10136129856001293,-0.14376731623284733,0.015998791179755813,-0.13040030617272194,-0.1211502635925796,-0.038438989244510696,-0.04463961198753466,0.0012936558432067855,-0.02447625470303457,0.000823752003545928,0.17501604955758737,-0.09389133559723778,-0.3786186925177951,-0.03967752764030351,-0.3298877648164244,-0.010885674504989304,-0.046203054713239565,-0.18800461907056915,-0.21380459156249962,-0.06007907312622822,0.015354683234039714,-0.004954497991621496,-0.09022392125334758,-0.18985315584612752,-0.09144273826388002,0.4498388655848881,-0.06036313565693352,-0.2750075635679979,-0.005752482026032539,0.046724031489077666,-0.5334899566961099,-0.13259266700881037,-0.13476394360551883,-0.22001479325583095,0.00801392415685956,-0.03168402240081701,-0.048283175225317165,-0.18639304372878726,-0.015075687923965788,-0.02485490948235619,-0.002738571047454755,0.0842158192529845,-0.043526411377350846,-0.1611796871653389,-0.06636935786317794,-0.042699152426606005,0.08603035842313374,-0.1699382232609186,0.1499845773461643,-0.0440341214588037,-0.08809171691593567,-0.29335034202569177,-0.2593239318997691,-0.2481741021670254,-0.00030436184152394385,0.013485177018108797,-0.1757509360785549,-0.49860318795155784,-0.2964936316948889,-0.07825460741902762,0.006893759613811697,-0.0025168925984054014,-0.14599003871790006,-0.13351171226973158,-0.0365797632148225,-0.013157068798250725,-0.3122472523913948,-2.1009299186010366e-05,0.15035736087174847,0.2822559615944006,0.10282446313278591,-0.1455442504036879,-0.10497372007101344,0.21337489206201576,-0.006793982029481667,-0.036001603152621374,-0.005314628833693884,0.1736537666633836,0.0317488030265749,-0.15173438907030265,-0.03626288204313668,-0.11617751820423158,-0.3332400515635768,-0.318384961599532,-0.9228217279340787,0.03609087533407941,-0.008931372587944315,-0.013853956975470344,-0.021261980933267716,0.016340883154531832,-0.31589855427728764,0.03994915716033333,-0.13303042718658709,-0.04575471878458193,0.7153418861986766,0.024826750223355936,-0.7162611799973415,-0.20660856711225925,-0.13951321610060377,-0.0436123349171479,-0.06058897617113205,-1.1753930177986895,-0.024807187246814487,-0.1780395885380783,-0.040201455563214146,0.21466456508156442,0.2044890357609336,-0.008550911716703826,-0.14140751036634053,-0.11199222490492287,-0.06212260428730178,-0.193524583858476,-0.033987576443499534,-0.20419815901429,0.008064186391000115,-0.12820306856299374,-0.049288157115993464,0.03965876021591296,-0.03657774757508572,-0.18298941345144581,-0.5415971649007248,-0.00753993489641338,-0.0469616809449319,-0.1432391913006078,0.001197228671976891,-0.013761024357539333,-0.10346467551068493,-0.08570024629483912,-0.1517653364467118,-0.02592709329813725,-0.1792096971274382,-0.06414786274310855,0.21033833703017746,-0.04051898832211142,0.04570331635849099,-0.05527310728405789,-0.01921177598611749,-0.11040811237619484,-0.06758890479490635,0.0583588873373244,-0.007406784862816907,-0.02876105296613771,-0.045457540540926544,-0.19240079940744267,-0.03926793591103112,-0.025850312297626084,0.008178854771173081,-0.05748289509767355,0.07856702908011931,-0.12095242407174939,-0.1581370193149336,0.6052132032179537,0.051697538826947824,0.050108729962503394,-0.024092499165332397,-0.01823721765111502,-0.07668566205811245,-1.6809599087009721,-0.19107228919239583,-0.04148531678169124,0.0444343780322308,-0.12250614038731872,-0.5322556246269176,-0.12270111189249133,0.06963897082131557,0.19023889149384368,0.07278252979803458,0.05024933026458792,-0.16450421948735136,-0.06771729640482148,-0.1715689652355314,-0.1545385340682169,-0.007346824565475978]},{\"customdata\":[[\"VeChainThor Authority\"],[\"SHA-256 + Hive\"],[\"Proof-of-Authority\"]],\"hovertemplate\":\"<b>%{hovertext}</b><br><br>Class=%{marker.color}<br>PC 1=%{x}<br>PC 2=%{y}<br>PC 3=%{z}<br>Algorithm=%{customdata[0]}<extra></extra>\",\"hovertext\":[\"Vechain\",\"LitecoinCash\",\"Poa Network\"],\"legendgroup\":\"3\",\"marker\":{\"color\":[3,3,3],\"coloraxis\":\"coloraxis\",\"symbol\":\"diamond\"},\"mode\":\"markers\",\"name\":\"3\",\"scene\":\"scene\",\"showlegend\":true,\"type\":\"scatter3d\",\"x\":[11.55398823310069,5.509773073185056,-0.19699687211232048],\"y\":[2.76322463712473,2.930645754879283,15.241619349175046],\"z\":[15.27429552418012,15.630409276556799,28.55421780258444]},{\"customdata\":[[\"Proof-of-BibleHash\"]],\"hovertemplate\":\"<b>%{hovertext}</b><br><br>Class=%{marker.color}<br>PC 1=%{x}<br>PC 2=%{y}<br>PC 3=%{z}<br>Algorithm=%{customdata[0]}<extra></extra>\",\"hovertext\":[\"BiblePay\"],\"legendgroup\":\"1\",\"marker\":{\"color\":[1],\"coloraxis\":\"coloraxis\",\"symbol\":\"square\"},\"mode\":\"markers\",\"name\":\"1\",\"scene\":\"scene\",\"showlegend\":true,\"type\":\"scatter3d\",\"x\":[0.5034049580508371],\"y\":[36.3609223740452],\"z\":[-15.179880500700218]},{\"customdata\":[[\"TRC10\"]],\"hovertemplate\":\"<b>%{hovertext}</b><br><br>Class=%{marker.color}<br>PC 1=%{x}<br>PC 2=%{y}<br>PC 3=%{z}<br>Algorithm=%{customdata[0]}<extra></extra>\",\"hovertext\":[\"BitTorrent\"],\"legendgroup\":\"2\",\"marker\":{\"color\":[2],\"coloraxis\":\"coloraxis\",\"symbol\":\"x\"},\"mode\":\"markers\",\"name\":\"2\",\"scene\":\"scene\",\"showlegend\":true,\"type\":\"scatter3d\",\"x\":[36.60173721217358],\"y\":[-1.726117831797323],\"z\":[-6.511536626634953]}],                        {\"coloraxis\":{\"colorbar\":{\"title\":{\"text\":\"Class\"}},\"colorscale\":[[0.0,\"#0d0887\"],[0.1111111111111111,\"#46039f\"],[0.2222222222222222,\"#7201a8\"],[0.3333333333333333,\"#9c179e\"],[0.4444444444444444,\"#bd3786\"],[0.5555555555555556,\"#d8576b\"],[0.6666666666666666,\"#ed7953\"],[0.7777777777777778,\"#fb9f3a\"],[0.8888888888888888,\"#fdca26\"],[1.0,\"#f0f921\"]]},\"legend\":{\"title\":{\"text\":\"Class\"},\"tracegroupgap\":0,\"x\":0,\"y\":1},\"scene\":{\"domain\":{\"x\":[0.0,1.0],\"y\":[0.0,1.0]},\"xaxis\":{\"title\":{\"text\":\"PC 1\"}},\"yaxis\":{\"title\":{\"text\":\"PC 2\"}},\"zaxis\":{\"title\":{\"text\":\"PC 3\"}}},\"template\":{\"data\":{\"bar\":[{\"error_x\":{\"color\":\"#2a3f5f\"},\"error_y\":{\"color\":\"#2a3f5f\"},\"marker\":{\"line\":{\"color\":\"#E5ECF6\",\"width\":0.5},\"pattern\":{\"fillmode\":\"overlay\",\"size\":10,\"solidity\":0.2}},\"type\":\"bar\"}],\"barpolar\":[{\"marker\":{\"line\":{\"color\":\"#E5ECF6\",\"width\":0.5},\"pattern\":{\"fillmode\":\"overlay\",\"size\":10,\"solidity\":0.2}},\"type\":\"barpolar\"}],\"carpet\":[{\"aaxis\":{\"endlinecolor\":\"#2a3f5f\",\"gridcolor\":\"white\",\"linecolor\":\"white\",\"minorgridcolor\":\"white\",\"startlinecolor\":\"#2a3f5f\"},\"baxis\":{\"endlinecolor\":\"#2a3f5f\",\"gridcolor\":\"white\",\"linecolor\":\"white\",\"minorgridcolor\":\"white\",\"startlinecolor\":\"#2a3f5f\"},\"type\":\"carpet\"}],\"choropleth\":[{\"colorbar\":{\"outlinewidth\":0,\"ticks\":\"\"},\"type\":\"choropleth\"}],\"contour\":[{\"colorbar\":{\"outlinewidth\":0,\"ticks\":\"\"},\"colorscale\":[[0.0,\"#0d0887\"],[0.1111111111111111,\"#46039f\"],[0.2222222222222222,\"#7201a8\"],[0.3333333333333333,\"#9c179e\"],[0.4444444444444444,\"#bd3786\"],[0.5555555555555556,\"#d8576b\"],[0.6666666666666666,\"#ed7953\"],[0.7777777777777778,\"#fb9f3a\"],[0.8888888888888888,\"#fdca26\"],[1.0,\"#f0f921\"]],\"type\":\"contour\"}],\"contourcarpet\":[{\"colorbar\":{\"outlinewidth\":0,\"ticks\":\"\"},\"type\":\"contourcarpet\"}],\"heatmap\":[{\"colorbar\":{\"outlinewidth\":0,\"ticks\":\"\"},\"colorscale\":[[0.0,\"#0d0887\"],[0.1111111111111111,\"#46039f\"],[0.2222222222222222,\"#7201a8\"],[0.3333333333333333,\"#9c179e\"],[0.4444444444444444,\"#bd3786\"],[0.5555555555555556,\"#d8576b\"],[0.6666666666666666,\"#ed7953\"],[0.7777777777777778,\"#fb9f3a\"],[0.8888888888888888,\"#fdca26\"],[1.0,\"#f0f921\"]],\"type\":\"heatmap\"}],\"heatmapgl\":[{\"colorbar\":{\"outlinewidth\":0,\"ticks\":\"\"},\"colorscale\":[[0.0,\"#0d0887\"],[0.1111111111111111,\"#46039f\"],[0.2222222222222222,\"#7201a8\"],[0.3333333333333333,\"#9c179e\"],[0.4444444444444444,\"#bd3786\"],[0.5555555555555556,\"#d8576b\"],[0.6666666666666666,\"#ed7953\"],[0.7777777777777778,\"#fb9f3a\"],[0.8888888888888888,\"#fdca26\"],[1.0,\"#f0f921\"]],\"type\":\"heatmapgl\"}],\"histogram\":[{\"marker\":{\"pattern\":{\"fillmode\":\"overlay\",\"size\":10,\"solidity\":0.2}},\"type\":\"histogram\"}],\"histogram2d\":[{\"colorbar\":{\"outlinewidth\":0,\"ticks\":\"\"},\"colorscale\":[[0.0,\"#0d0887\"],[0.1111111111111111,\"#46039f\"],[0.2222222222222222,\"#7201a8\"],[0.3333333333333333,\"#9c179e\"],[0.4444444444444444,\"#bd3786\"],[0.5555555555555556,\"#d8576b\"],[0.6666666666666666,\"#ed7953\"],[0.7777777777777778,\"#fb9f3a\"],[0.8888888888888888,\"#fdca26\"],[1.0,\"#f0f921\"]],\"type\":\"histogram2d\"}],\"histogram2dcontour\":[{\"colorbar\":{\"outlinewidth\":0,\"ticks\":\"\"},\"colorscale\":[[0.0,\"#0d0887\"],[0.1111111111111111,\"#46039f\"],[0.2222222222222222,\"#7201a8\"],[0.3333333333333333,\"#9c179e\"],[0.4444444444444444,\"#bd3786\"],[0.5555555555555556,\"#d8576b\"],[0.6666666666666666,\"#ed7953\"],[0.7777777777777778,\"#fb9f3a\"],[0.8888888888888888,\"#fdca26\"],[1.0,\"#f0f921\"]],\"type\":\"histogram2dcontour\"}],\"mesh3d\":[{\"colorbar\":{\"outlinewidth\":0,\"ticks\":\"\"},\"type\":\"mesh3d\"}],\"parcoords\":[{\"line\":{\"colorbar\":{\"outlinewidth\":0,\"ticks\":\"\"}},\"type\":\"parcoords\"}],\"pie\":[{\"automargin\":true,\"type\":\"pie\"}],\"scatter\":[{\"marker\":{\"colorbar\":{\"outlinewidth\":0,\"ticks\":\"\"}},\"type\":\"scatter\"}],\"scatter3d\":[{\"line\":{\"colorbar\":{\"outlinewidth\":0,\"ticks\":\"\"}},\"marker\":{\"colorbar\":{\"outlinewidth\":0,\"ticks\":\"\"}},\"type\":\"scatter3d\"}],\"scattercarpet\":[{\"marker\":{\"colorbar\":{\"outlinewidth\":0,\"ticks\":\"\"}},\"type\":\"scattercarpet\"}],\"scattergeo\":[{\"marker\":{\"colorbar\":{\"outlinewidth\":0,\"ticks\":\"\"}},\"type\":\"scattergeo\"}],\"scattergl\":[{\"marker\":{\"colorbar\":{\"outlinewidth\":0,\"ticks\":\"\"}},\"type\":\"scattergl\"}],\"scattermapbox\":[{\"marker\":{\"colorbar\":{\"outlinewidth\":0,\"ticks\":\"\"}},\"type\":\"scattermapbox\"}],\"scatterpolar\":[{\"marker\":{\"colorbar\":{\"outlinewidth\":0,\"ticks\":\"\"}},\"type\":\"scatterpolar\"}],\"scatterpolargl\":[{\"marker\":{\"colorbar\":{\"outlinewidth\":0,\"ticks\":\"\"}},\"type\":\"scatterpolargl\"}],\"scatterternary\":[{\"marker\":{\"colorbar\":{\"outlinewidth\":0,\"ticks\":\"\"}},\"type\":\"scatterternary\"}],\"surface\":[{\"colorbar\":{\"outlinewidth\":0,\"ticks\":\"\"},\"colorscale\":[[0.0,\"#0d0887\"],[0.1111111111111111,\"#46039f\"],[0.2222222222222222,\"#7201a8\"],[0.3333333333333333,\"#9c179e\"],[0.4444444444444444,\"#bd3786\"],[0.5555555555555556,\"#d8576b\"],[0.6666666666666666,\"#ed7953\"],[0.7777777777777778,\"#fb9f3a\"],[0.8888888888888888,\"#fdca26\"],[1.0,\"#f0f921\"]],\"type\":\"surface\"}],\"table\":[{\"cells\":{\"fill\":{\"color\":\"#EBF0F8\"},\"line\":{\"color\":\"white\"}},\"header\":{\"fill\":{\"color\":\"#C8D4E3\"},\"line\":{\"color\":\"white\"}},\"type\":\"table\"}]},\"layout\":{\"annotationdefaults\":{\"arrowcolor\":\"#2a3f5f\",\"arrowhead\":0,\"arrowwidth\":1},\"autotypenumbers\":\"strict\",\"coloraxis\":{\"colorbar\":{\"outlinewidth\":0,\"ticks\":\"\"}},\"colorscale\":{\"diverging\":[[0,\"#8e0152\"],[0.1,\"#c51b7d\"],[0.2,\"#de77ae\"],[0.3,\"#f1b6da\"],[0.4,\"#fde0ef\"],[0.5,\"#f7f7f7\"],[0.6,\"#e6f5d0\"],[0.7,\"#b8e186\"],[0.8,\"#7fbc41\"],[0.9,\"#4d9221\"],[1,\"#276419\"]],\"sequential\":[[0.0,\"#0d0887\"],[0.1111111111111111,\"#46039f\"],[0.2222222222222222,\"#7201a8\"],[0.3333333333333333,\"#9c179e\"],[0.4444444444444444,\"#bd3786\"],[0.5555555555555556,\"#d8576b\"],[0.6666666666666666,\"#ed7953\"],[0.7777777777777778,\"#fb9f3a\"],[0.8888888888888888,\"#fdca26\"],[1.0,\"#f0f921\"]],\"sequentialminus\":[[0.0,\"#0d0887\"],[0.1111111111111111,\"#46039f\"],[0.2222222222222222,\"#7201a8\"],[0.3333333333333333,\"#9c179e\"],[0.4444444444444444,\"#bd3786\"],[0.5555555555555556,\"#d8576b\"],[0.6666666666666666,\"#ed7953\"],[0.7777777777777778,\"#fb9f3a\"],[0.8888888888888888,\"#fdca26\"],[1.0,\"#f0f921\"]]},\"colorway\":[\"#636efa\",\"#EF553B\",\"#00cc96\",\"#ab63fa\",\"#FFA15A\",\"#19d3f3\",\"#FF6692\",\"#B6E880\",\"#FF97FF\",\"#FECB52\"],\"font\":{\"color\":\"#2a3f5f\"},\"geo\":{\"bgcolor\":\"white\",\"lakecolor\":\"white\",\"landcolor\":\"#E5ECF6\",\"showlakes\":true,\"showland\":true,\"subunitcolor\":\"white\"},\"hoverlabel\":{\"align\":\"left\"},\"hovermode\":\"closest\",\"mapbox\":{\"style\":\"light\"},\"paper_bgcolor\":\"white\",\"plot_bgcolor\":\"#E5ECF6\",\"polar\":{\"angularaxis\":{\"gridcolor\":\"white\",\"linecolor\":\"white\",\"ticks\":\"\"},\"bgcolor\":\"#E5ECF6\",\"radialaxis\":{\"gridcolor\":\"white\",\"linecolor\":\"white\",\"ticks\":\"\"}},\"scene\":{\"xaxis\":{\"backgroundcolor\":\"#E5ECF6\",\"gridcolor\":\"white\",\"gridwidth\":2,\"linecolor\":\"white\",\"showbackground\":true,\"ticks\":\"\",\"zerolinecolor\":\"white\"},\"yaxis\":{\"backgroundcolor\":\"#E5ECF6\",\"gridcolor\":\"white\",\"gridwidth\":2,\"linecolor\":\"white\",\"showbackground\":true,\"ticks\":\"\",\"zerolinecolor\":\"white\"},\"zaxis\":{\"backgroundcolor\":\"#E5ECF6\",\"gridcolor\":\"white\",\"gridwidth\":2,\"linecolor\":\"white\",\"showbackground\":true,\"ticks\":\"\",\"zerolinecolor\":\"white\"}},\"shapedefaults\":{\"line\":{\"color\":\"#2a3f5f\"}},\"ternary\":{\"aaxis\":{\"gridcolor\":\"white\",\"linecolor\":\"white\",\"ticks\":\"\"},\"baxis\":{\"gridcolor\":\"white\",\"linecolor\":\"white\",\"ticks\":\"\"},\"bgcolor\":\"#E5ECF6\",\"caxis\":{\"gridcolor\":\"white\",\"linecolor\":\"white\",\"ticks\":\"\"}},\"title\":{\"x\":0.05},\"xaxis\":{\"automargin\":true,\"gridcolor\":\"white\",\"linecolor\":\"white\",\"ticks\":\"\",\"title\":{\"standoff\":15},\"zerolinecolor\":\"white\",\"zerolinewidth\":2},\"yaxis\":{\"automargin\":true,\"gridcolor\":\"white\",\"linecolor\":\"white\",\"ticks\":\"\",\"title\":{\"standoff\":15},\"zerolinecolor\":\"white\",\"zerolinewidth\":2}}},\"title\":{\"text\":\"Scatter Diagram\"},\"width\":1000},                        {\"responsive\": true}                    ).then(function(){\n",
       "                            \n",
       "var gd = document.getElementById('467b6059-3943-4608-9a6e-a68844ca9123');\n",
       "var x = new MutationObserver(function (mutations, observer) {{\n",
       "        var display = window.getComputedStyle(gd).display;\n",
       "        if (!display || display === 'none') {{\n",
       "            console.log([gd, 'removed!']);\n",
       "            Plotly.purge(gd);\n",
       "            observer.disconnect();\n",
       "        }}\n",
       "}});\n",
       "\n",
       "// Listen for the removal of the full notebook cells\n",
       "var notebookContainer = gd.closest('#notebook-container');\n",
       "if (notebookContainer) {{\n",
       "    x.observe(notebookContainer, {childList: true});\n",
       "}}\n",
       "\n",
       "// Listen for the clearing of the current output cell\n",
       "var outputEl = gd.closest('.output');\n",
       "if (outputEl) {{\n",
       "    x.observe(outputEl, {childList: true});\n",
       "}}\n",
       "\n",
       "                        })                };                });            </script>        </div>"
      ]
     },
     "metadata": {},
     "output_type": "display_data"
    }
   ],
   "source": [
    "# Create a 3D-Scatter with the PCA data and the clusters since we have three principal components\n",
    "fig = px.scatter_3d(clustered_df,\n",
    "    x=\"PC 1\",\n",
    "    y=\"PC 2\",\n",
    "    z=\"PC 3\",\n",
    "    hover_name='CoinName',\n",
    "    hover_data= ['Algorithm'],\n",
    "    color=\"Class\",\n",
    "    symbol=\"Class\",\n",
    "    width=1000,\n",
    "    title = \"Scatter Diagram\"\n",
    ")\n",
    "fig.update_layout(legend=dict(x=0, y=1))\n",
    "fig.show()\n"
   ]
  },
  {
   "cell_type": "markdown",
   "metadata": {},
   "source": [
    "#### Table of Tradable Cryptocurrencies"
   ]
  },
  {
   "cell_type": "code",
   "execution_count": 113,
   "metadata": {},
   "outputs": [
    {
     "data": {},
     "metadata": {},
     "output_type": "display_data"
    },
    {
     "data": {
      "application/vnd.holoviews_exec.v0+json": "",
      "text/html": [
       "<div id='3077'>\n",
       "\n",
       "\n",
       "\n",
       "\n",
       "\n",
       "  <div class=\"bk-root\" id=\"9e90e1d7-310e-478f-86ae-e94317551ea4\" data-root-id=\"3077\"></div>\n",
       "</div>\n",
       "<script type=\"application/javascript\">(function(root) {\n",
       "  function embed_document(root) {\n",
       "    var docs_json = {\"e24e2bcf-b62f-4458-9c23-6571e09def02\":{\"defs\":[{\"extends\":null,\"module\":null,\"name\":\"ReactiveHTML1\",\"overrides\":[],\"properties\":[]},{\"extends\":null,\"module\":null,\"name\":\"FlexBox1\",\"overrides\":[],\"properties\":[{\"default\":\"flex-start\",\"kind\":null,\"name\":\"align_content\"},{\"default\":\"flex-start\",\"kind\":null,\"name\":\"align_items\"},{\"default\":\"row\",\"kind\":null,\"name\":\"flex_direction\"},{\"default\":\"wrap\",\"kind\":null,\"name\":\"flex_wrap\"},{\"default\":\"flex-start\",\"kind\":null,\"name\":\"justify_content\"}]},{\"extends\":null,\"module\":null,\"name\":\"TemplateActions1\",\"overrides\":[],\"properties\":[{\"default\":0,\"kind\":null,\"name\":\"open_modal\"},{\"default\":0,\"kind\":null,\"name\":\"close_modal\"}]},{\"extends\":null,\"module\":null,\"name\":\"MaterialTemplateActions1\",\"overrides\":[],\"properties\":[{\"default\":0,\"kind\":null,\"name\":\"open_modal\"},{\"default\":0,\"kind\":null,\"name\":\"close_modal\"}]}],\"roots\":{\"references\":[{\"attributes\":{},\"id\":\"3080\",\"type\":\"Selection\"},{\"attributes\":{},\"id\":\"3106\",\"type\":\"NumberFormatter\"},{\"attributes\":{\"editor\":{\"id\":\"3107\"},\"field\":\"Class\",\"formatter\":{\"id\":\"3106\"},\"title\":\"Class\"},\"id\":\"3108\",\"type\":\"TableColumn\"},{\"attributes\":{},\"id\":\"3097\",\"type\":\"StringEditor\"},{\"attributes\":{\"data\":{\"Algorithm\":[\"Scrypt\",\"Scrypt\",\"X13\",\"SHA-256\",\"Ethash\",\"Scrypt\",\"X11\",\"CryptoNight-V7\",\"Ethash\",\"Equihash\",\"SHA-512\",\"Multiple\",\"SHA-256\",\"SHA-256\",\"Scrypt\",\"X15\",\"X11\",\"Scrypt\",\"Scrypt\",\"Scrypt\",\"Multiple\",\"Scrypt\",\"SHA-256\",\"Scrypt\",\"Scrypt\",\"Scrypt\",\"Quark\",\"Groestl\",\"Scrypt\",\"Scrypt\",\"Scrypt\",\"Scrypt\",\"Scrypt\",\"X11\",\"Scrypt\",\"Groestl\",\"Multiple\",\"SHA-256\",\"Scrypt\",\"Scrypt\",\"Scrypt\",\"Scrypt\",\"PoS\",\"Scrypt\",\"Scrypt\",\"NeoScrypt\",\"Scrypt\",\"Scrypt\",\"Scrypt\",\"Scrypt\",\"X11\",\"Scrypt\",\"X11\",\"SHA-256\",\"Scrypt\",\"Scrypt\",\"Scrypt\",\"SHA3\",\"Scrypt\",\"HybridScryptHash256\",\"Scrypt\",\"Scrypt\",\"SHA-256\",\"Scrypt\",\"X13\",\"Scrypt\",\"SHA-256\",\"Scrypt\",\"X13\",\"NeoScrypt\",\"Scrypt\",\"Scrypt\",\"Scrypt\",\"Scrypt\",\"Scrypt\",\"Scrypt\",\"X11\",\"X11\",\"SHA-256\",\"Multiple\",\"SHA-256\",\"PHI1612\",\"X11\",\"SHA-256\",\"SHA-256\",\"SHA-256\",\"X11\",\"Scrypt\",\"Scrypt\",\"Scrypt\",\"Scrypt\",\"Lyra2REv2\",\"Scrypt\",\"X11\",\"Multiple\",\"SHA-256\",\"X13\",\"Scrypt\",\"CryptoNight\",\"CryptoNight\",\"Shabal256\",\"Counterparty\",\"Scrypt\",\"SHA-256\",\"Groestl\",\"Scrypt\",\"Scrypt\",\"Scrypt\",\"X13\",\"Scrypt\",\"Scrypt\",\"Scrypt\",\"Scrypt\",\"X13\",\"Scrypt\",\"Stanford Folding\",\"X11\",\"Multiple\",\"QuBit\",\"Scrypt\",\"Scrypt\",\"Scrypt\",\"M7 POW\",\"Scrypt\",\"SHA-256\",\"Scrypt\",\"X11\",\"SHA3\",\"X11\",\"Lyra2RE\",\"SHA-256\",\"QUAIT\",\"X11\",\"X11\",\"Scrypt\",\"Scrypt\",\"Scrypt\",\"Ethash\",\"X13\",\"Blake2b\",\"SHA-256\",\"X15\",\"X11\",\"SHA-256\",\"BLAKE256\",\"Scrypt\",\"1GB AES Pattern Search\",\"SHA-256\",\"X11\",\"Scrypt\",\"SHA-256\",\"SHA-256\",\"NIST5\",\"Scrypt\",\"Scrypt\",\"X11\",\"Dagger\",\"Scrypt\",\"X11GOST\",\"X11\",\"Scrypt\",\"SHA-256\",\"Scrypt\",\"PoS\",\"Scrypt\",\"X11\",\"X11\",\"SHA-256\",\"SHA-256\",\"NIST5\",\"X11\",\"Scrypt\",\"POS 3.0\",\"Scrypt\",\"Scrypt\",\"Scrypt\",\"X13\",\"X11\",\"X11\",\"Equihash\",\"X11\",\"Scrypt\",\"CryptoNight\",\"SHA-256\",\"SHA-256\",\"X11\",\"Scrypt\",\"Multiple\",\"Scrypt\",\"Scrypt\",\"Scrypt\",\"SHA-256\",\"Scrypt\",\"Scrypt\",\"SHA-256D\",\"PoS\",\"Scrypt\",\"X11\",\"Lyra2Z\",\"PoS\",\"X13\",\"X14\",\"PoS\",\"SHA-256D\",\"Ethash\",\"Equihash\",\"DPoS\",\"X11\",\"Scrypt\",\"X11\",\"X13\",\"X11\",\"PoS\",\"Scrypt\",\"Scrypt\",\"X11\",\"PoS\",\"X11\",\"SHA-256\",\"Scrypt\",\"X11\",\"Scrypt\",\"Scrypt\",\"X11\",\"CryptoNight\",\"Scrypt\",\"Scrypt\",\"Scrypt\",\"Scrypt\",\"Quark\",\"QuBit\",\"Scrypt\",\"CryptoNight\",\"Lyra2RE\",\"Scrypt\",\"SHA-256\",\"X11\",\"Scrypt\",\"X11\",\"Scrypt\",\"CryptoNight-V7\",\"Scrypt\",\"Scrypt\",\"Scrypt\",\"X13\",\"X11\",\"Equihash\",\"Scrypt\",\"Scrypt\",\"Lyra2RE\",\"Scrypt\",\"Dagger-Hashimoto\",\"X11\",\"Blake2S\",\"X11\",\"Scrypt\",\"PoS\",\"X11\",\"NIST5\",\"PoS\",\"X11\",\"Scrypt\",\"Scrypt\",\"Scrypt\",\"SHA-256\",\"X11\",\"Scrypt\",\"Scrypt\",\"SHA-256\",\"PoS\",\"Scrypt\",\"X15\",\"SHA-256\",\"Scrypt\",\"POS 3.0\",\"CryptoNight-V7\",\"536\",\"Argon2d\",\"Blake2b\",\"Cloverhash\",\"CryptoNight\",\"NIST5\",\"X11\",\"NIST5\",\"Skein\",\"Scrypt\",\"X13\",\"Scrypt\",\"X11\",\"X11\",\"Scrypt\",\"CryptoNight\",\"X13\",\"Time Travel\",\"Scrypt\",\"Keccak\",\"SkunkHash v2 Raptor\",\"X11\",\"Skein\",\"SHA-256\",\"X11\",\"Scrypt\",\"VeChainThor Authority\",\"Scrypt\",\"PoS\",\"Scrypt\",\"Scrypt\",\"Scrypt\",\"Scrypt\",\"Scrypt\",\"Scrypt\",\"Scrypt\",\"CryptoNight\",\"SHA-512\",\"Ouroboros\",\"X11\",\"Equihash\",\"NeoScrypt\",\"X11\",\"Scrypt\",\"NeoScrypt\",\"Lyra2REv2\",\"Equihash\",\"Scrypt\",\"SHA-256\",\"NIST5\",\"PHI1612\",\"Dagger\",\"Scrypt\",\"Quark\",\"Scrypt\",\"POS 2.0\",\"Scrypt\",\"SHA-256\",\"X11\",\"NeoScrypt\",\"Ethash\",\"NeoScrypt\",\"X11\",\"DPoS\",\"NIST5\",\"X13\",\"Multiple\",\"Scrypt\",\"CryptoNight\",\"CryptoNight\",\"Ethash\",\"NIST5\",\"Quark\",\"X11\",\"CryptoNight-V7\",\"Scrypt\",\"Scrypt\",\"Scrypt\",\"X11\",\"BLAKE256\",\"X11\",\"NeoScrypt\",\"Quark\",\"NeoScrypt\",\"Scrypt\",\"Scrypt\",\"Scrypt\",\"X11\",\"X11\",\"SHA-256\",\"C11\",\"POS 3.0\",\"Ethash\",\"Scrypt\",\"CryptoNight\",\"SkunkHash\",\"Scrypt\",\"CryptoNight\",\"Scrypt\",\"Dagger\",\"Lyra2REv2\",\"X13\",\"Proof-of-BibleHash\",\"SHA-256 + Hive\",\"Scrypt\",\"Scrypt\",\"X11\",\"C11\",\"Proof-of-Authority\",\"X11\",\"XEVAN\",\"Scrypt\",\"VBFT\",\"Ethash\",\"CryptoNight\",\"Scrypt\",\"IMesh\",\"NIST5\",\"Scrypt\",\"Scrypt\",\"Equihash\",\"Scrypt\",\"Lyra2Z\",\"Green Protocol\",\"PoS\",\"Scrypt\",\"Semux BFT consensus\",\"X11\",\"Quark\",\"PoS\",\"CryptoNight\",\"X16R\",\"Scrypt\",\"NIST5\",\"Lyra2RE\",\"XEVAN\",\"Tribus\",\"Scrypt\",\"Lyra2Z\",\"CryptoNight\",\"CryptoNight Heavy\",\"CryptoNight\",\"Scrypt\",\"Scrypt\",\"Jump Consistent Hash\",\"SHA-256D\",\"CryptoNight\",\"Scrypt\",\"X15\",\"Scrypt\",\"Quark\",\"SHA-256\",\"DPoS\",\"X16R\",\"HMQ1725\",\"X11\",\"X16R\",\"Quark\",\"Quark\",\"Scrypt\",\"Lyra2REv2\",\"Quark\",\"Scrypt\",\"Scrypt\",\"CryptoNight-V7\",\"Cryptonight-GPU\",\"XEVAN\",\"CryptoNight Heavy\",\"X11\",\"X11\",\"Scrypt\",\"PoS\",\"SHA-256\",\"Keccak\",\"X11\",\"X11\",\"Scrypt\",\"SHA-512\",\"X16R\",\"ECC 256K1\",\"Equihash\",\"XEVAN\",\"Lyra2Z\",\"SHA-256\",\"XEVAN\",\"X11\",\"CryptoNight\",\"Quark\",\"Blake\",\"Blake\",\"Equihash\",\"Exosis\",\"Scrypt\",\"Scrypt\",\"Equihash\",\"Quark\",\"Equihash\",\"Quark\",\"Scrypt\",\"QuBit\",\"X11\",\"Scrypt\",\"XEVAN\",\"SHA-256D\",\"X11\",\"SHA-256\",\"X13\",\"SHA-256\",\"X11\",\"DPoS\",\"Scrypt\",\"Scrypt\",\"X11\",\"NeoScrypt\",\"Scrypt\",\"Blake\",\"Scrypt\",\"SHA-256\",\"Scrypt\",\"X11\",\"Scrypt\",\"Scrypt\",\"SHA-256\",\"X11\",\"SHA-256\",\"Scrypt\",\"Scrypt\",\"Scrypt\",\"Groestl\",\"X11\",\"Scrypt\",\"PoS\",\"Scrypt\",\"Scrypt\",\"X11\",\"SHA-256\",\"DPoS\",\"Scrypt\",\"Scrypt\",\"NeoScrypt\",\"SHA3-256\",\"Multiple\",\"X13\",\"Equihash+Scrypt\",\"DPoS\",\"Ethash\",\"DPoS\",\"SHA-256\",\"Leased POS\",\"PoS\",\"TRC10\",\"PoS\",\"SHA-256\",\"Scrypt\",\"CryptoNight\",\"Equihash\",\"Scrypt\"],\"Class\":{\"__ndarray__\":\"AAAAAAAAAAAAAAAAAAAAAAAAAAAAAAAAAAAAAAAAAAAAAAAAAAAAAAAAAAAAAAAAAAAAAAAAAAAAAAAAAAAAAAAAAAAAAAAAAAAAAAAAAAAAAAAAAAAAAAAAAAAAAAAAAAAAAAAAAAAAAAAAAAAAAAAAAAAAAAAAAAAAAAAAAAAAAAAAAAAAAAAAAAAAAAAAAAAAAAAAAAAAAAAAAAAAAAAAAAAAAAAAAAAAAAAAAAAAAAAAAAAAAAAAAAAAAAAAAAAAAAAAAAAAAAAAAAAAAAAAAAAAAAAAAAAAAAAAAAAAAAAAAAAAAAAAAAAAAAAAAAAAAAAAAAAAAAAAAAAAAAAAAAAAAAAAAAAAAAAAAAAAAAAAAAAAAAAAAAAAAAAAAAAAAAAAAAAAAAAAAAAAAAAAAAAAAAAAAAAAAAAAAAAAAAAAAAAAAAAAAAAAAAAAAAAAAAAAAAAAAAAAAAAAAAAAAAAAAAAAAAAAAAAAAAAAAAAAAAAAAAAAAAAAAAAAAAAAAAAAAAAAAAAAAAAAAAAAAAAAAAAAAAAAAAAAAAAAAAAAAAAAAAAAAAAAAAAAAAAAAAAAAAAAAAAAAAAAAAAAAAAAAAAAAAAAAAAAAAAAAAAAAAAAAAAAAAAAAAAAAAAAAAAAAAAAAAAAAAAAAAAAAAAAAAAAAAAAAAAAAAAAAAAAAAAAAAAAAAAAAAAAAAAAAAAAAAAAAAAAAAAAAAAAAAAAAAAAAAAAAAAAAAAAAAAAAAAAAAAAAAAAAAAAAAAAAAAAAAAAAAAAAAAAAAAAAAAAAAAAAAAAAAAAAAAAAAAAAAAAAAAAAAAAAAAAAAAAAAAAAAAAAAAAAAAAAAAAAAAAAAAAAAAAAAAAAAAAAAAAAAAAAAAAAAAAAAAAAAAAAAAAAAAAAAAAAAAAAAAAAAAAAAAAAAAAAAAAAAAAAAAAAAAAAAAAAAAAAAAAAAAAAAAAAAAAAAAAAAAAAAAAAAAAAAAAAAAAAAAAAAAAAAAAAAAAAAAAAAAAAAAAAAAAAAAAAAAAAAAAAAAAAAAAAAAAAAAAAAAAAAAAAAAAAAAAAAAAAAAAAAAAAAAAAAAAAAAAAAAAAAAAAAAAAAAAAAAAAAAAAAAAAAAAAAAAAAAAAAAAAAAAAAAAAAAAAAAAAAAAAAAAAAAAAAAAAAAAAAAAAAAAAAAAAAAAAAAAAAAAAAAAAAAAAAAAAAAAAAAAAAAAAAAAAAAAAAAAAAAAAAAAAAAAAAAAAAAAAAAAAAAAAAAAAAAAAAAAAAAAAAAAAAAAAAAAAAAAAAAAAAAAAAAAAAAAAAAAAAAAAAAAAAAAAAAAAAAAAAAAAAAAAAAAAAAAAAAAAAAAAAAAAAAAAAAAAAAAAAAAAAAAAAAAAAAAAAAAAAAAAAAAAAAAAAAAAAAAAAAAAAAAAAAAAAAAAAAAAAAAAAAAAAAAAAAAAAAAAAAAAAAAAAAAAAAAAAAAAAAAAAAAAAAAAAAAAAAAAAAAAAAAAAAAAAAAAAAAAAAAAAAAAAAAAAAAAAAAAAAAAAAAAAAAAAAAAAAAAAAAAAAAAAAAAAAAAAAAAAAAAAAAAAAAAAAAAAAAAAAAAAAAAAAAAAADAAAAAAAAAAAAAAAAAAAAAAAAAAAAAAAAAAAAAAAAAAAAAAAAAAAAAAAAAAAAAAAAAAAAAAAAAAAAAAAAAAAAAAAAAAAAAAAAAAAAAAAAAAAAAAAAAAAAAAAAAAAAAAAAAAAAAAAAAAAAAAAAAAAAAAAAAAAAAAAAAAAAAAAAAAAAAAAAAAAAAAAAAAAAAAAAAAAAAAAAAAAAAAAAAAAAAAAAAAAAAAAAAAAAAAAAAAAAAAAAAAAAAAAAAAAAAAAAAAAAAAAAAAAAAAAAAAAAAAAAAAAAAAAAAAAAAAAAAAAAAAAAAAAAAAAAAAAAAAAAAAAAAAAAAAAAAAAAAAAAAAAAAAAAAAAAAAAAAAAAAAAAAAAAAAAAAAAAAAAAAAAAAAAAAAAAAAAAAAAAAAAAAQAAAAMAAAAAAAAAAAAAAAAAAAAAAAAAAwAAAAAAAAAAAAAAAAAAAAAAAAAAAAAAAAAAAAAAAAAAAAAAAAAAAAAAAAAAAAAAAAAAAAAAAAAAAAAAAAAAAAAAAAAAAAAAAAAAAAAAAAAAAAAAAAAAAAAAAAAAAAAAAAAAAAAAAAAAAAAAAAAAAAAAAAAAAAAAAAAAAAAAAAAAAAAAAAAAAAAAAAAAAAAAAAAAAAAAAAAAAAAAAAAAAAAAAAAAAAAAAAAAAAAAAAAAAAAAAAAAAAAAAAAAAAAAAAAAAAAAAAAAAAAAAAAAAAAAAAAAAAAAAAAAAAAAAAAAAAAAAAAAAAAAAAAAAAAAAAAAAAAAAAAAAAAAAAAAAAAAAAAAAAAAAAAAAAAAAAAAAAAAAAAAAAAAAAAAAAAAAAAAAAAAAAAAAAAAAAAAAAAAAAAAAAAAAAAAAAAAAAAAAAAAAAAAAAAAAAAAAAAAAAAAAAAAAAAAAAAAAAAAAAAAAAAAAAAAAAAAAAAAAAAAAAAAAAAAAAAAAAAAAAAAAAAAAAAAAAAAAAAAAAAAAAAAAAAAAAAAAAAAAAAAAAAAAAAAAAAAAAAAAAAAAAAAAAAAAAAAAAAAAAAAAAAAAAAAAAAAAAAAAAAAAAAAAAAAAAAAAAAAAAAAAAAAAAAAAAAAAAAAAAAAAAAAAAAAAAAAAAAAAAAAAAAAAAAAAAAAAAAAAAAAAAAAAAAAAAAAAAAAAAAAAAAAAAAAAAAAAAAAAAAAAAAAAAAAAAAAAAAAAAAAAAAAAAIAAAAAAAAAAAAAAAAAAAAAAAAAAAAAAAAAAAA=\",\"dtype\":\"int32\",\"order\":\"little\",\"shape\":[533]},\"CoinName\":[\"42 Coin\",\"404Coin\",\"EliteCoin\",\"Bitcoin\",\"Ethereum\",\"Litecoin\",\"Dash\",\"Monero\",\"Ethereum Classic\",\"ZCash\",\"Bitshares\",\"DigiByte\",\"BitcoinDark\",\"PayCoin\",\"ProsperCoin\",\"KoboCoin\",\"Spreadcoin\",\"Argentum\",\"Aurora Coin\",\"BlueCoin\",\"MyriadCoin\",\"MoonCoin\",\"ZetaCoin\",\"SexCoin\",\"Quatloo\",\"EnergyCoin\",\"QuarkCoin\",\"Riecoin\",\"Digitalcoin \",\"BitBar\",\"Catcoin\",\"CryptoBullion\",\"CannaCoin\",\"CryptCoin\",\"CasinoCoin\",\"Diamond\",\"Verge\",\"DevCoin\",\"EarthCoin\",\"E-Gulden\",\"Einsteinium\",\"Emerald\",\"Exclusive Coin\",\"FlutterCoin\",\"Franko\",\"FeatherCoin\",\"GrandCoin\",\"GlobalCoin\",\"GoldCoin\",\"HoboNickels\",\"HyperStake\",\"Infinite Coin\",\"IOCoin\",\"IXcoin\",\"KrugerCoin\",\"LuckyCoin\",\"Litebar \",\"MaxCoin\",\"MegaCoin\",\"MediterraneanCoin\",\"MintCoin\",\"MinCoin\",\"MazaCoin\",\"Nautilus Coin\",\"NavCoin\",\"NobleCoin\",\"Namecoin\",\"NyanCoin\",\"OpalCoin\",\"Orbitcoin\",\"PotCoin\",\"PhoenixCoin\",\"Reddcoin\",\"RonPaulCoin\",\"StableCoin\",\"SmartCoin\",\"SuperCoin\",\"SyncCoin\",\"SysCoin\",\"TeslaCoin\",\"TigerCoin\",\"TittieCoin\",\"TorCoin\",\"TerraCoin\",\"UnbreakableCoin\",\"Unobtanium\",\"UroCoin\",\"UnitaryStatus Dollar\",\"UltraCoin\",\"ViaCoin\",\"VeriCoin\",\"Vertcoin\",\"WorldCoin\",\"X11 Coin\",\"Crypti\",\"JouleCoin\",\"StealthCoin\",\"ZCC Coin\",\"ByteCoin\",\"DigitalNote \",\"BurstCoin\",\"StorjCoin\",\"MonaCoin\",\"Neutron\",\"FairCoin\",\"Gulden\",\"RubyCoin\",\"PesetaCoin\",\"Kore\",\"Wild Beast Coin\",\"Dnotes\",\"Flo\",\"8BIT Coin\",\"Sativa Coin\",\"ArtByte\",\"Folding Coin\",\"Ucoin\",\"Unitus\",\"CypherPunkCoin\",\"OmniCron\",\"Vtorrent\",\"GreenCoin\",\"Cryptonite\",\"MasterCoin\",\"SoonCoin\",\"1Credit\",\"IslaCoin\",\"Nexus\",\"MarsCoin \",\"Crypto\",\"Anarchists Prime\",\"Droidz\",\"BowsCoin\",\"Squall Coin\",\"Song Coin\",\"BitZeny\",\"Diggits\",\"Expanse\",\"Paycon\",\"Siacoin\",\"Emercoin\",\"EverGreenCoin\",\"MindCoin\",\"I0coin\",\"Decred\",\"Revolution VR\",\"HOdlcoin\",\"EDRCoin\",\"Hitcoin\",\"Gamecredits\",\"DubaiCoin\",\"CarpeDiemCoin\",\"PWR Coin\",\"BillaryCoin\",\"GPU Coin\",\"Adzcoin\",\"SoilCoin\",\"YoCoin\",\"SibCoin\",\"EuropeCoin\",\"ZeitCoin\",\"SwingCoin\",\"SafeExchangeCoin\",\"Nebuchadnezzar\",\"Francs\",\"BolivarCoin\",\"Ratecoin\",\"Revenu\",\"Clockcoin\",\"VIP Tokens\",\"BitSend\",\"Omni\",\"Let it Ride\",\"PutinCoin\",\"iBankCoin\",\"Frankywillcoin\",\"MudraCoin\",\"PizzaCoin\",\"Lutetium Coin\",\"Komodo\",\"GoldBlocks\",\"CarterCoin\",\"Karbo\",\"BitTokens\",\"ZayedCoin\",\"MustangCoin\",\"ZoneCoin\",\"Circuits of Value\",\"RootCoin\",\"DopeCoin\",\"BitCurrency\",\"DollarCoin\",\"Swiscoin\",\"Shilling\",\"BuzzCoin\",\"Opair\",\"PesoBit\",\"Halloween Coin\",\"ZCoin\",\"CoffeeCoin\",\"RoyalCoin\",\"GanjaCoin V2\",\"TeamUP\",\"LanaCoin\",\"Elementrem\",\"ZClassic\",\"ARK\",\"InsaneCoin\",\"KiloCoin\",\"ArtexCoin\",\"EmberCoin\",\"XenixCoin\",\"FreeCoin\",\"PLNCoin\",\"AquariusCoin\",\"Kurrent\",\"Creatio\",\"Eternity\",\"Eurocoin\",\"BitcoinFast\",\"Stakenet\",\"BitConnect Coin\",\"MoneyCoin\",\"Enigma\",\"Cannabis Industry Coin\",\"Russiacoin\",\"PandaCoin\",\"GameUnits\",\"GAKHcoin\",\"Allsafe\",\"LiteCreed\",\"OsmiumCoin\",\"Bikercoins\",\"HexxCoin\",\"Klingon Empire Darsek\",\"Internet of People\",\"KushCoin\",\"Printerium\",\"PacCoin\",\"Impeach\",\"Citadel\",\"Zilbercoin\",\"FirstCoin\",\"BeaverCoin\",\"FindCoin\",\"VaultCoin\",\"Zero\",\"OpenChat\",\"Canada eCoin\",\"Zoin\",\"RenosCoin\",\"DubaiCoin\",\"VirtacoinPlus\",\"TajCoin\",\"Impact\",\"EB3coin\",\"Atmos\",\"HappyCoin\",\"Coinonat\",\"MacronCoin\",\"Condensate\",\"Independent Money System\",\"ArgusCoin\",\"LomoCoin\",\"ProCurrency\",\"GoldReserve\",\"BenjiRolls\",\"GrowthCoin\",\"ILCoin\",\"Phreak\",\"Degas Coin\",\"HTML5 Coin\",\"Ultimate Secure Cash\",\"EquiTrader\",\"QTUM\",\"Quantum Resistant Ledger\",\"Espers\",\"Dynamic\",\"Nano\",\"ChanCoin\",\"Dinastycoin\",\"Denarius\",\"DigitalPrice\",\"Virta Unique Coin\",\"Bitcoin Planet\",\"Unify\",\"BritCoin\",\"SocialCoin\",\"ArcticCoin\",\"DAS\",\"Linda\",\"LeviarCoin\",\"DeepOnion\",\"Bitcore\",\"gCn Coin\",\"SmartCash\",\"Signatum\",\"Onix\",\"Cream\",\"Bitcoin Cash\",\"Monoeci\",\"Draftcoin\",\"Vechain\",\"Sojourn Coin\",\"Stakecoin\",\"NewYorkCoin\",\"FrazCoin\",\"Kronecoin\",\"AdCoin\",\"Linx\",\"CoinonatX\",\"Ethereum Dark\",\"Sumokoin\",\"Obsidian\",\"Cardano\",\"Regalcoin\",\"BitcoinZ\",\"TrezarCoin\",\"Elements\",\"TerraNovaCoin\",\"VIVO Coin\",\"Rupee\",\"Bitcoin Gold\",\"WomenCoin\",\"Theresa May Coin\",\"NamoCoin\",\"LUXCoin\",\"Pirl\",\"Xios\",\"Bitcloud 2.0\",\"eBoost\",\"KekCoin\",\"BlackholeCoin\",\"Infinity Economics\",\"Pura\",\"Innova\",\"Ellaism\",\"GoByte\",\"Magnet\",\"Lamden Tau\",\"Electra\",\"Bitcoin Diamond\",\"SHIELD\",\"Cash & Back Coin\",\"UltraNote\",\"BitCoal\",\"DaxxCoin\",\"Bulwark\",\"Kalkulus\",\"AC3\",\"Lethean\",\"GermanCoin\",\"LiteCoin Ultra\",\"PopularCoin\",\"PhantomX\",\"Photon\",\"Sucre\",\"SparksPay\",\"Digiwage\",\"GunCoin\",\"IrishCoin\",\"Trollcoin\",\"Litecoin Plus\",\"Monkey Project\",\"Pioneer Coin\",\"UnitedBitcoin\",\"Interzone\",\"TokenPay\",\"1717 Masonic Commemorative Token\",\"My Big Coin\",\"TurtleCoin\",\"MUNcoin\",\"Unified Society USDEX\",\"Niobio Cash\",\"ShareChain\",\"Travelflex\",\"KREDS\",\"Tokyo Coin\",\"BiblePay\",\"LitecoinCash\",\"BitFlip\",\"LottoCoin\",\"Crypto Improvement Fund\",\"Stipend\",\"Poa Network\",\"Pushi\",\"Ellerium\",\"Velox\",\"Ontology\",\"Callisto Network\",\"BitTube\",\"Poseidon\",\"Aidos Kuneen\",\"Bitspace\",\"Briacoin\",\"Ignition\",\"Bitrolium\",\"MedicCoin\",\"Alpenschillling\",\"Bitcoin Green\",\"Deviant Coin\",\"Abjcoin\",\"Semux\",\"FuturoCoin\",\"Carebit\",\"Zealium\",\"Monero Classic\",\"Proton\",\"iDealCash\",\"Jumpcoin\",\"Infinex\",\"Bitcoin Incognito\",\"KEYCO\",\"HollyWoodCoin\",\"GINcoin\",\"PlatinCoin\",\"Loki\",\"Newton Coin\",\"Swisscoin\",\"Xt3ch\",\"MassGrid\",\"TheVig\",\"PluraCoin\",\"EmaratCoin\",\"Dekado\",\"Lynx\",\"Poseidon Quark\",\"BitcoinWSpectrum\",\"Muse\",\"Motion\",\"PlusOneCoin\",\"Axe\",\"Trivechain\",\"Dystem\",\"Giant\",\"Peony Coin\",\"Absolute Coin\",\"Vitae\",\"HexCoin\",\"TPCash\",\"Webchain\",\"Ryo\",\"Urals Coin\",\"Qwertycoin\",\"ARENON\",\"EUNO\",\"MMOCoin\",\"Ketan\",\"Project Pai\",\"XDNA\",\"PAXEX\",\"Azart\",\"ThunderStake\",\"Kcash\",\"Xchange\",\"Acute Angle Cloud\",\"CrypticCoin\",\"Bettex coin\",\"Actinium\",\"Bitcoin SV\",\"BitMoney\",\"Junson Ming Chan Coin\",\"FREDEnergy\",\"HerbCoin\",\"Universal Molecule\",\"Lithium\",\"PirateCash\",\"Exosis\",\"Block-Logic\",\"Oduwa\",\"Beam\",\"Galilel\",\"Bithereum\",\"Crypto Sports\",\"Credit\",\"SLICE\",\"Dash Platinum\",\"Nasdacoin\",\"Beetle Coin\",\"Titan Coin\",\"Award\",\"BLAST\",\"Bitcoin Rhodium\",\"GlobalToken\",\"Insane Coin\",\"ALAX\",\"LiteDoge\",\"SolarCoin\",\"TruckCoin\",\"UFO Coin\",\"OrangeCoin\",\"BlakeCoin\",\"BitstarCoin\",\"NeosCoin\",\"HyperCoin\",\"PinkCoin\",\"Crypto Escudo\",\"AudioCoin\",\"IncaKoin\",\"Piggy Coin\",\"Crown Coin\",\"Genstake\",\"SmileyCoin\",\"XiaoMiCoin\",\"Groestlcoin\",\"CapriCoin\",\" ClubCoin\",\"Radium\",\"Bata\",\"Pakcoin\",\"Creditbit \",\"OKCash\",\"Lisk\",\"HiCoin\",\"WhiteCoin\",\"FriendshipCoin\",\"Fiii\",\"JoinCoin\",\"Triangles Coin\",\"Vollar\",\"EOS\",\"Reality Clash\",\"Oxycoin\",\"TigerCash\",\"Waves\",\"Particl\",\"BitTorrent\",\"Nxt\",\"ZEPHYR\",\"Gapcoin\",\"Beldex\",\"Horizen\",\"BitcoinPlus\"],\"ProofType\":[\"PoW/PoS\",\"PoW/PoS\",\"PoW/PoS\",\"PoW\",\"PoW\",\"PoW\",\"PoW/PoS\",\"PoW\",\"PoW\",\"PoW\",\"PoS\",\"PoW\",\"PoW/PoS\",\"PoS\",\"PoW\",\"PoW/PoS\",\"PoW\",\"PoW\",\"PoW/PoS\",\"PoW/PoS\",\"PoW\",\"PoW\",\"PoW\",\"PoW\",\"PoW\",\"PoW/PoS\",\"PoW\",\"PoW\",\"PoW\",\"PoW/PoS\",\"PoW\",\"PoW/PoS\",\"PoW\",\"PoW\",\"PoC\",\"PoW/PoS\",\"PoW\",\"PoW\",\"PoW\",\"PoW\",\"PoW\",\"PoW\",\"PoS\",\"PoS/PoW/PoT\",\"PoW\",\"PoW\",\"PoW\",\"PoW\",\"PoW\",\"PoW/PoS\",\"PoS\",\"PoW\",\"PoW/PoS\",\"PoW\",\"PoW\",\"PoW\",\"PoW\",\"PoW/PoS\",\"PoW\",\"PoW\",\"PoS\",\"PoW\",\"PoW/PoS\",\"PoS\",\"PoW/PoS\",\"PoW\",\"PoW\",\"PoW\",\"PoW/PoS\",\"PoW/PoS\",\"PoW/PoS\",\"PoW/PoS\",\"PoW/PoS\",\"PoW\",\"PoW\",\"PoW\",\"PoS\",\"PoW/PoS\",\"PoW\",\"PoS\",\"PoW\",\"PoS\",\"PoW/PoS\",\"PoW\",\"PoW\",\"PoW\",\"PoW\",\"PoW/PoS\",\"PoW/PoS\",\"PoW\",\"PoST\",\"PoW\",\"PoW\",\"PoW/PoS\",\"PoS\",\"PoW\",\"PoW/PoS\",\"PoW/PoS\",\"PoW\",\"PoW\",\"PoC\",\"PoS\",\"PoW\",\"PoW/PoS\",\"PoW/PoS\",\"PoW\",\"PoS\",\"PoW\",\"PoW/PoS\",\"PoW\",\"PoS\",\"PoW\",\"PoW/PoS\",\"PoW/PoS\",\"PoW\",\"PoW\",\"PoS\",\"PoW\",\"PoW\",\"PoW\",\"PoW/PoS\",\"PoW\",\"PoW\",\"PoW\",\"PoW\",\"PoW\",\"PoW/PoS\",\"PoW/nPoS\",\"PoW\",\"PoW\",\"PoW\",\"PoW/PoS\",\"PoW\",\"PoS/PoW\",\"PoW\",\"PoW\",\"PoS\",\"PoW\",\"PoW/PoS\",\"PoW\",\"PoW/PoS\",\"PoW/PoS\",\"PoW\",\"PoW\",\"PoW/PoS\",\"PoW\",\"PoW\",\"PoW/PoS\",\"PoW/PoS\",\"PoW\",\"PoW/PoS\",\"PoW\",\"PoW/PoS\",\"PoW/PoS\",\"PoS\",\"PoW\",\"PoW\",\"PoW\",\"PoW\",\"PoW/PoS\",\"PoS\",\"PoW/PoS\",\"PoC\",\"PoS\",\"PoW\",\"PoW\",\"PoW/PoS\",\"PoW/PoS\",\"PoW/PoS\",\"PoW/PoS\",\"PoW/PoS\",\"PoW\",\"PoS\",\"PoW/PoS\",\"PoW/PoS\",\"PoW/PoS\",\"PoS\",\"PoW\",\"PoS\",\"dPoW/PoW\",\"PoW/PoS\",\"PoW/PoS\",\"PoW\",\"PoW/PoS\",\"PoW\",\"PoW/PoS\",\"PoW/PoS\",\"PoW\",\"PoW/PoS\",\"PoW\",\"PoS\",\"PoW\",\"PoW/PoW\",\"PoW\",\"PoW/PoS\",\"PoS\",\"PoW/PoS\",\"PoW/PoS\",\"PoW\",\"PoS\",\"PoS\",\"PoW/PoS\",\"PoS\",\"PoW/PoS\",\"PoW\",\"PoW\",\"DPoS\",\"PoW/PoS\",\"PoW\",\"PoW\",\"PoW/PoS\",\"PoW/PoS\",\"PoS\",\"PoW/PoS\",\"PoW/PoS\",\"PoW\",\"PoS\",\"PoW/PoS\",\"PoW/PoS\",\"PoW/PoS\",\"TPoS\",\"PoW/PoS\",\"PoW/PoS\",\"PoW/PoS\",\"PoW\",\"PoW/PoS\",\"PoS\",\"PoW/PoS\",\"PoW/PoS\",\"PoS\",\"PoW/PoS\",\"PoW\",\"PoW\",\"PoW\",\"PoW/PoS\",\"PoW/PoS\",\"PoW/PoS\",\"PoW/PoS\",\"PoW\",\"PoW/PoS\",\"PoW\",\"PoS\",\"PoW/PoS \",\"PoW\",\"PoS\",\"PoW\",\"PoW\",\"PoW/PoS\",\"PoW\",\"PoW\",\"PoS\",\"PoW\",\"PoW/PoS\",\"PoW/PoS\",\"PoW/PoS\",\"PoW\",\"PoS\",\"PoW/PoS\",\"PoW\",\"PoS\",\"PoW/PoS\",\"PoW/PoS\",\"PoW/PoS\",\"PoW/PoS\",\"PoS\",\"PoW/PoS\",\"PoW\",\"PoS\",\"PoW\",\"PoS\",\"PoW/PoS\",\"PoW/PoS\",\"PoS\",\"PoW\",\"PoS\",\"PoW\",\"PoW/PoS\",\"PoW\",\"PoW\",\"PoW\",\"PoW\",\"PoW/PoS\",\"PoW\",\"PoW/PoS\",\"PoW/PoS\",\"PoW\",\"PoW/PoS\",\"PoW\",\"PoW\",\"PoW\",\"PoW/PoS\",\"PoW\",\"PoW/PoS\",\"PoW\",\"PoW\",\"PoW\",\"PoS\",\"PoW\",\"PoW/PoS\",\"PoW\",\"PoW/PoS\",\"PoS\",\"Proof of Authority\",\"PoW\",\"PoS\",\"PoW\",\"PoW\",\"PoW\",\"PoW\",\"PoW\",\"PoW/PoS\",\"PoW/PoS\",\"PoW\",\"PoS\",\"PoS\",\"PoW/PoS\",\"PoW\",\"PoW/PoS\",\"PoW\",\"PoW/PoS\",\"PoW\",\"PoS\",\"PoW\",\"PoW/PoS\",\"PoW/PoS\",\"PoW/PoS\",\"PoW/PoS\",\"PoW\",\"PoW/PoS\",\"PoW/PoS\",\"PoW\",\"PoS\",\"PoW/PoS\",\"PoS\",\"PoW\",\"PoW\",\"PoW\",\"PoW\",\"PoW/PoS\",\"DPoS\",\"PoW/PoS\",\"PoW/PoS\",\"PoW\",\"PoW/PoS\",\"PoW\",\"PoW\",\"PoW\",\"PoS\",\"PoS\",\"PoW\",\"PoW\",\"PoW/PoS\",\"PoW/PoS\",\"PoW\",\"PoW/PoS\",\"PoW\",\"PoW\",\"PoW\",\"PoS\",\"PoW\",\"PoW\",\"PoW/PoS\",\"PoW/PoS\",\"PoS\",\"PoW\",\"PoW\",\"PoW\",\"PoS\",\"PoS\",\"PoW and PoS\",\"PoW\",\"PoW\",\"PoW/PoS\",\"PoW\",\"PoW\",\"PoW\",\"PoW\",\"PoS\",\"POBh\",\"PoW + Hive\",\"PoW\",\"PoW\",\"PoW\",\"PoW/PoS\",\"PoA\",\"PoW/PoS\",\"PoW/PoS\",\"PoS\",\"PoS\",\"PoW\",\"PoW\",\"PoW\",\"PoW\",\"PoW/PoS\",\"PoW/PoS\",\"PoW/PoS\",\"PoW\",\"PoS\",\"PoW\",\"PoS\",\"PoS\",\"PoW/PoS\",\"DPoS\",\"PoW\",\"PoW/PoS\",\"PoS\",\"PoW\",\"PoS\",\"PoW/PoS\",\"PoW\",\"PoW\",\"PoS/PoW\",\"PoW\",\"PoS\",\"PoW\",\"PoW\",\"PoW\",\"PoW\",\"PoW/PoS\",\"PoS\",\"PoW\",\"PoW/PoS\",\"PoW\",\"PoW/PoS\",\"PoS\",\"HPoW\",\"PoS\",\"PoS\",\"PoS\",\"PoW\",\"PoW\",\"PoW\",\"PoW/PoS\",\"PoS\",\"PoW/PoS\",\"PoS\",\"PoW/PoS\",\"PoS\",\"PoW\",\"PoW/PoS\",\"PoW\",\"PoW\",\"PoW\",\"PoW\",\"PoS\",\"PoW/PoS\",\"PoS\",\"PoS\",\"PoW\",\"PoW/PoS\",\"PoS\",\"PoW\",\"PoW/PoS\",\"Zero-Knowledge Proof\",\"PoW\",\"DPOS\",\"PoW\",\"PoS\",\"PoW\",\"PoW\",\"Pos\",\"PoS\",\"PoW\",\"PoW/PoS\",\"PoW\",\"PoW\",\"PoS\",\"PoW\",\"PoW\",\"PoW/PoS\",\"PoW\",\"PoW/PoS\",\"PoW\",\"PoS\",\"PoW/PoS\",\"PoW\",\"PoS\",\"PoW/PoS\",\"PoW/PoS\",\"PoW/PoS\",\"PoW/PoS\",\"PoW\",\"PoW\",\"PoW\",\"PoW/PoS\",\"DPoS\",\"PoW/PoS\",\"PoW\",\"PoW/PoS\",\"PoW\",\"PoW/PoS\",\"PoW\",\"PoW/PoS\",\"PoS\",\"PoW/PoS\",\"PoW/PoS\",\"PoW\",\"PoW/PoS\",\"PoW/PoS\",\"PoW/PoS\",\"PoW\",\"PoW/PoS\",\"PoW\",\"PoW/PoS\",\"PoW\",\"PoW/PoS\",\"PoW/PoS\",\"PoS\",\"PoW\",\"PoW\",\"Proof of Trust\",\"PoW/PoS\",\"DPoS\",\"PoS\",\"PoW/PoS\",\"PoW/PoS\",\"DPoC\",\"PoW\",\"PoW/PoS\",\"PoW\",\"DPoS\",\"PoW\",\"DPoS\",\"PoS\",\"LPoS\",\"PoS\",\"DPoS\",\"PoS/LPoS\",\"DPoS\",\"PoW/PoS\",\"PoW\",\"PoW\",\"PoS\"],\"TotalCoinSupply\":[\"42\",\"532000000\",\"314159265359\",\"21000000\",\"0\",\"84000000\",\"22000000\",\"0\",\"210000000\",\"21000000\",\"3600570502\",\"21000000000\",\"22000000\",\"12500000\",\"21000000\",\"350000000\",\"20000000\",\"64000000\",\"16768584\",\"0\",\"2000000000\",\"384000000000\",\"169795588\",\"250000000\",\"100000000\",\"0\",\"247000000\",\"84000000\",\"48166000\",\"500000\",\"21000000 \",\"1000000\",\"13140000\",\"18000000\",\"40000000000\",\"4380000\",\"16555000000\",\"21000000000\",\"13500000000\",\"21000000 \",\"299792458\",\"32000000\",\"0\",\"0\",\"11235813\",\"336000000\",\"1420609614\",\"70000000\",\"72245700\",\"120000000\",\"0\",\"90600000000\",\"22000000\",\"21000000\",\"265420800\",\"20000000\",\"1350000\",\"100000000\",\"42000000\",\"200000000\",\"0\",\"10000000\",\"2419200000\",\"16180000\",\"0\",\"15000000000\",\"21000000\",\"337000000\",\"0\",\"3770000\",\"420000000\",\"98000000\",\"0\",\"21000000\",\"250000000\",\"51200000\",\"0\",\"1000\",\"888000000\",\"100000000\",\"47011968\",\"2300000000\",\"10000000\",\"42000000\",\"80000000\",\"250000\",\"0\",\"1600000000\",\"100000000\",\"23000000\",\"0\",\"84000000\",\"265420800\",\"5500000\",\"0\",\"45000000\",\"0\",\"1000000000\",\"184467440735\",\"10000000000\",\"2158812800\",\"500000000\",\"105120000\",\"68000000\",\"0\",\"1680000000\",\"0\",\"166386000\",\"12000000\",\"2628000\",\"500000000\",\"160000000\",\"0\",\"10000000\",\"1000000000\",\"1000000000\",\"20000000\",\"0\",\"0\",\"3371337\",\"20000000\",\"10000000000\",\"1840000000\",\"619478\",\"21000000\",\"92000000000\",\"0\",\"78000000\",\"33000000\",\"65789100\",\"53760000\",\"5060000\",\"21000000\",\"0\",\"210240000\",\"250000000\",\"100000000\",\"16906397\",\"50000000\",\"0\",\"1000000000\",\"26298000\",\"16000000\",\"21000000\",\"21000000\",\"210000000\",\"81962100\",\"22000000\",\"26550000000\",\"84000000\",\"10500000\",\"21626280000 \",\"0\",\"42000000\",\"221052632\",\"84000000\",\"30000000\",\"168351300\",\"24000000\",\"384000000\",\" 99000000000\",\"40000000\",\"2147483647\",\"20000000\",\"20000000\",\"25000000\",\"75000000\",\"222725000\",\"525000000\",\"90000000\",\"139000000\",\"616448\",\"33500000\",\"2000000000\",\"44333333\",\"100000000\",\"200000000\",\"25000000\",\"657000000\",\"200000000\",\"50000000\",\"90000000\",\"10000000\",\"21000000\",\"9736000\",\"3000000\",\"21000000\",\"1200000000\",\"0\",\"200000000\",\"0\",\"10638298\",\"3100000000\",\"30000000\",\"20000000000\",\"74000000\",\"0\",\"1500000000\",\"21400000\",\"39999898\",\"2500124\",\"100000000\",\"301000000\",\"7506000000\",\"26205539\",\"21000000\",\"125000000\",\"30000000\",\"10000000000\",\"500000000\",\"850000000\",\"3853326.77707314\",\"50000000\",\"38540000 \",\"42000000\",\"228000000\",\"20000000\",\"60000000\",\"20000000\",\"33000000\",\"76500000\",\"28000000\",\"650659833\",\"5000000\",\"21000000\",\"144000000\",\"32514916898\",\"13000000\",\"3315789\",\"15000000\",\"78835200\",\"2714286\",\"25000000\",\"9999999\",\"500000000\",\"21000000\",\"9354000\",\"20000000\",\"100000000000\",\"21933333\",\"185000000\",\"55000000\",\"110000000\",\"3360000\",\"14524851.4827\",\"1000000000\",\"17000000\",\"1000000000\",\"100000000 \",\"21000000\",\"34426423\",\"2232901\",\"100000000\",\"36900000\",\"110000000\",\"4000000000\",\"110290030\",\"100000000\",\"48252000\",\"400000000\",\"500000000\",\"21212121\",\"28600000\",\"1000000000\",\"75000000000\",\"40000000\",\"35520400\",\"2000000000\",\"2500000000\",\"30000000\",\"105000000\",\"90000000000\",\"200084200\",\"72000000\",\"100000000\",\"105000000\",\"50000000000\",\"0\",\"340282367\",\"30000000\",\"2000000000\",\"10000000\",\"100000000\",\"120000000\",\"100000000\",\"19276800\",\"30000000\",\" 75000000\",\"60000000\",\"18900000\",\"50000000000\",\"54000000\",\"18898187.6216583\",\"21000000\",\"200000000000\",\"5000000000\",\"137500000\",\"1100000000\",\"100000000\",\"21000000\",\"9507271\",\"17405891.19707116\",\"86712634466\",\"10500000000\",\"61599965\",\"0\",\"20000000\",\"84000000\",\"100000000\",\"100000000\",\"48252000\",\"4200000\",\"88888888\",\"91388946\",\"45000000000\",\"27000000\",\"21000000000\",\"400000000\",\"1800000000\",\"15733333\",\"27000000\",\"24000000\",\"21000000\",\"25000000000\",\"100000000\",\"1200000000\",\"60000000\",\"156306732.71\",\"21000000\",\"200000000\",\"100000000\",\"21000000\",\"14788275.991\",\"9000000000\",\"350000000\",\"45000000\",\"280000000\",\"31800000\",\"144000000\",\"500000000\",\"30000000000\",\"210000000\",\"660000000\",\"210000000\",\"85000000000\",\"12500000\",\"10000000000\",\"27716121\",\"20000000\",\"550000000\",\"999481516\",\"50000000000\",\"150000000\",\"4999999999\",\"50000000\",\" 90000000000\",\"19800000\",\"21000000\",\"120000000\",\"500000000\",\"64000000\",\"900000000\",\"4000000\",\"21000000\",\"23000000\",\"20166000\",\"23000000\",\"25000000\",\"1618033\",\"30000000\",\"1000000000000\",\"16600000\",\"232000000\",\"336000000\",\"10000000000\",\"100000000\",\"1100000000\",\"800000000\",\"5200000000\",\"840000000\",\"40000000\",\"18406979840\",\"500000000\",\"19340594\",\"252460800\",\"25000000\",\"60000000\",\"124000000\",\"1000000000\",\"6500000000\",\"1000000000\",\"21000000\",\"25000000\",\"50000000\",\"3000000\",\"5000000\",\"70000000\",\"500000000\",\"300000000\",\"21000000\",\"88000000\",\"30000000\",\"100000000\",\"100000000\",\"200000000\",\"80000000\",\"18400000\",\"45000000\",\"5121951220\",\"21000000\",\"26280000\",\"21000000\",\"18000000\",\"26000000\",\"10500000\",\"600000518\",\"150000000\",\"184000000000\",\"10200000000\",\"44000000\",\"168000000\",\"100000000\",\"1000000000\",\"84000000\",\"90000000\",\"92000000000\",\"650000000 \",\"100262205\",\"18081806 \",\"22075700\",\"21000000\",\"21000000\",\"82546564\",\"21000000\",\"5151000\",\"16880000000\",\"52500000\",\"100000000\",\"22105263\",\"1000000000\",\"1750000000\",\"88188888\",\"210000000\",\"184470000000\",\"55000000\",\"50000000\",\"260000000\",\"210000000\",\"2100000000\",\"366000000\",\"100000000\",\"25000000\",\"18000000000\",\"1000000000\",\"100000000\",\"1000000000\",\"7600000000\",\"50000000\",\"84000000\",\"21000000\",\"70000000000\",\"0\",\"8080000000\",\"54000000\",\"105120001.44\",\"25228800\",\"105000000\",\"21000000\",\"120000000\",\"21000000\",\"262800000\",\"19035999\",\"30886000\",\"13370000\",\"74800000000\",\"100000000\",\"19700000\",\"84000000\",\"500000000\",\"5000000000\",\"420000000\",\"64000000\",\"2100000\",\"168000000\",\"30000000\",\"1000000000\",\"35000000000\",\"98100000000\",\"0\",\"4000000000\",\"200000000\",\"7000000000\",\"54256119\",\"21000000\",\"0\",\"500000000\",\"1000000000\",\"10500000000\",\"190000000\",\"1000000000\",\"42000000\",\"15000000\",\"50000000000\",\"400000000\",\"105000000\",\"208000000\",\"160000000\",\"9000000\",\"5000000\",\"182000000\",\"16504333\",\"105000000\",\"159918400\",\"10008835635\",\"300000000\",\"60168145\",\"5000000000\",\"2800000\",\"120000\",\"2100000000\",\"0\",\"24487944\",\"0\",\"1000000000\",\"100000000\",\"8634140\",\"990000000000\",\"1000000000\",\"2000000000\",\"250000000\",\"1400222610\",\"21000000\",\"1000000\"],\"TotalCoinsMined\":{\"__ndarray__\":\"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\",\"dtype\":\"float64\",\"order\":\"little\",\"shape\":[533]}},\"selected\":{\"id\":\"3080\"},\"selection_policy\":{\"id\":\"3115\"}},\"id\":\"3079\",\"type\":\"ColumnDataSource\"},{\"attributes\":{\"editor\":{\"id\":\"3097\"},\"field\":\"TotalCoinSupply\",\"formatter\":{\"id\":\"3096\"},\"title\":\"TotalCoinSupply\"},\"id\":\"3098\",\"type\":\"TableColumn\"},{\"attributes\":{\"children\":[{\"id\":\"3078\"},{\"id\":\"3111\"},{\"id\":\"3118\"}],\"margin\":[0,0,0,0],\"name\":\"Row05937\",\"tags\":[\"embedded\"]},\"id\":\"3077\",\"type\":\"Row\"},{\"attributes\":{},\"id\":\"3082\",\"type\":\"StringEditor\"},{\"attributes\":{\"format\":\"0,0.0[00000]\"},\"id\":\"3101\",\"type\":\"NumberFormatter\"},{\"attributes\":{},\"id\":\"3107\",\"type\":\"IntEditor\"},{\"attributes\":{\"margin\":[5,5,5,5],\"name\":\"HSpacer05941\",\"sizing_mode\":\"stretch_width\"},\"id\":\"3078\",\"type\":\"Spacer\"},{\"attributes\":{\"editor\":{\"id\":\"3102\"},\"field\":\"TotalCoinsMined\",\"formatter\":{\"id\":\"3101\"},\"title\":\"TotalCoinsMined\"},\"id\":\"3103\",\"type\":\"TableColumn\"},{\"attributes\":{\"editor\":{\"id\":\"3092\"},\"field\":\"ProofType\",\"formatter\":{\"id\":\"3091\"},\"title\":\"ProofType\"},\"id\":\"3093\",\"type\":\"TableColumn\"},{\"attributes\":{},\"id\":\"3081\",\"type\":\"StringFormatter\"},{\"attributes\":{\"source\":{\"id\":\"3079\"}},\"id\":\"3113\",\"type\":\"CDSView\"},{\"attributes\":{},\"id\":\"3092\",\"type\":\"StringEditor\"},{\"attributes\":{\"editor\":{\"id\":\"3082\"},\"field\":\"CoinName\",\"formatter\":{\"id\":\"3081\"},\"title\":\"CoinName\"},\"id\":\"3083\",\"type\":\"TableColumn\"},{\"attributes\":{\"editor\":{\"id\":\"3087\"},\"field\":\"Algorithm\",\"formatter\":{\"id\":\"3086\"},\"title\":\"Algorithm\"},\"id\":\"3088\",\"type\":\"TableColumn\"},{\"attributes\":{},\"id\":\"3102\",\"type\":\"NumberEditor\"},{\"attributes\":{\"columns\":[{\"id\":\"3083\"},{\"id\":\"3088\"},{\"id\":\"3093\"},{\"id\":\"3098\"},{\"id\":\"3103\"},{\"id\":\"3108\"}],\"height\":300,\"reorderable\":false,\"source\":{\"id\":\"3079\"},\"view\":{\"id\":\"3113\"},\"width\":700},\"id\":\"3111\",\"type\":\"DataTable\"},{\"attributes\":{\"margin\":[5,5,5,5],\"name\":\"HSpacer05942\",\"sizing_mode\":\"stretch_width\"},\"id\":\"3118\",\"type\":\"Spacer\"},{\"attributes\":{},\"id\":\"3086\",\"type\":\"StringFormatter\"},{\"attributes\":{},\"id\":\"3096\",\"type\":\"StringFormatter\"},{\"attributes\":{},\"id\":\"3091\",\"type\":\"StringFormatter\"},{\"attributes\":{},\"id\":\"3115\",\"type\":\"UnionRenderers\"},{\"attributes\":{},\"id\":\"3087\",\"type\":\"StringEditor\"}],\"root_ids\":[\"3077\"]},\"title\":\"Bokeh Application\",\"version\":\"2.3.2\"}};\n",
       "    var render_items = [{\"docid\":\"e24e2bcf-b62f-4458-9c23-6571e09def02\",\"root_ids\":[\"3077\"],\"roots\":{\"3077\":\"9e90e1d7-310e-478f-86ae-e94317551ea4\"}}];\n",
       "    root.Bokeh.embed.embed_items_notebook(docs_json, render_items);\n",
       "  }\n",
       "  if (root.Bokeh !== undefined && root.Bokeh.Panel !== undefined) {\n",
       "    embed_document(root);\n",
       "  } else {\n",
       "    var attempts = 0;\n",
       "    var timer = setInterval(function(root) {\n",
       "      if (root.Bokeh !== undefined && root.Bokeh.Panel !== undefined) {\n",
       "        clearInterval(timer);\n",
       "        embed_document(root);\n",
       "      } else if (document.readyState == \"complete\") {\n",
       "        attempts++;\n",
       "        if (attempts > 200) {\n",
       "          clearInterval(timer);\n",
       "          console.log(\"Bokeh: ERROR: Unable to run BokehJS code because BokehJS library is missing\");\n",
       "        }\n",
       "      }\n",
       "    }, 25, root)\n",
       "  }\n",
       "})(window);</script>"
      ],
      "text/plain": [
       ":Table   [CoinName,Algorithm,ProofType,TotalCoinSupply,TotalCoinsMined,Class]"
      ]
     },
     "execution_count": 113,
     "metadata": {
      "application/vnd.holoviews_exec.v0+json": {
       "id": "3077"
      }
     },
     "output_type": "execute_result"
    }
   ],
   "source": [
    "# Table with tradable cryptos\n",
    "clustered_df.hvplot.table(columns = \n",
    "            ['CoinName', 'Algorithm', 'ProofType', 'TotalCoinSupply', 'TotalCoinsMined', 'Class'], \n",
    "            sortable=True, selectable=True)"
   ]
  },
  {
   "cell_type": "code",
   "execution_count": 114,
   "metadata": {},
   "outputs": [
    {
     "name": "stdout",
     "output_type": "stream",
     "text": [
      "Total number of tradeable currencies: 533\n"
     ]
    }
   ],
   "source": [
    "# Print the total number of tradable cryptocurrencies\n",
    "print(f\"Total number of tradeable currencies: {len(clustered_df['CoinName'])}\")"
   ]
  },
  {
   "cell_type": "markdown",
   "metadata": {},
   "source": [
    "#### Scatter Plot with Tradable Cryptocurrencies"
   ]
  },
  {
   "cell_type": "code",
   "execution_count": 115,
   "metadata": {},
   "outputs": [
    {
     "data": {
      "text/html": [
       "<div>\n",
       "<style scoped>\n",
       "    .dataframe tbody tr th:only-of-type {\n",
       "        vertical-align: middle;\n",
       "    }\n",
       "\n",
       "    .dataframe tbody tr th {\n",
       "        vertical-align: top;\n",
       "    }\n",
       "\n",
       "    .dataframe thead th {\n",
       "        text-align: right;\n",
       "    }\n",
       "</style>\n",
       "<table border=\"1\" class=\"dataframe\">\n",
       "  <thead>\n",
       "    <tr style=\"text-align: right;\">\n",
       "      <th></th>\n",
       "      <th>Algorithm</th>\n",
       "      <th>ProofType</th>\n",
       "      <th>TotalCoinsMined</th>\n",
       "      <th>TotalCoinSupply</th>\n",
       "      <th>PC 1</th>\n",
       "      <th>PC 2</th>\n",
       "      <th>PC 3</th>\n",
       "      <th>CoinName</th>\n",
       "      <th>Class</th>\n",
       "    </tr>\n",
       "  </thead>\n",
       "  <tbody>\n",
       "    <tr>\n",
       "      <th>0</th>\n",
       "      <td>Scrypt</td>\n",
       "      <td>PoW/PoS</td>\n",
       "      <td>4.199995e+01</td>\n",
       "      <td>42</td>\n",
       "      <td>-0.320153</td>\n",
       "      <td>-0.025333</td>\n",
       "      <td>-0.040073</td>\n",
       "      <td>42 Coin</td>\n",
       "      <td>0</td>\n",
       "    </tr>\n",
       "    <tr>\n",
       "      <th>2</th>\n",
       "      <td>Scrypt</td>\n",
       "      <td>PoW/PoS</td>\n",
       "      <td>1.055185e+09</td>\n",
       "      <td>532000000</td>\n",
       "      <td>-0.300935</td>\n",
       "      <td>-0.027283</td>\n",
       "      <td>-0.045818</td>\n",
       "      <td>404Coin</td>\n",
       "      <td>0</td>\n",
       "    </tr>\n",
       "    <tr>\n",
       "      <th>5</th>\n",
       "      <td>X13</td>\n",
       "      <td>PoW/PoS</td>\n",
       "      <td>2.927942e+10</td>\n",
       "      <td>314159265359</td>\n",
       "      <td>0.520987</td>\n",
       "      <td>-0.014440</td>\n",
       "      <td>-0.122389</td>\n",
       "      <td>EliteCoin</td>\n",
       "      <td>0</td>\n",
       "    </tr>\n",
       "    <tr>\n",
       "      <th>7</th>\n",
       "      <td>SHA-256</td>\n",
       "      <td>PoW</td>\n",
       "      <td>1.792718e+07</td>\n",
       "      <td>21000000</td>\n",
       "      <td>-0.232868</td>\n",
       "      <td>-0.175550</td>\n",
       "      <td>-0.060589</td>\n",
       "      <td>Bitcoin</td>\n",
       "      <td>0</td>\n",
       "    </tr>\n",
       "    <tr>\n",
       "      <th>8</th>\n",
       "      <td>Ethash</td>\n",
       "      <td>PoW</td>\n",
       "      <td>1.076842e+08</td>\n",
       "      <td>0</td>\n",
       "      <td>-0.020182</td>\n",
       "      <td>-0.138364</td>\n",
       "      <td>-0.304817</td>\n",
       "      <td>Ethereum</td>\n",
       "      <td>0</td>\n",
       "    </tr>\n",
       "  </tbody>\n",
       "</table>\n",
       "</div>"
      ],
      "text/plain": [
       "  Algorithm ProofType  TotalCoinsMined TotalCoinSupply      PC 1      PC 2  \\\n",
       "0    Scrypt   PoW/PoS     4.199995e+01              42 -0.320153 -0.025333   \n",
       "2    Scrypt   PoW/PoS     1.055185e+09       532000000 -0.300935 -0.027283   \n",
       "5       X13   PoW/PoS     2.927942e+10    314159265359  0.520987 -0.014440   \n",
       "7   SHA-256       PoW     1.792718e+07        21000000 -0.232868 -0.175550   \n",
       "8    Ethash       PoW     1.076842e+08               0 -0.020182 -0.138364   \n",
       "\n",
       "       PC 3   CoinName  Class  \n",
       "0 -0.040073    42 Coin      0  \n",
       "2 -0.045818    404Coin      0  \n",
       "5 -0.122389  EliteCoin      0  \n",
       "7 -0.060589    Bitcoin      0  \n",
       "8 -0.304817   Ethereum      0  "
      ]
     },
     "execution_count": 115,
     "metadata": {},
     "output_type": "execute_result"
    }
   ],
   "source": [
    "clustered_df.head()"
   ]
  },
  {
   "cell_type": "code",
   "execution_count": 116,
   "metadata": {},
   "outputs": [],
   "source": [
    "# Scale data to create the scatter plot- Max-min scaling\n",
    "clustered_df['TotalCoinsMined_scaled'] = (clustered_df['TotalCoinsMined'] - clustered_df['TotalCoinsMined'].min()) / (clustered_df['TotalCoinsMined'].max()- clustered_df['TotalCoinsMined'].min())"
   ]
  },
  {
   "cell_type": "code",
   "execution_count": 117,
   "metadata": {},
   "outputs": [],
   "source": [
    "# Scale data to create the scatter plot- Max-min scaling\n",
    "clustered_df['TotalCoinSupply'] = clustered_df['TotalCoinSupply'].astype('float')\n",
    "clustered_df['TotalCoinSupply'] = clustered_df['TotalCoinSupply'].astype('int')\n",
    "clustered_df['TotalCoinSupply_scaled'] = (clustered_df['TotalCoinSupply'] - clustered_df['TotalCoinSupply'].min()) / (clustered_df['TotalCoinSupply'].max() - clustered_df['TotalCoinSupply'].min())"
   ]
  },
  {
   "cell_type": "code",
   "execution_count": 118,
   "metadata": {},
   "outputs": [
    {
     "data": {
      "text/html": [
       "<div>\n",
       "<style scoped>\n",
       "    .dataframe tbody tr th:only-of-type {\n",
       "        vertical-align: middle;\n",
       "    }\n",
       "\n",
       "    .dataframe tbody tr th {\n",
       "        vertical-align: top;\n",
       "    }\n",
       "\n",
       "    .dataframe thead th {\n",
       "        text-align: right;\n",
       "    }\n",
       "</style>\n",
       "<table border=\"1\" class=\"dataframe\">\n",
       "  <thead>\n",
       "    <tr style=\"text-align: right;\">\n",
       "      <th></th>\n",
       "      <th>Algorithm</th>\n",
       "      <th>ProofType</th>\n",
       "      <th>TotalCoinsMined</th>\n",
       "      <th>TotalCoinSupply</th>\n",
       "      <th>PC 1</th>\n",
       "      <th>PC 2</th>\n",
       "      <th>PC 3</th>\n",
       "      <th>CoinName</th>\n",
       "      <th>Class</th>\n",
       "      <th>TotalCoinsMined_scaled</th>\n",
       "      <th>TotalCoinSupply_scaled</th>\n",
       "    </tr>\n",
       "  </thead>\n",
       "  <tbody>\n",
       "    <tr>\n",
       "      <th>0</th>\n",
       "      <td>Scrypt</td>\n",
       "      <td>PoW/PoS</td>\n",
       "      <td>4.199995e+01</td>\n",
       "      <td>42</td>\n",
       "      <td>-0.320153</td>\n",
       "      <td>-0.025333</td>\n",
       "      <td>-0.040073</td>\n",
       "      <td>42 Coin</td>\n",
       "      <td>0</td>\n",
       "      <td>0.005942</td>\n",
       "      <td>-0.500000</td>\n",
       "    </tr>\n",
       "    <tr>\n",
       "      <th>2</th>\n",
       "      <td>Scrypt</td>\n",
       "      <td>PoW/PoS</td>\n",
       "      <td>1.055185e+09</td>\n",
       "      <td>532000000</td>\n",
       "      <td>-0.300935</td>\n",
       "      <td>-0.027283</td>\n",
       "      <td>-0.045818</td>\n",
       "      <td>404Coin</td>\n",
       "      <td>0</td>\n",
       "      <td>0.007002</td>\n",
       "      <td>-0.376134</td>\n",
       "    </tr>\n",
       "    <tr>\n",
       "      <th>5</th>\n",
       "      <td>X13</td>\n",
       "      <td>PoW/PoS</td>\n",
       "      <td>2.927942e+10</td>\n",
       "      <td>-2147483648</td>\n",
       "      <td>0.520987</td>\n",
       "      <td>-0.014440</td>\n",
       "      <td>-0.122389</td>\n",
       "      <td>EliteCoin</td>\n",
       "      <td>0</td>\n",
       "      <td>0.035342</td>\n",
       "      <td>0.000000</td>\n",
       "    </tr>\n",
       "    <tr>\n",
       "      <th>7</th>\n",
       "      <td>SHA-256</td>\n",
       "      <td>PoW</td>\n",
       "      <td>1.792718e+07</td>\n",
       "      <td>21000000</td>\n",
       "      <td>-0.232868</td>\n",
       "      <td>-0.175550</td>\n",
       "      <td>-0.060589</td>\n",
       "      <td>Bitcoin</td>\n",
       "      <td>0</td>\n",
       "      <td>0.005960</td>\n",
       "      <td>-0.495111</td>\n",
       "    </tr>\n",
       "    <tr>\n",
       "      <th>8</th>\n",
       "      <td>Ethash</td>\n",
       "      <td>PoW</td>\n",
       "      <td>1.076842e+08</td>\n",
       "      <td>0</td>\n",
       "      <td>-0.020182</td>\n",
       "      <td>-0.138364</td>\n",
       "      <td>-0.304817</td>\n",
       "      <td>Ethereum</td>\n",
       "      <td>0</td>\n",
       "      <td>0.006050</td>\n",
       "      <td>-0.500000</td>\n",
       "    </tr>\n",
       "    <tr>\n",
       "      <th>9</th>\n",
       "      <td>Scrypt</td>\n",
       "      <td>PoW</td>\n",
       "      <td>6.303924e+07</td>\n",
       "      <td>84000000</td>\n",
       "      <td>-0.368837</td>\n",
       "      <td>-0.215976</td>\n",
       "      <td>-0.109321</td>\n",
       "      <td>Litecoin</td>\n",
       "      <td>0</td>\n",
       "      <td>0.006006</td>\n",
       "      <td>-0.480442</td>\n",
       "    </tr>\n",
       "    <tr>\n",
       "      <th>10</th>\n",
       "      <td>X11</td>\n",
       "      <td>PoW/PoS</td>\n",
       "      <td>9.031294e+06</td>\n",
       "      <td>22000000</td>\n",
       "      <td>-0.307265</td>\n",
       "      <td>0.076197</td>\n",
       "      <td>0.038495</td>\n",
       "      <td>Dash</td>\n",
       "      <td>0</td>\n",
       "      <td>0.005951</td>\n",
       "      <td>-0.494878</td>\n",
       "    </tr>\n",
       "    <tr>\n",
       "      <th>11</th>\n",
       "      <td>CryptoNight-V7</td>\n",
       "      <td>PoW</td>\n",
       "      <td>1.720114e+07</td>\n",
       "      <td>0</td>\n",
       "      <td>-0.124642</td>\n",
       "      <td>-0.332976</td>\n",
       "      <td>-0.113318</td>\n",
       "      <td>Monero</td>\n",
       "      <td>0</td>\n",
       "      <td>0.005960</td>\n",
       "      <td>-0.500000</td>\n",
       "    </tr>\n",
       "    <tr>\n",
       "      <th>12</th>\n",
       "      <td>Ethash</td>\n",
       "      <td>PoW</td>\n",
       "      <td>1.133597e+08</td>\n",
       "      <td>210000000</td>\n",
       "      <td>-0.100520</td>\n",
       "      <td>-0.133460</td>\n",
       "      <td>-0.360828</td>\n",
       "      <td>Ethereum Classic</td>\n",
       "      <td>0</td>\n",
       "      <td>0.006056</td>\n",
       "      <td>-0.451106</td>\n",
       "    </tr>\n",
       "    <tr>\n",
       "      <th>13</th>\n",
       "      <td>Equihash</td>\n",
       "      <td>PoW</td>\n",
       "      <td>7.383056e+06</td>\n",
       "      <td>21000000</td>\n",
       "      <td>-0.297484</td>\n",
       "      <td>-0.278676</td>\n",
       "      <td>-0.154539</td>\n",
       "      <td>ZCash</td>\n",
       "      <td>0</td>\n",
       "      <td>0.005950</td>\n",
       "      <td>-0.495111</td>\n",
       "    </tr>\n",
       "  </tbody>\n",
       "</table>\n",
       "</div>"
      ],
      "text/plain": [
       "         Algorithm ProofType  TotalCoinsMined  TotalCoinSupply      PC 1  \\\n",
       "0           Scrypt   PoW/PoS     4.199995e+01               42 -0.320153   \n",
       "2           Scrypt   PoW/PoS     1.055185e+09        532000000 -0.300935   \n",
       "5              X13   PoW/PoS     2.927942e+10      -2147483648  0.520987   \n",
       "7          SHA-256       PoW     1.792718e+07         21000000 -0.232868   \n",
       "8           Ethash       PoW     1.076842e+08                0 -0.020182   \n",
       "9           Scrypt       PoW     6.303924e+07         84000000 -0.368837   \n",
       "10             X11   PoW/PoS     9.031294e+06         22000000 -0.307265   \n",
       "11  CryptoNight-V7       PoW     1.720114e+07                0 -0.124642   \n",
       "12          Ethash       PoW     1.133597e+08        210000000 -0.100520   \n",
       "13        Equihash       PoW     7.383056e+06         21000000 -0.297484   \n",
       "\n",
       "        PC 2      PC 3          CoinName  Class  TotalCoinsMined_scaled  \\\n",
       "0  -0.025333 -0.040073           42 Coin      0                0.005942   \n",
       "2  -0.027283 -0.045818           404Coin      0                0.007002   \n",
       "5  -0.014440 -0.122389         EliteCoin      0                0.035342   \n",
       "7  -0.175550 -0.060589           Bitcoin      0                0.005960   \n",
       "8  -0.138364 -0.304817          Ethereum      0                0.006050   \n",
       "9  -0.215976 -0.109321          Litecoin      0                0.006006   \n",
       "10  0.076197  0.038495              Dash      0                0.005951   \n",
       "11 -0.332976 -0.113318            Monero      0                0.005960   \n",
       "12 -0.133460 -0.360828  Ethereum Classic      0                0.006056   \n",
       "13 -0.278676 -0.154539             ZCash      0                0.005950   \n",
       "\n",
       "    TotalCoinSupply_scaled  \n",
       "0                -0.500000  \n",
       "2                -0.376134  \n",
       "5                 0.000000  \n",
       "7                -0.495111  \n",
       "8                -0.500000  \n",
       "9                -0.480442  \n",
       "10               -0.494878  \n",
       "11               -0.500000  \n",
       "12               -0.451106  \n",
       "13               -0.495111  "
      ]
     },
     "execution_count": 118,
     "metadata": {},
     "output_type": "execute_result"
    }
   ],
   "source": [
    "clustered_df.head(10)\n",
    "#clustered_df['TotalCoinSupply_scaled'] = (clustered_df['TotalCoinSupply'] - clustered_df['TotalCoinSupply'].min()) / (clustered_df['TotalCoinSupply'].max() - clustered_df['TotalCoinSupply'].min())"
   ]
  },
  {
   "cell_type": "code",
   "execution_count": 119,
   "metadata": {},
   "outputs": [
    {
     "data": {},
     "metadata": {},
     "output_type": "display_data"
    },
    {
     "data": {
      "application/vnd.holoviews_exec.v0+json": "",
      "text/html": [
       "<div id='3130'>\n",
       "\n",
       "\n",
       "\n",
       "\n",
       "\n",
       "  <div class=\"bk-root\" id=\"677fa33a-6ad8-4af8-8e48-7a92816bd89f\" data-root-id=\"3130\"></div>\n",
       "</div>\n",
       "<script type=\"application/javascript\">(function(root) {\n",
       "  function embed_document(root) {\n",
       "    var docs_json = {\"034049ca-26f4-4ca1-a470-aec185001add\":{\"defs\":[{\"extends\":null,\"module\":null,\"name\":\"ReactiveHTML1\",\"overrides\":[],\"properties\":[]},{\"extends\":null,\"module\":null,\"name\":\"FlexBox1\",\"overrides\":[],\"properties\":[{\"default\":\"flex-start\",\"kind\":null,\"name\":\"align_content\"},{\"default\":\"flex-start\",\"kind\":null,\"name\":\"align_items\"},{\"default\":\"row\",\"kind\":null,\"name\":\"flex_direction\"},{\"default\":\"wrap\",\"kind\":null,\"name\":\"flex_wrap\"},{\"default\":\"flex-start\",\"kind\":null,\"name\":\"justify_content\"}]},{\"extends\":null,\"module\":null,\"name\":\"TemplateActions1\",\"overrides\":[],\"properties\":[{\"default\":0,\"kind\":null,\"name\":\"open_modal\"},{\"default\":0,\"kind\":null,\"name\":\"close_modal\"}]},{\"extends\":null,\"module\":null,\"name\":\"MaterialTemplateActions1\",\"overrides\":[],\"properties\":[{\"default\":0,\"kind\":null,\"name\":\"open_modal\"},{\"default\":0,\"kind\":null,\"name\":\"close_modal\"}]}],\"roots\":{\"references\":[{\"attributes\":{\"end\":0.05000000001164154,\"reset_end\":0.05000000001164154,\"reset_start\":-0.5500000001280568,\"start\":-0.5500000001280568,\"tags\":[[[\"TotalCoinSupply_scaled\",\"TotalCoinSupply_scaled\",null]]]},\"id\":\"3133\",\"type\":\"Range1d\"},{\"attributes\":{},\"id\":\"3218\",\"type\":\"Selection\"},{\"attributes\":{},\"id\":\"3171\",\"type\":\"BasicTickFormatter\"},{\"attributes\":{},\"id\":\"3155\",\"type\":\"SaveTool\"},{\"attributes\":{\"fill_color\":{\"value\":\"#30a2da\"},\"line_color\":{\"value\":\"#30a2da\"},\"size\":{\"value\":5.477225575051661},\"x\":{\"field\":\"TotalCoinsMined_scaled\"},\"y\":{\"field\":\"TotalCoinSupply_scaled\"}},\"id\":\"3177\",\"type\":\"Scatter\"},{\"attributes\":{},\"id\":\"3156\",\"type\":\"PanTool\"},{\"attributes\":{},\"id\":\"3159\",\"type\":\"ResetTool\"},{\"attributes\":{},\"id\":\"3157\",\"type\":\"WheelZoomTool\"},{\"attributes\":{\"overlay\":{\"id\":\"3160\"}},\"id\":\"3158\",\"type\":\"BoxZoomTool\"},{\"attributes\":{\"fill_alpha\":{\"value\":0.1},\"fill_color\":{\"value\":\"#6d904f\"},\"line_alpha\":{\"value\":0.1},\"line_color\":{\"value\":\"#6d904f\"},\"size\":{\"value\":5.477225575051661},\"x\":{\"field\":\"TotalCoinsMined_scaled\"},\"y\":{\"field\":\"TotalCoinSupply_scaled\"}},\"id\":\"3245\",\"type\":\"Scatter\"},{\"attributes\":{},\"id\":\"3168\",\"type\":\"BasicTickFormatter\"},{\"attributes\":{},\"id\":\"3190\",\"type\":\"UnionRenderers\"},{\"attributes\":{\"data\":{\"Class\":[2],\"CoinName\":[\"BitTorrent\"],\"TotalCoinSupply_scaled\":{\"__ndarray__\":\"AAAAAAAAAAA=\",\"dtype\":\"float64\",\"order\":\"little\",\"shape\":[1]},\"TotalCoinsMined_scaled\":{\"__ndarray__\":\"AAAAAAAA8D8=\",\"dtype\":\"float64\",\"order\":\"little\",\"shape\":[1]}},\"selected\":{\"id\":\"3218\"},\"selection_policy\":{\"id\":\"3237\"}},\"id\":\"3217\",\"type\":\"ColumnDataSource\"},{\"attributes\":{},\"id\":\"3242\",\"type\":\"Selection\"},{\"attributes\":{},\"id\":\"3169\",\"type\":\"AllLabels\"},{\"attributes\":{\"fill_color\":{\"value\":\"#fc4f30\"},\"line_color\":{\"value\":\"#fc4f30\"},\"size\":{\"value\":5.477225575051661},\"x\":{\"field\":\"TotalCoinsMined_scaled\"},\"y\":{\"field\":\"TotalCoinSupply_scaled\"}},\"id\":\"3198\",\"type\":\"Scatter\"},{\"attributes\":{\"margin\":[5,5,5,5],\"name\":\"HSpacer06139\",\"sizing_mode\":\"stretch_width\"},\"id\":\"3131\",\"type\":\"Spacer\"},{\"attributes\":{\"click_policy\":\"mute\",\"items\":[{\"id\":\"3193\"},{\"id\":\"3215\"},{\"id\":\"3239\"},{\"id\":\"3265\"}],\"location\":[0,0],\"title\":\"Class\"},\"id\":\"3192\",\"type\":\"Legend\"},{\"attributes\":{\"label\":{\"value\":\"2\"},\"renderers\":[{\"id\":\"3223\"}]},\"id\":\"3239\",\"type\":\"LegendItem\"},{\"attributes\":{\"end\":1.042857142857143,\"reset_end\":1.042857142857143,\"reset_start\":-0.04285714285714286,\"start\":-0.04285714285714286,\"tags\":[[[\"TotalCoinsMined_scaled\",\"TotalCoinsMined_scaled\",null]]]},\"id\":\"3132\",\"type\":\"Range1d\"},{\"attributes\":{},\"id\":\"3196\",\"type\":\"Selection\"},{\"attributes\":{\"fill_alpha\":{\"value\":0.2},\"fill_color\":{\"value\":\"#fc4f30\"},\"line_alpha\":{\"value\":0.2},\"line_color\":{\"value\":\"#fc4f30\"},\"size\":{\"value\":5.477225575051661},\"x\":{\"field\":\"TotalCoinsMined_scaled\"},\"y\":{\"field\":\"TotalCoinSupply_scaled\"}},\"id\":\"3200\",\"type\":\"Scatter\"},{\"attributes\":{\"fill_alpha\":{\"value\":0.1},\"fill_color\":{\"value\":\"#30a2da\"},\"line_alpha\":{\"value\":0.1},\"line_color\":{\"value\":\"#30a2da\"},\"size\":{\"value\":5.477225575051661},\"x\":{\"field\":\"TotalCoinsMined_scaled\"},\"y\":{\"field\":\"TotalCoinSupply_scaled\"}},\"id\":\"3178\",\"type\":\"Scatter\"},{\"attributes\":{\"data\":{\"Class\":[1],\"CoinName\":[\"BiblePay\"],\"TotalCoinSupply_scaled\":{\"__ndarray__\":\"AAAAAAAAAAA=\",\"dtype\":\"float64\",\"order\":\"little\",\"shape\":[1]},\"TotalCoinsMined_scaled\":{\"__ndarray__\":\"d3s1s8Ogfz8=\",\"dtype\":\"float64\",\"order\":\"little\",\"shape\":[1]}},\"selected\":{\"id\":\"3196\"},\"selection_policy\":{\"id\":\"3213\"}},\"id\":\"3195\",\"type\":\"ColumnDataSource\"},{\"attributes\":{\"angle\":{\"value\":0.0},\"fill_alpha\":{\"value\":1.0},\"fill_color\":{\"value\":\"#30a2da\"},\"hatch_alpha\":{\"value\":1.0},\"hatch_color\":{\"value\":\"black\"},\"hatch_scale\":{\"value\":12.0},\"hatch_weight\":{\"value\":1.0},\"line_alpha\":{\"value\":1.0},\"line_cap\":{\"value\":\"butt\"},\"line_color\":{\"value\":\"#30a2da\"},\"line_dash\":{\"value\":[]},\"line_dash_offset\":{\"value\":0},\"line_join\":{\"value\":\"bevel\"},\"line_width\":{\"value\":1},\"marker\":{\"value\":\"circle\"},\"size\":{\"value\":5.477225575051661},\"x\":{\"field\":\"TotalCoinsMined_scaled\"},\"y\":{\"field\":\"TotalCoinSupply_scaled\"}},\"id\":\"3194\",\"type\":\"Scatter\"},{\"attributes\":{\"source\":{\"id\":\"3174\"}},\"id\":\"3181\",\"type\":\"CDSView\"},{\"attributes\":{\"active_multi\":null,\"tools\":[{\"id\":\"3134\"},{\"id\":\"3155\"},{\"id\":\"3156\"},{\"id\":\"3157\"},{\"id\":\"3158\"},{\"id\":\"3159\"}]},\"id\":\"3161\",\"type\":\"Toolbar\"},{\"attributes\":{\"label\":{\"value\":\"1\"},\"renderers\":[{\"id\":\"3201\"}]},\"id\":\"3215\",\"type\":\"LegendItem\"},{\"attributes\":{\"children\":[{\"id\":\"3131\"},{\"id\":\"3138\"},{\"id\":\"3411\"}],\"margin\":[0,0,0,0],\"name\":\"Row06135\",\"tags\":[\"embedded\"]},\"id\":\"3130\",\"type\":\"Row\"},{\"attributes\":{\"angle\":{\"value\":0.0},\"fill_alpha\":{\"value\":1.0},\"fill_color\":{\"value\":\"#fc4f30\"},\"hatch_alpha\":{\"value\":1.0},\"hatch_color\":{\"value\":\"black\"},\"hatch_scale\":{\"value\":12.0},\"hatch_weight\":{\"value\":1.0},\"line_alpha\":{\"value\":1.0},\"line_cap\":{\"value\":\"butt\"},\"line_color\":{\"value\":\"#fc4f30\"},\"line_dash\":{\"value\":[]},\"line_dash_offset\":{\"value\":0},\"line_join\":{\"value\":\"bevel\"},\"line_width\":{\"value\":1},\"marker\":{\"value\":\"circle\"},\"size\":{\"value\":5.477225575051661},\"x\":{\"field\":\"TotalCoinsMined_scaled\"},\"y\":{\"field\":\"TotalCoinSupply_scaled\"}},\"id\":\"3216\",\"type\":\"Scatter\"},{\"attributes\":{\"label\":{\"value\":\"0\"},\"renderers\":[{\"id\":\"3180\"}]},\"id\":\"3193\",\"type\":\"LegendItem\"},{\"attributes\":{\"data_source\":{\"id\":\"3174\"},\"glyph\":{\"id\":\"3177\"},\"hover_glyph\":null,\"muted_glyph\":{\"id\":\"3179\"},\"nonselection_glyph\":{\"id\":\"3178\"},\"selection_glyph\":{\"id\":\"3194\"},\"view\":{\"id\":\"3181\"}},\"id\":\"3180\",\"type\":\"GlyphRenderer\"},{\"attributes\":{\"source\":{\"id\":\"3195\"}},\"id\":\"3202\",\"type\":\"CDSView\"},{\"attributes\":{},\"id\":\"3148\",\"type\":\"BasicTicker\"},{\"attributes\":{\"bottom_units\":\"screen\",\"fill_alpha\":0.5,\"fill_color\":\"lightgrey\",\"left_units\":\"screen\",\"level\":\"overlay\",\"line_alpha\":1.0,\"line_color\":\"black\",\"line_dash\":[4,4],\"line_width\":2,\"right_units\":\"screen\",\"syncable\":false,\"top_units\":\"screen\"},\"id\":\"3160\",\"type\":\"BoxAnnotation\"},{\"attributes\":{\"data_source\":{\"id\":\"3217\"},\"glyph\":{\"id\":\"3220\"},\"hover_glyph\":null,\"muted_glyph\":{\"id\":\"3222\"},\"nonselection_glyph\":{\"id\":\"3221\"},\"selection_glyph\":{\"id\":\"3240\"},\"view\":{\"id\":\"3224\"}},\"id\":\"3223\",\"type\":\"GlyphRenderer\"},{\"attributes\":{\"fill_alpha\":{\"value\":0.2},\"fill_color\":{\"value\":\"#30a2da\"},\"line_alpha\":{\"value\":0.2},\"line_color\":{\"value\":\"#30a2da\"},\"size\":{\"value\":5.477225575051661},\"x\":{\"field\":\"TotalCoinsMined_scaled\"},\"y\":{\"field\":\"TotalCoinSupply_scaled\"}},\"id\":\"3179\",\"type\":\"Scatter\"},{\"attributes\":{},\"id\":\"3213\",\"type\":\"UnionRenderers\"},{\"attributes\":{\"fill_alpha\":{\"value\":0.2},\"fill_color\":{\"value\":\"#e5ae38\"},\"line_alpha\":{\"value\":0.2},\"line_color\":{\"value\":\"#e5ae38\"},\"size\":{\"value\":5.477225575051661},\"x\":{\"field\":\"TotalCoinsMined_scaled\"},\"y\":{\"field\":\"TotalCoinSupply_scaled\"}},\"id\":\"3222\",\"type\":\"Scatter\"},{\"attributes\":{\"source\":{\"id\":\"3217\"}},\"id\":\"3224\",\"type\":\"CDSView\"},{\"attributes\":{\"margin\":[5,5,5,5],\"name\":\"HSpacer06140\",\"sizing_mode\":\"stretch_width\"},\"id\":\"3411\",\"type\":\"Spacer\"},{\"attributes\":{},\"id\":\"3172\",\"type\":\"AllLabels\"},{\"attributes\":{},\"id\":\"3237\",\"type\":\"UnionRenderers\"},{\"attributes\":{\"below\":[{\"id\":\"3147\"}],\"center\":[{\"id\":\"3150\"},{\"id\":\"3154\"}],\"height\":300,\"left\":[{\"id\":\"3151\"}],\"margin\":[5,5,5,5],\"min_border_bottom\":10,\"min_border_left\":10,\"min_border_right\":10,\"min_border_top\":10,\"renderers\":[{\"id\":\"3180\"},{\"id\":\"3201\"},{\"id\":\"3223\"},{\"id\":\"3247\"}],\"right\":[{\"id\":\"3192\"}],\"sizing_mode\":\"fixed\",\"title\":{\"id\":\"3139\"},\"toolbar\":{\"id\":\"3161\"},\"width\":700,\"x_range\":{\"id\":\"3132\"},\"x_scale\":{\"id\":\"3143\"},\"y_range\":{\"id\":\"3133\"},\"y_scale\":{\"id\":\"3145\"}},\"id\":\"3138\",\"subtype\":\"Figure\",\"type\":\"Plot\"},{\"attributes\":{},\"id\":\"3175\",\"type\":\"Selection\"},{\"attributes\":{\"axis\":{\"id\":\"3147\"},\"grid_line_color\":null,\"ticker\":null},\"id\":\"3150\",\"type\":\"Grid\"},{\"attributes\":{\"data\":{\"Class\":[3,3,3],\"CoinName\":[\"Vechain\",\"LitecoinCash\",\"Poa Network\"],\"TotalCoinSupply_scaled\":{\"__ndarray__\":\"AAAAAAAAAACoexOAp3vTv/A8HEDwPNy/\",\"dtype\":\"float64\",\"order\":\"little\",\"shape\":[3]},\"TotalCoinsMined_scaled\":{\"__ndarray__\":\"XBjsm06Nrz9wjSUfGfd6P+HRjF0/Lnk/\",\"dtype\":\"float64\",\"order\":\"little\",\"shape\":[3]}},\"selected\":{\"id\":\"3242\"},\"selection_policy\":{\"id\":\"3263\"}},\"id\":\"3241\",\"type\":\"ColumnDataSource\"},{\"attributes\":{\"source\":{\"id\":\"3241\"}},\"id\":\"3248\",\"type\":\"CDSView\"},{\"attributes\":{},\"id\":\"3143\",\"type\":\"LinearScale\"},{\"attributes\":{},\"id\":\"3152\",\"type\":\"BasicTicker\"},{\"attributes\":{\"fill_alpha\":{\"value\":0.2},\"fill_color\":{\"value\":\"#6d904f\"},\"line_alpha\":{\"value\":0.2},\"line_color\":{\"value\":\"#6d904f\"},\"size\":{\"value\":5.477225575051661},\"x\":{\"field\":\"TotalCoinsMined_scaled\"},\"y\":{\"field\":\"TotalCoinSupply_scaled\"}},\"id\":\"3246\",\"type\":\"Scatter\"},{\"attributes\":{\"fill_color\":{\"value\":\"#6d904f\"},\"line_color\":{\"value\":\"#6d904f\"},\"size\":{\"value\":5.477225575051661},\"x\":{\"field\":\"TotalCoinsMined_scaled\"},\"y\":{\"field\":\"TotalCoinSupply_scaled\"}},\"id\":\"3244\",\"type\":\"Scatter\"},{\"attributes\":{\"text_color\":\"black\",\"text_font_size\":\"12pt\"},\"id\":\"3139\",\"type\":\"Title\"},{\"attributes\":{\"callback\":null,\"renderers\":[{\"id\":\"3180\"},{\"id\":\"3201\"},{\"id\":\"3223\"},{\"id\":\"3247\"}],\"tags\":[\"hv_created\"],\"tooltips\":[[\"Class\",\"@{Class}\"],[\"TotalCoinsMined_scaled\",\"@{TotalCoinsMined_scaled}\"],[\"TotalCoinSupply_scaled\",\"@{TotalCoinSupply_scaled}\"],[\"CoinName\",\"@{CoinName}\"]]},\"id\":\"3134\",\"type\":\"HoverTool\"},{\"attributes\":{\"label\":{\"value\":\"3\"},\"renderers\":[{\"id\":\"3247\"}]},\"id\":\"3265\",\"type\":\"LegendItem\"},{\"attributes\":{},\"id\":\"3145\",\"type\":\"LinearScale\"},{\"attributes\":{\"data\":{\"Class\":[0,0,0,0,0,0,0,0,0,0,0,0,0,0,0,0,0,0,0,0,0,0,0,0,0,0,0,0,0,0,0,0,0,0,0,0,0,0,0,0,0,0,0,0,0,0,0,0,0,0,0,0,0,0,0,0,0,0,0,0,0,0,0,0,0,0,0,0,0,0,0,0,0,0,0,0,0,0,0,0,0,0,0,0,0,0,0,0,0,0,0,0,0,0,0,0,0,0,0,0,0,0,0,0,0,0,0,0,0,0,0,0,0,0,0,0,0,0,0,0,0,0,0,0,0,0,0,0,0,0,0,0,0,0,0,0,0,0,0,0,0,0,0,0,0,0,0,0,0,0,0,0,0,0,0,0,0,0,0,0,0,0,0,0,0,0,0,0,0,0,0,0,0,0,0,0,0,0,0,0,0,0,0,0,0,0,0,0,0,0,0,0,0,0,0,0,0,0,0,0,0,0,0,0,0,0,0,0,0,0,0,0,0,0,0,0,0,0,0,0,0,0,0,0,0,0,0,0,0,0,0,0,0,0,0,0,0,0,0,0,0,0,0,0,0,0,0,0,0,0,0,0,0,0,0,0,0,0,0,0,0,0,0,0,0,0,0,0,0,0,0,0,0,0,0,0,0,0,0,0,0,0,0,0,0,0,0,0,0,0,0,0,0,0,0,0,0,0,0,0,0,0,0,0,0,0,0,0,0,0,0,0,0,0,0,0,0,0,0,0,0,0,0,0,0,0,0,0,0,0,0,0,0,0,0,0,0,0,0,0,0,0,0,0,0,0,0,0,0,0,0,0,0,0,0,0,0,0,0,0,0,0,0,0,0,0,0,0,0,0,0,0,0,0,0,0,0,0,0,0,0,0,0,0,0,0,0,0,0,0,0,0,0,0,0,0,0,0,0,0,0,0,0,0,0,0,0,0,0,0,0,0,0,0,0,0,0,0,0,0,0,0,0,0,0,0,0,0,0,0,0,0,0,0,0,0,0,0,0,0,0,0,0,0,0,0,0,0,0,0,0,0,0,0,0,0,0,0,0,0,0,0,0,0,0,0,0,0,0,0,0,0,0,0,0,0,0,0,0,0,0,0,0,0,0,0,0,0,0,0,0,0,0,0,0,0,0,0,0,0,0,0,0,0,0,0,0,0,0,0,0,0,0,0,0,0,0,0,0,0,0,0,0,0,0,0,0,0],\"CoinName\":[\"42 Coin\",\"404Coin\",\"EliteCoin\",\"Bitcoin\",\"Ethereum\",\"Litecoin\",\"Dash\",\"Monero\",\"Ethereum Classic\",\"ZCash\",\"Bitshares\",\"DigiByte\",\"BitcoinDark\",\"PayCoin\",\"ProsperCoin\",\"KoboCoin\",\"Spreadcoin\",\"Argentum\",\"Aurora Coin\",\"BlueCoin\",\"MyriadCoin\",\"MoonCoin\",\"ZetaCoin\",\"SexCoin\",\"Quatloo\",\"EnergyCoin\",\"QuarkCoin\",\"Riecoin\",\"Digitalcoin \",\"BitBar\",\"Catcoin\",\"CryptoBullion\",\"CannaCoin\",\"CryptCoin\",\"CasinoCoin\",\"Diamond\",\"Verge\",\"DevCoin\",\"EarthCoin\",\"E-Gulden\",\"Einsteinium\",\"Emerald\",\"Exclusive Coin\",\"FlutterCoin\",\"Franko\",\"FeatherCoin\",\"GrandCoin\",\"GlobalCoin\",\"GoldCoin\",\"HoboNickels\",\"HyperStake\",\"Infinite Coin\",\"IOCoin\",\"IXcoin\",\"KrugerCoin\",\"LuckyCoin\",\"Litebar \",\"MaxCoin\",\"MegaCoin\",\"MediterraneanCoin\",\"MintCoin\",\"MinCoin\",\"MazaCoin\",\"Nautilus Coin\",\"NavCoin\",\"NobleCoin\",\"Namecoin\",\"NyanCoin\",\"OpalCoin\",\"Orbitcoin\",\"PotCoin\",\"PhoenixCoin\",\"Reddcoin\",\"RonPaulCoin\",\"StableCoin\",\"SmartCoin\",\"SuperCoin\",\"SyncCoin\",\"SysCoin\",\"TeslaCoin\",\"TigerCoin\",\"TittieCoin\",\"TorCoin\",\"TerraCoin\",\"UnbreakableCoin\",\"Unobtanium\",\"UroCoin\",\"UnitaryStatus Dollar\",\"UltraCoin\",\"ViaCoin\",\"VeriCoin\",\"Vertcoin\",\"WorldCoin\",\"X11 Coin\",\"Crypti\",\"JouleCoin\",\"StealthCoin\",\"ZCC Coin\",\"ByteCoin\",\"DigitalNote \",\"BurstCoin\",\"StorjCoin\",\"MonaCoin\",\"Neutron\",\"FairCoin\",\"Gulden\",\"RubyCoin\",\"PesetaCoin\",\"Kore\",\"Wild Beast Coin\",\"Dnotes\",\"Flo\",\"8BIT Coin\",\"Sativa Coin\",\"ArtByte\",\"Folding Coin\",\"Ucoin\",\"Unitus\",\"CypherPunkCoin\",\"OmniCron\",\"Vtorrent\",\"GreenCoin\",\"Cryptonite\",\"MasterCoin\",\"SoonCoin\",\"1Credit\",\"IslaCoin\",\"Nexus\",\"MarsCoin \",\"Crypto\",\"Anarchists Prime\",\"Droidz\",\"BowsCoin\",\"Squall Coin\",\"Song Coin\",\"BitZeny\",\"Diggits\",\"Expanse\",\"Paycon\",\"Siacoin\",\"Emercoin\",\"EverGreenCoin\",\"MindCoin\",\"I0coin\",\"Decred\",\"Revolution VR\",\"HOdlcoin\",\"EDRCoin\",\"Hitcoin\",\"Gamecredits\",\"DubaiCoin\",\"CarpeDiemCoin\",\"PWR Coin\",\"BillaryCoin\",\"GPU Coin\",\"Adzcoin\",\"SoilCoin\",\"YoCoin\",\"SibCoin\",\"EuropeCoin\",\"ZeitCoin\",\"SwingCoin\",\"SafeExchangeCoin\",\"Nebuchadnezzar\",\"Francs\",\"BolivarCoin\",\"Ratecoin\",\"Revenu\",\"Clockcoin\",\"VIP Tokens\",\"BitSend\",\"Omni\",\"Let it Ride\",\"PutinCoin\",\"iBankCoin\",\"Frankywillcoin\",\"MudraCoin\",\"PizzaCoin\",\"Lutetium Coin\",\"Komodo\",\"GoldBlocks\",\"CarterCoin\",\"Karbo\",\"BitTokens\",\"ZayedCoin\",\"MustangCoin\",\"ZoneCoin\",\"Circuits of Value\",\"RootCoin\",\"DopeCoin\",\"BitCurrency\",\"DollarCoin\",\"Swiscoin\",\"Shilling\",\"BuzzCoin\",\"Opair\",\"PesoBit\",\"Halloween Coin\",\"ZCoin\",\"CoffeeCoin\",\"RoyalCoin\",\"GanjaCoin V2\",\"TeamUP\",\"LanaCoin\",\"Elementrem\",\"ZClassic\",\"ARK\",\"InsaneCoin\",\"KiloCoin\",\"ArtexCoin\",\"EmberCoin\",\"XenixCoin\",\"FreeCoin\",\"PLNCoin\",\"AquariusCoin\",\"Kurrent\",\"Creatio\",\"Eternity\",\"Eurocoin\",\"BitcoinFast\",\"Stakenet\",\"BitConnect Coin\",\"MoneyCoin\",\"Enigma\",\"Cannabis Industry Coin\",\"Russiacoin\",\"PandaCoin\",\"GameUnits\",\"GAKHcoin\",\"Allsafe\",\"LiteCreed\",\"OsmiumCoin\",\"Bikercoins\",\"HexxCoin\",\"Klingon Empire Darsek\",\"Internet of People\",\"KushCoin\",\"Printerium\",\"PacCoin\",\"Impeach\",\"Citadel\",\"Zilbercoin\",\"FirstCoin\",\"BeaverCoin\",\"FindCoin\",\"VaultCoin\",\"Zero\",\"OpenChat\",\"Canada eCoin\",\"Zoin\",\"RenosCoin\",\"DubaiCoin\",\"VirtacoinPlus\",\"TajCoin\",\"Impact\",\"EB3coin\",\"Atmos\",\"HappyCoin\",\"Coinonat\",\"MacronCoin\",\"Condensate\",\"Independent Money System\",\"ArgusCoin\",\"LomoCoin\",\"ProCurrency\",\"GoldReserve\",\"BenjiRolls\",\"GrowthCoin\",\"ILCoin\",\"Phreak\",\"Degas Coin\",\"HTML5 Coin\",\"Ultimate Secure Cash\",\"EquiTrader\",\"QTUM\",\"Quantum Resistant Ledger\",\"Espers\",\"Dynamic\",\"Nano\",\"ChanCoin\",\"Dinastycoin\",\"Denarius\",\"DigitalPrice\",\"Virta Unique Coin\",\"Bitcoin Planet\",\"Unify\",\"BritCoin\",\"SocialCoin\",\"ArcticCoin\",\"DAS\",\"Linda\",\"LeviarCoin\",\"DeepOnion\",\"Bitcore\",\"gCn Coin\",\"SmartCash\",\"Signatum\",\"Onix\",\"Cream\",\"Bitcoin Cash\",\"Monoeci\",\"Draftcoin\",\"Sojourn Coin\",\"Stakecoin\",\"NewYorkCoin\",\"FrazCoin\",\"Kronecoin\",\"AdCoin\",\"Linx\",\"CoinonatX\",\"Ethereum Dark\",\"Sumokoin\",\"Obsidian\",\"Cardano\",\"Regalcoin\",\"BitcoinZ\",\"TrezarCoin\",\"Elements\",\"TerraNovaCoin\",\"VIVO Coin\",\"Rupee\",\"Bitcoin Gold\",\"WomenCoin\",\"Theresa May Coin\",\"NamoCoin\",\"LUXCoin\",\"Pirl\",\"Xios\",\"Bitcloud 2.0\",\"eBoost\",\"KekCoin\",\"BlackholeCoin\",\"Infinity Economics\",\"Pura\",\"Innova\",\"Ellaism\",\"GoByte\",\"Magnet\",\"Lamden Tau\",\"Electra\",\"Bitcoin Diamond\",\"SHIELD\",\"Cash & Back Coin\",\"UltraNote\",\"BitCoal\",\"DaxxCoin\",\"Bulwark\",\"Kalkulus\",\"AC3\",\"Lethean\",\"GermanCoin\",\"LiteCoin Ultra\",\"PopularCoin\",\"PhantomX\",\"Photon\",\"Sucre\",\"SparksPay\",\"Digiwage\",\"GunCoin\",\"IrishCoin\",\"Trollcoin\",\"Litecoin Plus\",\"Monkey Project\",\"Pioneer Coin\",\"UnitedBitcoin\",\"Interzone\",\"TokenPay\",\"1717 Masonic Commemorative Token\",\"My Big Coin\",\"TurtleCoin\",\"MUNcoin\",\"Unified Society USDEX\",\"Niobio Cash\",\"ShareChain\",\"Travelflex\",\"KREDS\",\"Tokyo Coin\",\"BitFlip\",\"LottoCoin\",\"Crypto Improvement Fund\",\"Stipend\",\"Pushi\",\"Ellerium\",\"Velox\",\"Ontology\",\"Callisto Network\",\"BitTube\",\"Poseidon\",\"Aidos Kuneen\",\"Bitspace\",\"Briacoin\",\"Ignition\",\"Bitrolium\",\"MedicCoin\",\"Alpenschillling\",\"Bitcoin Green\",\"Deviant Coin\",\"Abjcoin\",\"Semux\",\"FuturoCoin\",\"Carebit\",\"Zealium\",\"Monero Classic\",\"Proton\",\"iDealCash\",\"Jumpcoin\",\"Infinex\",\"Bitcoin Incognito\",\"KEYCO\",\"HollyWoodCoin\",\"GINcoin\",\"PlatinCoin\",\"Loki\",\"Newton Coin\",\"Swisscoin\",\"Xt3ch\",\"MassGrid\",\"TheVig\",\"PluraCoin\",\"EmaratCoin\",\"Dekado\",\"Lynx\",\"Poseidon Quark\",\"BitcoinWSpectrum\",\"Muse\",\"Motion\",\"PlusOneCoin\",\"Axe\",\"Trivechain\",\"Dystem\",\"Giant\",\"Peony Coin\",\"Absolute Coin\",\"Vitae\",\"HexCoin\",\"TPCash\",\"Webchain\",\"Ryo\",\"Urals Coin\",\"Qwertycoin\",\"ARENON\",\"EUNO\",\"MMOCoin\",\"Ketan\",\"Project Pai\",\"XDNA\",\"PAXEX\",\"Azart\",\"ThunderStake\",\"Kcash\",\"Xchange\",\"Acute Angle Cloud\",\"CrypticCoin\",\"Bettex coin\",\"Actinium\",\"Bitcoin SV\",\"BitMoney\",\"Junson Ming Chan Coin\",\"FREDEnergy\",\"HerbCoin\",\"Universal Molecule\",\"Lithium\",\"PirateCash\",\"Exosis\",\"Block-Logic\",\"Oduwa\",\"Beam\",\"Galilel\",\"Bithereum\",\"Crypto Sports\",\"Credit\",\"SLICE\",\"Dash Platinum\",\"Nasdacoin\",\"Beetle Coin\",\"Titan Coin\",\"Award\",\"BLAST\",\"Bitcoin Rhodium\",\"GlobalToken\",\"Insane Coin\",\"ALAX\",\"LiteDoge\",\"SolarCoin\",\"TruckCoin\",\"UFO Coin\",\"OrangeCoin\",\"BlakeCoin\",\"BitstarCoin\",\"NeosCoin\",\"HyperCoin\",\"PinkCoin\",\"Crypto Escudo\",\"AudioCoin\",\"IncaKoin\",\"Piggy Coin\",\"Crown Coin\",\"Genstake\",\"SmileyCoin\",\"XiaoMiCoin\",\"Groestlcoin\",\"CapriCoin\",\" ClubCoin\",\"Radium\",\"Bata\",\"Pakcoin\",\"Creditbit \",\"OKCash\",\"Lisk\",\"HiCoin\",\"WhiteCoin\",\"FriendshipCoin\",\"Fiii\",\"JoinCoin\",\"Triangles Coin\",\"Vollar\",\"EOS\",\"Reality Clash\",\"Oxycoin\",\"TigerCash\",\"Waves\",\"Particl\",\"Nxt\",\"ZEPHYR\",\"Gapcoin\",\"Beldex\",\"Horizen\",\"BitcoinPlus\"],\"TotalCoinSupply_scaled\":{\"__ndarray__\":\"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\",\"dtype\":\"float64\",\"order\":\"little\",\"shape\":[528]},\"TotalCoinsMined_scaled\":{\"__ndarray__\":\"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\",\"dtype\":\"float64\",\"order\":\"little\",\"shape\":[528]}},\"selected\":{\"id\":\"3175\"},\"selection_policy\":{\"id\":\"3190\"}},\"id\":\"3174\",\"type\":\"ColumnDataSource\"},{\"attributes\":{\"axis_label\":\"TotalCoinSupply_scaled\",\"formatter\":{\"id\":\"3171\"},\"major_label_policy\":{\"id\":\"3172\"},\"ticker\":{\"id\":\"3152\"}},\"id\":\"3151\",\"type\":\"LinearAxis\"},{\"attributes\":{\"axis_label\":\"TotalCoinsMined_scaled\",\"formatter\":{\"id\":\"3168\"},\"major_label_policy\":{\"id\":\"3169\"},\"ticker\":{\"id\":\"3148\"}},\"id\":\"3147\",\"type\":\"LinearAxis\"},{\"attributes\":{\"data_source\":{\"id\":\"3195\"},\"glyph\":{\"id\":\"3198\"},\"hover_glyph\":null,\"muted_glyph\":{\"id\":\"3200\"},\"nonselection_glyph\":{\"id\":\"3199\"},\"selection_glyph\":{\"id\":\"3216\"},\"view\":{\"id\":\"3202\"}},\"id\":\"3201\",\"type\":\"GlyphRenderer\"},{\"attributes\":{\"angle\":{\"value\":0.0},\"fill_alpha\":{\"value\":1.0},\"fill_color\":{\"value\":\"#6d904f\"},\"hatch_alpha\":{\"value\":1.0},\"hatch_color\":{\"value\":\"black\"},\"hatch_scale\":{\"value\":12.0},\"hatch_weight\":{\"value\":1.0},\"line_alpha\":{\"value\":1.0},\"line_cap\":{\"value\":\"butt\"},\"line_color\":{\"value\":\"#6d904f\"},\"line_dash\":{\"value\":[]},\"line_dash_offset\":{\"value\":0},\"line_join\":{\"value\":\"bevel\"},\"line_width\":{\"value\":1},\"marker\":{\"value\":\"circle\"},\"size\":{\"value\":5.477225575051661},\"x\":{\"field\":\"TotalCoinsMined_scaled\"},\"y\":{\"field\":\"TotalCoinSupply_scaled\"}},\"id\":\"3266\",\"type\":\"Scatter\"},{\"attributes\":{\"fill_alpha\":{\"value\":0.1},\"fill_color\":{\"value\":\"#fc4f30\"},\"line_alpha\":{\"value\":0.1},\"line_color\":{\"value\":\"#fc4f30\"},\"size\":{\"value\":5.477225575051661},\"x\":{\"field\":\"TotalCoinsMined_scaled\"},\"y\":{\"field\":\"TotalCoinSupply_scaled\"}},\"id\":\"3199\",\"type\":\"Scatter\"},{\"attributes\":{\"fill_alpha\":{\"value\":0.1},\"fill_color\":{\"value\":\"#e5ae38\"},\"line_alpha\":{\"value\":0.1},\"line_color\":{\"value\":\"#e5ae38\"},\"size\":{\"value\":5.477225575051661},\"x\":{\"field\":\"TotalCoinsMined_scaled\"},\"y\":{\"field\":\"TotalCoinSupply_scaled\"}},\"id\":\"3221\",\"type\":\"Scatter\"},{\"attributes\":{},\"id\":\"3263\",\"type\":\"UnionRenderers\"},{\"attributes\":{\"axis\":{\"id\":\"3151\"},\"dimension\":1,\"grid_line_color\":null,\"ticker\":null},\"id\":\"3154\",\"type\":\"Grid\"},{\"attributes\":{\"fill_color\":{\"value\":\"#e5ae38\"},\"line_color\":{\"value\":\"#e5ae38\"},\"size\":{\"value\":5.477225575051661},\"x\":{\"field\":\"TotalCoinsMined_scaled\"},\"y\":{\"field\":\"TotalCoinSupply_scaled\"}},\"id\":\"3220\",\"type\":\"Scatter\"},{\"attributes\":{\"angle\":{\"value\":0.0},\"fill_alpha\":{\"value\":1.0},\"fill_color\":{\"value\":\"#e5ae38\"},\"hatch_alpha\":{\"value\":1.0},\"hatch_color\":{\"value\":\"black\"},\"hatch_scale\":{\"value\":12.0},\"hatch_weight\":{\"value\":1.0},\"line_alpha\":{\"value\":1.0},\"line_cap\":{\"value\":\"butt\"},\"line_color\":{\"value\":\"#e5ae38\"},\"line_dash\":{\"value\":[]},\"line_dash_offset\":{\"value\":0},\"line_join\":{\"value\":\"bevel\"},\"line_width\":{\"value\":1},\"marker\":{\"value\":\"circle\"},\"size\":{\"value\":5.477225575051661},\"x\":{\"field\":\"TotalCoinsMined_scaled\"},\"y\":{\"field\":\"TotalCoinSupply_scaled\"}},\"id\":\"3240\",\"type\":\"Scatter\"},{\"attributes\":{\"data_source\":{\"id\":\"3241\"},\"glyph\":{\"id\":\"3244\"},\"hover_glyph\":null,\"muted_glyph\":{\"id\":\"3246\"},\"nonselection_glyph\":{\"id\":\"3245\"},\"selection_glyph\":{\"id\":\"3266\"},\"view\":{\"id\":\"3248\"}},\"id\":\"3247\",\"type\":\"GlyphRenderer\"}],\"root_ids\":[\"3130\"]},\"title\":\"Bokeh Application\",\"version\":\"2.3.2\"}};\n",
       "    var render_items = [{\"docid\":\"034049ca-26f4-4ca1-a470-aec185001add\",\"root_ids\":[\"3130\"],\"roots\":{\"3130\":\"677fa33a-6ad8-4af8-8e48-7a92816bd89f\"}}];\n",
       "    root.Bokeh.embed.embed_items_notebook(docs_json, render_items);\n",
       "  }\n",
       "  if (root.Bokeh !== undefined && root.Bokeh.Panel !== undefined) {\n",
       "    embed_document(root);\n",
       "  } else {\n",
       "    var attempts = 0;\n",
       "    var timer = setInterval(function(root) {\n",
       "      if (root.Bokeh !== undefined && root.Bokeh.Panel !== undefined) {\n",
       "        clearInterval(timer);\n",
       "        embed_document(root);\n",
       "      } else if (document.readyState == \"complete\") {\n",
       "        attempts++;\n",
       "        if (attempts > 200) {\n",
       "          clearInterval(timer);\n",
       "          console.log(\"Bokeh: ERROR: Unable to run BokehJS code because BokehJS library is missing\");\n",
       "        }\n",
       "      }\n",
       "    }, 25, root)\n",
       "  }\n",
       "})(window);</script>"
      ],
      "text/plain": [
       ":NdOverlay   [Class]\n",
       "   :Scatter   [TotalCoinsMined_scaled]   (TotalCoinSupply_scaled,CoinName)"
      ]
     },
     "execution_count": 119,
     "metadata": {
      "application/vnd.holoviews_exec.v0+json": {
       "id": "3130"
      }
     },
     "output_type": "execute_result"
    }
   ],
   "source": [
    "# Plot the scatter with x=\"TotalCoinsMined\" and y=\"TotalCoinSupply\"\n",
    "clustered_df.hvplot.scatter(\n",
    "    x=\"TotalCoinsMined_scaled\",\n",
    "    y=\"TotalCoinSupply_scaled\",\n",
    "    hover_cols=[\"CoinName\"],\n",
    "    by=\"Class\",\n",
    ")"
   ]
  },
  {
   "cell_type": "code",
   "execution_count": 120,
   "metadata": {},
   "outputs": [],
   "source": [
    "#The End"
   ]
  }
 ],
 "metadata": {
  "file_extension": ".py",
  "kernelspec": {
   "display_name": "Python 3",
   "language": "python",
   "name": "python3"
  },
  "language_info": {
   "codemirror_mode": {
    "name": "ipython",
    "version": 3
   },
   "file_extension": ".py",
   "mimetype": "text/x-python",
   "name": "python",
   "nbconvert_exporter": "python",
   "pygments_lexer": "ipython3",
   "version": "3.7.10"
  },
  "mimetype": "text/x-python",
  "name": "python",
  "npconvert_exporter": "python",
  "pygments_lexer": "ipython3",
  "version": 3
 },
 "nbformat": 4,
 "nbformat_minor": 4
}
