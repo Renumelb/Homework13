{
 "cells": [
  {
   "cell_type": "markdown",
   "metadata": {},
   "source": [
    "# Clustering Crypto"
   ]
  },
  {
   "cell_type": "code",
   "execution_count": 47,
   "metadata": {},
   "outputs": [],
   "source": [
    "# Initial imports\n",
    "import requests\n",
    "from pathlib import Path\n",
    "import pandas as pd\n",
    "import plotly.express as px\n",
    "from sklearn.preprocessing import StandardScaler, MinMaxScaler\n",
    "from sklearn.decomposition import PCA\n",
    "from sklearn.cluster import KMeans\n",
    "import warnings\n",
    "warnings.filterwarnings('ignore')"
   ]
  },
  {
   "cell_type": "markdown",
   "metadata": {},
   "source": [
    "### Fetching Cryptocurrency Data"
   ]
  },
  {
   "cell_type": "code",
   "execution_count": 48,
   "metadata": {},
   "outputs": [],
   "source": [
    "# Use the following endpoint to fetch json data\n",
    "url = \"https://min-api.cryptocompare.com/data/all/coinlist\""
   ]
  },
  {
   "cell_type": "code",
   "execution_count": 49,
   "metadata": {},
   "outputs": [],
   "source": [
    "# Create a DataFrame \n",
    "# HINT: You will need to use the 'Data' key from the json response, then transpose the DataFrame."
   ]
  },
  {
   "cell_type": "code",
   "execution_count": 50,
   "metadata": {},
   "outputs": [
    {
     "data": {
      "text/html": [
       "<div>\n",
       "<style scoped>\n",
       "    .dataframe tbody tr th:only-of-type {\n",
       "        vertical-align: middle;\n",
       "    }\n",
       "\n",
       "    .dataframe tbody tr th {\n",
       "        vertical-align: top;\n",
       "    }\n",
       "\n",
       "    .dataframe thead th {\n",
       "        text-align: right;\n",
       "    }\n",
       "</style>\n",
       "<table border=\"1\" class=\"dataframe\">\n",
       "  <thead>\n",
       "    <tr style=\"text-align: right;\">\n",
       "      <th></th>\n",
       "      <th>Unnamed: 0</th>\n",
       "      <th>CoinName</th>\n",
       "      <th>Algorithm</th>\n",
       "      <th>IsTrading</th>\n",
       "      <th>ProofType</th>\n",
       "      <th>TotalCoinsMined</th>\n",
       "      <th>TotalCoinSupply</th>\n",
       "    </tr>\n",
       "  </thead>\n",
       "  <tbody>\n",
       "    <tr>\n",
       "      <th>0</th>\n",
       "      <td>42</td>\n",
       "      <td>42 Coin</td>\n",
       "      <td>Scrypt</td>\n",
       "      <td>True</td>\n",
       "      <td>PoW/PoS</td>\n",
       "      <td>4.199995e+01</td>\n",
       "      <td>42</td>\n",
       "    </tr>\n",
       "    <tr>\n",
       "      <th>1</th>\n",
       "      <td>365</td>\n",
       "      <td>365Coin</td>\n",
       "      <td>X11</td>\n",
       "      <td>True</td>\n",
       "      <td>PoW/PoS</td>\n",
       "      <td>NaN</td>\n",
       "      <td>2300000000</td>\n",
       "    </tr>\n",
       "    <tr>\n",
       "      <th>2</th>\n",
       "      <td>404</td>\n",
       "      <td>404Coin</td>\n",
       "      <td>Scrypt</td>\n",
       "      <td>True</td>\n",
       "      <td>PoW/PoS</td>\n",
       "      <td>1.055185e+09</td>\n",
       "      <td>532000000</td>\n",
       "    </tr>\n",
       "    <tr>\n",
       "      <th>3</th>\n",
       "      <td>611</td>\n",
       "      <td>SixEleven</td>\n",
       "      <td>SHA-256</td>\n",
       "      <td>True</td>\n",
       "      <td>PoW</td>\n",
       "      <td>NaN</td>\n",
       "      <td>611000</td>\n",
       "    </tr>\n",
       "    <tr>\n",
       "      <th>4</th>\n",
       "      <td>808</td>\n",
       "      <td>808</td>\n",
       "      <td>SHA-256</td>\n",
       "      <td>True</td>\n",
       "      <td>PoW/PoS</td>\n",
       "      <td>0.000000e+00</td>\n",
       "      <td>0</td>\n",
       "    </tr>\n",
       "    <tr>\n",
       "      <th>5</th>\n",
       "      <td>1337</td>\n",
       "      <td>EliteCoin</td>\n",
       "      <td>X13</td>\n",
       "      <td>True</td>\n",
       "      <td>PoW/PoS</td>\n",
       "      <td>2.927942e+10</td>\n",
       "      <td>314159265359</td>\n",
       "    </tr>\n",
       "    <tr>\n",
       "      <th>6</th>\n",
       "      <td>2015</td>\n",
       "      <td>2015 coin</td>\n",
       "      <td>X11</td>\n",
       "      <td>True</td>\n",
       "      <td>PoW/PoS</td>\n",
       "      <td>NaN</td>\n",
       "      <td>0</td>\n",
       "    </tr>\n",
       "    <tr>\n",
       "      <th>7</th>\n",
       "      <td>BTC</td>\n",
       "      <td>Bitcoin</td>\n",
       "      <td>SHA-256</td>\n",
       "      <td>True</td>\n",
       "      <td>PoW</td>\n",
       "      <td>1.792718e+07</td>\n",
       "      <td>21000000</td>\n",
       "    </tr>\n",
       "    <tr>\n",
       "      <th>8</th>\n",
       "      <td>ETH</td>\n",
       "      <td>Ethereum</td>\n",
       "      <td>Ethash</td>\n",
       "      <td>True</td>\n",
       "      <td>PoW</td>\n",
       "      <td>1.076842e+08</td>\n",
       "      <td>0</td>\n",
       "    </tr>\n",
       "    <tr>\n",
       "      <th>9</th>\n",
       "      <td>LTC</td>\n",
       "      <td>Litecoin</td>\n",
       "      <td>Scrypt</td>\n",
       "      <td>True</td>\n",
       "      <td>PoW</td>\n",
       "      <td>6.303924e+07</td>\n",
       "      <td>84000000</td>\n",
       "    </tr>\n",
       "  </tbody>\n",
       "</table>\n",
       "</div>"
      ],
      "text/plain": [
       "  Unnamed: 0   CoinName Algorithm  IsTrading ProofType  TotalCoinsMined  \\\n",
       "0         42    42 Coin    Scrypt       True   PoW/PoS     4.199995e+01   \n",
       "1        365    365Coin       X11       True   PoW/PoS              NaN   \n",
       "2        404    404Coin    Scrypt       True   PoW/PoS     1.055185e+09   \n",
       "3        611  SixEleven   SHA-256       True       PoW              NaN   \n",
       "4        808        808   SHA-256       True   PoW/PoS     0.000000e+00   \n",
       "5       1337  EliteCoin       X13       True   PoW/PoS     2.927942e+10   \n",
       "6       2015  2015 coin       X11       True   PoW/PoS              NaN   \n",
       "7        BTC    Bitcoin   SHA-256       True       PoW     1.792718e+07   \n",
       "8        ETH   Ethereum    Ethash       True       PoW     1.076842e+08   \n",
       "9        LTC   Litecoin    Scrypt       True       PoW     6.303924e+07   \n",
       "\n",
       "  TotalCoinSupply  \n",
       "0              42  \n",
       "1      2300000000  \n",
       "2       532000000  \n",
       "3          611000  \n",
       "4               0  \n",
       "5    314159265359  \n",
       "6               0  \n",
       "7        21000000  \n",
       "8               0  \n",
       "9        84000000  "
      ]
     },
     "execution_count": 50,
     "metadata": {},
     "output_type": "execute_result"
    }
   ],
   "source": [
    "# Alternatively, use the provided csv file:\n",
    "# file_path = Path(\"Resources/crypto_data.csv\")\n",
    "file_path = Path(\"Data/crypto_data.csv\")\n",
    "# Create a DataFrame\n",
    "crypto_df = pd.read_csv(file_path)\n",
    "crypto_df.head(10)"
   ]
  },
  {
   "cell_type": "markdown",
   "metadata": {},
   "source": [
    "### Data Preprocessing"
   ]
  },
  {
   "cell_type": "code",
   "execution_count": 51,
   "metadata": {},
   "outputs": [
    {
     "data": {
      "text/html": [
       "<div>\n",
       "<style scoped>\n",
       "    .dataframe tbody tr th:only-of-type {\n",
       "        vertical-align: middle;\n",
       "    }\n",
       "\n",
       "    .dataframe tbody tr th {\n",
       "        vertical-align: top;\n",
       "    }\n",
       "\n",
       "    .dataframe thead th {\n",
       "        text-align: right;\n",
       "    }\n",
       "</style>\n",
       "<table border=\"1\" class=\"dataframe\">\n",
       "  <thead>\n",
       "    <tr style=\"text-align: right;\">\n",
       "      <th></th>\n",
       "      <th>CoinName</th>\n",
       "      <th>Algorithm</th>\n",
       "      <th>IsTrading</th>\n",
       "      <th>ProofType</th>\n",
       "      <th>TotalCoinsMined</th>\n",
       "      <th>TotalCoinSupply</th>\n",
       "    </tr>\n",
       "  </thead>\n",
       "  <tbody>\n",
       "    <tr>\n",
       "      <th>0</th>\n",
       "      <td>42 Coin</td>\n",
       "      <td>Scrypt</td>\n",
       "      <td>True</td>\n",
       "      <td>PoW/PoS</td>\n",
       "      <td>4.199995e+01</td>\n",
       "      <td>42</td>\n",
       "    </tr>\n",
       "    <tr>\n",
       "      <th>1</th>\n",
       "      <td>365Coin</td>\n",
       "      <td>X11</td>\n",
       "      <td>True</td>\n",
       "      <td>PoW/PoS</td>\n",
       "      <td>NaN</td>\n",
       "      <td>2300000000</td>\n",
       "    </tr>\n",
       "    <tr>\n",
       "      <th>2</th>\n",
       "      <td>404Coin</td>\n",
       "      <td>Scrypt</td>\n",
       "      <td>True</td>\n",
       "      <td>PoW/PoS</td>\n",
       "      <td>1.055185e+09</td>\n",
       "      <td>532000000</td>\n",
       "    </tr>\n",
       "    <tr>\n",
       "      <th>3</th>\n",
       "      <td>SixEleven</td>\n",
       "      <td>SHA-256</td>\n",
       "      <td>True</td>\n",
       "      <td>PoW</td>\n",
       "      <td>NaN</td>\n",
       "      <td>611000</td>\n",
       "    </tr>\n",
       "    <tr>\n",
       "      <th>4</th>\n",
       "      <td>808</td>\n",
       "      <td>SHA-256</td>\n",
       "      <td>True</td>\n",
       "      <td>PoW/PoS</td>\n",
       "      <td>0.000000e+00</td>\n",
       "      <td>0</td>\n",
       "    </tr>\n",
       "    <tr>\n",
       "      <th>5</th>\n",
       "      <td>EliteCoin</td>\n",
       "      <td>X13</td>\n",
       "      <td>True</td>\n",
       "      <td>PoW/PoS</td>\n",
       "      <td>2.927942e+10</td>\n",
       "      <td>314159265359</td>\n",
       "    </tr>\n",
       "    <tr>\n",
       "      <th>6</th>\n",
       "      <td>2015 coin</td>\n",
       "      <td>X11</td>\n",
       "      <td>True</td>\n",
       "      <td>PoW/PoS</td>\n",
       "      <td>NaN</td>\n",
       "      <td>0</td>\n",
       "    </tr>\n",
       "    <tr>\n",
       "      <th>7</th>\n",
       "      <td>Bitcoin</td>\n",
       "      <td>SHA-256</td>\n",
       "      <td>True</td>\n",
       "      <td>PoW</td>\n",
       "      <td>1.792718e+07</td>\n",
       "      <td>21000000</td>\n",
       "    </tr>\n",
       "    <tr>\n",
       "      <th>8</th>\n",
       "      <td>Ethereum</td>\n",
       "      <td>Ethash</td>\n",
       "      <td>True</td>\n",
       "      <td>PoW</td>\n",
       "      <td>1.076842e+08</td>\n",
       "      <td>0</td>\n",
       "    </tr>\n",
       "    <tr>\n",
       "      <th>9</th>\n",
       "      <td>Litecoin</td>\n",
       "      <td>Scrypt</td>\n",
       "      <td>True</td>\n",
       "      <td>PoW</td>\n",
       "      <td>6.303924e+07</td>\n",
       "      <td>84000000</td>\n",
       "    </tr>\n",
       "  </tbody>\n",
       "</table>\n",
       "</div>"
      ],
      "text/plain": [
       "    CoinName Algorithm  IsTrading ProofType  TotalCoinsMined TotalCoinSupply\n",
       "0    42 Coin    Scrypt       True   PoW/PoS     4.199995e+01              42\n",
       "1    365Coin       X11       True   PoW/PoS              NaN      2300000000\n",
       "2    404Coin    Scrypt       True   PoW/PoS     1.055185e+09       532000000\n",
       "3  SixEleven   SHA-256       True       PoW              NaN          611000\n",
       "4        808   SHA-256       True   PoW/PoS     0.000000e+00               0\n",
       "5  EliteCoin       X13       True   PoW/PoS     2.927942e+10    314159265359\n",
       "6  2015 coin       X11       True   PoW/PoS              NaN               0\n",
       "7    Bitcoin   SHA-256       True       PoW     1.792718e+07        21000000\n",
       "8   Ethereum    Ethash       True       PoW     1.076842e+08               0\n",
       "9   Litecoin    Scrypt       True       PoW     6.303924e+07        84000000"
      ]
     },
     "execution_count": 51,
     "metadata": {},
     "output_type": "execute_result"
    }
   ],
   "source": [
    "# Keep only necessary columns:\n",
    "# 'CoinName','Algorithm','IsTrading','ProofType','TotalCoinsMined','TotalCoinSupply'\n",
    "crypto_df = crypto_df.drop([\"Unnamed: 0\"], axis=1)\n",
    "crypto_df.head(10)"
   ]
  },
  {
   "cell_type": "code",
   "execution_count": 52,
   "metadata": {},
   "outputs": [
    {
     "data": {
      "text/html": [
       "<div>\n",
       "<style scoped>\n",
       "    .dataframe tbody tr th:only-of-type {\n",
       "        vertical-align: middle;\n",
       "    }\n",
       "\n",
       "    .dataframe tbody tr th {\n",
       "        vertical-align: top;\n",
       "    }\n",
       "\n",
       "    .dataframe thead th {\n",
       "        text-align: right;\n",
       "    }\n",
       "</style>\n",
       "<table border=\"1\" class=\"dataframe\">\n",
       "  <thead>\n",
       "    <tr style=\"text-align: right;\">\n",
       "      <th></th>\n",
       "      <th>CoinName</th>\n",
       "      <th>Algorithm</th>\n",
       "      <th>IsTrading</th>\n",
       "      <th>ProofType</th>\n",
       "      <th>TotalCoinsMined</th>\n",
       "      <th>TotalCoinSupply</th>\n",
       "    </tr>\n",
       "  </thead>\n",
       "  <tbody>\n",
       "    <tr>\n",
       "      <th>0</th>\n",
       "      <td>42 Coin</td>\n",
       "      <td>Scrypt</td>\n",
       "      <td>True</td>\n",
       "      <td>PoW/PoS</td>\n",
       "      <td>4.199995e+01</td>\n",
       "      <td>42</td>\n",
       "    </tr>\n",
       "    <tr>\n",
       "      <th>1</th>\n",
       "      <td>365Coin</td>\n",
       "      <td>X11</td>\n",
       "      <td>True</td>\n",
       "      <td>PoW/PoS</td>\n",
       "      <td>NaN</td>\n",
       "      <td>2300000000</td>\n",
       "    </tr>\n",
       "    <tr>\n",
       "      <th>2</th>\n",
       "      <td>404Coin</td>\n",
       "      <td>Scrypt</td>\n",
       "      <td>True</td>\n",
       "      <td>PoW/PoS</td>\n",
       "      <td>1.055185e+09</td>\n",
       "      <td>532000000</td>\n",
       "    </tr>\n",
       "    <tr>\n",
       "      <th>3</th>\n",
       "      <td>SixEleven</td>\n",
       "      <td>SHA-256</td>\n",
       "      <td>True</td>\n",
       "      <td>PoW</td>\n",
       "      <td>NaN</td>\n",
       "      <td>611000</td>\n",
       "    </tr>\n",
       "    <tr>\n",
       "      <th>4</th>\n",
       "      <td>808</td>\n",
       "      <td>SHA-256</td>\n",
       "      <td>True</td>\n",
       "      <td>PoW/PoS</td>\n",
       "      <td>0.000000e+00</td>\n",
       "      <td>0</td>\n",
       "    </tr>\n",
       "    <tr>\n",
       "      <th>...</th>\n",
       "      <td>...</td>\n",
       "      <td>...</td>\n",
       "      <td>...</td>\n",
       "      <td>...</td>\n",
       "      <td>...</td>\n",
       "      <td>...</td>\n",
       "    </tr>\n",
       "    <tr>\n",
       "      <th>1243</th>\n",
       "      <td>Super Zero</td>\n",
       "      <td>Ethash</td>\n",
       "      <td>True</td>\n",
       "      <td>PoW</td>\n",
       "      <td>NaN</td>\n",
       "      <td>1000000000</td>\n",
       "    </tr>\n",
       "    <tr>\n",
       "      <th>1244</th>\n",
       "      <td>UOS</td>\n",
       "      <td>SHA-256</td>\n",
       "      <td>True</td>\n",
       "      <td>DPoI</td>\n",
       "      <td>NaN</td>\n",
       "      <td>1000000000</td>\n",
       "    </tr>\n",
       "    <tr>\n",
       "      <th>1245</th>\n",
       "      <td>Beldex</td>\n",
       "      <td>CryptoNight</td>\n",
       "      <td>True</td>\n",
       "      <td>PoW</td>\n",
       "      <td>9.802226e+08</td>\n",
       "      <td>1400222610</td>\n",
       "    </tr>\n",
       "    <tr>\n",
       "      <th>1246</th>\n",
       "      <td>Horizen</td>\n",
       "      <td>Equihash</td>\n",
       "      <td>True</td>\n",
       "      <td>PoW</td>\n",
       "      <td>7.296538e+06</td>\n",
       "      <td>21000000</td>\n",
       "    </tr>\n",
       "    <tr>\n",
       "      <th>1247</th>\n",
       "      <td>BitcoinPlus</td>\n",
       "      <td>Scrypt</td>\n",
       "      <td>True</td>\n",
       "      <td>PoS</td>\n",
       "      <td>1.283270e+05</td>\n",
       "      <td>1000000</td>\n",
       "    </tr>\n",
       "  </tbody>\n",
       "</table>\n",
       "<p>1144 rows × 6 columns</p>\n",
       "</div>"
      ],
      "text/plain": [
       "         CoinName    Algorithm  IsTrading ProofType  TotalCoinsMined  \\\n",
       "0         42 Coin       Scrypt       True   PoW/PoS     4.199995e+01   \n",
       "1         365Coin          X11       True   PoW/PoS              NaN   \n",
       "2         404Coin       Scrypt       True   PoW/PoS     1.055185e+09   \n",
       "3       SixEleven      SHA-256       True       PoW              NaN   \n",
       "4             808      SHA-256       True   PoW/PoS     0.000000e+00   \n",
       "...           ...          ...        ...       ...              ...   \n",
       "1243   Super Zero       Ethash       True       PoW              NaN   \n",
       "1244          UOS      SHA-256       True      DPoI              NaN   \n",
       "1245       Beldex  CryptoNight       True       PoW     9.802226e+08   \n",
       "1246      Horizen     Equihash       True       PoW     7.296538e+06   \n",
       "1247  BitcoinPlus       Scrypt       True       PoS     1.283270e+05   \n",
       "\n",
       "     TotalCoinSupply  \n",
       "0                 42  \n",
       "1         2300000000  \n",
       "2          532000000  \n",
       "3             611000  \n",
       "4                  0  \n",
       "...              ...  \n",
       "1243      1000000000  \n",
       "1244      1000000000  \n",
       "1245      1400222610  \n",
       "1246        21000000  \n",
       "1247         1000000  \n",
       "\n",
       "[1144 rows x 6 columns]"
      ]
     },
     "execution_count": 52,
     "metadata": {},
     "output_type": "execute_result"
    }
   ],
   "source": [
    "# Keep only cryptocurrencies that are trading\n",
    "crypto_df = crypto_df.loc[crypto_df['IsTrading'] == True]\n",
    "crypto_df"
   ]
  },
  {
   "cell_type": "code",
   "execution_count": 53,
   "metadata": {},
   "outputs": [
    {
     "data": {
      "text/html": [
       "<div>\n",
       "<style scoped>\n",
       "    .dataframe tbody tr th:only-of-type {\n",
       "        vertical-align: middle;\n",
       "    }\n",
       "\n",
       "    .dataframe tbody tr th {\n",
       "        vertical-align: top;\n",
       "    }\n",
       "\n",
       "    .dataframe thead th {\n",
       "        text-align: right;\n",
       "    }\n",
       "</style>\n",
       "<table border=\"1\" class=\"dataframe\">\n",
       "  <thead>\n",
       "    <tr style=\"text-align: right;\">\n",
       "      <th></th>\n",
       "      <th>CoinName</th>\n",
       "      <th>Algorithm</th>\n",
       "      <th>ProofType</th>\n",
       "      <th>TotalCoinsMined</th>\n",
       "      <th>TotalCoinSupply</th>\n",
       "    </tr>\n",
       "  </thead>\n",
       "  <tbody>\n",
       "    <tr>\n",
       "      <th>0</th>\n",
       "      <td>42 Coin</td>\n",
       "      <td>Scrypt</td>\n",
       "      <td>PoW/PoS</td>\n",
       "      <td>4.199995e+01</td>\n",
       "      <td>42</td>\n",
       "    </tr>\n",
       "    <tr>\n",
       "      <th>1</th>\n",
       "      <td>365Coin</td>\n",
       "      <td>X11</td>\n",
       "      <td>PoW/PoS</td>\n",
       "      <td>NaN</td>\n",
       "      <td>2300000000</td>\n",
       "    </tr>\n",
       "    <tr>\n",
       "      <th>2</th>\n",
       "      <td>404Coin</td>\n",
       "      <td>Scrypt</td>\n",
       "      <td>PoW/PoS</td>\n",
       "      <td>1.055185e+09</td>\n",
       "      <td>532000000</td>\n",
       "    </tr>\n",
       "    <tr>\n",
       "      <th>3</th>\n",
       "      <td>SixEleven</td>\n",
       "      <td>SHA-256</td>\n",
       "      <td>PoW</td>\n",
       "      <td>NaN</td>\n",
       "      <td>611000</td>\n",
       "    </tr>\n",
       "    <tr>\n",
       "      <th>4</th>\n",
       "      <td>808</td>\n",
       "      <td>SHA-256</td>\n",
       "      <td>PoW/PoS</td>\n",
       "      <td>0.000000e+00</td>\n",
       "      <td>0</td>\n",
       "    </tr>\n",
       "    <tr>\n",
       "      <th>...</th>\n",
       "      <td>...</td>\n",
       "      <td>...</td>\n",
       "      <td>...</td>\n",
       "      <td>...</td>\n",
       "      <td>...</td>\n",
       "    </tr>\n",
       "    <tr>\n",
       "      <th>1243</th>\n",
       "      <td>Super Zero</td>\n",
       "      <td>Ethash</td>\n",
       "      <td>PoW</td>\n",
       "      <td>NaN</td>\n",
       "      <td>1000000000</td>\n",
       "    </tr>\n",
       "    <tr>\n",
       "      <th>1244</th>\n",
       "      <td>UOS</td>\n",
       "      <td>SHA-256</td>\n",
       "      <td>DPoI</td>\n",
       "      <td>NaN</td>\n",
       "      <td>1000000000</td>\n",
       "    </tr>\n",
       "    <tr>\n",
       "      <th>1245</th>\n",
       "      <td>Beldex</td>\n",
       "      <td>CryptoNight</td>\n",
       "      <td>PoW</td>\n",
       "      <td>9.802226e+08</td>\n",
       "      <td>1400222610</td>\n",
       "    </tr>\n",
       "    <tr>\n",
       "      <th>1246</th>\n",
       "      <td>Horizen</td>\n",
       "      <td>Equihash</td>\n",
       "      <td>PoW</td>\n",
       "      <td>7.296538e+06</td>\n",
       "      <td>21000000</td>\n",
       "    </tr>\n",
       "    <tr>\n",
       "      <th>1247</th>\n",
       "      <td>BitcoinPlus</td>\n",
       "      <td>Scrypt</td>\n",
       "      <td>PoS</td>\n",
       "      <td>1.283270e+05</td>\n",
       "      <td>1000000</td>\n",
       "    </tr>\n",
       "  </tbody>\n",
       "</table>\n",
       "<p>1144 rows × 5 columns</p>\n",
       "</div>"
      ],
      "text/plain": [
       "         CoinName    Algorithm ProofType  TotalCoinsMined TotalCoinSupply\n",
       "0         42 Coin       Scrypt   PoW/PoS     4.199995e+01              42\n",
       "1         365Coin          X11   PoW/PoS              NaN      2300000000\n",
       "2         404Coin       Scrypt   PoW/PoS     1.055185e+09       532000000\n",
       "3       SixEleven      SHA-256       PoW              NaN          611000\n",
       "4             808      SHA-256   PoW/PoS     0.000000e+00               0\n",
       "...           ...          ...       ...              ...             ...\n",
       "1243   Super Zero       Ethash       PoW              NaN      1000000000\n",
       "1244          UOS      SHA-256      DPoI              NaN      1000000000\n",
       "1245       Beldex  CryptoNight       PoW     9.802226e+08      1400222610\n",
       "1246      Horizen     Equihash       PoW     7.296538e+06        21000000\n",
       "1247  BitcoinPlus       Scrypt       PoS     1.283270e+05         1000000\n",
       "\n",
       "[1144 rows x 5 columns]"
      ]
     },
     "execution_count": 53,
     "metadata": {},
     "output_type": "execute_result"
    }
   ],
   "source": [
    "# Remove the \"IsTrading\" column\n",
    "crypto_df = crypto_df.drop([\"IsTrading\"], axis = 1)\n",
    "crypto_df"
   ]
  },
  {
   "cell_type": "code",
   "execution_count": 54,
   "metadata": {},
   "outputs": [
    {
     "data": {
      "text/plain": [
       "CoinName           0\n",
       "Algorithm          0\n",
       "ProofType          0\n",
       "TotalCoinsMined    0\n",
       "TotalCoinSupply    0\n",
       "dtype: int64"
      ]
     },
     "execution_count": 54,
     "metadata": {},
     "output_type": "execute_result"
    }
   ],
   "source": [
    "# Remove rows with at least 1 null value\n",
    "crypto_df= crypto_df.dropna()\n",
    "crypto_df.isnull().sum()"
   ]
  },
  {
   "cell_type": "code",
   "execution_count": 55,
   "metadata": {},
   "outputs": [
    {
     "data": {
      "text/plain": [
       "CoinName           0\n",
       "Algorithm          0\n",
       "ProofType          0\n",
       "TotalCoinsMined    0\n",
       "TotalCoinSupply    0\n",
       "dtype: int64"
      ]
     },
     "execution_count": 55,
     "metadata": {},
     "output_type": "execute_result"
    }
   ],
   "source": [
    "# Remove rows with cryptocurrencies having no coins mined\n",
    "crypto_df = crypto_df.loc[crypto_df['TotalCoinsMined'] != 0]\n",
    "crypto_df.isnull().sum()"
   ]
  },
  {
   "cell_type": "code",
   "execution_count": 56,
   "metadata": {},
   "outputs": [
    {
     "data": {
      "text/html": [
       "<div>\n",
       "<style scoped>\n",
       "    .dataframe tbody tr th:only-of-type {\n",
       "        vertical-align: middle;\n",
       "    }\n",
       "\n",
       "    .dataframe tbody tr th {\n",
       "        vertical-align: top;\n",
       "    }\n",
       "\n",
       "    .dataframe thead th {\n",
       "        text-align: right;\n",
       "    }\n",
       "</style>\n",
       "<table border=\"1\" class=\"dataframe\">\n",
       "  <thead>\n",
       "    <tr style=\"text-align: right;\">\n",
       "      <th></th>\n",
       "      <th>CoinName</th>\n",
       "      <th>Algorithm</th>\n",
       "      <th>ProofType</th>\n",
       "      <th>TotalCoinsMined</th>\n",
       "      <th>TotalCoinSupply</th>\n",
       "    </tr>\n",
       "  </thead>\n",
       "  <tbody>\n",
       "    <tr>\n",
       "      <th>0</th>\n",
       "      <td>42 Coin</td>\n",
       "      <td>Scrypt</td>\n",
       "      <td>PoW/PoS</td>\n",
       "      <td>4.199995e+01</td>\n",
       "      <td>42</td>\n",
       "    </tr>\n",
       "    <tr>\n",
       "      <th>2</th>\n",
       "      <td>404Coin</td>\n",
       "      <td>Scrypt</td>\n",
       "      <td>PoW/PoS</td>\n",
       "      <td>1.055185e+09</td>\n",
       "      <td>532000000</td>\n",
       "    </tr>\n",
       "    <tr>\n",
       "      <th>5</th>\n",
       "      <td>EliteCoin</td>\n",
       "      <td>X13</td>\n",
       "      <td>PoW/PoS</td>\n",
       "      <td>2.927942e+10</td>\n",
       "      <td>314159265359</td>\n",
       "    </tr>\n",
       "    <tr>\n",
       "      <th>7</th>\n",
       "      <td>Bitcoin</td>\n",
       "      <td>SHA-256</td>\n",
       "      <td>PoW</td>\n",
       "      <td>1.792718e+07</td>\n",
       "      <td>21000000</td>\n",
       "    </tr>\n",
       "    <tr>\n",
       "      <th>8</th>\n",
       "      <td>Ethereum</td>\n",
       "      <td>Ethash</td>\n",
       "      <td>PoW</td>\n",
       "      <td>1.076842e+08</td>\n",
       "      <td>0</td>\n",
       "    </tr>\n",
       "    <tr>\n",
       "      <th>...</th>\n",
       "      <td>...</td>\n",
       "      <td>...</td>\n",
       "      <td>...</td>\n",
       "      <td>...</td>\n",
       "      <td>...</td>\n",
       "    </tr>\n",
       "    <tr>\n",
       "      <th>1238</th>\n",
       "      <td>ZEPHYR</td>\n",
       "      <td>SHA-256</td>\n",
       "      <td>DPoS</td>\n",
       "      <td>2.000000e+09</td>\n",
       "      <td>2000000000</td>\n",
       "    </tr>\n",
       "    <tr>\n",
       "      <th>1242</th>\n",
       "      <td>Gapcoin</td>\n",
       "      <td>Scrypt</td>\n",
       "      <td>PoW/PoS</td>\n",
       "      <td>1.493105e+07</td>\n",
       "      <td>250000000</td>\n",
       "    </tr>\n",
       "    <tr>\n",
       "      <th>1245</th>\n",
       "      <td>Beldex</td>\n",
       "      <td>CryptoNight</td>\n",
       "      <td>PoW</td>\n",
       "      <td>9.802226e+08</td>\n",
       "      <td>1400222610</td>\n",
       "    </tr>\n",
       "    <tr>\n",
       "      <th>1246</th>\n",
       "      <td>Horizen</td>\n",
       "      <td>Equihash</td>\n",
       "      <td>PoW</td>\n",
       "      <td>7.296538e+06</td>\n",
       "      <td>21000000</td>\n",
       "    </tr>\n",
       "    <tr>\n",
       "      <th>1247</th>\n",
       "      <td>BitcoinPlus</td>\n",
       "      <td>Scrypt</td>\n",
       "      <td>PoS</td>\n",
       "      <td>1.283270e+05</td>\n",
       "      <td>1000000</td>\n",
       "    </tr>\n",
       "  </tbody>\n",
       "</table>\n",
       "<p>533 rows × 5 columns</p>\n",
       "</div>"
      ],
      "text/plain": [
       "         CoinName    Algorithm ProofType  TotalCoinsMined TotalCoinSupply\n",
       "0         42 Coin       Scrypt   PoW/PoS     4.199995e+01              42\n",
       "2         404Coin       Scrypt   PoW/PoS     1.055185e+09       532000000\n",
       "5       EliteCoin          X13   PoW/PoS     2.927942e+10    314159265359\n",
       "7         Bitcoin      SHA-256       PoW     1.792718e+07        21000000\n",
       "8        Ethereum       Ethash       PoW     1.076842e+08               0\n",
       "...           ...          ...       ...              ...             ...\n",
       "1238       ZEPHYR      SHA-256      DPoS     2.000000e+09      2000000000\n",
       "1242      Gapcoin       Scrypt   PoW/PoS     1.493105e+07       250000000\n",
       "1245       Beldex  CryptoNight       PoW     9.802226e+08      1400222610\n",
       "1246      Horizen     Equihash       PoW     7.296538e+06        21000000\n",
       "1247  BitcoinPlus       Scrypt       PoS     1.283270e+05         1000000\n",
       "\n",
       "[533 rows x 5 columns]"
      ]
     },
     "execution_count": 56,
     "metadata": {},
     "output_type": "execute_result"
    }
   ],
   "source": [
    "crypto_df"
   ]
  },
  {
   "cell_type": "code",
   "execution_count": 57,
   "metadata": {},
   "outputs": [
    {
     "data": {
      "text/html": [
       "<div>\n",
       "<style scoped>\n",
       "    .dataframe tbody tr th:only-of-type {\n",
       "        vertical-align: middle;\n",
       "    }\n",
       "\n",
       "    .dataframe tbody tr th {\n",
       "        vertical-align: top;\n",
       "    }\n",
       "\n",
       "    .dataframe thead th {\n",
       "        text-align: right;\n",
       "    }\n",
       "</style>\n",
       "<table border=\"1\" class=\"dataframe\">\n",
       "  <thead>\n",
       "    <tr style=\"text-align: right;\">\n",
       "      <th></th>\n",
       "      <th>CoinName</th>\n",
       "      <th>Algorithm</th>\n",
       "      <th>ProofType</th>\n",
       "      <th>TotalCoinsMined</th>\n",
       "      <th>TotalCoinSupply</th>\n",
       "    </tr>\n",
       "  </thead>\n",
       "  <tbody>\n",
       "    <tr>\n",
       "      <th>0</th>\n",
       "      <td>42 Coin</td>\n",
       "      <td>Scrypt</td>\n",
       "      <td>PoW/PoS</td>\n",
       "      <td>4.199995e+01</td>\n",
       "      <td>42</td>\n",
       "    </tr>\n",
       "    <tr>\n",
       "      <th>2</th>\n",
       "      <td>404Coin</td>\n",
       "      <td>Scrypt</td>\n",
       "      <td>PoW/PoS</td>\n",
       "      <td>1.055185e+09</td>\n",
       "      <td>532000000</td>\n",
       "    </tr>\n",
       "    <tr>\n",
       "      <th>5</th>\n",
       "      <td>EliteCoin</td>\n",
       "      <td>X13</td>\n",
       "      <td>PoW/PoS</td>\n",
       "      <td>2.927942e+10</td>\n",
       "      <td>314159265359</td>\n",
       "    </tr>\n",
       "    <tr>\n",
       "      <th>7</th>\n",
       "      <td>Bitcoin</td>\n",
       "      <td>SHA-256</td>\n",
       "      <td>PoW</td>\n",
       "      <td>1.792718e+07</td>\n",
       "      <td>21000000</td>\n",
       "    </tr>\n",
       "    <tr>\n",
       "      <th>8</th>\n",
       "      <td>Ethereum</td>\n",
       "      <td>Ethash</td>\n",
       "      <td>PoW</td>\n",
       "      <td>1.076842e+08</td>\n",
       "      <td>0</td>\n",
       "    </tr>\n",
       "    <tr>\n",
       "      <th>9</th>\n",
       "      <td>Litecoin</td>\n",
       "      <td>Scrypt</td>\n",
       "      <td>PoW</td>\n",
       "      <td>6.303924e+07</td>\n",
       "      <td>84000000</td>\n",
       "    </tr>\n",
       "    <tr>\n",
       "      <th>10</th>\n",
       "      <td>Dash</td>\n",
       "      <td>X11</td>\n",
       "      <td>PoW/PoS</td>\n",
       "      <td>9.031294e+06</td>\n",
       "      <td>22000000</td>\n",
       "    </tr>\n",
       "    <tr>\n",
       "      <th>11</th>\n",
       "      <td>Monero</td>\n",
       "      <td>CryptoNight-V7</td>\n",
       "      <td>PoW</td>\n",
       "      <td>1.720114e+07</td>\n",
       "      <td>0</td>\n",
       "    </tr>\n",
       "    <tr>\n",
       "      <th>12</th>\n",
       "      <td>Ethereum Classic</td>\n",
       "      <td>Ethash</td>\n",
       "      <td>PoW</td>\n",
       "      <td>1.133597e+08</td>\n",
       "      <td>210000000</td>\n",
       "    </tr>\n",
       "    <tr>\n",
       "      <th>13</th>\n",
       "      <td>ZCash</td>\n",
       "      <td>Equihash</td>\n",
       "      <td>PoW</td>\n",
       "      <td>7.383056e+06</td>\n",
       "      <td>21000000</td>\n",
       "    </tr>\n",
       "  </tbody>\n",
       "</table>\n",
       "</div>"
      ],
      "text/plain": [
       "            CoinName       Algorithm ProofType  TotalCoinsMined  \\\n",
       "0            42 Coin          Scrypt   PoW/PoS     4.199995e+01   \n",
       "2            404Coin          Scrypt   PoW/PoS     1.055185e+09   \n",
       "5          EliteCoin             X13   PoW/PoS     2.927942e+10   \n",
       "7            Bitcoin         SHA-256       PoW     1.792718e+07   \n",
       "8           Ethereum          Ethash       PoW     1.076842e+08   \n",
       "9           Litecoin          Scrypt       PoW     6.303924e+07   \n",
       "10              Dash             X11   PoW/PoS     9.031294e+06   \n",
       "11            Monero  CryptoNight-V7       PoW     1.720114e+07   \n",
       "12  Ethereum Classic          Ethash       PoW     1.133597e+08   \n",
       "13             ZCash        Equihash       PoW     7.383056e+06   \n",
       "\n",
       "   TotalCoinSupply  \n",
       "0               42  \n",
       "2        532000000  \n",
       "5     314159265359  \n",
       "7         21000000  \n",
       "8                0  \n",
       "9         84000000  \n",
       "10        22000000  \n",
       "11               0  \n",
       "12       210000000  \n",
       "13        21000000  "
      ]
     },
     "execution_count": 57,
     "metadata": {},
     "output_type": "execute_result"
    }
   ],
   "source": [
    "# Drop rows where there are 'N/A' text values\n",
    "for column in crypto_df:\n",
    "    crypto_df = crypto_df.loc[crypto_df[column] != 'N/A']\n",
    "crypto_df.head(10)"
   ]
  },
  {
   "cell_type": "code",
   "execution_count": 58,
   "metadata": {},
   "outputs": [
    {
     "data": {
      "text/html": [
       "<div>\n",
       "<style scoped>\n",
       "    .dataframe tbody tr th:only-of-type {\n",
       "        vertical-align: middle;\n",
       "    }\n",
       "\n",
       "    .dataframe tbody tr th {\n",
       "        vertical-align: top;\n",
       "    }\n",
       "\n",
       "    .dataframe thead th {\n",
       "        text-align: right;\n",
       "    }\n",
       "</style>\n",
       "<table border=\"1\" class=\"dataframe\">\n",
       "  <thead>\n",
       "    <tr style=\"text-align: right;\">\n",
       "      <th></th>\n",
       "      <th>CoinName</th>\n",
       "    </tr>\n",
       "  </thead>\n",
       "  <tbody>\n",
       "    <tr>\n",
       "      <th>count</th>\n",
       "      <td>533</td>\n",
       "    </tr>\n",
       "    <tr>\n",
       "      <th>unique</th>\n",
       "      <td>532</td>\n",
       "    </tr>\n",
       "    <tr>\n",
       "      <th>top</th>\n",
       "      <td>DubaiCoin</td>\n",
       "    </tr>\n",
       "    <tr>\n",
       "      <th>freq</th>\n",
       "      <td>2</td>\n",
       "    </tr>\n",
       "  </tbody>\n",
       "</table>\n",
       "</div>"
      ],
      "text/plain": [
       "         CoinName\n",
       "count         533\n",
       "unique        532\n",
       "top     DubaiCoin\n",
       "freq            2"
      ]
     },
     "execution_count": 58,
     "metadata": {},
     "output_type": "execute_result"
    }
   ],
   "source": [
    "# Store the 'CoinName'column in its own DataFrame prior to dropping it from crypto_df\n",
    "coins_name_df = crypto_df['CoinName'].to_frame()\n",
    "coins_name_df.describe()"
   ]
  },
  {
   "cell_type": "code",
   "execution_count": 59,
   "metadata": {},
   "outputs": [
    {
     "data": {
      "text/html": [
       "<div>\n",
       "<style scoped>\n",
       "    .dataframe tbody tr th:only-of-type {\n",
       "        vertical-align: middle;\n",
       "    }\n",
       "\n",
       "    .dataframe tbody tr th {\n",
       "        vertical-align: top;\n",
       "    }\n",
       "\n",
       "    .dataframe thead th {\n",
       "        text-align: right;\n",
       "    }\n",
       "</style>\n",
       "<table border=\"1\" class=\"dataframe\">\n",
       "  <thead>\n",
       "    <tr style=\"text-align: right;\">\n",
       "      <th></th>\n",
       "      <th>Algorithm</th>\n",
       "      <th>ProofType</th>\n",
       "      <th>TotalCoinsMined</th>\n",
       "      <th>TotalCoinSupply</th>\n",
       "    </tr>\n",
       "  </thead>\n",
       "  <tbody>\n",
       "    <tr>\n",
       "      <th>0</th>\n",
       "      <td>Scrypt</td>\n",
       "      <td>PoW/PoS</td>\n",
       "      <td>4.199995e+01</td>\n",
       "      <td>42</td>\n",
       "    </tr>\n",
       "    <tr>\n",
       "      <th>2</th>\n",
       "      <td>Scrypt</td>\n",
       "      <td>PoW/PoS</td>\n",
       "      <td>1.055185e+09</td>\n",
       "      <td>532000000</td>\n",
       "    </tr>\n",
       "    <tr>\n",
       "      <th>5</th>\n",
       "      <td>X13</td>\n",
       "      <td>PoW/PoS</td>\n",
       "      <td>2.927942e+10</td>\n",
       "      <td>314159265359</td>\n",
       "    </tr>\n",
       "    <tr>\n",
       "      <th>7</th>\n",
       "      <td>SHA-256</td>\n",
       "      <td>PoW</td>\n",
       "      <td>1.792718e+07</td>\n",
       "      <td>21000000</td>\n",
       "    </tr>\n",
       "    <tr>\n",
       "      <th>8</th>\n",
       "      <td>Ethash</td>\n",
       "      <td>PoW</td>\n",
       "      <td>1.076842e+08</td>\n",
       "      <td>0</td>\n",
       "    </tr>\n",
       "    <tr>\n",
       "      <th>...</th>\n",
       "      <td>...</td>\n",
       "      <td>...</td>\n",
       "      <td>...</td>\n",
       "      <td>...</td>\n",
       "    </tr>\n",
       "    <tr>\n",
       "      <th>1238</th>\n",
       "      <td>SHA-256</td>\n",
       "      <td>DPoS</td>\n",
       "      <td>2.000000e+09</td>\n",
       "      <td>2000000000</td>\n",
       "    </tr>\n",
       "    <tr>\n",
       "      <th>1242</th>\n",
       "      <td>Scrypt</td>\n",
       "      <td>PoW/PoS</td>\n",
       "      <td>1.493105e+07</td>\n",
       "      <td>250000000</td>\n",
       "    </tr>\n",
       "    <tr>\n",
       "      <th>1245</th>\n",
       "      <td>CryptoNight</td>\n",
       "      <td>PoW</td>\n",
       "      <td>9.802226e+08</td>\n",
       "      <td>1400222610</td>\n",
       "    </tr>\n",
       "    <tr>\n",
       "      <th>1246</th>\n",
       "      <td>Equihash</td>\n",
       "      <td>PoW</td>\n",
       "      <td>7.296538e+06</td>\n",
       "      <td>21000000</td>\n",
       "    </tr>\n",
       "    <tr>\n",
       "      <th>1247</th>\n",
       "      <td>Scrypt</td>\n",
       "      <td>PoS</td>\n",
       "      <td>1.283270e+05</td>\n",
       "      <td>1000000</td>\n",
       "    </tr>\n",
       "  </tbody>\n",
       "</table>\n",
       "<p>533 rows × 4 columns</p>\n",
       "</div>"
      ],
      "text/plain": [
       "        Algorithm ProofType  TotalCoinsMined TotalCoinSupply\n",
       "0          Scrypt   PoW/PoS     4.199995e+01              42\n",
       "2          Scrypt   PoW/PoS     1.055185e+09       532000000\n",
       "5             X13   PoW/PoS     2.927942e+10    314159265359\n",
       "7         SHA-256       PoW     1.792718e+07        21000000\n",
       "8          Ethash       PoW     1.076842e+08               0\n",
       "...           ...       ...              ...             ...\n",
       "1238      SHA-256      DPoS     2.000000e+09      2000000000\n",
       "1242       Scrypt   PoW/PoS     1.493105e+07       250000000\n",
       "1245  CryptoNight       PoW     9.802226e+08      1400222610\n",
       "1246     Equihash       PoW     7.296538e+06        21000000\n",
       "1247       Scrypt       PoS     1.283270e+05         1000000\n",
       "\n",
       "[533 rows x 4 columns]"
      ]
     },
     "execution_count": 59,
     "metadata": {},
     "output_type": "execute_result"
    }
   ],
   "source": [
    "# Drop the 'CoinName' column since it's not going to be used on the clustering algorithm\n",
    "final_crypto_df = crypto_df.drop(['CoinName'], axis=1)\n",
    "final_crypto_df"
   ]
  },
  {
   "cell_type": "code",
   "execution_count": 60,
   "metadata": {},
   "outputs": [
    {
     "data": {
      "text/html": [
       "<div>\n",
       "<style scoped>\n",
       "    .dataframe tbody tr th:only-of-type {\n",
       "        vertical-align: middle;\n",
       "    }\n",
       "\n",
       "    .dataframe tbody tr th {\n",
       "        vertical-align: top;\n",
       "    }\n",
       "\n",
       "    .dataframe thead th {\n",
       "        text-align: right;\n",
       "    }\n",
       "</style>\n",
       "<table border=\"1\" class=\"dataframe\">\n",
       "  <thead>\n",
       "    <tr style=\"text-align: right;\">\n",
       "      <th></th>\n",
       "      <th>TotalCoinsMined</th>\n",
       "      <th>Algorithm_1GB AES Pattern Search</th>\n",
       "      <th>Algorithm_536</th>\n",
       "      <th>Algorithm_Argon2d</th>\n",
       "      <th>Algorithm_BLAKE256</th>\n",
       "      <th>Algorithm_Blake</th>\n",
       "      <th>Algorithm_Blake2S</th>\n",
       "      <th>Algorithm_Blake2b</th>\n",
       "      <th>Algorithm_C11</th>\n",
       "      <th>Algorithm_Cloverhash</th>\n",
       "      <th>...</th>\n",
       "      <th>TotalCoinSupply_91388946</th>\n",
       "      <th>TotalCoinSupply_92000000000</th>\n",
       "      <th>TotalCoinSupply_9354000</th>\n",
       "      <th>TotalCoinSupply_9507271</th>\n",
       "      <th>TotalCoinSupply_9736000</th>\n",
       "      <th>TotalCoinSupply_98000000</th>\n",
       "      <th>TotalCoinSupply_98100000000</th>\n",
       "      <th>TotalCoinSupply_990000000000</th>\n",
       "      <th>TotalCoinSupply_999481516</th>\n",
       "      <th>TotalCoinSupply_9999999</th>\n",
       "    </tr>\n",
       "  </thead>\n",
       "  <tbody>\n",
       "    <tr>\n",
       "      <th>0</th>\n",
       "      <td>4.199995e+01</td>\n",
       "      <td>0</td>\n",
       "      <td>0</td>\n",
       "      <td>0</td>\n",
       "      <td>0</td>\n",
       "      <td>0</td>\n",
       "      <td>0</td>\n",
       "      <td>0</td>\n",
       "      <td>0</td>\n",
       "      <td>0</td>\n",
       "      <td>...</td>\n",
       "      <td>0</td>\n",
       "      <td>0</td>\n",
       "      <td>0</td>\n",
       "      <td>0</td>\n",
       "      <td>0</td>\n",
       "      <td>0</td>\n",
       "      <td>0</td>\n",
       "      <td>0</td>\n",
       "      <td>0</td>\n",
       "      <td>0</td>\n",
       "    </tr>\n",
       "    <tr>\n",
       "      <th>2</th>\n",
       "      <td>1.055185e+09</td>\n",
       "      <td>0</td>\n",
       "      <td>0</td>\n",
       "      <td>0</td>\n",
       "      <td>0</td>\n",
       "      <td>0</td>\n",
       "      <td>0</td>\n",
       "      <td>0</td>\n",
       "      <td>0</td>\n",
       "      <td>0</td>\n",
       "      <td>...</td>\n",
       "      <td>0</td>\n",
       "      <td>0</td>\n",
       "      <td>0</td>\n",
       "      <td>0</td>\n",
       "      <td>0</td>\n",
       "      <td>0</td>\n",
       "      <td>0</td>\n",
       "      <td>0</td>\n",
       "      <td>0</td>\n",
       "      <td>0</td>\n",
       "    </tr>\n",
       "    <tr>\n",
       "      <th>5</th>\n",
       "      <td>2.927942e+10</td>\n",
       "      <td>0</td>\n",
       "      <td>0</td>\n",
       "      <td>0</td>\n",
       "      <td>0</td>\n",
       "      <td>0</td>\n",
       "      <td>0</td>\n",
       "      <td>0</td>\n",
       "      <td>0</td>\n",
       "      <td>0</td>\n",
       "      <td>...</td>\n",
       "      <td>0</td>\n",
       "      <td>0</td>\n",
       "      <td>0</td>\n",
       "      <td>0</td>\n",
       "      <td>0</td>\n",
       "      <td>0</td>\n",
       "      <td>0</td>\n",
       "      <td>0</td>\n",
       "      <td>0</td>\n",
       "      <td>0</td>\n",
       "    </tr>\n",
       "    <tr>\n",
       "      <th>7</th>\n",
       "      <td>1.792718e+07</td>\n",
       "      <td>0</td>\n",
       "      <td>0</td>\n",
       "      <td>0</td>\n",
       "      <td>0</td>\n",
       "      <td>0</td>\n",
       "      <td>0</td>\n",
       "      <td>0</td>\n",
       "      <td>0</td>\n",
       "      <td>0</td>\n",
       "      <td>...</td>\n",
       "      <td>0</td>\n",
       "      <td>0</td>\n",
       "      <td>0</td>\n",
       "      <td>0</td>\n",
       "      <td>0</td>\n",
       "      <td>0</td>\n",
       "      <td>0</td>\n",
       "      <td>0</td>\n",
       "      <td>0</td>\n",
       "      <td>0</td>\n",
       "    </tr>\n",
       "    <tr>\n",
       "      <th>8</th>\n",
       "      <td>1.076842e+08</td>\n",
       "      <td>0</td>\n",
       "      <td>0</td>\n",
       "      <td>0</td>\n",
       "      <td>0</td>\n",
       "      <td>0</td>\n",
       "      <td>0</td>\n",
       "      <td>0</td>\n",
       "      <td>0</td>\n",
       "      <td>0</td>\n",
       "      <td>...</td>\n",
       "      <td>0</td>\n",
       "      <td>0</td>\n",
       "      <td>0</td>\n",
       "      <td>0</td>\n",
       "      <td>0</td>\n",
       "      <td>0</td>\n",
       "      <td>0</td>\n",
       "      <td>0</td>\n",
       "      <td>0</td>\n",
       "      <td>0</td>\n",
       "    </tr>\n",
       "    <tr>\n",
       "      <th>...</th>\n",
       "      <td>...</td>\n",
       "      <td>...</td>\n",
       "      <td>...</td>\n",
       "      <td>...</td>\n",
       "      <td>...</td>\n",
       "      <td>...</td>\n",
       "      <td>...</td>\n",
       "      <td>...</td>\n",
       "      <td>...</td>\n",
       "      <td>...</td>\n",
       "      <td>...</td>\n",
       "      <td>...</td>\n",
       "      <td>...</td>\n",
       "      <td>...</td>\n",
       "      <td>...</td>\n",
       "      <td>...</td>\n",
       "      <td>...</td>\n",
       "      <td>...</td>\n",
       "      <td>...</td>\n",
       "      <td>...</td>\n",
       "      <td>...</td>\n",
       "    </tr>\n",
       "    <tr>\n",
       "      <th>1238</th>\n",
       "      <td>2.000000e+09</td>\n",
       "      <td>0</td>\n",
       "      <td>0</td>\n",
       "      <td>0</td>\n",
       "      <td>0</td>\n",
       "      <td>0</td>\n",
       "      <td>0</td>\n",
       "      <td>0</td>\n",
       "      <td>0</td>\n",
       "      <td>0</td>\n",
       "      <td>...</td>\n",
       "      <td>0</td>\n",
       "      <td>0</td>\n",
       "      <td>0</td>\n",
       "      <td>0</td>\n",
       "      <td>0</td>\n",
       "      <td>0</td>\n",
       "      <td>0</td>\n",
       "      <td>0</td>\n",
       "      <td>0</td>\n",
       "      <td>0</td>\n",
       "    </tr>\n",
       "    <tr>\n",
       "      <th>1242</th>\n",
       "      <td>1.493105e+07</td>\n",
       "      <td>0</td>\n",
       "      <td>0</td>\n",
       "      <td>0</td>\n",
       "      <td>0</td>\n",
       "      <td>0</td>\n",
       "      <td>0</td>\n",
       "      <td>0</td>\n",
       "      <td>0</td>\n",
       "      <td>0</td>\n",
       "      <td>...</td>\n",
       "      <td>0</td>\n",
       "      <td>0</td>\n",
       "      <td>0</td>\n",
       "      <td>0</td>\n",
       "      <td>0</td>\n",
       "      <td>0</td>\n",
       "      <td>0</td>\n",
       "      <td>0</td>\n",
       "      <td>0</td>\n",
       "      <td>0</td>\n",
       "    </tr>\n",
       "    <tr>\n",
       "      <th>1245</th>\n",
       "      <td>9.802226e+08</td>\n",
       "      <td>0</td>\n",
       "      <td>0</td>\n",
       "      <td>0</td>\n",
       "      <td>0</td>\n",
       "      <td>0</td>\n",
       "      <td>0</td>\n",
       "      <td>0</td>\n",
       "      <td>0</td>\n",
       "      <td>0</td>\n",
       "      <td>...</td>\n",
       "      <td>0</td>\n",
       "      <td>0</td>\n",
       "      <td>0</td>\n",
       "      <td>0</td>\n",
       "      <td>0</td>\n",
       "      <td>0</td>\n",
       "      <td>0</td>\n",
       "      <td>0</td>\n",
       "      <td>0</td>\n",
       "      <td>0</td>\n",
       "    </tr>\n",
       "    <tr>\n",
       "      <th>1246</th>\n",
       "      <td>7.296538e+06</td>\n",
       "      <td>0</td>\n",
       "      <td>0</td>\n",
       "      <td>0</td>\n",
       "      <td>0</td>\n",
       "      <td>0</td>\n",
       "      <td>0</td>\n",
       "      <td>0</td>\n",
       "      <td>0</td>\n",
       "      <td>0</td>\n",
       "      <td>...</td>\n",
       "      <td>0</td>\n",
       "      <td>0</td>\n",
       "      <td>0</td>\n",
       "      <td>0</td>\n",
       "      <td>0</td>\n",
       "      <td>0</td>\n",
       "      <td>0</td>\n",
       "      <td>0</td>\n",
       "      <td>0</td>\n",
       "      <td>0</td>\n",
       "    </tr>\n",
       "    <tr>\n",
       "      <th>1247</th>\n",
       "      <td>1.283270e+05</td>\n",
       "      <td>0</td>\n",
       "      <td>0</td>\n",
       "      <td>0</td>\n",
       "      <td>0</td>\n",
       "      <td>0</td>\n",
       "      <td>0</td>\n",
       "      <td>0</td>\n",
       "      <td>0</td>\n",
       "      <td>0</td>\n",
       "      <td>...</td>\n",
       "      <td>0</td>\n",
       "      <td>0</td>\n",
       "      <td>0</td>\n",
       "      <td>0</td>\n",
       "      <td>0</td>\n",
       "      <td>0</td>\n",
       "      <td>0</td>\n",
       "      <td>0</td>\n",
       "      <td>0</td>\n",
       "      <td>0</td>\n",
       "    </tr>\n",
       "  </tbody>\n",
       "</table>\n",
       "<p>533 rows × 379 columns</p>\n",
       "</div>"
      ],
      "text/plain": [
       "      TotalCoinsMined  Algorithm_1GB AES Pattern Search  Algorithm_536  \\\n",
       "0        4.199995e+01                                 0              0   \n",
       "2        1.055185e+09                                 0              0   \n",
       "5        2.927942e+10                                 0              0   \n",
       "7        1.792718e+07                                 0              0   \n",
       "8        1.076842e+08                                 0              0   \n",
       "...               ...                               ...            ...   \n",
       "1238     2.000000e+09                                 0              0   \n",
       "1242     1.493105e+07                                 0              0   \n",
       "1245     9.802226e+08                                 0              0   \n",
       "1246     7.296538e+06                                 0              0   \n",
       "1247     1.283270e+05                                 0              0   \n",
       "\n",
       "      Algorithm_Argon2d  Algorithm_BLAKE256  Algorithm_Blake  \\\n",
       "0                     0                   0                0   \n",
       "2                     0                   0                0   \n",
       "5                     0                   0                0   \n",
       "7                     0                   0                0   \n",
       "8                     0                   0                0   \n",
       "...                 ...                 ...              ...   \n",
       "1238                  0                   0                0   \n",
       "1242                  0                   0                0   \n",
       "1245                  0                   0                0   \n",
       "1246                  0                   0                0   \n",
       "1247                  0                   0                0   \n",
       "\n",
       "      Algorithm_Blake2S  Algorithm_Blake2b  Algorithm_C11  \\\n",
       "0                     0                  0              0   \n",
       "2                     0                  0              0   \n",
       "5                     0                  0              0   \n",
       "7                     0                  0              0   \n",
       "8                     0                  0              0   \n",
       "...                 ...                ...            ...   \n",
       "1238                  0                  0              0   \n",
       "1242                  0                  0              0   \n",
       "1245                  0                  0              0   \n",
       "1246                  0                  0              0   \n",
       "1247                  0                  0              0   \n",
       "\n",
       "      Algorithm_Cloverhash  ...  TotalCoinSupply_91388946  \\\n",
       "0                        0  ...                         0   \n",
       "2                        0  ...                         0   \n",
       "5                        0  ...                         0   \n",
       "7                        0  ...                         0   \n",
       "8                        0  ...                         0   \n",
       "...                    ...  ...                       ...   \n",
       "1238                     0  ...                         0   \n",
       "1242                     0  ...                         0   \n",
       "1245                     0  ...                         0   \n",
       "1246                     0  ...                         0   \n",
       "1247                     0  ...                         0   \n",
       "\n",
       "      TotalCoinSupply_92000000000  TotalCoinSupply_9354000  \\\n",
       "0                               0                        0   \n",
       "2                               0                        0   \n",
       "5                               0                        0   \n",
       "7                               0                        0   \n",
       "8                               0                        0   \n",
       "...                           ...                      ...   \n",
       "1238                            0                        0   \n",
       "1242                            0                        0   \n",
       "1245                            0                        0   \n",
       "1246                            0                        0   \n",
       "1247                            0                        0   \n",
       "\n",
       "      TotalCoinSupply_9507271  TotalCoinSupply_9736000  \\\n",
       "0                           0                        0   \n",
       "2                           0                        0   \n",
       "5                           0                        0   \n",
       "7                           0                        0   \n",
       "8                           0                        0   \n",
       "...                       ...                      ...   \n",
       "1238                        0                        0   \n",
       "1242                        0                        0   \n",
       "1245                        0                        0   \n",
       "1246                        0                        0   \n",
       "1247                        0                        0   \n",
       "\n",
       "      TotalCoinSupply_98000000  TotalCoinSupply_98100000000  \\\n",
       "0                            0                            0   \n",
       "2                            0                            0   \n",
       "5                            0                            0   \n",
       "7                            0                            0   \n",
       "8                            0                            0   \n",
       "...                        ...                          ...   \n",
       "1238                         0                            0   \n",
       "1242                         0                            0   \n",
       "1245                         0                            0   \n",
       "1246                         0                            0   \n",
       "1247                         0                            0   \n",
       "\n",
       "      TotalCoinSupply_990000000000  TotalCoinSupply_999481516  \\\n",
       "0                                0                          0   \n",
       "2                                0                          0   \n",
       "5                                0                          0   \n",
       "7                                0                          0   \n",
       "8                                0                          0   \n",
       "...                            ...                        ...   \n",
       "1238                             0                          0   \n",
       "1242                             0                          0   \n",
       "1245                             0                          0   \n",
       "1246                             0                          0   \n",
       "1247                             0                          0   \n",
       "\n",
       "      TotalCoinSupply_9999999  \n",
       "0                           0  \n",
       "2                           0  \n",
       "5                           0  \n",
       "7                           0  \n",
       "8                           0  \n",
       "...                       ...  \n",
       "1238                        0  \n",
       "1242                        0  \n",
       "1245                        0  \n",
       "1246                        0  \n",
       "1247                        0  \n",
       "\n",
       "[533 rows x 379 columns]"
      ]
     },
     "execution_count": 60,
     "metadata": {},
     "output_type": "execute_result"
    }
   ],
   "source": [
    "# Create dummy variables for text features\n",
    "X = pd.get_dummies(final_crypto_df)\n",
    "X"
   ]
  },
  {
   "cell_type": "code",
   "execution_count": 61,
   "metadata": {},
   "outputs": [],
   "source": [
    "# Standardize data\n",
    "X_scaled = StandardScaler().fit_transform(X)"
   ]
  },
  {
   "cell_type": "markdown",
   "metadata": {},
   "source": [
    "### Reducing Dimensions Using PCA"
   ]
  },
  {
   "cell_type": "code",
   "execution_count": 88,
   "metadata": {},
   "outputs": [],
   "source": [
    "# Use PCA to reduce dimensions to 3 principal components\n",
    "pca = PCA(n_components=3)"
   ]
  },
  {
   "cell_type": "code",
   "execution_count": 89,
   "metadata": {},
   "outputs": [
    {
     "data": {
      "text/html": [
       "<div>\n",
       "<style scoped>\n",
       "    .dataframe tbody tr th:only-of-type {\n",
       "        vertical-align: middle;\n",
       "    }\n",
       "\n",
       "    .dataframe tbody tr th {\n",
       "        vertical-align: top;\n",
       "    }\n",
       "\n",
       "    .dataframe thead th {\n",
       "        text-align: right;\n",
       "    }\n",
       "</style>\n",
       "<table border=\"1\" class=\"dataframe\">\n",
       "  <thead>\n",
       "    <tr style=\"text-align: right;\">\n",
       "      <th></th>\n",
       "      <th>PC 1</th>\n",
       "      <th>PC 2</th>\n",
       "      <th>PC 3</th>\n",
       "    </tr>\n",
       "  </thead>\n",
       "  <tbody>\n",
       "    <tr>\n",
       "      <th>0</th>\n",
       "      <td>-0.311534</td>\n",
       "      <td>0.025980</td>\n",
       "      <td>-0.016241</td>\n",
       "    </tr>\n",
       "    <tr>\n",
       "      <th>2</th>\n",
       "      <td>-0.295693</td>\n",
       "      <td>0.025462</td>\n",
       "      <td>-0.007840</td>\n",
       "    </tr>\n",
       "    <tr>\n",
       "      <th>5</th>\n",
       "      <td>0.385673</td>\n",
       "      <td>0.008720</td>\n",
       "      <td>0.026101</td>\n",
       "    </tr>\n",
       "    <tr>\n",
       "      <th>7</th>\n",
       "      <td>-0.203607</td>\n",
       "      <td>-0.067535</td>\n",
       "      <td>-0.123116</td>\n",
       "    </tr>\n",
       "    <tr>\n",
       "      <th>8</th>\n",
       "      <td>-0.131035</td>\n",
       "      <td>0.033536</td>\n",
       "      <td>-0.103206</td>\n",
       "    </tr>\n",
       "  </tbody>\n",
       "</table>\n",
       "</div>"
      ],
      "text/plain": [
       "       PC 1      PC 2      PC 3\n",
       "0 -0.311534  0.025980 -0.016241\n",
       "2 -0.295693  0.025462 -0.007840\n",
       "5  0.385673  0.008720  0.026101\n",
       "7 -0.203607 -0.067535 -0.123116\n",
       "8 -0.131035  0.033536 -0.103206"
      ]
     },
     "execution_count": 89,
     "metadata": {},
     "output_type": "execute_result"
    }
   ],
   "source": [
    "# Create a DataFrame with the principal components data\n",
    "crypto_pca = pca.fit_transform(X_scaled)\n",
    "pcs_df = pd.DataFrame(data= crypto_pca, columns=[\"PC 1\", \"PC 2\", \"PC 3\"], index = crypto_df.index)\n",
    "pcs_df.head()                                                "
   ]
  },
  {
   "cell_type": "code",
   "execution_count": 90,
   "metadata": {},
   "outputs": [
    {
     "data": {
      "text/plain": [
       "array([0.00833692, 0.00792375, 0.007923  ])"
      ]
     },
     "execution_count": 90,
     "metadata": {},
     "output_type": "execute_result"
    }
   ],
   "source": [
    "# Fetch the explained variance- Adding up the 3 arrays only explains approx 24% of variance. \n",
    "# Hence need more components- this can be determined using the K curve.\n",
    "pca.explained_variance_ratio_"
   ]
  },
  {
   "cell_type": "markdown",
   "metadata": {},
   "source": [
    "### Clustering Crytocurrencies Using K-Means\n",
    "\n",
    "#### Find the Best Value for `k` Using the Elbow Curve"
   ]
  },
  {
   "cell_type": "code",
   "execution_count": 64,
   "metadata": {},
   "outputs": [
    {
     "data": {},
     "metadata": {},
     "output_type": "display_data"
    },
    {
     "data": {
      "application/vnd.holoviews_exec.v0+json": "",
      "text/html": [
       "<div id='2009'>\n",
       "\n",
       "\n",
       "\n",
       "\n",
       "\n",
       "  <div class=\"bk-root\" id=\"b3a72930-a543-452e-ae40-7a7a15685c6a\" data-root-id=\"2009\"></div>\n",
       "</div>\n",
       "<script type=\"application/javascript\">(function(root) {\n",
       "  function embed_document(root) {\n",
       "    var docs_json = {\"af3c30ba-37f3-4d48-9cb2-83adc6fefb84\":{\"defs\":[{\"extends\":null,\"module\":null,\"name\":\"ReactiveHTML1\",\"overrides\":[],\"properties\":[]},{\"extends\":null,\"module\":null,\"name\":\"FlexBox1\",\"overrides\":[],\"properties\":[{\"default\":\"flex-start\",\"kind\":null,\"name\":\"align_content\"},{\"default\":\"flex-start\",\"kind\":null,\"name\":\"align_items\"},{\"default\":\"row\",\"kind\":null,\"name\":\"flex_direction\"},{\"default\":\"wrap\",\"kind\":null,\"name\":\"flex_wrap\"},{\"default\":\"flex-start\",\"kind\":null,\"name\":\"justify_content\"}]},{\"extends\":null,\"module\":null,\"name\":\"TemplateActions1\",\"overrides\":[],\"properties\":[{\"default\":0,\"kind\":null,\"name\":\"open_modal\"},{\"default\":0,\"kind\":null,\"name\":\"close_modal\"}]},{\"extends\":null,\"module\":null,\"name\":\"MaterialTemplateActions1\",\"overrides\":[],\"properties\":[{\"default\":0,\"kind\":null,\"name\":\"open_modal\"},{\"default\":0,\"kind\":null,\"name\":\"close_modal\"}]}],\"roots\":{\"references\":[{\"attributes\":{\"axis\":{\"id\":\"2023\"},\"grid_line_color\":null,\"ticker\":null},\"id\":\"2026\",\"type\":\"Grid\"},{\"attributes\":{},\"id\":\"2019\",\"type\":\"LinearScale\"},{\"attributes\":{\"end\":10.0,\"reset_end\":10.0,\"reset_start\":1.0,\"start\":1.0,\"tags\":[[[\"k\",\"k\",null]]]},\"id\":\"2011\",\"type\":\"Range1d\"},{\"attributes\":{},\"id\":\"2021\",\"type\":\"LinearScale\"},{\"attributes\":{\"axis_label\":\"inertia\",\"formatter\":{\"id\":\"2059\"},\"major_label_policy\":{\"id\":\"2060\"},\"ticker\":{\"id\":\"2028\"}},\"id\":\"2027\",\"type\":\"LinearAxis\"},{\"attributes\":{\"line_color\":\"#30a2da\",\"line_width\":2,\"x\":{\"field\":\"k\"},\"y\":{\"field\":\"inertia\"}},\"id\":\"2047\",\"type\":\"Line\"},{\"attributes\":{\"axis_label\":\"k\",\"formatter\":{\"id\":\"2054\"},\"major_label_policy\":{\"id\":\"2055\"},\"ticker\":{\"id\":\"2053\"}},\"id\":\"2023\",\"type\":\"LinearAxis\"},{\"attributes\":{\"data_source\":{\"id\":\"2044\"},\"glyph\":{\"id\":\"2047\"},\"hover_glyph\":null,\"muted_glyph\":{\"id\":\"2049\"},\"nonselection_glyph\":{\"id\":\"2048\"},\"selection_glyph\":{\"id\":\"2052\"},\"view\":{\"id\":\"2051\"}},\"id\":\"2050\",\"type\":\"GlyphRenderer\"},{\"attributes\":{\"below\":[{\"id\":\"2023\"}],\"center\":[{\"id\":\"2026\"},{\"id\":\"2030\"}],\"height\":300,\"left\":[{\"id\":\"2027\"}],\"margin\":[5,5,5,5],\"min_border_bottom\":10,\"min_border_left\":10,\"min_border_right\":10,\"min_border_top\":10,\"renderers\":[{\"id\":\"2050\"}],\"sizing_mode\":\"fixed\",\"title\":{\"id\":\"2015\"},\"toolbar\":{\"id\":\"2037\"},\"width\":700,\"x_range\":{\"id\":\"2011\"},\"x_scale\":{\"id\":\"2019\"},\"y_range\":{\"id\":\"2012\"},\"y_scale\":{\"id\":\"2021\"}},\"id\":\"2014\",\"subtype\":\"Figure\",\"type\":\"Plot\"},{\"attributes\":{},\"id\":\"2028\",\"type\":\"BasicTicker\"},{\"attributes\":{\"axis\":{\"id\":\"2027\"},\"dimension\":1,\"grid_line_color\":null,\"ticker\":null},\"id\":\"2030\",\"type\":\"Grid\"},{\"attributes\":{\"margin\":[5,5,5,5],\"name\":\"HSpacer03780\",\"sizing_mode\":\"stretch_width\"},\"id\":\"2010\",\"type\":\"Spacer\"},{\"attributes\":{\"line_alpha\":0.1,\"line_color\":\"#30a2da\",\"line_width\":2,\"x\":{\"field\":\"k\"},\"y\":{\"field\":\"inertia\"}},\"id\":\"2048\",\"type\":\"Line\"},{\"attributes\":{\"end\":5367.585551109518,\"reset_end\":5367.585551109518,\"reset_start\":-446.43085893052665,\"start\":-446.43085893052665,\"tags\":[[[\"inertia\",\"inertia\",null]]]},\"id\":\"2012\",\"type\":\"Range1d\"},{\"attributes\":{\"bottom_units\":\"screen\",\"fill_alpha\":0.5,\"fill_color\":\"lightgrey\",\"left_units\":\"screen\",\"level\":\"overlay\",\"line_alpha\":1.0,\"line_color\":\"black\",\"line_dash\":[4,4],\"line_width\":2,\"right_units\":\"screen\",\"syncable\":false,\"top_units\":\"screen\"},\"id\":\"2036\",\"type\":\"BoxAnnotation\"},{\"attributes\":{\"active_multi\":null,\"tools\":[{\"id\":\"2013\"},{\"id\":\"2031\"},{\"id\":\"2032\"},{\"id\":\"2033\"},{\"id\":\"2034\"},{\"id\":\"2035\"}]},\"id\":\"2037\",\"type\":\"Toolbar\"},{\"attributes\":{\"line_alpha\":0.2,\"line_color\":\"#30a2da\",\"line_width\":2,\"x\":{\"field\":\"k\"},\"y\":{\"field\":\"inertia\"}},\"id\":\"2049\",\"type\":\"Line\"},{\"attributes\":{\"data\":{\"inertia\":{\"__ndarray__\":\"aIsOjRUTs0AAuj4uVDOqQPzEozFM851ARhfmyhKCg0C81K0Y4MN3QCzch8zYxWhAuns5m4rlU0B+0RMm90hNQGutVI6JY0ZAdyfHbAYJQ0A=\",\"dtype\":\"float64\",\"order\":\"little\",\"shape\":[10]},\"k\":[1,2,3,4,5,6,7,8,9,10]},\"selected\":{\"id\":\"2045\"},\"selection_policy\":{\"id\":\"2069\"}},\"id\":\"2044\",\"type\":\"ColumnDataSource\"},{\"attributes\":{},\"id\":\"2031\",\"type\":\"SaveTool\"},{\"attributes\":{},\"id\":\"2069\",\"type\":\"UnionRenderers\"},{\"attributes\":{},\"id\":\"2055\",\"type\":\"AllLabels\"},{\"attributes\":{},\"id\":\"2032\",\"type\":\"PanTool\"},{\"attributes\":{\"source\":{\"id\":\"2044\"}},\"id\":\"2051\",\"type\":\"CDSView\"},{\"attributes\":{\"callback\":null,\"renderers\":[{\"id\":\"2050\"}],\"tags\":[\"hv_created\"],\"tooltips\":[[\"k\",\"@{k}\"],[\"inertia\",\"@{inertia}\"]]},\"id\":\"2013\",\"type\":\"HoverTool\"},{\"attributes\":{},\"id\":\"2035\",\"type\":\"ResetTool\"},{\"attributes\":{\"margin\":[5,5,5,5],\"name\":\"HSpacer03781\",\"sizing_mode\":\"stretch_width\"},\"id\":\"2080\",\"type\":\"Spacer\"},{\"attributes\":{},\"id\":\"2033\",\"type\":\"WheelZoomTool\"},{\"attributes\":{\"children\":[{\"id\":\"2010\"},{\"id\":\"2014\"},{\"id\":\"2080\"}],\"margin\":[0,0,0,0],\"name\":\"Row03776\",\"tags\":[\"embedded\"]},\"id\":\"2009\",\"type\":\"Row\"},{\"attributes\":{},\"id\":\"2059\",\"type\":\"BasicTickFormatter\"},{\"attributes\":{},\"id\":\"2060\",\"type\":\"AllLabels\"},{\"attributes\":{\"line_color\":\"#30a2da\",\"line_width\":2,\"x\":{\"field\":\"k\"},\"y\":{\"field\":\"inertia\"}},\"id\":\"2052\",\"type\":\"Line\"},{\"attributes\":{\"ticks\":[1,2,3,4,5,6,7,8,9,10]},\"id\":\"2053\",\"type\":\"FixedTicker\"},{\"attributes\":{\"overlay\":{\"id\":\"2036\"}},\"id\":\"2034\",\"type\":\"BoxZoomTool\"},{\"attributes\":{},\"id\":\"2045\",\"type\":\"Selection\"},{\"attributes\":{\"text\":\"Elbow Curve\",\"text_color\":\"black\",\"text_font_size\":\"12pt\"},\"id\":\"2015\",\"type\":\"Title\"},{\"attributes\":{},\"id\":\"2054\",\"type\":\"BasicTickFormatter\"}],\"root_ids\":[\"2009\"]},\"title\":\"Bokeh Application\",\"version\":\"2.3.2\"}};\n",
       "    var render_items = [{\"docid\":\"af3c30ba-37f3-4d48-9cb2-83adc6fefb84\",\"root_ids\":[\"2009\"],\"roots\":{\"2009\":\"b3a72930-a543-452e-ae40-7a7a15685c6a\"}}];\n",
       "    root.Bokeh.embed.embed_items_notebook(docs_json, render_items);\n",
       "  }\n",
       "  if (root.Bokeh !== undefined && root.Bokeh.Panel !== undefined) {\n",
       "    embed_document(root);\n",
       "  } else {\n",
       "    var attempts = 0;\n",
       "    var timer = setInterval(function(root) {\n",
       "      if (root.Bokeh !== undefined && root.Bokeh.Panel !== undefined) {\n",
       "        clearInterval(timer);\n",
       "        embed_document(root);\n",
       "      } else if (document.readyState == \"complete\") {\n",
       "        attempts++;\n",
       "        if (attempts > 200) {\n",
       "          clearInterval(timer);\n",
       "          console.log(\"Bokeh: ERROR: Unable to run BokehJS code because BokehJS library is missing\");\n",
       "        }\n",
       "      }\n",
       "    }, 25, root)\n",
       "  }\n",
       "})(window);</script>"
      ],
      "text/plain": [
       ":Curve   [k]   (inertia)"
      ]
     },
     "execution_count": 64,
     "metadata": {
      "application/vnd.holoviews_exec.v0+json": {
       "id": "2009"
      }
     },
     "output_type": "execute_result"
    }
   ],
   "source": [
    "import hvplot.pandas\n",
    "inertia = []\n",
    "k = list(range(1, 11))\n",
    "\n",
    "# Calculate the inertia for the range of k values\n",
    "for i in k:\n",
    "    km = KMeans(n_clusters=i, random_state=0)\n",
    "    km.fit(pcs_df)\n",
    "    inertia.append(km.inertia_)\n",
    "\n",
    "# Create the Elbow Curve using hvPlot\n",
    "elbow_data = {\"k\": k, \"inertia\": inertia}\n",
    "df_elbow = pd.DataFrame(elbow_data)\n",
    "df_elbow.hvplot.line(x=\"k\", y=\"inertia\", xticks=k, title=\"Elbow Curve\")"
   ]
  },
  {
   "cell_type": "markdown",
   "metadata": {},
   "source": [
    "##Running K-Means with `k=4` as the curve dips significantly after 4.\n",
    "Note that K could be 5 or K can be 4 as each time I run the code the elbow curve changes. For the purposes of this assignment, I will use 4 as the number of clusters based on the above diagram."
   ]
  },
  {
   "cell_type": "code",
   "execution_count": 65,
   "metadata": {},
   "outputs": [],
   "source": [
    "# Initialize the K-Means model\n",
    "model = KMeans(n_clusters=4, random_state=0)\n",
    "\n",
    "# Fit the model\n",
    "model.fit(pcs_df)\n",
    "\n",
    "# Predict clusters\n",
    "predictions = model.predict(pcs_df)"
   ]
  },
  {
   "cell_type": "code",
   "execution_count": 66,
   "metadata": {},
   "outputs": [
    {
     "data": {
      "text/html": [
       "<div>\n",
       "<style scoped>\n",
       "    .dataframe tbody tr th:only-of-type {\n",
       "        vertical-align: middle;\n",
       "    }\n",
       "\n",
       "    .dataframe tbody tr th {\n",
       "        vertical-align: top;\n",
       "    }\n",
       "\n",
       "    .dataframe thead th {\n",
       "        text-align: right;\n",
       "    }\n",
       "</style>\n",
       "<table border=\"1\" class=\"dataframe\">\n",
       "  <thead>\n",
       "    <tr style=\"text-align: right;\">\n",
       "      <th></th>\n",
       "      <th>Algorithm</th>\n",
       "      <th>ProofType</th>\n",
       "      <th>TotalCoinsMined</th>\n",
       "      <th>TotalCoinSupply</th>\n",
       "      <th>PC 1</th>\n",
       "      <th>PC 2</th>\n",
       "      <th>PC 3</th>\n",
       "      <th>CoinName</th>\n",
       "      <th>Class</th>\n",
       "    </tr>\n",
       "  </thead>\n",
       "  <tbody>\n",
       "    <tr>\n",
       "      <th>1226</th>\n",
       "      <td>SHA-256</td>\n",
       "      <td>PoS</td>\n",
       "      <td>1.000000e+09</td>\n",
       "      <td>1000000000</td>\n",
       "      <td>0.068418</td>\n",
       "      <td>0.032697</td>\n",
       "      <td>0.041024</td>\n",
       "      <td>TigerCash</td>\n",
       "      <td>0</td>\n",
       "    </tr>\n",
       "    <tr>\n",
       "      <th>1230</th>\n",
       "      <td>Leased POS</td>\n",
       "      <td>LPoS</td>\n",
       "      <td>1.000000e+08</td>\n",
       "      <td>100000000</td>\n",
       "      <td>-0.198892</td>\n",
       "      <td>-0.290267</td>\n",
       "      <td>-0.054615</td>\n",
       "      <td>Waves</td>\n",
       "      <td>0</td>\n",
       "    </tr>\n",
       "    <tr>\n",
       "      <th>1231</th>\n",
       "      <td>PoS</td>\n",
       "      <td>PoS</td>\n",
       "      <td>9.283138e+06</td>\n",
       "      <td>8634140</td>\n",
       "      <td>-0.039171</td>\n",
       "      <td>0.413994</td>\n",
       "      <td>-0.064993</td>\n",
       "      <td>Particl</td>\n",
       "      <td>0</td>\n",
       "    </tr>\n",
       "    <tr>\n",
       "      <th>1234</th>\n",
       "      <td>TRC10</td>\n",
       "      <td>DPoS</td>\n",
       "      <td>9.899887e+11</td>\n",
       "      <td>990000000000</td>\n",
       "      <td>35.755463</td>\n",
       "      <td>-2.215493</td>\n",
       "      <td>-4.988200</td>\n",
       "      <td>BitTorrent</td>\n",
       "      <td>2</td>\n",
       "    </tr>\n",
       "    <tr>\n",
       "      <th>1237</th>\n",
       "      <td>PoS</td>\n",
       "      <td>PoS/LPoS</td>\n",
       "      <td>1.000000e+09</td>\n",
       "      <td>1000000000</td>\n",
       "      <td>0.103800</td>\n",
       "      <td>0.228801</td>\n",
       "      <td>0.001841</td>\n",
       "      <td>Nxt</td>\n",
       "      <td>0</td>\n",
       "    </tr>\n",
       "    <tr>\n",
       "      <th>1238</th>\n",
       "      <td>SHA-256</td>\n",
       "      <td>DPoS</td>\n",
       "      <td>2.000000e+09</td>\n",
       "      <td>2000000000</td>\n",
       "      <td>2.830469</td>\n",
       "      <td>-0.188899</td>\n",
       "      <td>-0.406828</td>\n",
       "      <td>ZEPHYR</td>\n",
       "      <td>0</td>\n",
       "    </tr>\n",
       "    <tr>\n",
       "      <th>1242</th>\n",
       "      <td>Scrypt</td>\n",
       "      <td>PoW/PoS</td>\n",
       "      <td>1.493105e+07</td>\n",
       "      <td>250000000</td>\n",
       "      <td>-0.339005</td>\n",
       "      <td>-0.230943</td>\n",
       "      <td>-0.038168</td>\n",
       "      <td>Gapcoin</td>\n",
       "      <td>0</td>\n",
       "    </tr>\n",
       "    <tr>\n",
       "      <th>1245</th>\n",
       "      <td>CryptoNight</td>\n",
       "      <td>PoW</td>\n",
       "      <td>9.802226e+08</td>\n",
       "      <td>1400222610</td>\n",
       "      <td>-0.019238</td>\n",
       "      <td>-0.144333</td>\n",
       "      <td>0.044913</td>\n",
       "      <td>Beldex</td>\n",
       "      <td>0</td>\n",
       "    </tr>\n",
       "    <tr>\n",
       "      <th>1246</th>\n",
       "      <td>Equihash</td>\n",
       "      <td>PoW</td>\n",
       "      <td>7.296538e+06</td>\n",
       "      <td>21000000</td>\n",
       "      <td>-0.260011</td>\n",
       "      <td>-0.180115</td>\n",
       "      <td>0.094730</td>\n",
       "      <td>Horizen</td>\n",
       "      <td>0</td>\n",
       "    </tr>\n",
       "    <tr>\n",
       "      <th>1247</th>\n",
       "      <td>Scrypt</td>\n",
       "      <td>PoS</td>\n",
       "      <td>1.283270e+05</td>\n",
       "      <td>1000000</td>\n",
       "      <td>-0.222191</td>\n",
       "      <td>-0.033884</td>\n",
       "      <td>-0.044048</td>\n",
       "      <td>BitcoinPlus</td>\n",
       "      <td>0</td>\n",
       "    </tr>\n",
       "  </tbody>\n",
       "</table>\n",
       "</div>"
      ],
      "text/plain": [
       "        Algorithm ProofType  TotalCoinsMined TotalCoinSupply       PC 1  \\\n",
       "1226      SHA-256       PoS     1.000000e+09      1000000000   0.068418   \n",
       "1230   Leased POS      LPoS     1.000000e+08       100000000  -0.198892   \n",
       "1231          PoS       PoS     9.283138e+06         8634140  -0.039171   \n",
       "1234        TRC10      DPoS     9.899887e+11    990000000000  35.755463   \n",
       "1237          PoS  PoS/LPoS     1.000000e+09      1000000000   0.103800   \n",
       "1238      SHA-256      DPoS     2.000000e+09      2000000000   2.830469   \n",
       "1242       Scrypt   PoW/PoS     1.493105e+07       250000000  -0.339005   \n",
       "1245  CryptoNight       PoW     9.802226e+08      1400222610  -0.019238   \n",
       "1246     Equihash       PoW     7.296538e+06        21000000  -0.260011   \n",
       "1247       Scrypt       PoS     1.283270e+05         1000000  -0.222191   \n",
       "\n",
       "          PC 2      PC 3     CoinName  Class  \n",
       "1226  0.032697  0.041024    TigerCash      0  \n",
       "1230 -0.290267 -0.054615        Waves      0  \n",
       "1231  0.413994 -0.064993      Particl      0  \n",
       "1234 -2.215493 -4.988200   BitTorrent      2  \n",
       "1237  0.228801  0.001841          Nxt      0  \n",
       "1238 -0.188899 -0.406828       ZEPHYR      0  \n",
       "1242 -0.230943 -0.038168      Gapcoin      0  \n",
       "1245 -0.144333  0.044913       Beldex      0  \n",
       "1246 -0.180115  0.094730      Horizen      0  \n",
       "1247 -0.033884 -0.044048  BitcoinPlus      0  "
      ]
     },
     "execution_count": 66,
     "metadata": {},
     "output_type": "execute_result"
    }
   ],
   "source": [
    "# Create a new DataFrame including predicted clusters and cryptocurrencies features\n",
    "clustered_df = pd.concat([final_crypto_df, pcs_df, coins_name_df], axis =\"columns\", join = 'inner')\n",
    "clustered_df['Class'] = predictions\n",
    "clustered_df.tail(10)"
   ]
  },
  {
   "cell_type": "markdown",
   "metadata": {},
   "source": [
    "### Visualizing Results\n",
    "\n",
    "#### 3D-Scatter with Clusters"
   ]
  },
  {
   "cell_type": "code",
   "execution_count": 76,
   "metadata": {},
   "outputs": [
    {
     "data": {
      "application/vnd.plotly.v1+json": {
       "config": {
        "plotlyServerURL": "https://plot.ly"
       },
       "data": [
        {
         "customdata": [
          [
           "Scrypt"
          ],
          [
           "Scrypt"
          ],
          [
           "X13"
          ],
          [
           "SHA-256"
          ],
          [
           "Ethash"
          ],
          [
           "Scrypt"
          ],
          [
           "X11"
          ],
          [
           "CryptoNight-V7"
          ],
          [
           "Ethash"
          ],
          [
           "Equihash"
          ],
          [
           "SHA-512"
          ],
          [
           "Multiple"
          ],
          [
           "SHA-256"
          ],
          [
           "SHA-256"
          ],
          [
           "Scrypt"
          ],
          [
           "X15"
          ],
          [
           "X11"
          ],
          [
           "Scrypt"
          ],
          [
           "Scrypt"
          ],
          [
           "Scrypt"
          ],
          [
           "Multiple"
          ],
          [
           "Scrypt"
          ],
          [
           "SHA-256"
          ],
          [
           "Scrypt"
          ],
          [
           "Scrypt"
          ],
          [
           "Scrypt"
          ],
          [
           "Quark"
          ],
          [
           "Groestl"
          ],
          [
           "Scrypt"
          ],
          [
           "Scrypt"
          ],
          [
           "Scrypt"
          ],
          [
           "Scrypt"
          ],
          [
           "Scrypt"
          ],
          [
           "X11"
          ],
          [
           "Scrypt"
          ],
          [
           "Groestl"
          ],
          [
           "Multiple"
          ],
          [
           "SHA-256"
          ],
          [
           "Scrypt"
          ],
          [
           "Scrypt"
          ],
          [
           "Scrypt"
          ],
          [
           "Scrypt"
          ],
          [
           "PoS"
          ],
          [
           "Scrypt"
          ],
          [
           "Scrypt"
          ],
          [
           "NeoScrypt"
          ],
          [
           "Scrypt"
          ],
          [
           "Scrypt"
          ],
          [
           "Scrypt"
          ],
          [
           "Scrypt"
          ],
          [
           "X11"
          ],
          [
           "Scrypt"
          ],
          [
           "X11"
          ],
          [
           "SHA-256"
          ],
          [
           "Scrypt"
          ],
          [
           "Scrypt"
          ],
          [
           "Scrypt"
          ],
          [
           "SHA3"
          ],
          [
           "Scrypt"
          ],
          [
           "HybridScryptHash256"
          ],
          [
           "Scrypt"
          ],
          [
           "Scrypt"
          ],
          [
           "SHA-256"
          ],
          [
           "Scrypt"
          ],
          [
           "X13"
          ],
          [
           "Scrypt"
          ],
          [
           "SHA-256"
          ],
          [
           "Scrypt"
          ],
          [
           "X13"
          ],
          [
           "NeoScrypt"
          ],
          [
           "Scrypt"
          ],
          [
           "Scrypt"
          ],
          [
           "Scrypt"
          ],
          [
           "Scrypt"
          ],
          [
           "Scrypt"
          ],
          [
           "Scrypt"
          ],
          [
           "X11"
          ],
          [
           "X11"
          ],
          [
           "SHA-256"
          ],
          [
           "Multiple"
          ],
          [
           "SHA-256"
          ],
          [
           "PHI1612"
          ],
          [
           "X11"
          ],
          [
           "SHA-256"
          ],
          [
           "SHA-256"
          ],
          [
           "SHA-256"
          ],
          [
           "X11"
          ],
          [
           "Scrypt"
          ],
          [
           "Scrypt"
          ],
          [
           "Scrypt"
          ],
          [
           "Scrypt"
          ],
          [
           "Lyra2REv2"
          ],
          [
           "Scrypt"
          ],
          [
           "X11"
          ],
          [
           "Multiple"
          ],
          [
           "SHA-256"
          ],
          [
           "X13"
          ],
          [
           "Scrypt"
          ],
          [
           "CryptoNight"
          ],
          [
           "CryptoNight"
          ],
          [
           "Shabal256"
          ],
          [
           "Counterparty"
          ],
          [
           "Scrypt"
          ],
          [
           "SHA-256"
          ],
          [
           "Groestl"
          ],
          [
           "Scrypt"
          ],
          [
           "Scrypt"
          ],
          [
           "Scrypt"
          ],
          [
           "X13"
          ],
          [
           "Scrypt"
          ],
          [
           "Scrypt"
          ],
          [
           "Scrypt"
          ],
          [
           "Scrypt"
          ],
          [
           "X13"
          ],
          [
           "Scrypt"
          ],
          [
           "Stanford Folding"
          ],
          [
           "X11"
          ],
          [
           "Multiple"
          ],
          [
           "QuBit"
          ],
          [
           "Scrypt"
          ],
          [
           "Scrypt"
          ],
          [
           "Scrypt"
          ],
          [
           "M7 POW"
          ],
          [
           "Scrypt"
          ],
          [
           "SHA-256"
          ],
          [
           "Scrypt"
          ],
          [
           "X11"
          ],
          [
           "SHA3"
          ],
          [
           "X11"
          ],
          [
           "Lyra2RE"
          ],
          [
           "SHA-256"
          ],
          [
           "QUAIT"
          ],
          [
           "X11"
          ],
          [
           "X11"
          ],
          [
           "Scrypt"
          ],
          [
           "Scrypt"
          ],
          [
           "Scrypt"
          ],
          [
           "Ethash"
          ],
          [
           "X13"
          ],
          [
           "Blake2b"
          ],
          [
           "SHA-256"
          ],
          [
           "X15"
          ],
          [
           "X11"
          ],
          [
           "SHA-256"
          ],
          [
           "BLAKE256"
          ],
          [
           "Scrypt"
          ],
          [
           "1GB AES Pattern Search"
          ],
          [
           "SHA-256"
          ],
          [
           "X11"
          ],
          [
           "Scrypt"
          ],
          [
           "SHA-256"
          ],
          [
           "SHA-256"
          ],
          [
           "NIST5"
          ],
          [
           "Scrypt"
          ],
          [
           "Scrypt"
          ],
          [
           "X11"
          ],
          [
           "Dagger"
          ],
          [
           "Scrypt"
          ],
          [
           "X11GOST"
          ],
          [
           "X11"
          ],
          [
           "Scrypt"
          ],
          [
           "SHA-256"
          ],
          [
           "Scrypt"
          ],
          [
           "PoS"
          ],
          [
           "Scrypt"
          ],
          [
           "X11"
          ],
          [
           "X11"
          ],
          [
           "SHA-256"
          ],
          [
           "SHA-256"
          ],
          [
           "NIST5"
          ],
          [
           "X11"
          ],
          [
           "Scrypt"
          ],
          [
           "POS 3.0"
          ],
          [
           "Scrypt"
          ],
          [
           "Scrypt"
          ],
          [
           "Scrypt"
          ],
          [
           "X13"
          ],
          [
           "X11"
          ],
          [
           "X11"
          ],
          [
           "Equihash"
          ],
          [
           "X11"
          ],
          [
           "Scrypt"
          ],
          [
           "CryptoNight"
          ],
          [
           "SHA-256"
          ],
          [
           "SHA-256"
          ],
          [
           "X11"
          ],
          [
           "Scrypt"
          ],
          [
           "Multiple"
          ],
          [
           "Scrypt"
          ],
          [
           "Scrypt"
          ],
          [
           "Scrypt"
          ],
          [
           "SHA-256"
          ],
          [
           "Scrypt"
          ],
          [
           "Scrypt"
          ],
          [
           "SHA-256D"
          ],
          [
           "PoS"
          ],
          [
           "Scrypt"
          ],
          [
           "X11"
          ],
          [
           "Lyra2Z"
          ],
          [
           "PoS"
          ],
          [
           "X13"
          ],
          [
           "X14"
          ],
          [
           "PoS"
          ],
          [
           "SHA-256D"
          ],
          [
           "Ethash"
          ],
          [
           "Equihash"
          ],
          [
           "DPoS"
          ],
          [
           "X11"
          ],
          [
           "Scrypt"
          ],
          [
           "X11"
          ],
          [
           "X13"
          ],
          [
           "X11"
          ],
          [
           "PoS"
          ],
          [
           "Scrypt"
          ],
          [
           "Scrypt"
          ],
          [
           "X11"
          ],
          [
           "PoS"
          ],
          [
           "X11"
          ],
          [
           "SHA-256"
          ],
          [
           "Scrypt"
          ],
          [
           "X11"
          ],
          [
           "Scrypt"
          ],
          [
           "Scrypt"
          ],
          [
           "X11"
          ],
          [
           "CryptoNight"
          ],
          [
           "Scrypt"
          ],
          [
           "Scrypt"
          ],
          [
           "Scrypt"
          ],
          [
           "Scrypt"
          ],
          [
           "Quark"
          ],
          [
           "QuBit"
          ],
          [
           "Scrypt"
          ],
          [
           "CryptoNight"
          ],
          [
           "Lyra2RE"
          ],
          [
           "Scrypt"
          ],
          [
           "SHA-256"
          ],
          [
           "X11"
          ],
          [
           "Scrypt"
          ],
          [
           "X11"
          ],
          [
           "Scrypt"
          ],
          [
           "CryptoNight-V7"
          ],
          [
           "Scrypt"
          ],
          [
           "Scrypt"
          ],
          [
           "Scrypt"
          ],
          [
           "X13"
          ],
          [
           "X11"
          ],
          [
           "Equihash"
          ],
          [
           "Scrypt"
          ],
          [
           "Scrypt"
          ],
          [
           "Lyra2RE"
          ],
          [
           "Scrypt"
          ],
          [
           "Dagger-Hashimoto"
          ],
          [
           "X11"
          ],
          [
           "Blake2S"
          ],
          [
           "X11"
          ],
          [
           "Scrypt"
          ],
          [
           "PoS"
          ],
          [
           "X11"
          ],
          [
           "NIST5"
          ],
          [
           "PoS"
          ],
          [
           "X11"
          ],
          [
           "Scrypt"
          ],
          [
           "Scrypt"
          ],
          [
           "Scrypt"
          ],
          [
           "SHA-256"
          ],
          [
           "X11"
          ],
          [
           "Scrypt"
          ],
          [
           "Scrypt"
          ],
          [
           "SHA-256"
          ],
          [
           "PoS"
          ],
          [
           "Scrypt"
          ],
          [
           "X15"
          ],
          [
           "SHA-256"
          ],
          [
           "Scrypt"
          ],
          [
           "POS 3.0"
          ],
          [
           "CryptoNight-V7"
          ],
          [
           "536"
          ],
          [
           "Argon2d"
          ],
          [
           "Blake2b"
          ],
          [
           "Cloverhash"
          ],
          [
           "CryptoNight"
          ],
          [
           "NIST5"
          ],
          [
           "X11"
          ],
          [
           "NIST5"
          ],
          [
           "Skein"
          ],
          [
           "Scrypt"
          ],
          [
           "X13"
          ],
          [
           "Scrypt"
          ],
          [
           "X11"
          ],
          [
           "X11"
          ],
          [
           "Scrypt"
          ],
          [
           "CryptoNight"
          ],
          [
           "X13"
          ],
          [
           "Time Travel"
          ],
          [
           "Scrypt"
          ],
          [
           "Keccak"
          ],
          [
           "SkunkHash v2 Raptor"
          ],
          [
           "X11"
          ],
          [
           "Skein"
          ],
          [
           "SHA-256"
          ],
          [
           "X11"
          ],
          [
           "Scrypt"
          ],
          [
           "Scrypt"
          ],
          [
           "PoS"
          ],
          [
           "Scrypt"
          ],
          [
           "Scrypt"
          ],
          [
           "Scrypt"
          ],
          [
           "Scrypt"
          ],
          [
           "Scrypt"
          ],
          [
           "Scrypt"
          ],
          [
           "Scrypt"
          ],
          [
           "CryptoNight"
          ],
          [
           "SHA-512"
          ],
          [
           "Ouroboros"
          ],
          [
           "X11"
          ],
          [
           "Equihash"
          ],
          [
           "NeoScrypt"
          ],
          [
           "X11"
          ],
          [
           "Scrypt"
          ],
          [
           "NeoScrypt"
          ],
          [
           "Lyra2REv2"
          ],
          [
           "Equihash"
          ],
          [
           "Scrypt"
          ],
          [
           "SHA-256"
          ],
          [
           "NIST5"
          ],
          [
           "PHI1612"
          ],
          [
           "Dagger"
          ],
          [
           "Scrypt"
          ],
          [
           "Quark"
          ],
          [
           "Scrypt"
          ],
          [
           "POS 2.0"
          ],
          [
           "Scrypt"
          ],
          [
           "SHA-256"
          ],
          [
           "X11"
          ],
          [
           "NeoScrypt"
          ],
          [
           "Ethash"
          ],
          [
           "NeoScrypt"
          ],
          [
           "X11"
          ],
          [
           "DPoS"
          ],
          [
           "NIST5"
          ],
          [
           "X13"
          ],
          [
           "Multiple"
          ],
          [
           "Scrypt"
          ],
          [
           "CryptoNight"
          ],
          [
           "CryptoNight"
          ],
          [
           "Ethash"
          ],
          [
           "NIST5"
          ],
          [
           "Quark"
          ],
          [
           "X11"
          ],
          [
           "CryptoNight-V7"
          ],
          [
           "Scrypt"
          ],
          [
           "Scrypt"
          ],
          [
           "Scrypt"
          ],
          [
           "X11"
          ],
          [
           "BLAKE256"
          ],
          [
           "X11"
          ],
          [
           "NeoScrypt"
          ],
          [
           "Quark"
          ],
          [
           "NeoScrypt"
          ],
          [
           "Scrypt"
          ],
          [
           "Scrypt"
          ],
          [
           "Scrypt"
          ],
          [
           "X11"
          ],
          [
           "X11"
          ],
          [
           "SHA-256"
          ],
          [
           "C11"
          ],
          [
           "POS 3.0"
          ],
          [
           "Ethash"
          ],
          [
           "Scrypt"
          ],
          [
           "CryptoNight"
          ],
          [
           "SkunkHash"
          ],
          [
           "Scrypt"
          ],
          [
           "CryptoNight"
          ],
          [
           "Scrypt"
          ],
          [
           "Dagger"
          ],
          [
           "Lyra2REv2"
          ],
          [
           "X13"
          ],
          [
           "Scrypt"
          ],
          [
           "Scrypt"
          ],
          [
           "X11"
          ],
          [
           "C11"
          ],
          [
           "X11"
          ],
          [
           "XEVAN"
          ],
          [
           "Scrypt"
          ],
          [
           "VBFT"
          ],
          [
           "Ethash"
          ],
          [
           "CryptoNight"
          ],
          [
           "Scrypt"
          ],
          [
           "IMesh"
          ],
          [
           "NIST5"
          ],
          [
           "Scrypt"
          ],
          [
           "Scrypt"
          ],
          [
           "Equihash"
          ],
          [
           "Scrypt"
          ],
          [
           "Lyra2Z"
          ],
          [
           "Green Protocol"
          ],
          [
           "PoS"
          ],
          [
           "Scrypt"
          ],
          [
           "Semux BFT consensus"
          ],
          [
           "X11"
          ],
          [
           "Quark"
          ],
          [
           "PoS"
          ],
          [
           "CryptoNight"
          ],
          [
           "X16R"
          ],
          [
           "Scrypt"
          ],
          [
           "NIST5"
          ],
          [
           "Lyra2RE"
          ],
          [
           "XEVAN"
          ],
          [
           "Tribus"
          ],
          [
           "Scrypt"
          ],
          [
           "Lyra2Z"
          ],
          [
           "CryptoNight"
          ],
          [
           "CryptoNight Heavy"
          ],
          [
           "CryptoNight"
          ],
          [
           "Scrypt"
          ],
          [
           "Scrypt"
          ],
          [
           "Jump Consistent Hash"
          ],
          [
           "SHA-256D"
          ],
          [
           "CryptoNight"
          ],
          [
           "Scrypt"
          ],
          [
           "X15"
          ],
          [
           "Scrypt"
          ],
          [
           "Quark"
          ],
          [
           "SHA-256"
          ],
          [
           "DPoS"
          ],
          [
           "X16R"
          ],
          [
           "HMQ1725"
          ],
          [
           "X11"
          ],
          [
           "X16R"
          ],
          [
           "Quark"
          ],
          [
           "Quark"
          ],
          [
           "Scrypt"
          ],
          [
           "Lyra2REv2"
          ],
          [
           "Quark"
          ],
          [
           "Scrypt"
          ],
          [
           "Scrypt"
          ],
          [
           "CryptoNight-V7"
          ],
          [
           "Cryptonight-GPU"
          ],
          [
           "XEVAN"
          ],
          [
           "CryptoNight Heavy"
          ],
          [
           "X11"
          ],
          [
           "X11"
          ],
          [
           "Scrypt"
          ],
          [
           "PoS"
          ],
          [
           "SHA-256"
          ],
          [
           "Keccak"
          ],
          [
           "X11"
          ],
          [
           "X11"
          ],
          [
           "Scrypt"
          ],
          [
           "SHA-512"
          ],
          [
           "X16R"
          ],
          [
           "ECC 256K1"
          ],
          [
           "Equihash"
          ],
          [
           "XEVAN"
          ],
          [
           "Lyra2Z"
          ],
          [
           "SHA-256"
          ],
          [
           "XEVAN"
          ],
          [
           "X11"
          ],
          [
           "CryptoNight"
          ],
          [
           "Quark"
          ],
          [
           "Blake"
          ],
          [
           "Blake"
          ],
          [
           "Equihash"
          ],
          [
           "Exosis"
          ],
          [
           "Scrypt"
          ],
          [
           "Scrypt"
          ],
          [
           "Equihash"
          ],
          [
           "Quark"
          ],
          [
           "Equihash"
          ],
          [
           "Quark"
          ],
          [
           "Scrypt"
          ],
          [
           "QuBit"
          ],
          [
           "X11"
          ],
          [
           "Scrypt"
          ],
          [
           "XEVAN"
          ],
          [
           "SHA-256D"
          ],
          [
           "X11"
          ],
          [
           "SHA-256"
          ],
          [
           "X13"
          ],
          [
           "SHA-256"
          ],
          [
           "X11"
          ],
          [
           "DPoS"
          ],
          [
           "Scrypt"
          ],
          [
           "Scrypt"
          ],
          [
           "X11"
          ],
          [
           "NeoScrypt"
          ],
          [
           "Scrypt"
          ],
          [
           "Blake"
          ],
          [
           "Scrypt"
          ],
          [
           "SHA-256"
          ],
          [
           "Scrypt"
          ],
          [
           "X11"
          ],
          [
           "Scrypt"
          ],
          [
           "Scrypt"
          ],
          [
           "SHA-256"
          ],
          [
           "X11"
          ],
          [
           "SHA-256"
          ],
          [
           "Scrypt"
          ],
          [
           "Scrypt"
          ],
          [
           "Scrypt"
          ],
          [
           "Groestl"
          ],
          [
           "X11"
          ],
          [
           "Scrypt"
          ],
          [
           "PoS"
          ],
          [
           "Scrypt"
          ],
          [
           "Scrypt"
          ],
          [
           "X11"
          ],
          [
           "SHA-256"
          ],
          [
           "DPoS"
          ],
          [
           "Scrypt"
          ],
          [
           "Scrypt"
          ],
          [
           "NeoScrypt"
          ],
          [
           "SHA3-256"
          ],
          [
           "Multiple"
          ],
          [
           "X13"
          ],
          [
           "Equihash+Scrypt"
          ],
          [
           "DPoS"
          ],
          [
           "Ethash"
          ],
          [
           "DPoS"
          ],
          [
           "SHA-256"
          ],
          [
           "Leased POS"
          ],
          [
           "PoS"
          ],
          [
           "PoS"
          ],
          [
           "SHA-256"
          ],
          [
           "Scrypt"
          ],
          [
           "CryptoNight"
          ],
          [
           "Equihash"
          ],
          [
           "Scrypt"
          ]
         ],
         "hovertemplate": "<b>%{hovertext}</b><br><br>Class=%{marker.color}<br>PC 1=%{x}<br>PC 2=%{y}<br>PC 3=%{z}<br>Algorithm=%{customdata[0]}<extra></extra>",
         "hovertext": [
          "42 Coin",
          "404Coin",
          "EliteCoin",
          "Bitcoin",
          "Ethereum",
          "Litecoin",
          "Dash",
          "Monero",
          "Ethereum Classic",
          "ZCash",
          "Bitshares",
          "DigiByte",
          "BitcoinDark",
          "PayCoin",
          "ProsperCoin",
          "KoboCoin",
          "Spreadcoin",
          "Argentum",
          "Aurora Coin",
          "BlueCoin",
          "MyriadCoin",
          "MoonCoin",
          "ZetaCoin",
          "SexCoin",
          "Quatloo",
          "EnergyCoin",
          "QuarkCoin",
          "Riecoin",
          "Digitalcoin ",
          "BitBar",
          "Catcoin",
          "CryptoBullion",
          "CannaCoin",
          "CryptCoin",
          "CasinoCoin",
          "Diamond",
          "Verge",
          "DevCoin",
          "EarthCoin",
          "E-Gulden",
          "Einsteinium",
          "Emerald",
          "Exclusive Coin",
          "FlutterCoin",
          "Franko",
          "FeatherCoin",
          "GrandCoin",
          "GlobalCoin",
          "GoldCoin",
          "HoboNickels",
          "HyperStake",
          "Infinite Coin",
          "IOCoin",
          "IXcoin",
          "KrugerCoin",
          "LuckyCoin",
          "Litebar ",
          "MaxCoin",
          "MegaCoin",
          "MediterraneanCoin",
          "MintCoin",
          "MinCoin",
          "MazaCoin",
          "Nautilus Coin",
          "NavCoin",
          "NobleCoin",
          "Namecoin",
          "NyanCoin",
          "OpalCoin",
          "Orbitcoin",
          "PotCoin",
          "PhoenixCoin",
          "Reddcoin",
          "RonPaulCoin",
          "StableCoin",
          "SmartCoin",
          "SuperCoin",
          "SyncCoin",
          "SysCoin",
          "TeslaCoin",
          "TigerCoin",
          "TittieCoin",
          "TorCoin",
          "TerraCoin",
          "UnbreakableCoin",
          "Unobtanium",
          "UroCoin",
          "UnitaryStatus Dollar",
          "UltraCoin",
          "ViaCoin",
          "VeriCoin",
          "Vertcoin",
          "WorldCoin",
          "X11 Coin",
          "Crypti",
          "JouleCoin",
          "StealthCoin",
          "ZCC Coin",
          "ByteCoin",
          "DigitalNote ",
          "BurstCoin",
          "StorjCoin",
          "MonaCoin",
          "Neutron",
          "FairCoin",
          "Gulden",
          "RubyCoin",
          "PesetaCoin",
          "Kore",
          "Wild Beast Coin",
          "Dnotes",
          "Flo",
          "8BIT Coin",
          "Sativa Coin",
          "ArtByte",
          "Folding Coin",
          "Ucoin",
          "Unitus",
          "CypherPunkCoin",
          "OmniCron",
          "Vtorrent",
          "GreenCoin",
          "Cryptonite",
          "MasterCoin",
          "SoonCoin",
          "1Credit",
          "IslaCoin",
          "Nexus",
          "MarsCoin ",
          "Crypto",
          "Anarchists Prime",
          "Droidz",
          "BowsCoin",
          "Squall Coin",
          "Song Coin",
          "BitZeny",
          "Diggits",
          "Expanse",
          "Paycon",
          "Siacoin",
          "Emercoin",
          "EverGreenCoin",
          "MindCoin",
          "I0coin",
          "Decred",
          "Revolution VR",
          "HOdlcoin",
          "EDRCoin",
          "Hitcoin",
          "Gamecredits",
          "DubaiCoin",
          "CarpeDiemCoin",
          "PWR Coin",
          "BillaryCoin",
          "GPU Coin",
          "Adzcoin",
          "SoilCoin",
          "YoCoin",
          "SibCoin",
          "EuropeCoin",
          "ZeitCoin",
          "SwingCoin",
          "SafeExchangeCoin",
          "Nebuchadnezzar",
          "Francs",
          "BolivarCoin",
          "Ratecoin",
          "Revenu",
          "Clockcoin",
          "VIP Tokens",
          "BitSend",
          "Omni",
          "Let it Ride",
          "PutinCoin",
          "iBankCoin",
          "Frankywillcoin",
          "MudraCoin",
          "PizzaCoin",
          "Lutetium Coin",
          "Komodo",
          "GoldBlocks",
          "CarterCoin",
          "Karbo",
          "BitTokens",
          "ZayedCoin",
          "MustangCoin",
          "ZoneCoin",
          "Circuits of Value",
          "RootCoin",
          "DopeCoin",
          "BitCurrency",
          "DollarCoin",
          "Swiscoin",
          "Shilling",
          "BuzzCoin",
          "Opair",
          "PesoBit",
          "Halloween Coin",
          "ZCoin",
          "CoffeeCoin",
          "RoyalCoin",
          "GanjaCoin V2",
          "TeamUP",
          "LanaCoin",
          "Elementrem",
          "ZClassic",
          "ARK",
          "InsaneCoin",
          "KiloCoin",
          "ArtexCoin",
          "EmberCoin",
          "XenixCoin",
          "FreeCoin",
          "PLNCoin",
          "AquariusCoin",
          "Kurrent",
          "Creatio",
          "Eternity",
          "Eurocoin",
          "BitcoinFast",
          "Stakenet",
          "BitConnect Coin",
          "MoneyCoin",
          "Enigma",
          "Cannabis Industry Coin",
          "Russiacoin",
          "PandaCoin",
          "GameUnits",
          "GAKHcoin",
          "Allsafe",
          "LiteCreed",
          "OsmiumCoin",
          "Bikercoins",
          "HexxCoin",
          "Klingon Empire Darsek",
          "Internet of People",
          "KushCoin",
          "Printerium",
          "PacCoin",
          "Impeach",
          "Citadel",
          "Zilbercoin",
          "FirstCoin",
          "BeaverCoin",
          "FindCoin",
          "VaultCoin",
          "Zero",
          "OpenChat",
          "Canada eCoin",
          "Zoin",
          "RenosCoin",
          "DubaiCoin",
          "VirtacoinPlus",
          "TajCoin",
          "Impact",
          "EB3coin",
          "Atmos",
          "HappyCoin",
          "Coinonat",
          "MacronCoin",
          "Condensate",
          "Independent Money System",
          "ArgusCoin",
          "LomoCoin",
          "ProCurrency",
          "GoldReserve",
          "BenjiRolls",
          "GrowthCoin",
          "ILCoin",
          "Phreak",
          "Degas Coin",
          "HTML5 Coin",
          "Ultimate Secure Cash",
          "EquiTrader",
          "QTUM",
          "Quantum Resistant Ledger",
          "Espers",
          "Dynamic",
          "Nano",
          "ChanCoin",
          "Dinastycoin",
          "Denarius",
          "DigitalPrice",
          "Virta Unique Coin",
          "Bitcoin Planet",
          "Unify",
          "BritCoin",
          "SocialCoin",
          "ArcticCoin",
          "DAS",
          "Linda",
          "LeviarCoin",
          "DeepOnion",
          "Bitcore",
          "gCn Coin",
          "SmartCash",
          "Signatum",
          "Onix",
          "Cream",
          "Bitcoin Cash",
          "Monoeci",
          "Draftcoin",
          "Sojourn Coin",
          "Stakecoin",
          "NewYorkCoin",
          "FrazCoin",
          "Kronecoin",
          "AdCoin",
          "Linx",
          "CoinonatX",
          "Ethereum Dark",
          "Sumokoin",
          "Obsidian",
          "Cardano",
          "Regalcoin",
          "BitcoinZ",
          "TrezarCoin",
          "Elements",
          "TerraNovaCoin",
          "VIVO Coin",
          "Rupee",
          "Bitcoin Gold",
          "WomenCoin",
          "Theresa May Coin",
          "NamoCoin",
          "LUXCoin",
          "Pirl",
          "Xios",
          "Bitcloud 2.0",
          "eBoost",
          "KekCoin",
          "BlackholeCoin",
          "Infinity Economics",
          "Pura",
          "Innova",
          "Ellaism",
          "GoByte",
          "Magnet",
          "Lamden Tau",
          "Electra",
          "Bitcoin Diamond",
          "SHIELD",
          "Cash & Back Coin",
          "UltraNote",
          "BitCoal",
          "DaxxCoin",
          "Bulwark",
          "Kalkulus",
          "AC3",
          "Lethean",
          "GermanCoin",
          "LiteCoin Ultra",
          "PopularCoin",
          "PhantomX",
          "Photon",
          "Sucre",
          "SparksPay",
          "Digiwage",
          "GunCoin",
          "IrishCoin",
          "Trollcoin",
          "Litecoin Plus",
          "Monkey Project",
          "Pioneer Coin",
          "UnitedBitcoin",
          "Interzone",
          "TokenPay",
          "1717 Masonic Commemorative Token",
          "My Big Coin",
          "TurtleCoin",
          "MUNcoin",
          "Unified Society USDEX",
          "Niobio Cash",
          "ShareChain",
          "Travelflex",
          "KREDS",
          "Tokyo Coin",
          "BitFlip",
          "LottoCoin",
          "Crypto Improvement Fund",
          "Stipend",
          "Pushi",
          "Ellerium",
          "Velox",
          "Ontology",
          "Callisto Network",
          "BitTube",
          "Poseidon",
          "Aidos Kuneen",
          "Bitspace",
          "Briacoin",
          "Ignition",
          "Bitrolium",
          "MedicCoin",
          "Alpenschillling",
          "Bitcoin Green",
          "Deviant Coin",
          "Abjcoin",
          "Semux",
          "FuturoCoin",
          "Carebit",
          "Zealium",
          "Monero Classic",
          "Proton",
          "iDealCash",
          "Jumpcoin",
          "Infinex",
          "Bitcoin Incognito",
          "KEYCO",
          "HollyWoodCoin",
          "GINcoin",
          "PlatinCoin",
          "Loki",
          "Newton Coin",
          "Swisscoin",
          "Xt3ch",
          "MassGrid",
          "TheVig",
          "PluraCoin",
          "EmaratCoin",
          "Dekado",
          "Lynx",
          "Poseidon Quark",
          "BitcoinWSpectrum",
          "Muse",
          "Motion",
          "PlusOneCoin",
          "Axe",
          "Trivechain",
          "Dystem",
          "Giant",
          "Peony Coin",
          "Absolute Coin",
          "Vitae",
          "HexCoin",
          "TPCash",
          "Webchain",
          "Ryo",
          "Urals Coin",
          "Qwertycoin",
          "ARENON",
          "EUNO",
          "MMOCoin",
          "Ketan",
          "Project Pai",
          "XDNA",
          "PAXEX",
          "Azart",
          "ThunderStake",
          "Kcash",
          "Xchange",
          "Acute Angle Cloud",
          "CrypticCoin",
          "Bettex coin",
          "Actinium",
          "Bitcoin SV",
          "BitMoney",
          "Junson Ming Chan Coin",
          "FREDEnergy",
          "HerbCoin",
          "Universal Molecule",
          "Lithium",
          "PirateCash",
          "Exosis",
          "Block-Logic",
          "Oduwa",
          "Beam",
          "Galilel",
          "Bithereum",
          "Crypto Sports",
          "Credit",
          "SLICE",
          "Dash Platinum",
          "Nasdacoin",
          "Beetle Coin",
          "Titan Coin",
          "Award",
          "BLAST",
          "Bitcoin Rhodium",
          "GlobalToken",
          "Insane Coin",
          "ALAX",
          "LiteDoge",
          "SolarCoin",
          "TruckCoin",
          "UFO Coin",
          "OrangeCoin",
          "BlakeCoin",
          "BitstarCoin",
          "NeosCoin",
          "HyperCoin",
          "PinkCoin",
          "Crypto Escudo",
          "AudioCoin",
          "IncaKoin",
          "Piggy Coin",
          "Crown Coin",
          "Genstake",
          "SmileyCoin",
          "XiaoMiCoin",
          "Groestlcoin",
          "CapriCoin",
          " ClubCoin",
          "Radium",
          "Bata",
          "Pakcoin",
          "Creditbit ",
          "OKCash",
          "Lisk",
          "HiCoin",
          "WhiteCoin",
          "FriendshipCoin",
          "Fiii",
          "JoinCoin",
          "Triangles Coin",
          "Vollar",
          "EOS",
          "Reality Clash",
          "Oxycoin",
          "TigerCash",
          "Waves",
          "Particl",
          "Nxt",
          "ZEPHYR",
          "Gapcoin",
          "Beldex",
          "Horizen",
          "BitcoinPlus"
         ],
         "legendgroup": "0",
         "marker": {
          "color": [
           0,
           0,
           0,
           0,
           0,
           0,
           0,
           0,
           0,
           0,
           0,
           0,
           0,
           0,
           0,
           0,
           0,
           0,
           0,
           0,
           0,
           0,
           0,
           0,
           0,
           0,
           0,
           0,
           0,
           0,
           0,
           0,
           0,
           0,
           0,
           0,
           0,
           0,
           0,
           0,
           0,
           0,
           0,
           0,
           0,
           0,
           0,
           0,
           0,
           0,
           0,
           0,
           0,
           0,
           0,
           0,
           0,
           0,
           0,
           0,
           0,
           0,
           0,
           0,
           0,
           0,
           0,
           0,
           0,
           0,
           0,
           0,
           0,
           0,
           0,
           0,
           0,
           0,
           0,
           0,
           0,
           0,
           0,
           0,
           0,
           0,
           0,
           0,
           0,
           0,
           0,
           0,
           0,
           0,
           0,
           0,
           0,
           0,
           0,
           0,
           0,
           0,
           0,
           0,
           0,
           0,
           0,
           0,
           0,
           0,
           0,
           0,
           0,
           0,
           0,
           0,
           0,
           0,
           0,
           0,
           0,
           0,
           0,
           0,
           0,
           0,
           0,
           0,
           0,
           0,
           0,
           0,
           0,
           0,
           0,
           0,
           0,
           0,
           0,
           0,
           0,
           0,
           0,
           0,
           0,
           0,
           0,
           0,
           0,
           0,
           0,
           0,
           0,
           0,
           0,
           0,
           0,
           0,
           0,
           0,
           0,
           0,
           0,
           0,
           0,
           0,
           0,
           0,
           0,
           0,
           0,
           0,
           0,
           0,
           0,
           0,
           0,
           0,
           0,
           0,
           0,
           0,
           0,
           0,
           0,
           0,
           0,
           0,
           0,
           0,
           0,
           0,
           0,
           0,
           0,
           0,
           0,
           0,
           0,
           0,
           0,
           0,
           0,
           0,
           0,
           0,
           0,
           0,
           0,
           0,
           0,
           0,
           0,
           0,
           0,
           0,
           0,
           0,
           0,
           0,
           0,
           0,
           0,
           0,
           0,
           0,
           0,
           0,
           0,
           0,
           0,
           0,
           0,
           0,
           0,
           0,
           0,
           0,
           0,
           0,
           0,
           0,
           0,
           0,
           0,
           0,
           0,
           0,
           0,
           0,
           0,
           0,
           0,
           0,
           0,
           0,
           0,
           0,
           0,
           0,
           0,
           0,
           0,
           0,
           0,
           0,
           0,
           0,
           0,
           0,
           0,
           0,
           0,
           0,
           0,
           0,
           0,
           0,
           0,
           0,
           0,
           0,
           0,
           0,
           0,
           0,
           0,
           0,
           0,
           0,
           0,
           0,
           0,
           0,
           0,
           0,
           0,
           0,
           0,
           0,
           0,
           0,
           0,
           0,
           0,
           0,
           0,
           0,
           0,
           0,
           0,
           0,
           0,
           0,
           0,
           0,
           0,
           0,
           0,
           0,
           0,
           0,
           0,
           0,
           0,
           0,
           0,
           0,
           0,
           0,
           0,
           0,
           0,
           0,
           0,
           0,
           0,
           0,
           0,
           0,
           0,
           0,
           0,
           0,
           0,
           0,
           0,
           0,
           0,
           0,
           0,
           0,
           0,
           0,
           0,
           0,
           0,
           0,
           0,
           0,
           0,
           0,
           0,
           0,
           0,
           0,
           0,
           0,
           0,
           0,
           0,
           0,
           0,
           0,
           0,
           0,
           0,
           0,
           0,
           0,
           0,
           0,
           0,
           0,
           0,
           0,
           0,
           0,
           0,
           0,
           0,
           0,
           0,
           0,
           0,
           0,
           0,
           0,
           0,
           0,
           0,
           0,
           0,
           0,
           0,
           0,
           0,
           0,
           0,
           0,
           0,
           0,
           0,
           0,
           0,
           0,
           0,
           0,
           0,
           0,
           0,
           0,
           0,
           0,
           0,
           0,
           0,
           0,
           0,
           0,
           0,
           0,
           0,
           0,
           0,
           0,
           0,
           0,
           0,
           0,
           0,
           0,
           0,
           0,
           0,
           0,
           0,
           0,
           0,
           0,
           0,
           0,
           0,
           0,
           0,
           0,
           0,
           0,
           0,
           0,
           0,
           0,
           0,
           0,
           0,
           0,
           0,
           0,
           0,
           0,
           0,
           0,
           0,
           0,
           0,
           0,
           0,
           0,
           0,
           0,
           0,
           0,
           0,
           0,
           0,
           0,
           0,
           0,
           0,
           0,
           0,
           0,
           0,
           0,
           0,
           0,
           0,
           0,
           0,
           0,
           0,
           0,
           0,
           0,
           0,
           0,
           0,
           0,
           0,
           0,
           0,
           0,
           0,
           0,
           0,
           0,
           0,
           0,
           0,
           0,
           0,
           0,
           0,
           0,
           0,
           0,
           0,
           0
          ],
          "coloraxis": "coloraxis",
          "symbol": "circle"
         },
         "mode": "markers",
         "name": "0",
         "scene": "scene",
         "showlegend": true,
         "type": "scatter3d",
         "x": [
          -0.3520146330312478,
          -0.34054796283083727,
          0.23046308641818605,
          -0.15487218258416927,
          -0.11037908327734378,
          -0.2835108641026075,
          -0.3051509548027773,
          -0.04044605512041497,
          -0.291624488314757,
          -0.260009944709923,
          0.14633207338721216,
          0.04726884369415212,
          -0.19478448101179602,
          -0.00820106198833029,
          -0.2652199738821618,
          -0.38477803681719575,
          -0.2710444213492056,
          -0.26688155374219,
          -0.35345483926341514,
          -0.1388110831399093,
          0.15393306544598745,
          -0.29995392618490346,
          -0.09070895611674747,
          -0.30350028190245865,
          -0.2190812075881318,
          -0.144328187974934,
          -0.27722566333624665,
          -0.24305679247924133,
          -0.29429109271770354,
          -0.3562162924433932,
          -0.29787580181310247,
          -0.32769501765087855,
          -0.2988703924446641,
          -0.25889437243050956,
          0.6143138297414672,
          -0.2715481591365597,
          0.14228816106652536,
          0.12411621470749729,
          -0.1008095190336118,
          -0.2977283822565255,
          -0.2907713246605297,
          -0.2984712002036738,
          0.0504700319343294,
          -0.0317501621895985,
          -0.2960696934685825,
          -0.3091784297291598,
          -0.2835336121120737,
          -0.304470198721639,
          -0.29646224151489553,
          -0.3288753184171488,
          -0.02229784479620629,
          1.124778064121221,
          -0.3050581387301504,
          -0.1548381322913263,
          -0.2945477807277548,
          -0.2707233961885928,
          -0.2987479369205544,
          -0.39903892697831933,
          -0.2689554176030996,
          -0.30286356458014846,
          0.18915383974584546,
          -0.2799796591153435,
          -0.1253335210264099,
          -0.19396541982081109,
          -0.06450500221819569,
          -0.25419676370165933,
          -0.1549065408526246,
          -0.2902212989360638,
          -0.06505342439097435,
          -0.4340117622367748,
          -0.3487591172924595,
          -0.3539254976748076,
          0.17001672882256355,
          -0.2652701974818803,
          -0.30462796909475626,
          -0.29968726083131786,
          -0.03982613069155533,
          -0.35044564477993206,
          -0.08503408985778735,
          -0.03435502102327648,
          -0.09329923310740912,
          -0.1508412430587984,
          -0.3145369379152614,
          -0.15890240538313766,
          -0.09016212224792655,
          -0.09421202603051913,
          -0.11159609010569699,
          -0.3348139380106707,
          -0.25289672113053707,
          -0.29641994071653777,
          -0.04335501453201397,
          -0.23915401040261702,
          -0.29489064151257655,
          -0.3458553734183927,
          0.07364185991574419,
          -0.1624598045358956,
          -0.06486027486855847,
          -0.15648747835632348,
          2.8543437524813684,
          -0.012359838994869603,
          0.3803782429201178,
          0.08660258755997348,
          -0.29467185708338245,
          -0.15180126939292907,
          -0.10448119807234074,
          -0.29277955300679837,
          -0.03984644854129404,
          -0.29560772752012215,
          -0.23186196461738615,
          -0.2966078235652732,
          -0.032108377111385936,
          -0.3092335347413685,
          -0.1456375226295731,
          -0.2338062574837015,
          -0.11526977786835196,
          -0.017560182755262947,
          -0.1998985782218647,
          0.002029260340075286,
          -0.026050156219478534,
          -0.2951525176208775,
          -0.3050837599598813,
          -0.21232597927052016,
          -0.906841290844297,
          -0.29918389266099293,
          -0.15493102491798297,
          -0.07946017427113435,
          -0.14587000846016476,
          -0.9637322413071574,
          -0.3075251229380151,
          -0.05632742650774556,
          -0.09172256844156089,
          -0.4675041519870329,
          -0.2653442449151717,
          -0.09623671133380875,
          -0.2975738114230331,
          -0.30407450118316665,
          -0.14684669665196762,
          -0.31953040037157865,
          -0.24463705525490576,
          0.35091382671886967,
          -0.04740050484812479,
          -0.4292315872161572,
          -0.2919059842871578,
          -0.15483912157055862,
          -0.1594111643943975,
          -0.2904213491386956,
          -0.35650676384703417,
          -0.19475884423359818,
          -0.17400609911610354,
          -0.2834376755427333,
          -0.14149778460979995,
          0.25072728777831443,
          -0.002503903394232737,
          -0.3035465575068995,
          -0.1912051893939987,
          -0.28393690240733327,
          -0.29331467762167523,
          -0.29732501199336986,
          -0.18492832637771456,
          -0.34462127130049536,
          0.38234136942182967,
          -0.20342454183514969,
          0.020866488685996738,
          -0.10893115838976203,
          -0.27086074754928935,
          -0.2776194901824055,
          -0.3487579957058544,
          -0.15142749622858365,
          -0.15582978624965277,
          -0.3164113305142647,
          -0.3530695229379065,
          -0.3011043134908405,
          -0.16482426347983278,
          -0.0024721274892137222,
          -0.3552331075306348,
          -0.2523608538333756,
          -0.15365438567036627,
          -0.27775167994501265,
          -0.1764537478366656,
          -0.35132181435098025,
          -0.3253872661267793,
          -0.35156670589745936,
          -0.104717776268938,
          -0.18933602844814254,
          -0.09438536139508981,
          -0.3532007235061279,
          -0.2995315019999026,
          -0.13371210827771413,
          -0.14563243961622782,
          -0.30412367592268374,
          -0.03831293309154656,
          -0.09657120891611351,
          -0.004988077212837439,
          -0.3045312444097946,
          0.11708087318514641,
          -0.03833771769542195,
          -0.1452923531078032,
          -0.3485217384160482,
          -0.1402263996093421,
          -0.03838405474935523,
          -0.06880862682319223,
          -0.23758880988913797,
          -0.03952971565926877,
          -0.17424899227001311,
          -0.31787601732960385,
          -0.26002899875502694,
          6.0994641907735225,
          -0.33896365782644083,
          -0.2598563952402458,
          -0.09658605306364218,
          1.211051235707391,
          -0.34672205885617063,
          -0.12872127698465508,
          -0.35760716115695146,
          -0.3036170789311896,
          -0.29189402411778587,
          -0.10893115838976203,
          -0.35573404713571755,
          -0.1948581535248043,
          -0.34169833514328535,
          -0.918459482192378,
          -0.35428714449965554,
          -0.34982174653210324,
          -0.34521180583718863,
          -0.0900314038167607,
          -0.35275217555484245,
          0.33846923399165285,
          -0.35145168921241554,
          -0.35308865096650943,
          -0.20486619460777655,
          -0.17094304664431503,
          -0.2966087102010686,
          -0.10219262997312173,
          -0.05141418566732934,
          -0.13924506467557324,
          -0.18931523921262458,
          -0.35011689835651466,
          -0.30508142323905213,
          -0.2822114247048532,
          -0.35672247436299287,
          -0.16538965457368898,
          -0.18967351591858128,
          -0.21738357410545733,
          -0.30079959231073705,
          -0.06553467983681267,
          -0.12370960794210865,
          -0.3051274680332785,
          -0.14731303637020493,
          -0.2942249659968937,
          -0.14824639124427755,
          -0.19041979819509397,
          -0.13178150998210705,
          -0.25352889712317767,
          -0.14318213947197095,
          -0.2951401520969776,
          -0.3153045597709412,
          -0.0359471007937755,
          -0.2534388920014088,
          -0.2618869039065348,
          -0.13377345962144666,
          -0.13842600980178038,
          -0.35666594182479505,
          -0.3537086384368776,
          -0.15807565338924826,
          0.009170982335233372,
          -0.31373661710619694,
          -0.2977771688545014,
          0.09746466956411155,
          -0.07634400024988201,
          -0.14274334239914355,
          -0.29801976969486976,
          0.20760424774300207,
          0.012710195059110278,
          -0.2939976277913926,
          -0.10711372993148635,
          -0.1924843296921228,
          0.1147573890130634,
          -0.003975494081010553,
          -0.18205528945396485,
          -0.31593453119661147,
          0.2177742055930616,
          -0.27955287145262003,
          -0.21901503949475531,
          -0.2944371970156874,
          -0.23726073103074513,
          -0.2938481788259037,
          -0.2582624785303457,
          -0.29680346534215074,
          -0.3212417615134148,
          -0.28964818092101824,
          -0.1579674923084539,
          -0.08576171828935318,
          -0.22568040651348842,
          -0.22709896386080738,
          2.25696517925054,
          0.17152634779061765,
          -0.10100989974085008,
          -0.26901417886080026,
          -0.23682433151036453,
          -0.15487144589518384,
          -0.3459306256195166,
          -0.19176154450799665,
          -0.3026520523913441,
          -0.04257638276700965,
          1.4285198548437719,
          -0.27082700887868705,
          -0.2840017287473548,
          -0.21880889629658723,
          -0.21879737674361527,
          -0.33078431334294034,
          -0.351734346003589,
          -0.0324179657186193,
          0.1100146385457437,
          0.9607288538042206,
          -0.37006865024368035,
          -0.12694691424198404,
          -0.3624004580717292,
          -0.25022065816907,
          -0.3566301524054605,
          -0.36580073702878774,
          -0.12122098277128361,
          -0.25990421042540535,
          0.40614502177866324,
          -0.1422295861998065,
          -0.25070382504687544,
          -0.34056950377528505,
          -0.28403105074143276,
          -0.2995361568129193,
          -0.32430932276298796,
          -0.21808374389193233,
          -0.12705484208035434,
          -0.34922705855854463,
          0.1513120950288295,
          -0.33861905794314506,
          -0.30323902179313755,
          -0.31571456329008113,
          -0.3807094878825416,
          -0.3526640456751509,
          4.165337987898226,
          0.1458284535410444,
          -0.24454685218562003,
          -0.09848492135598662,
          -0.32576484675353196,
          0.26963250830154495,
          -0.014495425398314962,
          -0.25652368513342916,
          -0.14040663819184887,
          -0.18449292445115859,
          -0.29048645571804865,
          -0.15460076287336974,
          -0.20247627801853307,
          -0.2734128603757132,
          -0.23606262527811658,
          -0.32506842194354074,
          0.3909195616523551,
          -0.29223741916133333,
          -0.2954065277166719,
          -0.20900936639470702,
          -0.13220662322116492,
          -0.26652322423832225,
          -0.34688811327647534,
          -0.3497358577417095,
          -0.19423066986347973,
          -0.296810916994255,
          -0.0969506277675594,
          -0.30379258718002394,
          -0.16634347031888438,
          -0.21064550969561935,
          -0.35181668930376103,
          0.8043583713505646,
          -0.5002680438000915,
          -0.35110083528110403,
          -0.10453410155447075,
          -0.1542901217965805,
          -0.20672985906956923,
          -0.2186830003186944,
          -0.06573946757187403,
          -0.2792773016587657,
          -0.07493312005534455,
          -0.10318363271695145,
          -0.3591833851552323,
          -0.3120203917976229,
          -0.404314196828958,
          -0.19336651997967566,
          0.08825945477308063,
          -0.3096050194294752,
          0.052298299388962625,
          -0.26523825900154946,
          -0.2534570802316283,
          -0.29045182310438156,
          -0.3529657194227062,
          -0.3449748691018311,
          -0.29921636521056694,
          -0.031110704993238182,
          -0.1909960539366492,
          -0.128731774247806,
          -0.04129129996439513,
          -0.3388218003124905,
          3.789032541212924,
          -0.21905097784689886,
          -0.32313530865274476,
          -0.03849927604667382,
          -0.028046135245554195,
          -0.1868473924044159,
          -0.33101089221273844,
          -0.23033362480157935,
          -0.05427920284029305,
          -0.29854811608052567,
          -0.2014106308660453,
          -0.19097518775859798,
          -0.14553305601148028,
          -0.03163632058529938,
          0.13935395479321286,
          0.6126843702530758,
          -0.19126082543819944,
          -0.1923205151680873,
          -0.059743584558616177,
          -0.1576094391729743,
          0.05746733688914988,
          -0.3182343066324887,
          -0.2566943130596845,
          1.135433512991914,
          -0.17658767270067072,
          0.01061781812767169,
          2.231161673430388,
          -0.2755280828063477,
          -0.22831162911737551,
          -0.2654613017739059,
          -0.3353788295809438,
          -0.1789498259752559,
          -0.33606126873401854,
          -0.19277974337634118,
          -0.26128858633758445,
          -0.1321931702404154,
          -0.29374844319004656,
          -0.1580228492389725,
          -0.15918084933298834,
          -0.20643856025077278,
          -0.3412761307064134,
          1.7832256683168042,
          -0.18973047220946992,
          -0.3252235144112283,
          -0.19421691740190647,
          -0.130797211187571,
          -0.08856848291228996,
          0.07467902732988363,
          -0.14810797048000054,
          -0.27771250634093353,
          -0.33322952720364385,
          0.25336198028189116,
          -0.20408843107984576,
          0.18424981797483742,
          -0.24211865942257563,
          -0.2684869222215676,
          -0.21215847537097068,
          -0.15487147900678688,
          -0.8670080700352865,
          0.1449443254080775,
          -0.003711561078691106,
          -0.280032280826893,
          -0.34770076440744596,
          -0.3463192894987575,
          -0.18739785340271808,
          -0.2318315356648907,
          -0.2951793813742023,
          -0.2994001799885531,
          -0.3105363181761078,
          -0.3373171317027662,
          -0.3072806917304864,
          -0.1815259050386286,
          0.13082777890606653,
          -0.13376383828277202,
          -0.18899902147124992,
          -0.31824564330743654,
          -0.18611324562955722,
          0.009949347944099468,
          -0.3512238404713975,
          -0.1562330210465875,
          -0.17010493527837559,
          -0.07345974441206991,
          -0.33890515369055174,
          4.1544259158292265,
          -0.11328028374409888,
          -0.2957843560494303,
          -0.1432742698140127,
          -0.30501947567993937,
          -0.33962099502748344,
          -0.3463416971091642,
          -0.3515757512526082,
          -0.08378098700553686,
          -0.14554961957161244,
          -0.1350374472357287,
          -0.11540251017131954,
          -0.3263739659096,
          0.1331741275702695,
          -0.15299203307748022,
          -0.15890185047482136,
          -0.32486658540747965,
          0.09747432686995815,
          -0.3298044866638453,
          -0.22258392910366084,
          -0.3432544556698134,
          -0.3440346025529934,
          -0.04106338634486301,
          -0.3106559749992563,
          -0.2981298135172358,
          -0.27727976248249864,
          -0.18722878431661882,
          6.0981773481214905,
          -0.032603295951401386,
          -0.2947384532085834,
          -0.4390529330146777,
          0.600358952242365,
          -0.10733597767970673,
          -0.2241694815780361,
          -0.15421794485700013,
          4.167074848321415,
          -0.3127698249935594,
          4.16817143742813,
          0.06841798543847723,
          -0.19889214119827084,
          -0.03917125115577386,
          0.10379973339153532,
          2.830468560407263,
          -0.33900515828141536,
          -0.019238211130222744,
          -0.2600108763439112,
          -0.22219066785340558
         ],
         "y": [
          -0.21494565364543042,
          -0.21658806203482953,
          -0.11610241333566429,
          -0.1576207598533348,
          -0.21467425873854504,
          -0.2684009181585431,
          -0.11118268890001257,
          -0.28261600490754374,
          -0.2174949844939972,
          -0.1801145734035449,
          -0.19256402777860582,
          -0.13970981308221336,
          -0.1021958995194224,
          0.09159464829647361,
          -0.2357002154204909,
          -0.07827661834471955,
          -0.12699817568299065,
          -0.2700689807053417,
          -0.21810577191771366,
          -0.18750839822995172,
          -0.12758931476208957,
          -0.28232107546912594,
          -0.16078924623810387,
          -0.2811929931992701,
          -0.2324626515925284,
          -0.18718591164580214,
          -0.018874927628612564,
          -0.2610623028480438,
          -0.2882266953366561,
          -0.21700719990969927,
          -0.2817718343665325,
          -0.17425799782595133,
          -0.2859095970156815,
          -0.2633232355664447,
          -0.24018092562763488,
          -0.2596054386344224,
          -0.1107207286558693,
          -0.1694546678241043,
          -0.2931074019817579,
          -0.28178045135509056,
          -0.27771738579011335,
          -0.2785645553987786,
          0.1984021350755786,
          -0.1627207940876142,
          -0.28615840772737816,
          -0.16518656732114306,
          -0.28393945173150664,
          -0.2730713248137653,
          -0.28342959683669905,
          -0.16514942684902265,
          0.021313890466631808,
          -0.36912487366650804,
          -0.11118811419808279,
          -0.1576227501658201,
          -0.28390733053674794,
          -0.19610851444548802,
          -0.2795242203633448,
          -0.30948575611473633,
          -0.25947645691725535,
          -0.10437057732943068,
          -0.060137487153948434,
          -0.23821510133490492,
          -0.09717135081823071,
          0.014744211310739224,
          -0.09579608656672152,
          -0.2840101391740453,
          -0.15761875153901853,
          -0.2849901674224796,
          -0.09576403011710521,
          -0.11414431230833287,
          -0.2043014983746653,
          -0.2229071133719361,
          -0.20556004472720366,
          -0.23569727974360957,
          -0.28112707746964244,
          -0.2860259582351289,
          0.022338456287549796,
          -0.10921401747253151,
          -0.1598930211932422,
          0.061238042717583305,
          -0.16163772861955825,
          0.25104295229981494,
          -0.1189288892803326,
          -0.18137977088216556,
          -0.05603048873020075,
          -0.1579632024192893,
          -0.16818228965937085,
          -0.22114550100100377,
          -0.18231137145949608,
          -0.35641472373461835,
          -0.1701325074198793,
          -0.07921908812037434,
          -0.2838872895901569,
          -0.11674643568931799,
          0.05639691682666603,
          -0.11398387722990198,
          -0.0957753201200283,
          -0.18522714623454462,
          -0.31614231359528305,
          -0.20751537185129182,
          -0.028311321198819683,
          0.12806004152226072,
          -0.2824945295800581,
          -0.09251609108384459,
          -0.17981181110957706,
          -0.2819053730209193,
          -0.0467519302455228,
          -0.28443268165610014,
          -0.09441478545758639,
          -0.288204704557238,
          -0.03924086863982201,
          -0.2755498337410104,
          -0.1871093782332771,
          -0.09668368336189292,
          -0.23581110003514202,
          -0.1819967212605097,
          0.06355905119649559,
          -0.1341330271395618,
          -0.11134230497363722,
          -0.28377145025730915,
          -0.1459253866506042,
          -0.27903342391495095,
          -0.6166648201781691,
          -0.28389116374331536,
          -0.15761732039300272,
          -0.36937033721368595,
          -0.11800421478409268,
          -0.9077435190869793,
          -0.19151696673249952,
          -0.18798198121762502,
          -0.15938406767758462,
          0.09693249491005937,
          -0.16660137735780364,
          -0.09924319993969308,
          -0.2812694835026373,
          -0.28115942885348993,
          -0.04196905967620537,
          -0.27417122860619253,
          -0.06001829201315655,
          -0.2450041312616979,
          -0.10707399316944038,
          -0.05773718335139518,
          -0.18084927174592402,
          -0.1576226923403317,
          -0.10445195486751618,
          -0.24023605228273553,
          -0.7614587749492377,
          -0.10219739804397054,
          -0.12371097799915001,
          -0.268405196186489,
          -0.11797226482092636,
          -0.17920568796317526,
          -0.10751440087422723,
          -0.20927983976356795,
          0.007946390473857558,
          -0.19928444115304386,
          -0.08937035009763004,
          -0.2802689591839063,
          0.5273806609959305,
          -0.11110468881192344,
          -0.027911654188680718,
          -0.11682849745639891,
          -0.20926110940399606,
          0.23958349356433772,
          -0.19610048596452487,
          -0.11380024407679089,
          -0.11371891527573431,
          -0.09347594550786247,
          -0.09533063241947021,
          -0.06798752731178244,
          -0.1146410801362241,
          -0.2861002276688538,
          0.486339374179634,
          -0.18005488709321937,
          -0.2238888634016728,
          -0.18234269404976508,
          0.08226069456819171,
          -0.11379251730228188,
          0.11674738677353616,
          -0.013444539325281597,
          -0.08226235633556493,
          -0.15389406409621814,
          -0.16525303255767398,
          -0.10743158330868448,
          -0.1590615778882788,
          -0.13347464203892392,
          -0.1855199421740649,
          -0.1084281164625214,
          -0.18710967534628464,
          -0.1997155681828362,
          -0.04684156750526635,
          -0.1626384490571251,
          -0.7005665635240069,
          -0.1959553385877204,
          -0.020093883902655246,
          0.413668348788186,
          -0.1871295541304835,
          -0.11474872880605921,
          -0.23593807977274528,
          0.40760481614091804,
          0.14544635984337703,
          -0.11425181723417886,
          0.41025482298028504,
          -0.004331237088267704,
          -0.27688691684434114,
          -0.18011345965383282,
          -0.2968883305802594,
          -0.07667642518201079,
          -0.27625516938696454,
          -0.1610962900056249,
          -0.18119438825555118,
          -0.12085169207787624,
          0.23412494112228036,
          -0.22567265392583277,
          -0.20927571763540304,
          -0.1744696327299979,
          0.23958349356433772,
          -0.12459833641886009,
          -0.06783878911673784,
          -0.21043635250202114,
          0.7176234237919633,
          -0.22335707195099289,
          -0.21858162380157606,
          -0.1427291322115974,
          -0.16273386135432183,
          -0.2040171664467784,
          -0.015025069294473026,
          -0.22110310095645155,
          -0.21729591323820047,
          0.17594604340188108,
          0.05517578361091227,
          -0.28994622701734135,
          -0.10993939273433928,
          -0.18345769194679737,
          -0.17951966264031183,
          -0.10743279848398922,
          -0.1072820015763483,
          -0.14592552323693722,
          -0.17670804060188186,
          -0.21809577967424612,
          -0.40941647357666217,
          0.029185384542028837,
          -0.39233172553359535,
          -0.28845144226627045,
          0.14232630444819142,
          -0.16622619975132,
          -0.20745079178812442,
          -0.18576341200183596,
          -0.2826209652682613,
          -0.17731398118935618,
          0.006432512938087502,
          -0.2568491628123441,
          -0.11318284526500752,
          -0.5451186613867665,
          -0.21338351806051814,
          -0.26627697459696886,
          0.40844668731618006,
          -0.11318810625698483,
          -0.1683728211863394,
          0.2570834615670879,
          -0.11047596399558393,
          -0.2239816450380522,
          -0.2205707455243393,
          -0.1851343140051934,
          0.1380901152580949,
          -0.12581846654689124,
          -0.2779203489512471,
          -0.03935524408468485,
          -0.16191404843503868,
          0.23973692285820314,
          -0.2228681322086452,
          -0.09460073085786379,
          0.13680990410791036,
          -0.2804543630037065,
          0.22279233611053556,
          -0.3183948648112588,
          -0.1688454015859808,
          -0.18083486468131665,
          -0.28860297511569255,
          -0.08597171324864869,
          -0.15789694670015236,
          -0.10210391327776058,
          -0.1633749451043157,
          -0.07920096503443914,
          -0.11289303549873393,
          -0.2838911770930105,
          -0.05442949485907117,
          -0.28290746565296726,
          -0.1747891753282468,
          -0.1739004404567612,
          -0.22004443308041266,
          -0.12309863538087784,
          -0.08624575771126922,
          -0.17934802723017734,
          -0.4386429499333141,
          0.44591274923980656,
          1.0120963118948618,
          -0.1298953879013809,
          -0.11291854398459036,
          -0.15762080291438385,
          -0.11259038443580001,
          0.011185696766250445,
          -0.2745437220347278,
          0.4091655691210376,
          -0.3272969366273434,
          -0.19610245806202203,
          -0.2683722260696113,
          -0.23247856877026227,
          -0.2324792421127852,
          -0.2041323728711315,
          -0.22331470299550887,
          -0.14484883087459297,
          -0.1843945545360426,
          -0.25250545728278734,
          -0.11638915840730253,
          -0.18341883140482168,
          -0.061461129308162304,
          -0.1793079528089683,
          -0.21647857029946938,
          -0.16883880087732658,
          0.47225400686952607,
          -0.18012075379874498,
          -0.2643623604301788,
          -0.1042505822110665,
          -0.0752360471122607,
          -0.0399207756712907,
          -0.07119255271982979,
          -0.18551967009028275,
          0.011433118582411535,
          -0.23252095548013238,
          0.10925987743128057,
          -0.2223483058186047,
          0.12935914238820598,
          -0.16161393796363607,
          -0.1252184594796275,
          -0.2809181243143299,
          -0.17616361020551877,
          -0.134930743671974,
          -0.2291691732035897,
          -0.1130771118321898,
          -0.09868716269160871,
          -0.09784268715223547,
          -0.18999545821080102,
          -0.1661200689317562,
          -0.1040763055774217,
          -0.2537792316954761,
          0.14283159644046942,
          0.15536108511951757,
          -0.1772478746827166,
          -0.4206689090988038,
          -0.2174427993073576,
          -0.20253180159837997,
          -0.28435572573881324,
          -0.08228099346039817,
          -0.16150128550559062,
          -0.17631807303402686,
          -0.1688696554027761,
          0.1361794159121147,
          -0.16303967425996554,
          -0.27008992583166386,
          -0.22572367118422937,
          -0.2185986471867248,
          0.023957735659757482,
          -0.2873002961796315,
          -0.15856367979837344,
          -0.5310787036062039,
          0.2724035866591239,
          0.02308570125971731,
          -0.06495604872635033,
          -0.1980806921763196,
          -0.5855329287492124,
          -0.22223567799326527,
          -0.1590080566986548,
          -0.28242574398038506,
          -0.12594399352300228,
          -0.010154344090092348,
          0.14226504692888126,
          -0.2450989524338703,
          -0.29453219020305194,
          -0.16071064735614268,
          -0.6434448301653899,
          -0.06361474675817905,
          -0.217947948236484,
          0.009912841965837152,
          0.11236784315548229,
          -0.2751159220724944,
          -0.16239931185657108,
          -0.2356991466161329,
          -0.05210917864738255,
          -0.06543453818885714,
          -0.2025799526853754,
          -0.21183455582569002,
          -0.21748824325416452,
          -0.0392991847101349,
          -0.23437599305881432,
          0.11567959699447854,
          0.4099089207022583,
          -0.1457762912121439,
          -0.2487569465633609,
          -0.16337284443072525,
          0.011364494945290843,
          0.3015692977826081,
          -0.14952122770725187,
          0.11332315293364713,
          -0.2228382613555637,
          -0.14977795347295433,
          -0.18567594422407901,
          -0.19101288728265334,
          -0.39788371260081146,
          0.009463394867708638,
          -0.21165076403075395,
          -0.1438879735155642,
          -0.2080912026900921,
          -0.18775518830449445,
          -0.2305135722655707,
          0.016149418339322933,
          -0.1458830876777413,
          -0.03994440466848583,
          -0.16270145316013931,
          -0.21819656763323356,
          0.08865771585372532,
          -0.5068931058188396,
          0.272377991347292,
          0.1303851907214204,
          0.06666590527377142,
          -0.08724988643989193,
          -0.1771327070354743,
          -0.1665945351339103,
          -0.028640112076953706,
          0.11576706498750232,
          0.042471324509377774,
          0.0094588214620348,
          0.10318203936659055,
          0.11896851185537301,
          -0.2849514153041923,
          -0.18513740052077726,
          -0.4135235902015674,
          -0.7295118775129356,
          -0.2643611328447402,
          -0.2869664119100332,
          0.09828028791398684,
          -0.08227192797376576,
          0.012169931938282386,
          0.195582685802898,
          -0.2219324756660929,
          0.22478778611108652,
          0.027196238633024686,
          -0.11379480708327144,
          -0.2262495658917697,
          -0.3676339985511499,
          -0.11764382155036857,
          0.14358018625226676,
          -0.20961003267589018,
          -0.035236366071164864,
          -0.23378177631869146,
          -0.15762080097893982,
          -0.9550026940912776,
          0.011538227721827516,
          -0.14756551240672588,
          0.015019186358573527,
          -0.36373807338722997,
          -0.3619797455160352,
          -0.02690287791418755,
          -0.18469905222362595,
          -0.21529371747976903,
          -0.1855276182266558,
          -0.2057838733642992,
          0.04729614909721809,
          -0.2089676822170721,
          0.2700368872537889,
          -0.24772427440838696,
          -0.10651773266304834,
          0.11346657331998165,
          -0.2181959049803225,
          -0.20387776853946982,
          0.3783631102297269,
          -0.13506585587550715,
          -0.1920071041164603,
          -0.15751272516128506,
          -0.14816206327771084,
          -0.07667984487395173,
          -0.23524667881188852,
          -0.2369528281623012,
          -0.2849162471439817,
          -0.11815594126281179,
          -0.20181206842485028,
          -0.14946598291563715,
          -0.3566268862894121,
          -0.22311627715082857,
          0.03293966129231696,
          -0.18711451635512638,
          -0.11067403272905545,
          -0.23580334154798788,
          -0.22498243442329766,
          -0.10676067578123398,
          -0.11633988833643748,
          -0.18137980331774425,
          -0.12537494112502817,
          -0.2831502450556716,
          -0.12843252493916732,
          -0.2657489671565702,
          -0.1169379072659559,
          -0.2253409458518675,
          0.4087310536214934,
          -0.26201525962969285,
          -0.2825765188467761,
          -0.7624713793796202,
          -0.1448145822839118,
          -0.3019144326239545,
          0.005575930771738789,
          -0.21892717846666587,
          -0.11169689329611389,
          1.9974679466584957,
          -0.09909969083403905,
          -0.09159729104376704,
          -0.32032842227726904,
          -0.23723406485235132,
          -0.27768557375566166,
          -0.2372981628323273,
          0.03269733088296458,
          -0.290266637838695,
          0.41399393210865415,
          0.2288006282401032,
          -0.18889935476141034,
          -0.23094296619322396,
          -0.1443325156372908,
          -0.18011451894754452,
          -0.03388379018981257
         ],
         "z": [
          -0.061645303531036776,
          -0.06196033949373832,
          -0.13951888237895008,
          0.08502060312439347,
          0.0038947486479876245,
          0.029545253692856748,
          0.0387150447209163,
          0.0507276621778578,
          0.016219722034681187,
          0.09472996509678627,
          -0.08611303242400731,
          0.07581891125141983,
          0.026558242412323733,
          0.026608673955955047,
          0.048770231715625785,
          -0.5113681000265571,
          0.07096966341110794,
          0.03833750477300133,
          -0.058518409900502395,
          -0.05287747152705457,
          0.02831339405918388,
          0.019965393830666048,
          0.0907231301383773,
          0.015375157269628681,
          -0.0010347542539017541,
          -0.05222067580114779,
          0.0851648950639707,
          0.06255693432834929,
          0.020838664048515636,
          -0.06544973759036568,
          0.021716334090727887,
          -0.05409142324398338,
          0.019875809038480945,
          0.16575695715195865,
          0.016659031351922524,
          0.017300002902397485,
          0.07640374930118667,
          0.060982606416223585,
          -0.003144047026376858,
          0.021698784209482215,
          0.009043689074878958,
          0.013058247450889295,
          -0.049592310255938944,
          -0.04770320996982203,
          0.025650315297108373,
          0.23300275522577574,
          0.011920588713777156,
          0.03358606386317125,
          0.023015490311728205,
          -0.023734174824353353,
          0.0042602133091086455,
          -0.15942896469725407,
          0.03870399522999311,
          0.08501654953333733,
          0.019447981616056605,
          0.02252649665432144,
          0.018756656215814696,
          -0.0543669269097458,
          0.02117356306229691,
          0.08723443486119423,
          -0.0693174612803561,
          0.030658745460001195,
          0.013255216314344478,
          -0.04008167810258094,
          -0.06723288346360204,
          0.018444189753068736,
          0.08502469337907133,
          0.024114559701476003,
          -0.06716759535510208,
          0.22898748503751443,
          -0.03376799662928036,
          -0.05110117076056184,
          -0.08964254904569326,
          0.04877621069311863,
          0.015509405240296176,
          0.025266865673747935,
          0.006346906167553727,
          0.04555425609383729,
          0.0961338661348976,
          -0.003117972203976446,
          0.09482147230930951,
          0.37640363282335254,
          0.025407440236321303,
          0.05745902708654271,
          0.05246780052905611,
          0.08461827503429863,
          0.05005781128876718,
          -0.056926381856216596,
          -0.05477931415287334,
          0.06397794760962992,
          -0.04232506584131188,
          -0.002573965229648973,
          0.019488798222734634,
          0.04024915848678826,
          -0.0004912802727416166,
          0.09427932330525214,
          -0.06719058925943748,
          -0.004192178950703272,
          -0.3041432997234279,
          0.02602447856393067,
          -0.07973751845451323,
          0.00042030170407148106,
          0.019045462872663427,
          0.01677588387687434,
          -0.019136723803882136,
          0.019708904195935715,
          -0.04205562466931192,
          0.02497630920164535,
          -0.07196145826729117,
          0.025287055445826545,
          -0.02445828837377639,
          0.007092865495177152,
          -0.052064803213864266,
          -0.03811775171980272,
          0.04867117152890976,
          0.10350175515541618,
          0.02733305756857345,
          0.043200891604781876,
          -0.009193127846391612,
          0.03021606118663025,
          -0.03115320036596788,
          0.009476279509184749,
          -0.03047539291419215,
          0.01973531892230658,
          0.08502760813780126,
          -0.08069246745494363,
          -0.003632176813890799,
          -0.023352331181949983,
          0.08113701954706924,
          0.10363156291138002,
          0.08861778739527122,
          -0.5472470326808861,
          0.0971899754500248,
          0.06682669083103113,
          0.00832540219455359,
          0.01544351645086228,
          -0.04480096291986368,
          0.005670366919221181,
          -0.030592426761853562,
          0.08094142579280462,
          0.03220828924981278,
          -0.73065942789988,
          0.1128251775023289,
          0.08501666730423194,
          -0.05062811640535436,
          0.013689723519422438,
          0.0006574378209200342,
          0.02655519042639109,
          0.016201550753360282,
          0.029536540801812994,
          0.04018737649063191,
          0.054134229087705196,
          -0.03165559141906262,
          -0.03247866071214943,
          -0.034256383926227846,
          0.07800092196742942,
          0.0896484390412663,
          0.016626485295960076,
          -0.26627240636821103,
          0.036981938504600104,
          -0.1071680181117304,
          0.016384559142563284,
          0.08904372105628292,
          -0.02868607012672038,
          0.022542847945324632,
          0.09098981142070113,
          0.03918106562317128,
          0.012007801138164876,
          0.018593266367615876,
          -0.12017077428241806,
          0.04504188411803011,
          0.019231790803108783,
          -0.06291761330786362,
          -0.06591201776897807,
          -0.057271339841837035,
          -0.05484310763894144,
          -0.022756997985416985,
          0.09100554823805115,
          0.05698132642139692,
          0.09358915132953284,
          0.032935090237948654,
          -0.15343449059973682,
          0.050147916487624455,
          0.031353225354545614,
          0.09644962246616064,
          0.015465364088103886,
          -0.004915279051090752,
          0.10089574009892945,
          -0.05206540833222631,
          0.035832323048931074,
          -0.042238185346175,
          0.09318350852321944,
          0.23597064178796848,
          0.0169303244584429,
          -0.14259039815250346,
          -0.06606208846179397,
          -0.052105894669145884,
          0.03874211904730474,
          0.14579318279625825,
          -0.0653518392595003,
          -0.06624494485153144,
          -0.08058195154892737,
          -0.06404590205044292,
          -0.11059089533758919,
          0.011487948650704497,
          0.09473223342696335,
          -0.9482901962026866,
          0.01166415436405673,
          0.015134641094288368,
          0.0667894406463666,
          -0.2620569744512834,
          0.04665792447329562,
          -0.013063846480584165,
          -0.0553384941045382,
          -0.03247026533605209,
          0.11566126428451914,
          -0.02868607012672038,
          0.09644634919373377,
          0.005111716805137898,
          -0.02096990695722128,
          -0.13739834782524454,
          -0.05303186976444091,
          -0.05555183965398944,
          0.011883077707633673,
          0.06826813042246793,
          -0.03485982468505522,
          -0.10735630544193041,
          -0.04999946765973164,
          -0.05869403637088851,
          -0.0028563801198351643,
          -0.09478166265885418,
          0.019585118242225627,
          0.06205439274048887,
          0.10583204194659826,
          -0.034307275439985664,
          0.03135075045485791,
          0.04277529591355081,
          -0.031153478545973518,
          0.1173857575161619,
          -0.056270243936126646,
          0.1043843276157457,
          -0.013930177499864629,
          0.34028642785377355,
          0.02307482106361644,
          -0.06120023253677759,
          0.09808085904719634,
          0.09497810551551632,
          -0.005284370319953751,
          0.023193540641547734,
          0.09812654487077847,
          -0.04001767282287712,
          -0.24909397559420252,
          -0.006299105769599903,
          -0.6348130551040985,
          0.1663657576336999,
          0.09995734692158151,
          -0.053214819287729295,
          -0.006309820624773953,
          0.07452634510619056,
          -0.004259264271037266,
          0.014000168013332544,
          -0.05469470149237917,
          -0.05964482027457175,
          -0.0040031112050633215,
          0.030917575830790075,
          0.028534885461219576,
          0.0208246517431802,
          -0.05520590410178194,
          0.08831765446302227,
          -0.03428172615927982,
          -0.014730505789188473,
          -0.8119435576710962,
          0.031478152175955405,
          0.023587820994829208,
          -0.05243467858016753,
          0.08802101065007278,
          -0.2026028768545156,
          0.024920970021914117,
          0.3028353866865073,
          0.0343743926672111,
          0.005992082834729614,
          0.010286600776687645,
          0.0473623182411431,
          0.009614928550793489,
          -0.07801292335882645,
          0.0214281955389393,
          -0.051857525565331124,
          0.016677434147824202,
          0.15011034129079065,
          0.1141582821414089,
          -0.10221411909991228,
          0.04543782537998566,
          -0.08663107458604698,
          0.09716124646688028,
          -0.29044971756663474,
          0.12367277957008176,
          -0.5263439946444047,
          0.0760587100812851,
          -0.0780648754874056,
          0.08502051542365162,
          0.044223061279313004,
          -0.040393296960399755,
          0.006660214791093004,
          -0.05573430706414987,
          -0.18169358547847497,
          0.022538831452016777,
          0.02960368974044258,
          -0.0010671721429487205,
          -0.0010685435131478505,
          -0.012490678635456805,
          -0.04623450191238321,
          0.0576687104819847,
          -0.08175548664491214,
          0.4549585863427662,
          0.10464517658216607,
          0.08806397057040986,
          0.1206394605177788,
          0.11567295173130837,
          -0.05500534183772329,
          0.23700221503841531,
          -0.19114310252069683,
          0.09471737772927595,
          -0.15414579522719354,
          -0.018566959700346084,
          0.03942712973359575,
          0.2356670786889981,
          0.19546380845860054,
          -0.004914724908766921,
          0.00893402758581455,
          -0.0011534994856855843,
          0.048115846393605846,
          -0.05579656860979193,
          0.011244986027547138,
          -0.09646276055519795,
          0.18515159701480013,
          0.01850580229776248,
          0.3085869980695792,
          0.013534633321446438,
          -0.6279206069877368,
          -0.013926561508035977,
          -0.055051189903826264,
          0.10472331168223196,
          -0.03987293419751039,
          0.01656701248173261,
          0.053491533178739656,
          0.01712465958171968,
          0.055536548448323515,
          0.00556296995717639,
          0.12272073351837728,
          0.1137700120147102,
          -0.0969154740507728,
          -0.08401192785810074,
          0.020183937303914514,
          0.032897132739760186,
          -0.15306715925168998,
          0.11790439465919564,
          0.17586372550009138,
          0.013068290827556325,
          0.14612488908498328,
          0.03829484665907314,
          -0.05387365883948216,
          -0.060237512441021594,
          0.05355721103062861,
          0.11242944184905644,
          0.09869256269557837,
          0.13635632063256334,
          -0.008732746430439491,
          -0.04890781537277228,
          -0.04739063083040547,
          -0.05587863704647357,
          0.27283902893419226,
          -0.06208999597352068,
          0.1254941593122414,
          0.00256727482682999,
          0.07154826777355441,
          -0.00517668493517231,
          -0.07358583868483803,
          0.033797852944930935,
          -0.007494134027554333,
          0.06757486384335107,
          0.09485083027219479,
          0.03731494031607339,
          0.14117545996472444,
          -0.04019987659546572,
          0.043850866852226014,
          0.009160280413429395,
          0.06907626835058207,
          0.04877240850737079,
          0.07670626062901986,
          0.01782003926134849,
          -0.032967562102746914,
          -0.03655007855996377,
          0.07954058246169111,
          -0.02457705841760385,
          0.10180691499909977,
          0.03534369468398445,
          -0.0641518098451853,
          -0.036757682991156435,
          -0.649553512519599,
          0.04736659660031696,
          0.00879426452659811,
          -0.0350211375273596,
          0.051244523958676985,
          -0.020521488271148202,
          -0.05531661605241268,
          0.08206597485335011,
          0.10476091486205596,
          0.1586859538951267,
          0.24907137515263703,
          -0.044048181433805234,
          0.12040066304164308,
          0.044850957784864545,
          -0.11654760586704924,
          -0.028844645758466042,
          -0.07466482134233822,
          -0.04030678515512927,
          0.10577449138617036,
          -0.07768912175279995,
          0.06846090905640619,
          -0.02409121982816097,
          -0.4563507585231306,
          -0.3728399076275278,
          0.024752237498357664,
          0.03981090289467389,
          -0.3655184252808823,
          -0.07636539768620905,
          0.0929418724510653,
          0.09720391073797084,
          -0.1550754104419406,
          0.03180198168272606,
          0.003866662525334276,
          -0.03914719499682582,
          -0.11998915889073858,
          -0.01807656227707733,
          0.018228790684089908,
          -0.00400939738980126,
          0.10809743629494184,
          0.5366652147199444,
          0.10709457240085996,
          -0.332558410700699,
          0.034481552604878805,
          0.03291559605937139,
          -0.03570090730728623,
          -0.03726473710705193,
          0.07103612075804128,
          -0.003840832572605837,
          0.0037541377813582614,
          0.09100088473128491,
          -0.04715783438933234,
          -0.014991013267125333,
          -0.03596982852370889,
          0.9505806302053854,
          0.09640163688082978,
          0.08771035328235254,
          0.09240061524413318,
          0.08502051936549426,
          0.5194652257553226,
          -0.01564949402221517,
          0.05270012212555079,
          -0.0010897557209022853,
          0.3228211773976688,
          0.31624875727752816,
          0.04128354727260768,
          0.0941542650936926,
          0.030024620318665925,
          -0.0049309125651077305,
          0.09399584652724159,
          -0.0010039087712470126,
          0.0969678297606246,
          0.025383109521158933,
          -0.11681378512770146,
          -0.01185353380277623,
          0.06159848189880558,
          -0.024089870229073357,
          0.058622979914177246,
          0.014844460611756793,
          0.014930371313304061,
          0.07455207376900533,
          -0.006341004945206667,
          0.09180834729896067,
          0.011657189612153455,
          -0.5985591197624549,
          -0.08220387902342088,
          0.01771292924119319,
          -0.003941192157870015,
          0.2222328066819012,
          -0.0177120226546936,
          0.32299538814305234,
          -0.05473656970097415,
          0.041390502917965165,
          -0.05207526782428761,
          0.013596769224130247,
          0.048686972934155,
          -0.048285959641789986,
          -0.016562342189398286,
          0.043796647794856,
          0.05745896102627715,
          -0.03964284121556225,
          -0.07485354403410557,
          -0.006740867613945725,
          0.07188689533553916,
          0.046087343893844605,
          -0.0465343669556077,
          -0.06198161272505062,
          0.0171345553070923,
          0.022769961004758265,
          0.6579763174922781,
          0.021467104617862883,
          -0.9489208436168766,
          -0.059564943197434314,
          -0.014962708551623415,
          0.2298290671624651,
          0.42136277860240623,
          0.10764387852746557,
          -0.08219335769504561,
          0.06265173883711159,
          -0.6466459071212762,
          0.010163773898518634,
          -0.6467764529528129,
          0.04102373225772271,
          -0.0546149226407785,
          -0.06499293503531496,
          0.0018407983264610403,
          -0.4068277467097859,
          -0.038168288761883065,
          0.04491328437470226,
          0.09473007600517752,
          -0.04404811098358717
         ]
        },
        {
         "customdata": [
          [
           "VeChainThor Authority"
          ],
          [
           "Proof-of-Authority"
          ]
         ],
         "hovertemplate": "<b>%{hovertext}</b><br><br>Class=%{marker.color}<br>PC 1=%{x}<br>PC 2=%{y}<br>PC 3=%{z}<br>Algorithm=%{customdata[0]}<extra></extra>",
         "hovertext": [
          "Vechain",
          "Poa Network"
         ],
         "legendgroup": "3",
         "marker": {
          "color": [
           3,
           3
          ],
          "coloraxis": "coloraxis",
          "symbol": "diamond"
         },
         "mode": "markers",
         "name": "3",
         "scene": "scene",
         "showlegend": true,
         "type": "scatter3d",
         "x": [
          13.121250371218865,
          -1.8422663026250172
         ],
         "y": [
          9.368130235908293,
          25.305314389840902
         ],
         "z": [
          18.907157363048203,
          22.09043555481779
         ]
        },
        {
         "customdata": [
          [
           "Proof-of-BibleHash"
          ],
          [
           "SHA-256 + Hive"
          ]
         ],
         "hovertemplate": "<b>%{hovertext}</b><br><br>Class=%{marker.color}<br>PC 1=%{x}<br>PC 2=%{y}<br>PC 3=%{z}<br>Algorithm=%{customdata[0]}<extra></extra>",
         "hovertext": [
          "BiblePay",
          "LitecoinCash"
         ],
         "legendgroup": "1",
         "marker": {
          "color": [
           1,
           1
          ],
          "coloraxis": "coloraxis",
          "symbol": "square"
         },
         "mode": "markers",
         "name": "1",
         "scene": "scene",
         "showlegend": true,
         "type": "scatter3d",
         "x": [
          -0.07480045549123254,
          -0.07343815057969408
         ],
         "y": [
          11.600204161466666,
          26.47900487673873
         ],
         "z": [
          -16.811059317296372,
          -20.78768441027005
         ]
        },
        {
         "customdata": [
          [
           "TRC10"
          ]
         ],
         "hovertemplate": "<b>%{hovertext}</b><br><br>Class=%{marker.color}<br>PC 1=%{x}<br>PC 2=%{y}<br>PC 3=%{z}<br>Algorithm=%{customdata[0]}<extra></extra>",
         "hovertext": [
          "BitTorrent"
         ],
         "legendgroup": "2",
         "marker": {
          "color": [
           2
          ],
          "coloraxis": "coloraxis",
          "symbol": "x"
         },
         "mode": "markers",
         "name": "2",
         "scene": "scene",
         "showlegend": true,
         "type": "scatter3d",
         "x": [
          35.75546320719786
         ],
         "y": [
          -2.2154934198270837
         ],
         "z": [
          -4.988199996687707
         ]
        }
       ],
       "layout": {
        "autosize": true,
        "coloraxis": {
         "colorbar": {
          "title": {
           "text": "Class"
          }
         },
         "colorscale": [
          [
           0,
           "#0d0887"
          ],
          [
           0.1111111111111111,
           "#46039f"
          ],
          [
           0.2222222222222222,
           "#7201a8"
          ],
          [
           0.3333333333333333,
           "#9c179e"
          ],
          [
           0.4444444444444444,
           "#bd3786"
          ],
          [
           0.5555555555555556,
           "#d8576b"
          ],
          [
           0.6666666666666666,
           "#ed7953"
          ],
          [
           0.7777777777777778,
           "#fb9f3a"
          ],
          [
           0.8888888888888888,
           "#fdca26"
          ],
          [
           1,
           "#f0f921"
          ]
         ]
        },
        "legend": {
         "title": {
          "text": "Class"
         },
         "tracegroupgap": 0,
         "x": 0,
         "y": 1
        },
        "scene": {
         "aspectmode": "auto",
         "aspectratio": {
          "x": 1.047360736744644,
          "y": 0.7993432387601291,
          "z": 1.1944566840166935
         },
         "domain": {
          "x": [
           0,
           1
          ],
          "y": [
           0,
           1
          ]
         },
         "xaxis": {
          "title": {
           "text": "PC 1"
          },
          "type": "linear"
         },
         "yaxis": {
          "title": {
           "text": "PC 2"
          },
          "type": "linear"
         },
         "zaxis": {
          "title": {
           "text": "PC 3"
          },
          "type": "linear"
         }
        },
        "template": {
         "data": {
          "bar": [
           {
            "error_x": {
             "color": "#2a3f5f"
            },
            "error_y": {
             "color": "#2a3f5f"
            },
            "marker": {
             "line": {
              "color": "#E5ECF6",
              "width": 0.5
             },
             "pattern": {
              "fillmode": "overlay",
              "size": 10,
              "solidity": 0.2
             }
            },
            "type": "bar"
           }
          ],
          "barpolar": [
           {
            "marker": {
             "line": {
              "color": "#E5ECF6",
              "width": 0.5
             },
             "pattern": {
              "fillmode": "overlay",
              "size": 10,
              "solidity": 0.2
             }
            },
            "type": "barpolar"
           }
          ],
          "carpet": [
           {
            "aaxis": {
             "endlinecolor": "#2a3f5f",
             "gridcolor": "white",
             "linecolor": "white",
             "minorgridcolor": "white",
             "startlinecolor": "#2a3f5f"
            },
            "baxis": {
             "endlinecolor": "#2a3f5f",
             "gridcolor": "white",
             "linecolor": "white",
             "minorgridcolor": "white",
             "startlinecolor": "#2a3f5f"
            },
            "type": "carpet"
           }
          ],
          "choropleth": [
           {
            "colorbar": {
             "outlinewidth": 0,
             "ticks": ""
            },
            "type": "choropleth"
           }
          ],
          "contour": [
           {
            "colorbar": {
             "outlinewidth": 0,
             "ticks": ""
            },
            "colorscale": [
             [
              0,
              "#0d0887"
             ],
             [
              0.1111111111111111,
              "#46039f"
             ],
             [
              0.2222222222222222,
              "#7201a8"
             ],
             [
              0.3333333333333333,
              "#9c179e"
             ],
             [
              0.4444444444444444,
              "#bd3786"
             ],
             [
              0.5555555555555556,
              "#d8576b"
             ],
             [
              0.6666666666666666,
              "#ed7953"
             ],
             [
              0.7777777777777778,
              "#fb9f3a"
             ],
             [
              0.8888888888888888,
              "#fdca26"
             ],
             [
              1,
              "#f0f921"
             ]
            ],
            "type": "contour"
           }
          ],
          "contourcarpet": [
           {
            "colorbar": {
             "outlinewidth": 0,
             "ticks": ""
            },
            "type": "contourcarpet"
           }
          ],
          "heatmap": [
           {
            "colorbar": {
             "outlinewidth": 0,
             "ticks": ""
            },
            "colorscale": [
             [
              0,
              "#0d0887"
             ],
             [
              0.1111111111111111,
              "#46039f"
             ],
             [
              0.2222222222222222,
              "#7201a8"
             ],
             [
              0.3333333333333333,
              "#9c179e"
             ],
             [
              0.4444444444444444,
              "#bd3786"
             ],
             [
              0.5555555555555556,
              "#d8576b"
             ],
             [
              0.6666666666666666,
              "#ed7953"
             ],
             [
              0.7777777777777778,
              "#fb9f3a"
             ],
             [
              0.8888888888888888,
              "#fdca26"
             ],
             [
              1,
              "#f0f921"
             ]
            ],
            "type": "heatmap"
           }
          ],
          "heatmapgl": [
           {
            "colorbar": {
             "outlinewidth": 0,
             "ticks": ""
            },
            "colorscale": [
             [
              0,
              "#0d0887"
             ],
             [
              0.1111111111111111,
              "#46039f"
             ],
             [
              0.2222222222222222,
              "#7201a8"
             ],
             [
              0.3333333333333333,
              "#9c179e"
             ],
             [
              0.4444444444444444,
              "#bd3786"
             ],
             [
              0.5555555555555556,
              "#d8576b"
             ],
             [
              0.6666666666666666,
              "#ed7953"
             ],
             [
              0.7777777777777778,
              "#fb9f3a"
             ],
             [
              0.8888888888888888,
              "#fdca26"
             ],
             [
              1,
              "#f0f921"
             ]
            ],
            "type": "heatmapgl"
           }
          ],
          "histogram": [
           {
            "marker": {
             "pattern": {
              "fillmode": "overlay",
              "size": 10,
              "solidity": 0.2
             }
            },
            "type": "histogram"
           }
          ],
          "histogram2d": [
           {
            "colorbar": {
             "outlinewidth": 0,
             "ticks": ""
            },
            "colorscale": [
             [
              0,
              "#0d0887"
             ],
             [
              0.1111111111111111,
              "#46039f"
             ],
             [
              0.2222222222222222,
              "#7201a8"
             ],
             [
              0.3333333333333333,
              "#9c179e"
             ],
             [
              0.4444444444444444,
              "#bd3786"
             ],
             [
              0.5555555555555556,
              "#d8576b"
             ],
             [
              0.6666666666666666,
              "#ed7953"
             ],
             [
              0.7777777777777778,
              "#fb9f3a"
             ],
             [
              0.8888888888888888,
              "#fdca26"
             ],
             [
              1,
              "#f0f921"
             ]
            ],
            "type": "histogram2d"
           }
          ],
          "histogram2dcontour": [
           {
            "colorbar": {
             "outlinewidth": 0,
             "ticks": ""
            },
            "colorscale": [
             [
              0,
              "#0d0887"
             ],
             [
              0.1111111111111111,
              "#46039f"
             ],
             [
              0.2222222222222222,
              "#7201a8"
             ],
             [
              0.3333333333333333,
              "#9c179e"
             ],
             [
              0.4444444444444444,
              "#bd3786"
             ],
             [
              0.5555555555555556,
              "#d8576b"
             ],
             [
              0.6666666666666666,
              "#ed7953"
             ],
             [
              0.7777777777777778,
              "#fb9f3a"
             ],
             [
              0.8888888888888888,
              "#fdca26"
             ],
             [
              1,
              "#f0f921"
             ]
            ],
            "type": "histogram2dcontour"
           }
          ],
          "mesh3d": [
           {
            "colorbar": {
             "outlinewidth": 0,
             "ticks": ""
            },
            "type": "mesh3d"
           }
          ],
          "parcoords": [
           {
            "line": {
             "colorbar": {
              "outlinewidth": 0,
              "ticks": ""
             }
            },
            "type": "parcoords"
           }
          ],
          "pie": [
           {
            "automargin": true,
            "type": "pie"
           }
          ],
          "scatter": [
           {
            "marker": {
             "colorbar": {
              "outlinewidth": 0,
              "ticks": ""
             }
            },
            "type": "scatter"
           }
          ],
          "scatter3d": [
           {
            "line": {
             "colorbar": {
              "outlinewidth": 0,
              "ticks": ""
             }
            },
            "marker": {
             "colorbar": {
              "outlinewidth": 0,
              "ticks": ""
             }
            },
            "type": "scatter3d"
           }
          ],
          "scattercarpet": [
           {
            "marker": {
             "colorbar": {
              "outlinewidth": 0,
              "ticks": ""
             }
            },
            "type": "scattercarpet"
           }
          ],
          "scattergeo": [
           {
            "marker": {
             "colorbar": {
              "outlinewidth": 0,
              "ticks": ""
             }
            },
            "type": "scattergeo"
           }
          ],
          "scattergl": [
           {
            "marker": {
             "colorbar": {
              "outlinewidth": 0,
              "ticks": ""
             }
            },
            "type": "scattergl"
           }
          ],
          "scattermapbox": [
           {
            "marker": {
             "colorbar": {
              "outlinewidth": 0,
              "ticks": ""
             }
            },
            "type": "scattermapbox"
           }
          ],
          "scatterpolar": [
           {
            "marker": {
             "colorbar": {
              "outlinewidth": 0,
              "ticks": ""
             }
            },
            "type": "scatterpolar"
           }
          ],
          "scatterpolargl": [
           {
            "marker": {
             "colorbar": {
              "outlinewidth": 0,
              "ticks": ""
             }
            },
            "type": "scatterpolargl"
           }
          ],
          "scatterternary": [
           {
            "marker": {
             "colorbar": {
              "outlinewidth": 0,
              "ticks": ""
             }
            },
            "type": "scatterternary"
           }
          ],
          "surface": [
           {
            "colorbar": {
             "outlinewidth": 0,
             "ticks": ""
            },
            "colorscale": [
             [
              0,
              "#0d0887"
             ],
             [
              0.1111111111111111,
              "#46039f"
             ],
             [
              0.2222222222222222,
              "#7201a8"
             ],
             [
              0.3333333333333333,
              "#9c179e"
             ],
             [
              0.4444444444444444,
              "#bd3786"
             ],
             [
              0.5555555555555556,
              "#d8576b"
             ],
             [
              0.6666666666666666,
              "#ed7953"
             ],
             [
              0.7777777777777778,
              "#fb9f3a"
             ],
             [
              0.8888888888888888,
              "#fdca26"
             ],
             [
              1,
              "#f0f921"
             ]
            ],
            "type": "surface"
           }
          ],
          "table": [
           {
            "cells": {
             "fill": {
              "color": "#EBF0F8"
             },
             "line": {
              "color": "white"
             }
            },
            "header": {
             "fill": {
              "color": "#C8D4E3"
             },
             "line": {
              "color": "white"
             }
            },
            "type": "table"
           }
          ]
         },
         "layout": {
          "annotationdefaults": {
           "arrowcolor": "#2a3f5f",
           "arrowhead": 0,
           "arrowwidth": 1
          },
          "autotypenumbers": "strict",
          "coloraxis": {
           "colorbar": {
            "outlinewidth": 0,
            "ticks": ""
           }
          },
          "colorscale": {
           "diverging": [
            [
             0,
             "#8e0152"
            ],
            [
             0.1,
             "#c51b7d"
            ],
            [
             0.2,
             "#de77ae"
            ],
            [
             0.3,
             "#f1b6da"
            ],
            [
             0.4,
             "#fde0ef"
            ],
            [
             0.5,
             "#f7f7f7"
            ],
            [
             0.6,
             "#e6f5d0"
            ],
            [
             0.7,
             "#b8e186"
            ],
            [
             0.8,
             "#7fbc41"
            ],
            [
             0.9,
             "#4d9221"
            ],
            [
             1,
             "#276419"
            ]
           ],
           "sequential": [
            [
             0,
             "#0d0887"
            ],
            [
             0.1111111111111111,
             "#46039f"
            ],
            [
             0.2222222222222222,
             "#7201a8"
            ],
            [
             0.3333333333333333,
             "#9c179e"
            ],
            [
             0.4444444444444444,
             "#bd3786"
            ],
            [
             0.5555555555555556,
             "#d8576b"
            ],
            [
             0.6666666666666666,
             "#ed7953"
            ],
            [
             0.7777777777777778,
             "#fb9f3a"
            ],
            [
             0.8888888888888888,
             "#fdca26"
            ],
            [
             1,
             "#f0f921"
            ]
           ],
           "sequentialminus": [
            [
             0,
             "#0d0887"
            ],
            [
             0.1111111111111111,
             "#46039f"
            ],
            [
             0.2222222222222222,
             "#7201a8"
            ],
            [
             0.3333333333333333,
             "#9c179e"
            ],
            [
             0.4444444444444444,
             "#bd3786"
            ],
            [
             0.5555555555555556,
             "#d8576b"
            ],
            [
             0.6666666666666666,
             "#ed7953"
            ],
            [
             0.7777777777777778,
             "#fb9f3a"
            ],
            [
             0.8888888888888888,
             "#fdca26"
            ],
            [
             1,
             "#f0f921"
            ]
           ]
          },
          "colorway": [
           "#636efa",
           "#EF553B",
           "#00cc96",
           "#ab63fa",
           "#FFA15A",
           "#19d3f3",
           "#FF6692",
           "#B6E880",
           "#FF97FF",
           "#FECB52"
          ],
          "font": {
           "color": "#2a3f5f"
          },
          "geo": {
           "bgcolor": "white",
           "lakecolor": "white",
           "landcolor": "#E5ECF6",
           "showlakes": true,
           "showland": true,
           "subunitcolor": "white"
          },
          "hoverlabel": {
           "align": "left"
          },
          "hovermode": "closest",
          "mapbox": {
           "style": "light"
          },
          "paper_bgcolor": "white",
          "plot_bgcolor": "#E5ECF6",
          "polar": {
           "angularaxis": {
            "gridcolor": "white",
            "linecolor": "white",
            "ticks": ""
           },
           "bgcolor": "#E5ECF6",
           "radialaxis": {
            "gridcolor": "white",
            "linecolor": "white",
            "ticks": ""
           }
          },
          "scene": {
           "xaxis": {
            "backgroundcolor": "#E5ECF6",
            "gridcolor": "white",
            "gridwidth": 2,
            "linecolor": "white",
            "showbackground": true,
            "ticks": "",
            "zerolinecolor": "white"
           },
           "yaxis": {
            "backgroundcolor": "#E5ECF6",
            "gridcolor": "white",
            "gridwidth": 2,
            "linecolor": "white",
            "showbackground": true,
            "ticks": "",
            "zerolinecolor": "white"
           },
           "zaxis": {
            "backgroundcolor": "#E5ECF6",
            "gridcolor": "white",
            "gridwidth": 2,
            "linecolor": "white",
            "showbackground": true,
            "ticks": "",
            "zerolinecolor": "white"
           }
          },
          "shapedefaults": {
           "line": {
            "color": "#2a3f5f"
           }
          },
          "ternary": {
           "aaxis": {
            "gridcolor": "white",
            "linecolor": "white",
            "ticks": ""
           },
           "baxis": {
            "gridcolor": "white",
            "linecolor": "white",
            "ticks": ""
           },
           "bgcolor": "#E5ECF6",
           "caxis": {
            "gridcolor": "white",
            "linecolor": "white",
            "ticks": ""
           }
          },
          "title": {
           "x": 0.05
          },
          "xaxis": {
           "automargin": true,
           "gridcolor": "white",
           "linecolor": "white",
           "ticks": "",
           "title": {
            "standoff": 15
           },
           "zerolinecolor": "white",
           "zerolinewidth": 2
          },
          "yaxis": {
           "automargin": true,
           "gridcolor": "white",
           "linecolor": "white",
           "ticks": "",
           "title": {
            "standoff": 15
           },
           "zerolinecolor": "white",
           "zerolinewidth": 2
          }
         }
        },
        "title": {
         "text": "Scatter Diagram"
        }
       }
      },
      "image/png": "[encoded data removed]",
      "text/html": [
       "<div>                            <div id=\"324c68a2-0fc6-409d-980e-5233cc574571\" class=\"plotly-graph-div\" style=\"height:525px; width:1000px;\"></div>            <script type=\"text/javascript\">                require([\"plotly\"], function(Plotly) {                    window.PLOTLYENV=window.PLOTLYENV || {};                                    if (document.getElementById(\"324c68a2-0fc6-409d-980e-5233cc574571\")) {                    Plotly.newPlot(                        \"324c68a2-0fc6-409d-980e-5233cc574571\",                        [{\"customdata\":[[\"Scrypt\"],[\"Scrypt\"],[\"X13\"],[\"SHA-256\"],[\"Ethash\"],[\"Scrypt\"],[\"X11\"],[\"CryptoNight-V7\"],[\"Ethash\"],[\"Equihash\"],[\"SHA-512\"],[\"Multiple\"],[\"SHA-256\"],[\"SHA-256\"],[\"Scrypt\"],[\"X15\"],[\"X11\"],[\"Scrypt\"],[\"Scrypt\"],[\"Scrypt\"],[\"Multiple\"],[\"Scrypt\"],[\"SHA-256\"],[\"Scrypt\"],[\"Scrypt\"],[\"Scrypt\"],[\"Quark\"],[\"Groestl\"],[\"Scrypt\"],[\"Scrypt\"],[\"Scrypt\"],[\"Scrypt\"],[\"Scrypt\"],[\"X11\"],[\"Scrypt\"],[\"Groestl\"],[\"Multiple\"],[\"SHA-256\"],[\"Scrypt\"],[\"Scrypt\"],[\"Scrypt\"],[\"Scrypt\"],[\"PoS\"],[\"Scrypt\"],[\"Scrypt\"],[\"NeoScrypt\"],[\"Scrypt\"],[\"Scrypt\"],[\"Scrypt\"],[\"Scrypt\"],[\"X11\"],[\"Scrypt\"],[\"X11\"],[\"SHA-256\"],[\"Scrypt\"],[\"Scrypt\"],[\"Scrypt\"],[\"SHA3\"],[\"Scrypt\"],[\"HybridScryptHash256\"],[\"Scrypt\"],[\"Scrypt\"],[\"SHA-256\"],[\"Scrypt\"],[\"X13\"],[\"Scrypt\"],[\"SHA-256\"],[\"Scrypt\"],[\"X13\"],[\"NeoScrypt\"],[\"Scrypt\"],[\"Scrypt\"],[\"Scrypt\"],[\"Scrypt\"],[\"Scrypt\"],[\"Scrypt\"],[\"X11\"],[\"X11\"],[\"SHA-256\"],[\"Multiple\"],[\"SHA-256\"],[\"PHI1612\"],[\"X11\"],[\"SHA-256\"],[\"SHA-256\"],[\"SHA-256\"],[\"X11\"],[\"Scrypt\"],[\"Scrypt\"],[\"Scrypt\"],[\"Scrypt\"],[\"Lyra2REv2\"],[\"Scrypt\"],[\"X11\"],[\"Multiple\"],[\"SHA-256\"],[\"X13\"],[\"Scrypt\"],[\"CryptoNight\"],[\"CryptoNight\"],[\"Shabal256\"],[\"Counterparty\"],[\"Scrypt\"],[\"SHA-256\"],[\"Groestl\"],[\"Scrypt\"],[\"Scrypt\"],[\"Scrypt\"],[\"X13\"],[\"Scrypt\"],[\"Scrypt\"],[\"Scrypt\"],[\"Scrypt\"],[\"X13\"],[\"Scrypt\"],[\"Stanford Folding\"],[\"X11\"],[\"Multiple\"],[\"QuBit\"],[\"Scrypt\"],[\"Scrypt\"],[\"Scrypt\"],[\"M7 POW\"],[\"Scrypt\"],[\"SHA-256\"],[\"Scrypt\"],[\"X11\"],[\"SHA3\"],[\"X11\"],[\"Lyra2RE\"],[\"SHA-256\"],[\"QUAIT\"],[\"X11\"],[\"X11\"],[\"Scrypt\"],[\"Scrypt\"],[\"Scrypt\"],[\"Ethash\"],[\"X13\"],[\"Blake2b\"],[\"SHA-256\"],[\"X15\"],[\"X11\"],[\"SHA-256\"],[\"BLAKE256\"],[\"Scrypt\"],[\"1GB AES Pattern Search\"],[\"SHA-256\"],[\"X11\"],[\"Scrypt\"],[\"SHA-256\"],[\"SHA-256\"],[\"NIST5\"],[\"Scrypt\"],[\"Scrypt\"],[\"X11\"],[\"Dagger\"],[\"Scrypt\"],[\"X11GOST\"],[\"X11\"],[\"Scrypt\"],[\"SHA-256\"],[\"Scrypt\"],[\"PoS\"],[\"Scrypt\"],[\"X11\"],[\"X11\"],[\"SHA-256\"],[\"SHA-256\"],[\"NIST5\"],[\"X11\"],[\"Scrypt\"],[\"POS 3.0\"],[\"Scrypt\"],[\"Scrypt\"],[\"Scrypt\"],[\"X13\"],[\"X11\"],[\"X11\"],[\"Equihash\"],[\"X11\"],[\"Scrypt\"],[\"CryptoNight\"],[\"SHA-256\"],[\"SHA-256\"],[\"X11\"],[\"Scrypt\"],[\"Multiple\"],[\"Scrypt\"],[\"Scrypt\"],[\"Scrypt\"],[\"SHA-256\"],[\"Scrypt\"],[\"Scrypt\"],[\"SHA-256D\"],[\"PoS\"],[\"Scrypt\"],[\"X11\"],[\"Lyra2Z\"],[\"PoS\"],[\"X13\"],[\"X14\"],[\"PoS\"],[\"SHA-256D\"],[\"Ethash\"],[\"Equihash\"],[\"DPoS\"],[\"X11\"],[\"Scrypt\"],[\"X11\"],[\"X13\"],[\"X11\"],[\"PoS\"],[\"Scrypt\"],[\"Scrypt\"],[\"X11\"],[\"PoS\"],[\"X11\"],[\"SHA-256\"],[\"Scrypt\"],[\"X11\"],[\"Scrypt\"],[\"Scrypt\"],[\"X11\"],[\"CryptoNight\"],[\"Scrypt\"],[\"Scrypt\"],[\"Scrypt\"],[\"Scrypt\"],[\"Quark\"],[\"QuBit\"],[\"Scrypt\"],[\"CryptoNight\"],[\"Lyra2RE\"],[\"Scrypt\"],[\"SHA-256\"],[\"X11\"],[\"Scrypt\"],[\"X11\"],[\"Scrypt\"],[\"CryptoNight-V7\"],[\"Scrypt\"],[\"Scrypt\"],[\"Scrypt\"],[\"X13\"],[\"X11\"],[\"Equihash\"],[\"Scrypt\"],[\"Scrypt\"],[\"Lyra2RE\"],[\"Scrypt\"],[\"Dagger-Hashimoto\"],[\"X11\"],[\"Blake2S\"],[\"X11\"],[\"Scrypt\"],[\"PoS\"],[\"X11\"],[\"NIST5\"],[\"PoS\"],[\"X11\"],[\"Scrypt\"],[\"Scrypt\"],[\"Scrypt\"],[\"SHA-256\"],[\"X11\"],[\"Scrypt\"],[\"Scrypt\"],[\"SHA-256\"],[\"PoS\"],[\"Scrypt\"],[\"X15\"],[\"SHA-256\"],[\"Scrypt\"],[\"POS 3.0\"],[\"CryptoNight-V7\"],[\"536\"],[\"Argon2d\"],[\"Blake2b\"],[\"Cloverhash\"],[\"CryptoNight\"],[\"NIST5\"],[\"X11\"],[\"NIST5\"],[\"Skein\"],[\"Scrypt\"],[\"X13\"],[\"Scrypt\"],[\"X11\"],[\"X11\"],[\"Scrypt\"],[\"CryptoNight\"],[\"X13\"],[\"Time Travel\"],[\"Scrypt\"],[\"Keccak\"],[\"SkunkHash v2 Raptor\"],[\"X11\"],[\"Skein\"],[\"SHA-256\"],[\"X11\"],[\"Scrypt\"],[\"Scrypt\"],[\"PoS\"],[\"Scrypt\"],[\"Scrypt\"],[\"Scrypt\"],[\"Scrypt\"],[\"Scrypt\"],[\"Scrypt\"],[\"Scrypt\"],[\"CryptoNight\"],[\"SHA-512\"],[\"Ouroboros\"],[\"X11\"],[\"Equihash\"],[\"NeoScrypt\"],[\"X11\"],[\"Scrypt\"],[\"NeoScrypt\"],[\"Lyra2REv2\"],[\"Equihash\"],[\"Scrypt\"],[\"SHA-256\"],[\"NIST5\"],[\"PHI1612\"],[\"Dagger\"],[\"Scrypt\"],[\"Quark\"],[\"Scrypt\"],[\"POS 2.0\"],[\"Scrypt\"],[\"SHA-256\"],[\"X11\"],[\"NeoScrypt\"],[\"Ethash\"],[\"NeoScrypt\"],[\"X11\"],[\"DPoS\"],[\"NIST5\"],[\"X13\"],[\"Multiple\"],[\"Scrypt\"],[\"CryptoNight\"],[\"CryptoNight\"],[\"Ethash\"],[\"NIST5\"],[\"Quark\"],[\"X11\"],[\"CryptoNight-V7\"],[\"Scrypt\"],[\"Scrypt\"],[\"Scrypt\"],[\"X11\"],[\"BLAKE256\"],[\"X11\"],[\"NeoScrypt\"],[\"Quark\"],[\"NeoScrypt\"],[\"Scrypt\"],[\"Scrypt\"],[\"Scrypt\"],[\"X11\"],[\"X11\"],[\"SHA-256\"],[\"C11\"],[\"POS 3.0\"],[\"Ethash\"],[\"Scrypt\"],[\"CryptoNight\"],[\"SkunkHash\"],[\"Scrypt\"],[\"CryptoNight\"],[\"Scrypt\"],[\"Dagger\"],[\"Lyra2REv2\"],[\"X13\"],[\"Scrypt\"],[\"Scrypt\"],[\"X11\"],[\"C11\"],[\"X11\"],[\"XEVAN\"],[\"Scrypt\"],[\"VBFT\"],[\"Ethash\"],[\"CryptoNight\"],[\"Scrypt\"],[\"IMesh\"],[\"NIST5\"],[\"Scrypt\"],[\"Scrypt\"],[\"Equihash\"],[\"Scrypt\"],[\"Lyra2Z\"],[\"Green Protocol\"],[\"PoS\"],[\"Scrypt\"],[\"Semux BFT consensus\"],[\"X11\"],[\"Quark\"],[\"PoS\"],[\"CryptoNight\"],[\"X16R\"],[\"Scrypt\"],[\"NIST5\"],[\"Lyra2RE\"],[\"XEVAN\"],[\"Tribus\"],[\"Scrypt\"],[\"Lyra2Z\"],[\"CryptoNight\"],[\"CryptoNight Heavy\"],[\"CryptoNight\"],[\"Scrypt\"],[\"Scrypt\"],[\"Jump Consistent Hash\"],[\"SHA-256D\"],[\"CryptoNight\"],[\"Scrypt\"],[\"X15\"],[\"Scrypt\"],[\"Quark\"],[\"SHA-256\"],[\"DPoS\"],[\"X16R\"],[\"HMQ1725\"],[\"X11\"],[\"X16R\"],[\"Quark\"],[\"Quark\"],[\"Scrypt\"],[\"Lyra2REv2\"],[\"Quark\"],[\"Scrypt\"],[\"Scrypt\"],[\"CryptoNight-V7\"],[\"Cryptonight-GPU\"],[\"XEVAN\"],[\"CryptoNight Heavy\"],[\"X11\"],[\"X11\"],[\"Scrypt\"],[\"PoS\"],[\"SHA-256\"],[\"Keccak\"],[\"X11\"],[\"X11\"],[\"Scrypt\"],[\"SHA-512\"],[\"X16R\"],[\"ECC 256K1\"],[\"Equihash\"],[\"XEVAN\"],[\"Lyra2Z\"],[\"SHA-256\"],[\"XEVAN\"],[\"X11\"],[\"CryptoNight\"],[\"Quark\"],[\"Blake\"],[\"Blake\"],[\"Equihash\"],[\"Exosis\"],[\"Scrypt\"],[\"Scrypt\"],[\"Equihash\"],[\"Quark\"],[\"Equihash\"],[\"Quark\"],[\"Scrypt\"],[\"QuBit\"],[\"X11\"],[\"Scrypt\"],[\"XEVAN\"],[\"SHA-256D\"],[\"X11\"],[\"SHA-256\"],[\"X13\"],[\"SHA-256\"],[\"X11\"],[\"DPoS\"],[\"Scrypt\"],[\"Scrypt\"],[\"X11\"],[\"NeoScrypt\"],[\"Scrypt\"],[\"Blake\"],[\"Scrypt\"],[\"SHA-256\"],[\"Scrypt\"],[\"X11\"],[\"Scrypt\"],[\"Scrypt\"],[\"SHA-256\"],[\"X11\"],[\"SHA-256\"],[\"Scrypt\"],[\"Scrypt\"],[\"Scrypt\"],[\"Groestl\"],[\"X11\"],[\"Scrypt\"],[\"PoS\"],[\"Scrypt\"],[\"Scrypt\"],[\"X11\"],[\"SHA-256\"],[\"DPoS\"],[\"Scrypt\"],[\"Scrypt\"],[\"NeoScrypt\"],[\"SHA3-256\"],[\"Multiple\"],[\"X13\"],[\"Equihash+Scrypt\"],[\"DPoS\"],[\"Ethash\"],[\"DPoS\"],[\"SHA-256\"],[\"Leased POS\"],[\"PoS\"],[\"PoS\"],[\"SHA-256\"],[\"Scrypt\"],[\"CryptoNight\"],[\"Equihash\"],[\"Scrypt\"]],\"hovertemplate\":\"<b>%{hovertext}</b><br><br>Class=%{marker.color}<br>PC 1=%{x}<br>PC 2=%{y}<br>PC 3=%{z}<br>Algorithm=%{customdata[0]}<extra></extra>\",\"hovertext\":[\"42 Coin\",\"404Coin\",\"EliteCoin\",\"Bitcoin\",\"Ethereum\",\"Litecoin\",\"Dash\",\"Monero\",\"Ethereum Classic\",\"ZCash\",\"Bitshares\",\"DigiByte\",\"BitcoinDark\",\"PayCoin\",\"ProsperCoin\",\"KoboCoin\",\"Spreadcoin\",\"Argentum\",\"Aurora Coin\",\"BlueCoin\",\"MyriadCoin\",\"MoonCoin\",\"ZetaCoin\",\"SexCoin\",\"Quatloo\",\"EnergyCoin\",\"QuarkCoin\",\"Riecoin\",\"Digitalcoin \",\"BitBar\",\"Catcoin\",\"CryptoBullion\",\"CannaCoin\",\"CryptCoin\",\"CasinoCoin\",\"Diamond\",\"Verge\",\"DevCoin\",\"EarthCoin\",\"E-Gulden\",\"Einsteinium\",\"Emerald\",\"Exclusive Coin\",\"FlutterCoin\",\"Franko\",\"FeatherCoin\",\"GrandCoin\",\"GlobalCoin\",\"GoldCoin\",\"HoboNickels\",\"HyperStake\",\"Infinite Coin\",\"IOCoin\",\"IXcoin\",\"KrugerCoin\",\"LuckyCoin\",\"Litebar \",\"MaxCoin\",\"MegaCoin\",\"MediterraneanCoin\",\"MintCoin\",\"MinCoin\",\"MazaCoin\",\"Nautilus Coin\",\"NavCoin\",\"NobleCoin\",\"Namecoin\",\"NyanCoin\",\"OpalCoin\",\"Orbitcoin\",\"PotCoin\",\"PhoenixCoin\",\"Reddcoin\",\"RonPaulCoin\",\"StableCoin\",\"SmartCoin\",\"SuperCoin\",\"SyncCoin\",\"SysCoin\",\"TeslaCoin\",\"TigerCoin\",\"TittieCoin\",\"TorCoin\",\"TerraCoin\",\"UnbreakableCoin\",\"Unobtanium\",\"UroCoin\",\"UnitaryStatus Dollar\",\"UltraCoin\",\"ViaCoin\",\"VeriCoin\",\"Vertcoin\",\"WorldCoin\",\"X11 Coin\",\"Crypti\",\"JouleCoin\",\"StealthCoin\",\"ZCC Coin\",\"ByteCoin\",\"DigitalNote \",\"BurstCoin\",\"StorjCoin\",\"MonaCoin\",\"Neutron\",\"FairCoin\",\"Gulden\",\"RubyCoin\",\"PesetaCoin\",\"Kore\",\"Wild Beast Coin\",\"Dnotes\",\"Flo\",\"8BIT Coin\",\"Sativa Coin\",\"ArtByte\",\"Folding Coin\",\"Ucoin\",\"Unitus\",\"CypherPunkCoin\",\"OmniCron\",\"Vtorrent\",\"GreenCoin\",\"Cryptonite\",\"MasterCoin\",\"SoonCoin\",\"1Credit\",\"IslaCoin\",\"Nexus\",\"MarsCoin \",\"Crypto\",\"Anarchists Prime\",\"Droidz\",\"BowsCoin\",\"Squall Coin\",\"Song Coin\",\"BitZeny\",\"Diggits\",\"Expanse\",\"Paycon\",\"Siacoin\",\"Emercoin\",\"EverGreenCoin\",\"MindCoin\",\"I0coin\",\"Decred\",\"Revolution VR\",\"HOdlcoin\",\"EDRCoin\",\"Hitcoin\",\"Gamecredits\",\"DubaiCoin\",\"CarpeDiemCoin\",\"PWR Coin\",\"BillaryCoin\",\"GPU Coin\",\"Adzcoin\",\"SoilCoin\",\"YoCoin\",\"SibCoin\",\"EuropeCoin\",\"ZeitCoin\",\"SwingCoin\",\"SafeExchangeCoin\",\"Nebuchadnezzar\",\"Francs\",\"BolivarCoin\",\"Ratecoin\",\"Revenu\",\"Clockcoin\",\"VIP Tokens\",\"BitSend\",\"Omni\",\"Let it Ride\",\"PutinCoin\",\"iBankCoin\",\"Frankywillcoin\",\"MudraCoin\",\"PizzaCoin\",\"Lutetium Coin\",\"Komodo\",\"GoldBlocks\",\"CarterCoin\",\"Karbo\",\"BitTokens\",\"ZayedCoin\",\"MustangCoin\",\"ZoneCoin\",\"Circuits of Value\",\"RootCoin\",\"DopeCoin\",\"BitCurrency\",\"DollarCoin\",\"Swiscoin\",\"Shilling\",\"BuzzCoin\",\"Opair\",\"PesoBit\",\"Halloween Coin\",\"ZCoin\",\"CoffeeCoin\",\"RoyalCoin\",\"GanjaCoin V2\",\"TeamUP\",\"LanaCoin\",\"Elementrem\",\"ZClassic\",\"ARK\",\"InsaneCoin\",\"KiloCoin\",\"ArtexCoin\",\"EmberCoin\",\"XenixCoin\",\"FreeCoin\",\"PLNCoin\",\"AquariusCoin\",\"Kurrent\",\"Creatio\",\"Eternity\",\"Eurocoin\",\"BitcoinFast\",\"Stakenet\",\"BitConnect Coin\",\"MoneyCoin\",\"Enigma\",\"Cannabis Industry Coin\",\"Russiacoin\",\"PandaCoin\",\"GameUnits\",\"GAKHcoin\",\"Allsafe\",\"LiteCreed\",\"OsmiumCoin\",\"Bikercoins\",\"HexxCoin\",\"Klingon Empire Darsek\",\"Internet of People\",\"KushCoin\",\"Printerium\",\"PacCoin\",\"Impeach\",\"Citadel\",\"Zilbercoin\",\"FirstCoin\",\"BeaverCoin\",\"FindCoin\",\"VaultCoin\",\"Zero\",\"OpenChat\",\"Canada eCoin\",\"Zoin\",\"RenosCoin\",\"DubaiCoin\",\"VirtacoinPlus\",\"TajCoin\",\"Impact\",\"EB3coin\",\"Atmos\",\"HappyCoin\",\"Coinonat\",\"MacronCoin\",\"Condensate\",\"Independent Money System\",\"ArgusCoin\",\"LomoCoin\",\"ProCurrency\",\"GoldReserve\",\"BenjiRolls\",\"GrowthCoin\",\"ILCoin\",\"Phreak\",\"Degas Coin\",\"HTML5 Coin\",\"Ultimate Secure Cash\",\"EquiTrader\",\"QTUM\",\"Quantum Resistant Ledger\",\"Espers\",\"Dynamic\",\"Nano\",\"ChanCoin\",\"Dinastycoin\",\"Denarius\",\"DigitalPrice\",\"Virta Unique Coin\",\"Bitcoin Planet\",\"Unify\",\"BritCoin\",\"SocialCoin\",\"ArcticCoin\",\"DAS\",\"Linda\",\"LeviarCoin\",\"DeepOnion\",\"Bitcore\",\"gCn Coin\",\"SmartCash\",\"Signatum\",\"Onix\",\"Cream\",\"Bitcoin Cash\",\"Monoeci\",\"Draftcoin\",\"Sojourn Coin\",\"Stakecoin\",\"NewYorkCoin\",\"FrazCoin\",\"Kronecoin\",\"AdCoin\",\"Linx\",\"CoinonatX\",\"Ethereum Dark\",\"Sumokoin\",\"Obsidian\",\"Cardano\",\"Regalcoin\",\"BitcoinZ\",\"TrezarCoin\",\"Elements\",\"TerraNovaCoin\",\"VIVO Coin\",\"Rupee\",\"Bitcoin Gold\",\"WomenCoin\",\"Theresa May Coin\",\"NamoCoin\",\"LUXCoin\",\"Pirl\",\"Xios\",\"Bitcloud 2.0\",\"eBoost\",\"KekCoin\",\"BlackholeCoin\",\"Infinity Economics\",\"Pura\",\"Innova\",\"Ellaism\",\"GoByte\",\"Magnet\",\"Lamden Tau\",\"Electra\",\"Bitcoin Diamond\",\"SHIELD\",\"Cash & Back Coin\",\"UltraNote\",\"BitCoal\",\"DaxxCoin\",\"Bulwark\",\"Kalkulus\",\"AC3\",\"Lethean\",\"GermanCoin\",\"LiteCoin Ultra\",\"PopularCoin\",\"PhantomX\",\"Photon\",\"Sucre\",\"SparksPay\",\"Digiwage\",\"GunCoin\",\"IrishCoin\",\"Trollcoin\",\"Litecoin Plus\",\"Monkey Project\",\"Pioneer Coin\",\"UnitedBitcoin\",\"Interzone\",\"TokenPay\",\"1717 Masonic Commemorative Token\",\"My Big Coin\",\"TurtleCoin\",\"MUNcoin\",\"Unified Society USDEX\",\"Niobio Cash\",\"ShareChain\",\"Travelflex\",\"KREDS\",\"Tokyo Coin\",\"BitFlip\",\"LottoCoin\",\"Crypto Improvement Fund\",\"Stipend\",\"Pushi\",\"Ellerium\",\"Velox\",\"Ontology\",\"Callisto Network\",\"BitTube\",\"Poseidon\",\"Aidos Kuneen\",\"Bitspace\",\"Briacoin\",\"Ignition\",\"Bitrolium\",\"MedicCoin\",\"Alpenschillling\",\"Bitcoin Green\",\"Deviant Coin\",\"Abjcoin\",\"Semux\",\"FuturoCoin\",\"Carebit\",\"Zealium\",\"Monero Classic\",\"Proton\",\"iDealCash\",\"Jumpcoin\",\"Infinex\",\"Bitcoin Incognito\",\"KEYCO\",\"HollyWoodCoin\",\"GINcoin\",\"PlatinCoin\",\"Loki\",\"Newton Coin\",\"Swisscoin\",\"Xt3ch\",\"MassGrid\",\"TheVig\",\"PluraCoin\",\"EmaratCoin\",\"Dekado\",\"Lynx\",\"Poseidon Quark\",\"BitcoinWSpectrum\",\"Muse\",\"Motion\",\"PlusOneCoin\",\"Axe\",\"Trivechain\",\"Dystem\",\"Giant\",\"Peony Coin\",\"Absolute Coin\",\"Vitae\",\"HexCoin\",\"TPCash\",\"Webchain\",\"Ryo\",\"Urals Coin\",\"Qwertycoin\",\"ARENON\",\"EUNO\",\"MMOCoin\",\"Ketan\",\"Project Pai\",\"XDNA\",\"PAXEX\",\"Azart\",\"ThunderStake\",\"Kcash\",\"Xchange\",\"Acute Angle Cloud\",\"CrypticCoin\",\"Bettex coin\",\"Actinium\",\"Bitcoin SV\",\"BitMoney\",\"Junson Ming Chan Coin\",\"FREDEnergy\",\"HerbCoin\",\"Universal Molecule\",\"Lithium\",\"PirateCash\",\"Exosis\",\"Block-Logic\",\"Oduwa\",\"Beam\",\"Galilel\",\"Bithereum\",\"Crypto Sports\",\"Credit\",\"SLICE\",\"Dash Platinum\",\"Nasdacoin\",\"Beetle Coin\",\"Titan Coin\",\"Award\",\"BLAST\",\"Bitcoin Rhodium\",\"GlobalToken\",\"Insane Coin\",\"ALAX\",\"LiteDoge\",\"SolarCoin\",\"TruckCoin\",\"UFO Coin\",\"OrangeCoin\",\"BlakeCoin\",\"BitstarCoin\",\"NeosCoin\",\"HyperCoin\",\"PinkCoin\",\"Crypto Escudo\",\"AudioCoin\",\"IncaKoin\",\"Piggy Coin\",\"Crown Coin\",\"Genstake\",\"SmileyCoin\",\"XiaoMiCoin\",\"Groestlcoin\",\"CapriCoin\",\" ClubCoin\",\"Radium\",\"Bata\",\"Pakcoin\",\"Creditbit \",\"OKCash\",\"Lisk\",\"HiCoin\",\"WhiteCoin\",\"FriendshipCoin\",\"Fiii\",\"JoinCoin\",\"Triangles Coin\",\"Vollar\",\"EOS\",\"Reality Clash\",\"Oxycoin\",\"TigerCash\",\"Waves\",\"Particl\",\"Nxt\",\"ZEPHYR\",\"Gapcoin\",\"Beldex\",\"Horizen\",\"BitcoinPlus\"],\"legendgroup\":\"0\",\"marker\":{\"color\":[0,0,0,0,0,0,0,0,0,0,0,0,0,0,0,0,0,0,0,0,0,0,0,0,0,0,0,0,0,0,0,0,0,0,0,0,0,0,0,0,0,0,0,0,0,0,0,0,0,0,0,0,0,0,0,0,0,0,0,0,0,0,0,0,0,0,0,0,0,0,0,0,0,0,0,0,0,0,0,0,0,0,0,0,0,0,0,0,0,0,0,0,0,0,0,0,0,0,0,0,0,0,0,0,0,0,0,0,0,0,0,0,0,0,0,0,0,0,0,0,0,0,0,0,0,0,0,0,0,0,0,0,0,0,0,0,0,0,0,0,0,0,0,0,0,0,0,0,0,0,0,0,0,0,0,0,0,0,0,0,0,0,0,0,0,0,0,0,0,0,0,0,0,0,0,0,0,0,0,0,0,0,0,0,0,0,0,0,0,0,0,0,0,0,0,0,0,0,0,0,0,0,0,0,0,0,0,0,0,0,0,0,0,0,0,0,0,0,0,0,0,0,0,0,0,0,0,0,0,0,0,0,0,0,0,0,0,0,0,0,0,0,0,0,0,0,0,0,0,0,0,0,0,0,0,0,0,0,0,0,0,0,0,0,0,0,0,0,0,0,0,0,0,0,0,0,0,0,0,0,0,0,0,0,0,0,0,0,0,0,0,0,0,0,0,0,0,0,0,0,0,0,0,0,0,0,0,0,0,0,0,0,0,0,0,0,0,0,0,0,0,0,0,0,0,0,0,0,0,0,0,0,0,0,0,0,0,0,0,0,0,0,0,0,0,0,0,0,0,0,0,0,0,0,0,0,0,0,0,0,0,0,0,0,0,0,0,0,0,0,0,0,0,0,0,0,0,0,0,0,0,0,0,0,0,0,0,0,0,0,0,0,0,0,0,0,0,0,0,0,0,0,0,0,0,0,0,0,0,0,0,0,0,0,0,0,0,0,0,0,0,0,0,0,0,0,0,0,0,0,0,0,0,0,0,0,0,0,0,0,0,0,0,0,0,0,0,0,0,0,0,0,0,0,0,0,0,0,0,0,0,0,0,0,0,0,0,0,0,0,0,0,0,0,0,0,0,0,0,0,0,0,0,0,0,0,0,0,0,0,0,0,0,0,0,0,0,0,0,0,0,0,0,0,0,0,0,0,0,0,0,0,0,0,0,0,0,0,0,0,0,0,0,0,0,0,0,0],\"coloraxis\":\"coloraxis\",\"symbol\":\"circle\"},\"mode\":\"markers\",\"name\":\"0\",\"scene\":\"scene\",\"showlegend\":true,\"type\":\"scatter3d\",\"x\":[-0.3520146330312478,-0.34054796283083727,0.23046308641818605,-0.15487218258416927,-0.11037908327734378,-0.2835108641026075,-0.3051509548027773,-0.04044605512041497,-0.291624488314757,-0.260009944709923,0.14633207338721216,0.04726884369415212,-0.19478448101179602,-0.00820106198833029,-0.2652199738821618,-0.38477803681719575,-0.2710444213492056,-0.26688155374219,-0.35345483926341514,-0.1388110831399093,0.15393306544598745,-0.29995392618490346,-0.09070895611674747,-0.30350028190245865,-0.2190812075881318,-0.144328187974934,-0.27722566333624665,-0.24305679247924133,-0.29429109271770354,-0.3562162924433932,-0.29787580181310247,-0.32769501765087855,-0.2988703924446641,-0.25889437243050956,0.6143138297414672,-0.2715481591365597,0.14228816106652536,0.12411621470749729,-0.1008095190336118,-0.2977283822565255,-0.2907713246605297,-0.2984712002036738,0.0504700319343294,-0.0317501621895985,-0.2960696934685825,-0.3091784297291598,-0.2835336121120737,-0.304470198721639,-0.29646224151489553,-0.3288753184171488,-0.02229784479620629,1.124778064121221,-0.3050581387301504,-0.1548381322913263,-0.2945477807277548,-0.2707233961885928,-0.2987479369205544,-0.39903892697831933,-0.2689554176030996,-0.30286356458014846,0.18915383974584546,-0.2799796591153435,-0.1253335210264099,-0.19396541982081109,-0.06450500221819569,-0.25419676370165933,-0.1549065408526246,-0.2902212989360638,-0.06505342439097435,-0.4340117622367748,-0.3487591172924595,-0.3539254976748076,0.17001672882256355,-0.2652701974818803,-0.30462796909475626,-0.29968726083131786,-0.03982613069155533,-0.35044564477993206,-0.08503408985778735,-0.03435502102327648,-0.09329923310740912,-0.1508412430587984,-0.3145369379152614,-0.15890240538313766,-0.09016212224792655,-0.09421202603051913,-0.11159609010569699,-0.3348139380106707,-0.25289672113053707,-0.29641994071653777,-0.04335501453201397,-0.23915401040261702,-0.29489064151257655,-0.3458553734183927,0.07364185991574419,-0.1624598045358956,-0.06486027486855847,-0.15648747835632348,2.8543437524813684,-0.012359838994869603,0.3803782429201178,0.08660258755997348,-0.29467185708338245,-0.15180126939292907,-0.10448119807234074,-0.29277955300679837,-0.03984644854129404,-0.29560772752012215,-0.23186196461738615,-0.2966078235652732,-0.032108377111385936,-0.3092335347413685,-0.1456375226295731,-0.2338062574837015,-0.11526977786835196,-0.017560182755262947,-0.1998985782218647,0.002029260340075286,-0.026050156219478534,-0.2951525176208775,-0.3050837599598813,-0.21232597927052016,-0.906841290844297,-0.29918389266099293,-0.15493102491798297,-0.07946017427113435,-0.14587000846016476,-0.9637322413071574,-0.3075251229380151,-0.05632742650774556,-0.09172256844156089,-0.4675041519870329,-0.2653442449151717,-0.09623671133380875,-0.2975738114230331,-0.30407450118316665,-0.14684669665196762,-0.31953040037157865,-0.24463705525490576,0.35091382671886967,-0.04740050484812479,-0.4292315872161572,-0.2919059842871578,-0.15483912157055862,-0.1594111643943975,-0.2904213491386956,-0.35650676384703417,-0.19475884423359818,-0.17400609911610354,-0.2834376755427333,-0.14149778460979995,0.25072728777831443,-0.002503903394232737,-0.3035465575068995,-0.1912051893939987,-0.28393690240733327,-0.29331467762167523,-0.29732501199336986,-0.18492832637771456,-0.34462127130049536,0.38234136942182967,-0.20342454183514969,0.020866488685996738,-0.10893115838976203,-0.27086074754928935,-0.2776194901824055,-0.3487579957058544,-0.15142749622858365,-0.15582978624965277,-0.3164113305142647,-0.3530695229379065,-0.3011043134908405,-0.16482426347983278,-0.0024721274892137222,-0.3552331075306348,-0.2523608538333756,-0.15365438567036627,-0.27775167994501265,-0.1764537478366656,-0.35132181435098025,-0.3253872661267793,-0.35156670589745936,-0.104717776268938,-0.18933602844814254,-0.09438536139508981,-0.3532007235061279,-0.2995315019999026,-0.13371210827771413,-0.14563243961622782,-0.30412367592268374,-0.03831293309154656,-0.09657120891611351,-0.004988077212837439,-0.3045312444097946,0.11708087318514641,-0.03833771769542195,-0.1452923531078032,-0.3485217384160482,-0.1402263996093421,-0.03838405474935523,-0.06880862682319223,-0.23758880988913797,-0.03952971565926877,-0.17424899227001311,-0.31787601732960385,-0.26002899875502694,6.0994641907735225,-0.33896365782644083,-0.2598563952402458,-0.09658605306364218,1.211051235707391,-0.34672205885617063,-0.12872127698465508,-0.35760716115695146,-0.3036170789311896,-0.29189402411778587,-0.10893115838976203,-0.35573404713571755,-0.1948581535248043,-0.34169833514328535,-0.918459482192378,-0.35428714449965554,-0.34982174653210324,-0.34521180583718863,-0.0900314038167607,-0.35275217555484245,0.33846923399165285,-0.35145168921241554,-0.35308865096650943,-0.20486619460777655,-0.17094304664431503,-0.2966087102010686,-0.10219262997312173,-0.05141418566732934,-0.13924506467557324,-0.18931523921262458,-0.35011689835651466,-0.30508142323905213,-0.2822114247048532,-0.35672247436299287,-0.16538965457368898,-0.18967351591858128,-0.21738357410545733,-0.30079959231073705,-0.06553467983681267,-0.12370960794210865,-0.3051274680332785,-0.14731303637020493,-0.2942249659968937,-0.14824639124427755,-0.19041979819509397,-0.13178150998210705,-0.25352889712317767,-0.14318213947197095,-0.2951401520969776,-0.3153045597709412,-0.0359471007937755,-0.2534388920014088,-0.2618869039065348,-0.13377345962144666,-0.13842600980178038,-0.35666594182479505,-0.3537086384368776,-0.15807565338924826,0.009170982335233372,-0.31373661710619694,-0.2977771688545014,0.09746466956411155,-0.07634400024988201,-0.14274334239914355,-0.29801976969486976,0.20760424774300207,0.012710195059110278,-0.2939976277913926,-0.10711372993148635,-0.1924843296921228,0.1147573890130634,-0.003975494081010553,-0.18205528945396485,-0.31593453119661147,0.2177742055930616,-0.27955287145262003,-0.21901503949475531,-0.2944371970156874,-0.23726073103074513,-0.2938481788259037,-0.2582624785303457,-0.29680346534215074,-0.3212417615134148,-0.28964818092101824,-0.1579674923084539,-0.08576171828935318,-0.22568040651348842,-0.22709896386080738,2.25696517925054,0.17152634779061765,-0.10100989974085008,-0.26901417886080026,-0.23682433151036453,-0.15487144589518384,-0.3459306256195166,-0.19176154450799665,-0.3026520523913441,-0.04257638276700965,1.4285198548437719,-0.27082700887868705,-0.2840017287473548,-0.21880889629658723,-0.21879737674361527,-0.33078431334294034,-0.351734346003589,-0.0324179657186193,0.1100146385457437,0.9607288538042206,-0.37006865024368035,-0.12694691424198404,-0.3624004580717292,-0.25022065816907,-0.3566301524054605,-0.36580073702878774,-0.12122098277128361,-0.25990421042540535,0.40614502177866324,-0.1422295861998065,-0.25070382504687544,-0.34056950377528505,-0.28403105074143276,-0.2995361568129193,-0.32430932276298796,-0.21808374389193233,-0.12705484208035434,-0.34922705855854463,0.1513120950288295,-0.33861905794314506,-0.30323902179313755,-0.31571456329008113,-0.3807094878825416,-0.3526640456751509,4.165337987898226,0.1458284535410444,-0.24454685218562003,-0.09848492135598662,-0.32576484675353196,0.26963250830154495,-0.014495425398314962,-0.25652368513342916,-0.14040663819184887,-0.18449292445115859,-0.29048645571804865,-0.15460076287336974,-0.20247627801853307,-0.2734128603757132,-0.23606262527811658,-0.32506842194354074,0.3909195616523551,-0.29223741916133333,-0.2954065277166719,-0.20900936639470702,-0.13220662322116492,-0.26652322423832225,-0.34688811327647534,-0.3497358577417095,-0.19423066986347973,-0.296810916994255,-0.0969506277675594,-0.30379258718002394,-0.16634347031888438,-0.21064550969561935,-0.35181668930376103,0.8043583713505646,-0.5002680438000915,-0.35110083528110403,-0.10453410155447075,-0.1542901217965805,-0.20672985906956923,-0.2186830003186944,-0.06573946757187403,-0.2792773016587657,-0.07493312005534455,-0.10318363271695145,-0.3591833851552323,-0.3120203917976229,-0.404314196828958,-0.19336651997967566,0.08825945477308063,-0.3096050194294752,0.052298299388962625,-0.26523825900154946,-0.2534570802316283,-0.29045182310438156,-0.3529657194227062,-0.3449748691018311,-0.29921636521056694,-0.031110704993238182,-0.1909960539366492,-0.128731774247806,-0.04129129996439513,-0.3388218003124905,3.789032541212924,-0.21905097784689886,-0.32313530865274476,-0.03849927604667382,-0.028046135245554195,-0.1868473924044159,-0.33101089221273844,-0.23033362480157935,-0.05427920284029305,-0.29854811608052567,-0.2014106308660453,-0.19097518775859798,-0.14553305601148028,-0.03163632058529938,0.13935395479321286,0.6126843702530758,-0.19126082543819944,-0.1923205151680873,-0.059743584558616177,-0.1576094391729743,0.05746733688914988,-0.3182343066324887,-0.2566943130596845,1.135433512991914,-0.17658767270067072,0.01061781812767169,2.231161673430388,-0.2755280828063477,-0.22831162911737551,-0.2654613017739059,-0.3353788295809438,-0.1789498259752559,-0.33606126873401854,-0.19277974337634118,-0.26128858633758445,-0.1321931702404154,-0.29374844319004656,-0.1580228492389725,-0.15918084933298834,-0.20643856025077278,-0.3412761307064134,1.7832256683168042,-0.18973047220946992,-0.3252235144112283,-0.19421691740190647,-0.130797211187571,-0.08856848291228996,0.07467902732988363,-0.14810797048000054,-0.27771250634093353,-0.33322952720364385,0.25336198028189116,-0.20408843107984576,0.18424981797483742,-0.24211865942257563,-0.2684869222215676,-0.21215847537097068,-0.15487147900678688,-0.8670080700352865,0.1449443254080775,-0.003711561078691106,-0.280032280826893,-0.34770076440744596,-0.3463192894987575,-0.18739785340271808,-0.2318315356648907,-0.2951793813742023,-0.2994001799885531,-0.3105363181761078,-0.3373171317027662,-0.3072806917304864,-0.1815259050386286,0.13082777890606653,-0.13376383828277202,-0.18899902147124992,-0.31824564330743654,-0.18611324562955722,0.009949347944099468,-0.3512238404713975,-0.1562330210465875,-0.17010493527837559,-0.07345974441206991,-0.33890515369055174,4.1544259158292265,-0.11328028374409888,-0.2957843560494303,-0.1432742698140127,-0.30501947567993937,-0.33962099502748344,-0.3463416971091642,-0.3515757512526082,-0.08378098700553686,-0.14554961957161244,-0.1350374472357287,-0.11540251017131954,-0.3263739659096,0.1331741275702695,-0.15299203307748022,-0.15890185047482136,-0.32486658540747965,0.09747432686995815,-0.3298044866638453,-0.22258392910366084,-0.3432544556698134,-0.3440346025529934,-0.04106338634486301,-0.3106559749992563,-0.2981298135172358,-0.27727976248249864,-0.18722878431661882,6.0981773481214905,-0.032603295951401386,-0.2947384532085834,-0.4390529330146777,0.600358952242365,-0.10733597767970673,-0.2241694815780361,-0.15421794485700013,4.167074848321415,-0.3127698249935594,4.16817143742813,0.06841798543847723,-0.19889214119827084,-0.03917125115577386,0.10379973339153532,2.830468560407263,-0.33900515828141536,-0.019238211130222744,-0.2600108763439112,-0.22219066785340558],\"y\":[-0.21494565364543042,-0.21658806203482953,-0.11610241333566429,-0.1576207598533348,-0.21467425873854504,-0.2684009181585431,-0.11118268890001257,-0.28261600490754374,-0.2174949844939972,-0.1801145734035449,-0.19256402777860582,-0.13970981308221336,-0.1021958995194224,0.09159464829647361,-0.2357002154204909,-0.07827661834471955,-0.12699817568299065,-0.2700689807053417,-0.21810577191771366,-0.18750839822995172,-0.12758931476208957,-0.28232107546912594,-0.16078924623810387,-0.2811929931992701,-0.2324626515925284,-0.18718591164580214,-0.018874927628612564,-0.2610623028480438,-0.2882266953366561,-0.21700719990969927,-0.2817718343665325,-0.17425799782595133,-0.2859095970156815,-0.2633232355664447,-0.24018092562763488,-0.2596054386344224,-0.1107207286558693,-0.1694546678241043,-0.2931074019817579,-0.28178045135509056,-0.27771738579011335,-0.2785645553987786,0.1984021350755786,-0.1627207940876142,-0.28615840772737816,-0.16518656732114306,-0.28393945173150664,-0.2730713248137653,-0.28342959683669905,-0.16514942684902265,0.021313890466631808,-0.36912487366650804,-0.11118811419808279,-0.1576227501658201,-0.28390733053674794,-0.19610851444548802,-0.2795242203633448,-0.30948575611473633,-0.25947645691725535,-0.10437057732943068,-0.060137487153948434,-0.23821510133490492,-0.09717135081823071,0.014744211310739224,-0.09579608656672152,-0.2840101391740453,-0.15761875153901853,-0.2849901674224796,-0.09576403011710521,-0.11414431230833287,-0.2043014983746653,-0.2229071133719361,-0.20556004472720366,-0.23569727974360957,-0.28112707746964244,-0.2860259582351289,0.022338456287549796,-0.10921401747253151,-0.1598930211932422,0.061238042717583305,-0.16163772861955825,0.25104295229981494,-0.1189288892803326,-0.18137977088216556,-0.05603048873020075,-0.1579632024192893,-0.16818228965937085,-0.22114550100100377,-0.18231137145949608,-0.35641472373461835,-0.1701325074198793,-0.07921908812037434,-0.2838872895901569,-0.11674643568931799,0.05639691682666603,-0.11398387722990198,-0.0957753201200283,-0.18522714623454462,-0.31614231359528305,-0.20751537185129182,-0.028311321198819683,0.12806004152226072,-0.2824945295800581,-0.09251609108384459,-0.17981181110957706,-0.2819053730209193,-0.0467519302455228,-0.28443268165610014,-0.09441478545758639,-0.288204704557238,-0.03924086863982201,-0.2755498337410104,-0.1871093782332771,-0.09668368336189292,-0.23581110003514202,-0.1819967212605097,0.06355905119649559,-0.1341330271395618,-0.11134230497363722,-0.28377145025730915,-0.1459253866506042,-0.27903342391495095,-0.6166648201781691,-0.28389116374331536,-0.15761732039300272,-0.36937033721368595,-0.11800421478409268,-0.9077435190869793,-0.19151696673249952,-0.18798198121762502,-0.15938406767758462,0.09693249491005937,-0.16660137735780364,-0.09924319993969308,-0.2812694835026373,-0.28115942885348993,-0.04196905967620537,-0.27417122860619253,-0.06001829201315655,-0.2450041312616979,-0.10707399316944038,-0.05773718335139518,-0.18084927174592402,-0.1576226923403317,-0.10445195486751618,-0.24023605228273553,-0.7614587749492377,-0.10219739804397054,-0.12371097799915001,-0.268405196186489,-0.11797226482092636,-0.17920568796317526,-0.10751440087422723,-0.20927983976356795,0.007946390473857558,-0.19928444115304386,-0.08937035009763004,-0.2802689591839063,0.5273806609959305,-0.11110468881192344,-0.027911654188680718,-0.11682849745639891,-0.20926110940399606,0.23958349356433772,-0.19610048596452487,-0.11380024407679089,-0.11371891527573431,-0.09347594550786247,-0.09533063241947021,-0.06798752731178244,-0.1146410801362241,-0.2861002276688538,0.486339374179634,-0.18005488709321937,-0.2238888634016728,-0.18234269404976508,0.08226069456819171,-0.11379251730228188,0.11674738677353616,-0.013444539325281597,-0.08226235633556493,-0.15389406409621814,-0.16525303255767398,-0.10743158330868448,-0.1590615778882788,-0.13347464203892392,-0.1855199421740649,-0.1084281164625214,-0.18710967534628464,-0.1997155681828362,-0.04684156750526635,-0.1626384490571251,-0.7005665635240069,-0.1959553385877204,-0.020093883902655246,0.413668348788186,-0.1871295541304835,-0.11474872880605921,-0.23593807977274528,0.40760481614091804,0.14544635984337703,-0.11425181723417886,0.41025482298028504,-0.004331237088267704,-0.27688691684434114,-0.18011345965383282,-0.2968883305802594,-0.07667642518201079,-0.27625516938696454,-0.1610962900056249,-0.18119438825555118,-0.12085169207787624,0.23412494112228036,-0.22567265392583277,-0.20927571763540304,-0.1744696327299979,0.23958349356433772,-0.12459833641886009,-0.06783878911673784,-0.21043635250202114,0.7176234237919633,-0.22335707195099289,-0.21858162380157606,-0.1427291322115974,-0.16273386135432183,-0.2040171664467784,-0.015025069294473026,-0.22110310095645155,-0.21729591323820047,0.17594604340188108,0.05517578361091227,-0.28994622701734135,-0.10993939273433928,-0.18345769194679737,-0.17951966264031183,-0.10743279848398922,-0.1072820015763483,-0.14592552323693722,-0.17670804060188186,-0.21809577967424612,-0.40941647357666217,0.029185384542028837,-0.39233172553359535,-0.28845144226627045,0.14232630444819142,-0.16622619975132,-0.20745079178812442,-0.18576341200183596,-0.2826209652682613,-0.17731398118935618,0.006432512938087502,-0.2568491628123441,-0.11318284526500752,-0.5451186613867665,-0.21338351806051814,-0.26627697459696886,0.40844668731618006,-0.11318810625698483,-0.1683728211863394,0.2570834615670879,-0.11047596399558393,-0.2239816450380522,-0.2205707455243393,-0.1851343140051934,0.1380901152580949,-0.12581846654689124,-0.2779203489512471,-0.03935524408468485,-0.16191404843503868,0.23973692285820314,-0.2228681322086452,-0.09460073085786379,0.13680990410791036,-0.2804543630037065,0.22279233611053556,-0.3183948648112588,-0.1688454015859808,-0.18083486468131665,-0.28860297511569255,-0.08597171324864869,-0.15789694670015236,-0.10210391327776058,-0.1633749451043157,-0.07920096503443914,-0.11289303549873393,-0.2838911770930105,-0.05442949485907117,-0.28290746565296726,-0.1747891753282468,-0.1739004404567612,-0.22004443308041266,-0.12309863538087784,-0.08624575771126922,-0.17934802723017734,-0.4386429499333141,0.44591274923980656,1.0120963118948618,-0.1298953879013809,-0.11291854398459036,-0.15762080291438385,-0.11259038443580001,0.011185696766250445,-0.2745437220347278,0.4091655691210376,-0.3272969366273434,-0.19610245806202203,-0.2683722260696113,-0.23247856877026227,-0.2324792421127852,-0.2041323728711315,-0.22331470299550887,-0.14484883087459297,-0.1843945545360426,-0.25250545728278734,-0.11638915840730253,-0.18341883140482168,-0.061461129308162304,-0.1793079528089683,-0.21647857029946938,-0.16883880087732658,0.47225400686952607,-0.18012075379874498,-0.2643623604301788,-0.1042505822110665,-0.0752360471122607,-0.0399207756712907,-0.07119255271982979,-0.18551967009028275,0.011433118582411535,-0.23252095548013238,0.10925987743128057,-0.2223483058186047,0.12935914238820598,-0.16161393796363607,-0.1252184594796275,-0.2809181243143299,-0.17616361020551877,-0.134930743671974,-0.2291691732035897,-0.1130771118321898,-0.09868716269160871,-0.09784268715223547,-0.18999545821080102,-0.1661200689317562,-0.1040763055774217,-0.2537792316954761,0.14283159644046942,0.15536108511951757,-0.1772478746827166,-0.4206689090988038,-0.2174427993073576,-0.20253180159837997,-0.28435572573881324,-0.08228099346039817,-0.16150128550559062,-0.17631807303402686,-0.1688696554027761,0.1361794159121147,-0.16303967425996554,-0.27008992583166386,-0.22572367118422937,-0.2185986471867248,0.023957735659757482,-0.2873002961796315,-0.15856367979837344,-0.5310787036062039,0.2724035866591239,0.02308570125971731,-0.06495604872635033,-0.1980806921763196,-0.5855329287492124,-0.22223567799326527,-0.1590080566986548,-0.28242574398038506,-0.12594399352300228,-0.010154344090092348,0.14226504692888126,-0.2450989524338703,-0.29453219020305194,-0.16071064735614268,-0.6434448301653899,-0.06361474675817905,-0.217947948236484,0.009912841965837152,0.11236784315548229,-0.2751159220724944,-0.16239931185657108,-0.2356991466161329,-0.05210917864738255,-0.06543453818885714,-0.2025799526853754,-0.21183455582569002,-0.21748824325416452,-0.0392991847101349,-0.23437599305881432,0.11567959699447854,0.4099089207022583,-0.1457762912121439,-0.2487569465633609,-0.16337284443072525,0.011364494945290843,0.3015692977826081,-0.14952122770725187,0.11332315293364713,-0.2228382613555637,-0.14977795347295433,-0.18567594422407901,-0.19101288728265334,-0.39788371260081146,0.009463394867708638,-0.21165076403075395,-0.1438879735155642,-0.2080912026900921,-0.18775518830449445,-0.2305135722655707,0.016149418339322933,-0.1458830876777413,-0.03994440466848583,-0.16270145316013931,-0.21819656763323356,0.08865771585372532,-0.5068931058188396,0.272377991347292,0.1303851907214204,0.06666590527377142,-0.08724988643989193,-0.1771327070354743,-0.1665945351339103,-0.028640112076953706,0.11576706498750232,0.042471324509377774,0.0094588214620348,0.10318203936659055,0.11896851185537301,-0.2849514153041923,-0.18513740052077726,-0.4135235902015674,-0.7295118775129356,-0.2643611328447402,-0.2869664119100332,0.09828028791398684,-0.08227192797376576,0.012169931938282386,0.195582685802898,-0.2219324756660929,0.22478778611108652,0.027196238633024686,-0.11379480708327144,-0.2262495658917697,-0.3676339985511499,-0.11764382155036857,0.14358018625226676,-0.20961003267589018,-0.035236366071164864,-0.23378177631869146,-0.15762080097893982,-0.9550026940912776,0.011538227721827516,-0.14756551240672588,0.015019186358573527,-0.36373807338722997,-0.3619797455160352,-0.02690287791418755,-0.18469905222362595,-0.21529371747976903,-0.1855276182266558,-0.2057838733642992,0.04729614909721809,-0.2089676822170721,0.2700368872537889,-0.24772427440838696,-0.10651773266304834,0.11346657331998165,-0.2181959049803225,-0.20387776853946982,0.3783631102297269,-0.13506585587550715,-0.1920071041164603,-0.15751272516128506,-0.14816206327771084,-0.07667984487395173,-0.23524667881188852,-0.2369528281623012,-0.2849162471439817,-0.11815594126281179,-0.20181206842485028,-0.14946598291563715,-0.3566268862894121,-0.22311627715082857,0.03293966129231696,-0.18711451635512638,-0.11067403272905545,-0.23580334154798788,-0.22498243442329766,-0.10676067578123398,-0.11633988833643748,-0.18137980331774425,-0.12537494112502817,-0.2831502450556716,-0.12843252493916732,-0.2657489671565702,-0.1169379072659559,-0.2253409458518675,0.4087310536214934,-0.26201525962969285,-0.2825765188467761,-0.7624713793796202,-0.1448145822839118,-0.3019144326239545,0.005575930771738789,-0.21892717846666587,-0.11169689329611389,1.9974679466584957,-0.09909969083403905,-0.09159729104376704,-0.32032842227726904,-0.23723406485235132,-0.27768557375566166,-0.2372981628323273,0.03269733088296458,-0.290266637838695,0.41399393210865415,0.2288006282401032,-0.18889935476141034,-0.23094296619322396,-0.1443325156372908,-0.18011451894754452,-0.03388379018981257],\"z\":[-0.061645303531036776,-0.06196033949373832,-0.13951888237895008,0.08502060312439347,0.0038947486479876245,0.029545253692856748,0.0387150447209163,0.0507276621778578,0.016219722034681187,0.09472996509678627,-0.08611303242400731,0.07581891125141983,0.026558242412323733,0.026608673955955047,0.048770231715625785,-0.5113681000265571,0.07096966341110794,0.03833750477300133,-0.058518409900502395,-0.05287747152705457,0.02831339405918388,0.019965393830666048,0.0907231301383773,0.015375157269628681,-0.0010347542539017541,-0.05222067580114779,0.0851648950639707,0.06255693432834929,0.020838664048515636,-0.06544973759036568,0.021716334090727887,-0.05409142324398338,0.019875809038480945,0.16575695715195865,0.016659031351922524,0.017300002902397485,0.07640374930118667,0.060982606416223585,-0.003144047026376858,0.021698784209482215,0.009043689074878958,0.013058247450889295,-0.049592310255938944,-0.04770320996982203,0.025650315297108373,0.23300275522577574,0.011920588713777156,0.03358606386317125,0.023015490311728205,-0.023734174824353353,0.0042602133091086455,-0.15942896469725407,0.03870399522999311,0.08501654953333733,0.019447981616056605,0.02252649665432144,0.018756656215814696,-0.0543669269097458,0.02117356306229691,0.08723443486119423,-0.0693174612803561,0.030658745460001195,0.013255216314344478,-0.04008167810258094,-0.06723288346360204,0.018444189753068736,0.08502469337907133,0.024114559701476003,-0.06716759535510208,0.22898748503751443,-0.03376799662928036,-0.05110117076056184,-0.08964254904569326,0.04877621069311863,0.015509405240296176,0.025266865673747935,0.006346906167553727,0.04555425609383729,0.0961338661348976,-0.003117972203976446,0.09482147230930951,0.37640363282335254,0.025407440236321303,0.05745902708654271,0.05246780052905611,0.08461827503429863,0.05005781128876718,-0.056926381856216596,-0.05477931415287334,0.06397794760962992,-0.04232506584131188,-0.002573965229648973,0.019488798222734634,0.04024915848678826,-0.0004912802727416166,0.09427932330525214,-0.06719058925943748,-0.004192178950703272,-0.3041432997234279,0.02602447856393067,-0.07973751845451323,0.00042030170407148106,0.019045462872663427,0.01677588387687434,-0.019136723803882136,0.019708904195935715,-0.04205562466931192,0.02497630920164535,-0.07196145826729117,0.025287055445826545,-0.02445828837377639,0.007092865495177152,-0.052064803213864266,-0.03811775171980272,0.04867117152890976,0.10350175515541618,0.02733305756857345,0.043200891604781876,-0.009193127846391612,0.03021606118663025,-0.03115320036596788,0.009476279509184749,-0.03047539291419215,0.01973531892230658,0.08502760813780126,-0.08069246745494363,-0.003632176813890799,-0.023352331181949983,0.08113701954706924,0.10363156291138002,0.08861778739527122,-0.5472470326808861,0.0971899754500248,0.06682669083103113,0.00832540219455359,0.01544351645086228,-0.04480096291986368,0.005670366919221181,-0.030592426761853562,0.08094142579280462,0.03220828924981278,-0.73065942789988,0.1128251775023289,0.08501666730423194,-0.05062811640535436,0.013689723519422438,0.0006574378209200342,0.02655519042639109,0.016201550753360282,0.029536540801812994,0.04018737649063191,0.054134229087705196,-0.03165559141906262,-0.03247866071214943,-0.034256383926227846,0.07800092196742942,0.0896484390412663,0.016626485295960076,-0.26627240636821103,0.036981938504600104,-0.1071680181117304,0.016384559142563284,0.08904372105628292,-0.02868607012672038,0.022542847945324632,0.09098981142070113,0.03918106562317128,0.012007801138164876,0.018593266367615876,-0.12017077428241806,0.04504188411803011,0.019231790803108783,-0.06291761330786362,-0.06591201776897807,-0.057271339841837035,-0.05484310763894144,-0.022756997985416985,0.09100554823805115,0.05698132642139692,0.09358915132953284,0.032935090237948654,-0.15343449059973682,0.050147916487624455,0.031353225354545614,0.09644962246616064,0.015465364088103886,-0.004915279051090752,0.10089574009892945,-0.05206540833222631,0.035832323048931074,-0.042238185346175,0.09318350852321944,0.23597064178796848,0.0169303244584429,-0.14259039815250346,-0.06606208846179397,-0.052105894669145884,0.03874211904730474,0.14579318279625825,-0.0653518392595003,-0.06624494485153144,-0.08058195154892737,-0.06404590205044292,-0.11059089533758919,0.011487948650704497,0.09473223342696335,-0.9482901962026866,0.01166415436405673,0.015134641094288368,0.0667894406463666,-0.2620569744512834,0.04665792447329562,-0.013063846480584165,-0.0553384941045382,-0.03247026533605209,0.11566126428451914,-0.02868607012672038,0.09644634919373377,0.005111716805137898,-0.02096990695722128,-0.13739834782524454,-0.05303186976444091,-0.05555183965398944,0.011883077707633673,0.06826813042246793,-0.03485982468505522,-0.10735630544193041,-0.04999946765973164,-0.05869403637088851,-0.0028563801198351643,-0.09478166265885418,0.019585118242225627,0.06205439274048887,0.10583204194659826,-0.034307275439985664,0.03135075045485791,0.04277529591355081,-0.031153478545973518,0.1173857575161619,-0.056270243936126646,0.1043843276157457,-0.013930177499864629,0.34028642785377355,0.02307482106361644,-0.06120023253677759,0.09808085904719634,0.09497810551551632,-0.005284370319953751,0.023193540641547734,0.09812654487077847,-0.04001767282287712,-0.24909397559420252,-0.006299105769599903,-0.6348130551040985,0.1663657576336999,0.09995734692158151,-0.053214819287729295,-0.006309820624773953,0.07452634510619056,-0.004259264271037266,0.014000168013332544,-0.05469470149237917,-0.05964482027457175,-0.0040031112050633215,0.030917575830790075,0.028534885461219576,0.0208246517431802,-0.05520590410178194,0.08831765446302227,-0.03428172615927982,-0.014730505789188473,-0.8119435576710962,0.031478152175955405,0.023587820994829208,-0.05243467858016753,0.08802101065007278,-0.2026028768545156,0.024920970021914117,0.3028353866865073,0.0343743926672111,0.005992082834729614,0.010286600776687645,0.0473623182411431,0.009614928550793489,-0.07801292335882645,0.0214281955389393,-0.051857525565331124,0.016677434147824202,0.15011034129079065,0.1141582821414089,-0.10221411909991228,0.04543782537998566,-0.08663107458604698,0.09716124646688028,-0.29044971756663474,0.12367277957008176,-0.5263439946444047,0.0760587100812851,-0.0780648754874056,0.08502051542365162,0.044223061279313004,-0.040393296960399755,0.006660214791093004,-0.05573430706414987,-0.18169358547847497,0.022538831452016777,0.02960368974044258,-0.0010671721429487205,-0.0010685435131478505,-0.012490678635456805,-0.04623450191238321,0.0576687104819847,-0.08175548664491214,0.4549585863427662,0.10464517658216607,0.08806397057040986,0.1206394605177788,0.11567295173130837,-0.05500534183772329,0.23700221503841531,-0.19114310252069683,0.09471737772927595,-0.15414579522719354,-0.018566959700346084,0.03942712973359575,0.2356670786889981,0.19546380845860054,-0.004914724908766921,0.00893402758581455,-0.0011534994856855843,0.048115846393605846,-0.05579656860979193,0.011244986027547138,-0.09646276055519795,0.18515159701480013,0.01850580229776248,0.3085869980695792,0.013534633321446438,-0.6279206069877368,-0.013926561508035977,-0.055051189903826264,0.10472331168223196,-0.03987293419751039,0.01656701248173261,0.053491533178739656,0.01712465958171968,0.055536548448323515,0.00556296995717639,0.12272073351837728,0.1137700120147102,-0.0969154740507728,-0.08401192785810074,0.020183937303914514,0.032897132739760186,-0.15306715925168998,0.11790439465919564,0.17586372550009138,0.013068290827556325,0.14612488908498328,0.03829484665907314,-0.05387365883948216,-0.060237512441021594,0.05355721103062861,0.11242944184905644,0.09869256269557837,0.13635632063256334,-0.008732746430439491,-0.04890781537277228,-0.04739063083040547,-0.05587863704647357,0.27283902893419226,-0.06208999597352068,0.1254941593122414,0.00256727482682999,0.07154826777355441,-0.00517668493517231,-0.07358583868483803,0.033797852944930935,-0.007494134027554333,0.06757486384335107,0.09485083027219479,0.03731494031607339,0.14117545996472444,-0.04019987659546572,0.043850866852226014,0.009160280413429395,0.06907626835058207,0.04877240850737079,0.07670626062901986,0.01782003926134849,-0.032967562102746914,-0.03655007855996377,0.07954058246169111,-0.02457705841760385,0.10180691499909977,0.03534369468398445,-0.0641518098451853,-0.036757682991156435,-0.649553512519599,0.04736659660031696,0.00879426452659811,-0.0350211375273596,0.051244523958676985,-0.020521488271148202,-0.05531661605241268,0.08206597485335011,0.10476091486205596,0.1586859538951267,0.24907137515263703,-0.044048181433805234,0.12040066304164308,0.044850957784864545,-0.11654760586704924,-0.028844645758466042,-0.07466482134233822,-0.04030678515512927,0.10577449138617036,-0.07768912175279995,0.06846090905640619,-0.02409121982816097,-0.4563507585231306,-0.3728399076275278,0.024752237498357664,0.03981090289467389,-0.3655184252808823,-0.07636539768620905,0.0929418724510653,0.09720391073797084,-0.1550754104419406,0.03180198168272606,0.003866662525334276,-0.03914719499682582,-0.11998915889073858,-0.01807656227707733,0.018228790684089908,-0.00400939738980126,0.10809743629494184,0.5366652147199444,0.10709457240085996,-0.332558410700699,0.034481552604878805,0.03291559605937139,-0.03570090730728623,-0.03726473710705193,0.07103612075804128,-0.003840832572605837,0.0037541377813582614,0.09100088473128491,-0.04715783438933234,-0.014991013267125333,-0.03596982852370889,0.9505806302053854,0.09640163688082978,0.08771035328235254,0.09240061524413318,0.08502051936549426,0.5194652257553226,-0.01564949402221517,0.05270012212555079,-0.0010897557209022853,0.3228211773976688,0.31624875727752816,0.04128354727260768,0.0941542650936926,0.030024620318665925,-0.0049309125651077305,0.09399584652724159,-0.0010039087712470126,0.0969678297606246,0.025383109521158933,-0.11681378512770146,-0.01185353380277623,0.06159848189880558,-0.024089870229073357,0.058622979914177246,0.014844460611756793,0.014930371313304061,0.07455207376900533,-0.006341004945206667,0.09180834729896067,0.011657189612153455,-0.5985591197624549,-0.08220387902342088,0.01771292924119319,-0.003941192157870015,0.2222328066819012,-0.0177120226546936,0.32299538814305234,-0.05473656970097415,0.041390502917965165,-0.05207526782428761,0.013596769224130247,0.048686972934155,-0.048285959641789986,-0.016562342189398286,0.043796647794856,0.05745896102627715,-0.03964284121556225,-0.07485354403410557,-0.006740867613945725,0.07188689533553916,0.046087343893844605,-0.0465343669556077,-0.06198161272505062,0.0171345553070923,0.022769961004758265,0.6579763174922781,0.021467104617862883,-0.9489208436168766,-0.059564943197434314,-0.014962708551623415,0.2298290671624651,0.42136277860240623,0.10764387852746557,-0.08219335769504561,0.06265173883711159,-0.6466459071212762,0.010163773898518634,-0.6467764529528129,0.04102373225772271,-0.0546149226407785,-0.06499293503531496,0.0018407983264610403,-0.4068277467097859,-0.038168288761883065,0.04491328437470226,0.09473007600517752,-0.04404811098358717]},{\"customdata\":[[\"VeChainThor Authority\"],[\"Proof-of-Authority\"]],\"hovertemplate\":\"<b>%{hovertext}</b><br><br>Class=%{marker.color}<br>PC 1=%{x}<br>PC 2=%{y}<br>PC 3=%{z}<br>Algorithm=%{customdata[0]}<extra></extra>\",\"hovertext\":[\"Vechain\",\"Poa Network\"],\"legendgroup\":\"3\",\"marker\":{\"color\":[3,3],\"coloraxis\":\"coloraxis\",\"symbol\":\"diamond\"},\"mode\":\"markers\",\"name\":\"3\",\"scene\":\"scene\",\"showlegend\":true,\"type\":\"scatter3d\",\"x\":[13.121250371218865,-1.8422663026250172],\"y\":[9.368130235908293,25.305314389840902],\"z\":[18.907157363048203,22.09043555481779]},{\"customdata\":[[\"Proof-of-BibleHash\"],[\"SHA-256 + Hive\"]],\"hovertemplate\":\"<b>%{hovertext}</b><br><br>Class=%{marker.color}<br>PC 1=%{x}<br>PC 2=%{y}<br>PC 3=%{z}<br>Algorithm=%{customdata[0]}<extra></extra>\",\"hovertext\":[\"BiblePay\",\"LitecoinCash\"],\"legendgroup\":\"1\",\"marker\":{\"color\":[1,1],\"coloraxis\":\"coloraxis\",\"symbol\":\"square\"},\"mode\":\"markers\",\"name\":\"1\",\"scene\":\"scene\",\"showlegend\":true,\"type\":\"scatter3d\",\"x\":[-0.07480045549123254,-0.07343815057969408],\"y\":[11.600204161466666,26.47900487673873],\"z\":[-16.811059317296372,-20.78768441027005]},{\"customdata\":[[\"TRC10\"]],\"hovertemplate\":\"<b>%{hovertext}</b><br><br>Class=%{marker.color}<br>PC 1=%{x}<br>PC 2=%{y}<br>PC 3=%{z}<br>Algorithm=%{customdata[0]}<extra></extra>\",\"hovertext\":[\"BitTorrent\"],\"legendgroup\":\"2\",\"marker\":{\"color\":[2],\"coloraxis\":\"coloraxis\",\"symbol\":\"x\"},\"mode\":\"markers\",\"name\":\"2\",\"scene\":\"scene\",\"showlegend\":true,\"type\":\"scatter3d\",\"x\":[35.75546320719786],\"y\":[-2.2154934198270837],\"z\":[-4.988199996687707]}],                        {\"coloraxis\":{\"colorbar\":{\"title\":{\"text\":\"Class\"}},\"colorscale\":[[0.0,\"#0d0887\"],[0.1111111111111111,\"#46039f\"],[0.2222222222222222,\"#7201a8\"],[0.3333333333333333,\"#9c179e\"],[0.4444444444444444,\"#bd3786\"],[0.5555555555555556,\"#d8576b\"],[0.6666666666666666,\"#ed7953\"],[0.7777777777777778,\"#fb9f3a\"],[0.8888888888888888,\"#fdca26\"],[1.0,\"#f0f921\"]]},\"legend\":{\"title\":{\"text\":\"Class\"},\"tracegroupgap\":0,\"x\":0,\"y\":1},\"scene\":{\"domain\":{\"x\":[0.0,1.0],\"y\":[0.0,1.0]},\"xaxis\":{\"title\":{\"text\":\"PC 1\"}},\"yaxis\":{\"title\":{\"text\":\"PC 2\"}},\"zaxis\":{\"title\":{\"text\":\"PC 3\"}}},\"template\":{\"data\":{\"bar\":[{\"error_x\":{\"color\":\"#2a3f5f\"},\"error_y\":{\"color\":\"#2a3f5f\"},\"marker\":{\"line\":{\"color\":\"#E5ECF6\",\"width\":0.5},\"pattern\":{\"fillmode\":\"overlay\",\"size\":10,\"solidity\":0.2}},\"type\":\"bar\"}],\"barpolar\":[{\"marker\":{\"line\":{\"color\":\"#E5ECF6\",\"width\":0.5},\"pattern\":{\"fillmode\":\"overlay\",\"size\":10,\"solidity\":0.2}},\"type\":\"barpolar\"}],\"carpet\":[{\"aaxis\":{\"endlinecolor\":\"#2a3f5f\",\"gridcolor\":\"white\",\"linecolor\":\"white\",\"minorgridcolor\":\"white\",\"startlinecolor\":\"#2a3f5f\"},\"baxis\":{\"endlinecolor\":\"#2a3f5f\",\"gridcolor\":\"white\",\"linecolor\":\"white\",\"minorgridcolor\":\"white\",\"startlinecolor\":\"#2a3f5f\"},\"type\":\"carpet\"}],\"choropleth\":[{\"colorbar\":{\"outlinewidth\":0,\"ticks\":\"\"},\"type\":\"choropleth\"}],\"contour\":[{\"colorbar\":{\"outlinewidth\":0,\"ticks\":\"\"},\"colorscale\":[[0.0,\"#0d0887\"],[0.1111111111111111,\"#46039f\"],[0.2222222222222222,\"#7201a8\"],[0.3333333333333333,\"#9c179e\"],[0.4444444444444444,\"#bd3786\"],[0.5555555555555556,\"#d8576b\"],[0.6666666666666666,\"#ed7953\"],[0.7777777777777778,\"#fb9f3a\"],[0.8888888888888888,\"#fdca26\"],[1.0,\"#f0f921\"]],\"type\":\"contour\"}],\"contourcarpet\":[{\"colorbar\":{\"outlinewidth\":0,\"ticks\":\"\"},\"type\":\"contourcarpet\"}],\"heatmap\":[{\"colorbar\":{\"outlinewidth\":0,\"ticks\":\"\"},\"colorscale\":[[0.0,\"#0d0887\"],[0.1111111111111111,\"#46039f\"],[0.2222222222222222,\"#7201a8\"],[0.3333333333333333,\"#9c179e\"],[0.4444444444444444,\"#bd3786\"],[0.5555555555555556,\"#d8576b\"],[0.6666666666666666,\"#ed7953\"],[0.7777777777777778,\"#fb9f3a\"],[0.8888888888888888,\"#fdca26\"],[1.0,\"#f0f921\"]],\"type\":\"heatmap\"}],\"heatmapgl\":[{\"colorbar\":{\"outlinewidth\":0,\"ticks\":\"\"},\"colorscale\":[[0.0,\"#0d0887\"],[0.1111111111111111,\"#46039f\"],[0.2222222222222222,\"#7201a8\"],[0.3333333333333333,\"#9c179e\"],[0.4444444444444444,\"#bd3786\"],[0.5555555555555556,\"#d8576b\"],[0.6666666666666666,\"#ed7953\"],[0.7777777777777778,\"#fb9f3a\"],[0.8888888888888888,\"#fdca26\"],[1.0,\"#f0f921\"]],\"type\":\"heatmapgl\"}],\"histogram\":[{\"marker\":{\"pattern\":{\"fillmode\":\"overlay\",\"size\":10,\"solidity\":0.2}},\"type\":\"histogram\"}],\"histogram2d\":[{\"colorbar\":{\"outlinewidth\":0,\"ticks\":\"\"},\"colorscale\":[[0.0,\"#0d0887\"],[0.1111111111111111,\"#46039f\"],[0.2222222222222222,\"#7201a8\"],[0.3333333333333333,\"#9c179e\"],[0.4444444444444444,\"#bd3786\"],[0.5555555555555556,\"#d8576b\"],[0.6666666666666666,\"#ed7953\"],[0.7777777777777778,\"#fb9f3a\"],[0.8888888888888888,\"#fdca26\"],[1.0,\"#f0f921\"]],\"type\":\"histogram2d\"}],\"histogram2dcontour\":[{\"colorbar\":{\"outlinewidth\":0,\"ticks\":\"\"},\"colorscale\":[[0.0,\"#0d0887\"],[0.1111111111111111,\"#46039f\"],[0.2222222222222222,\"#7201a8\"],[0.3333333333333333,\"#9c179e\"],[0.4444444444444444,\"#bd3786\"],[0.5555555555555556,\"#d8576b\"],[0.6666666666666666,\"#ed7953\"],[0.7777777777777778,\"#fb9f3a\"],[0.8888888888888888,\"#fdca26\"],[1.0,\"#f0f921\"]],\"type\":\"histogram2dcontour\"}],\"mesh3d\":[{\"colorbar\":{\"outlinewidth\":0,\"ticks\":\"\"},\"type\":\"mesh3d\"}],\"parcoords\":[{\"line\":{\"colorbar\":{\"outlinewidth\":0,\"ticks\":\"\"}},\"type\":\"parcoords\"}],\"pie\":[{\"automargin\":true,\"type\":\"pie\"}],\"scatter\":[{\"marker\":{\"colorbar\":{\"outlinewidth\":0,\"ticks\":\"\"}},\"type\":\"scatter\"}],\"scatter3d\":[{\"line\":{\"colorbar\":{\"outlinewidth\":0,\"ticks\":\"\"}},\"marker\":{\"colorbar\":{\"outlinewidth\":0,\"ticks\":\"\"}},\"type\":\"scatter3d\"}],\"scattercarpet\":[{\"marker\":{\"colorbar\":{\"outlinewidth\":0,\"ticks\":\"\"}},\"type\":\"scattercarpet\"}],\"scattergeo\":[{\"marker\":{\"colorbar\":{\"outlinewidth\":0,\"ticks\":\"\"}},\"type\":\"scattergeo\"}],\"scattergl\":[{\"marker\":{\"colorbar\":{\"outlinewidth\":0,\"ticks\":\"\"}},\"type\":\"scattergl\"}],\"scattermapbox\":[{\"marker\":{\"colorbar\":{\"outlinewidth\":0,\"ticks\":\"\"}},\"type\":\"scattermapbox\"}],\"scatterpolar\":[{\"marker\":{\"colorbar\":{\"outlinewidth\":0,\"ticks\":\"\"}},\"type\":\"scatterpolar\"}],\"scatterpolargl\":[{\"marker\":{\"colorbar\":{\"outlinewidth\":0,\"ticks\":\"\"}},\"type\":\"scatterpolargl\"}],\"scatterternary\":[{\"marker\":{\"colorbar\":{\"outlinewidth\":0,\"ticks\":\"\"}},\"type\":\"scatterternary\"}],\"surface\":[{\"colorbar\":{\"outlinewidth\":0,\"ticks\":\"\"},\"colorscale\":[[0.0,\"#0d0887\"],[0.1111111111111111,\"#46039f\"],[0.2222222222222222,\"#7201a8\"],[0.3333333333333333,\"#9c179e\"],[0.4444444444444444,\"#bd3786\"],[0.5555555555555556,\"#d8576b\"],[0.6666666666666666,\"#ed7953\"],[0.7777777777777778,\"#fb9f3a\"],[0.8888888888888888,\"#fdca26\"],[1.0,\"#f0f921\"]],\"type\":\"surface\"}],\"table\":[{\"cells\":{\"fill\":{\"color\":\"#EBF0F8\"},\"line\":{\"color\":\"white\"}},\"header\":{\"fill\":{\"color\":\"#C8D4E3\"},\"line\":{\"color\":\"white\"}},\"type\":\"table\"}]},\"layout\":{\"annotationdefaults\":{\"arrowcolor\":\"#2a3f5f\",\"arrowhead\":0,\"arrowwidth\":1},\"autotypenumbers\":\"strict\",\"coloraxis\":{\"colorbar\":{\"outlinewidth\":0,\"ticks\":\"\"}},\"colorscale\":{\"diverging\":[[0,\"#8e0152\"],[0.1,\"#c51b7d\"],[0.2,\"#de77ae\"],[0.3,\"#f1b6da\"],[0.4,\"#fde0ef\"],[0.5,\"#f7f7f7\"],[0.6,\"#e6f5d0\"],[0.7,\"#b8e186\"],[0.8,\"#7fbc41\"],[0.9,\"#4d9221\"],[1,\"#276419\"]],\"sequential\":[[0.0,\"#0d0887\"],[0.1111111111111111,\"#46039f\"],[0.2222222222222222,\"#7201a8\"],[0.3333333333333333,\"#9c179e\"],[0.4444444444444444,\"#bd3786\"],[0.5555555555555556,\"#d8576b\"],[0.6666666666666666,\"#ed7953\"],[0.7777777777777778,\"#fb9f3a\"],[0.8888888888888888,\"#fdca26\"],[1.0,\"#f0f921\"]],\"sequentialminus\":[[0.0,\"#0d0887\"],[0.1111111111111111,\"#46039f\"],[0.2222222222222222,\"#7201a8\"],[0.3333333333333333,\"#9c179e\"],[0.4444444444444444,\"#bd3786\"],[0.5555555555555556,\"#d8576b\"],[0.6666666666666666,\"#ed7953\"],[0.7777777777777778,\"#fb9f3a\"],[0.8888888888888888,\"#fdca26\"],[1.0,\"#f0f921\"]]},\"colorway\":[\"#636efa\",\"#EF553B\",\"#00cc96\",\"#ab63fa\",\"#FFA15A\",\"#19d3f3\",\"#FF6692\",\"#B6E880\",\"#FF97FF\",\"#FECB52\"],\"font\":{\"color\":\"#2a3f5f\"},\"geo\":{\"bgcolor\":\"white\",\"lakecolor\":\"white\",\"landcolor\":\"#E5ECF6\",\"showlakes\":true,\"showland\":true,\"subunitcolor\":\"white\"},\"hoverlabel\":{\"align\":\"left\"},\"hovermode\":\"closest\",\"mapbox\":{\"style\":\"light\"},\"paper_bgcolor\":\"white\",\"plot_bgcolor\":\"#E5ECF6\",\"polar\":{\"angularaxis\":{\"gridcolor\":\"white\",\"linecolor\":\"white\",\"ticks\":\"\"},\"bgcolor\":\"#E5ECF6\",\"radialaxis\":{\"gridcolor\":\"white\",\"linecolor\":\"white\",\"ticks\":\"\"}},\"scene\":{\"xaxis\":{\"backgroundcolor\":\"#E5ECF6\",\"gridcolor\":\"white\",\"gridwidth\":2,\"linecolor\":\"white\",\"showbackground\":true,\"ticks\":\"\",\"zerolinecolor\":\"white\"},\"yaxis\":{\"backgroundcolor\":\"#E5ECF6\",\"gridcolor\":\"white\",\"gridwidth\":2,\"linecolor\":\"white\",\"showbackground\":true,\"ticks\":\"\",\"zerolinecolor\":\"white\"},\"zaxis\":{\"backgroundcolor\":\"#E5ECF6\",\"gridcolor\":\"white\",\"gridwidth\":2,\"linecolor\":\"white\",\"showbackground\":true,\"ticks\":\"\",\"zerolinecolor\":\"white\"}},\"shapedefaults\":{\"line\":{\"color\":\"#2a3f5f\"}},\"ternary\":{\"aaxis\":{\"gridcolor\":\"white\",\"linecolor\":\"white\",\"ticks\":\"\"},\"baxis\":{\"gridcolor\":\"white\",\"linecolor\":\"white\",\"ticks\":\"\"},\"bgcolor\":\"#E5ECF6\",\"caxis\":{\"gridcolor\":\"white\",\"linecolor\":\"white\",\"ticks\":\"\"}},\"title\":{\"x\":0.05},\"xaxis\":{\"automargin\":true,\"gridcolor\":\"white\",\"linecolor\":\"white\",\"ticks\":\"\",\"title\":{\"standoff\":15},\"zerolinecolor\":\"white\",\"zerolinewidth\":2},\"yaxis\":{\"automargin\":true,\"gridcolor\":\"white\",\"linecolor\":\"white\",\"ticks\":\"\",\"title\":{\"standoff\":15},\"zerolinecolor\":\"white\",\"zerolinewidth\":2}}},\"title\":{\"text\":\"Scatter Diagram\"},\"width\":1000},                        {\"responsive\": true}                    ).then(function(){\n",
       "                            \n",
       "var gd = document.getElementById('324c68a2-0fc6-409d-980e-5233cc574571');\n",
       "var x = new MutationObserver(function (mutations, observer) {{\n",
       "        var display = window.getComputedStyle(gd).display;\n",
       "        if (!display || display === 'none') {{\n",
       "            console.log([gd, 'removed!']);\n",
       "            Plotly.purge(gd);\n",
       "            observer.disconnect();\n",
       "        }}\n",
       "}});\n",
       "\n",
       "// Listen for the removal of the full notebook cells\n",
       "var notebookContainer = gd.closest('#notebook-container');\n",
       "if (notebookContainer) {{\n",
       "    x.observe(notebookContainer, {childList: true});\n",
       "}}\n",
       "\n",
       "// Listen for the clearing of the current output cell\n",
       "var outputEl = gd.closest('.output');\n",
       "if (outputEl) {{\n",
       "    x.observe(outputEl, {childList: true});\n",
       "}}\n",
       "\n",
       "                        })                };                });            </script>        </div>"
      ]
     },
     "metadata": {},
     "output_type": "display_data"
    }
   ],
   "source": [
    "# Create a 3D-Scatter with the PCA data and the clusters since we have three principal components\n",
    "fig = px.scatter_3d(clustered_df,\n",
    "    x=\"PC 1\",\n",
    "    y=\"PC 2\",\n",
    "    z=\"PC 3\",\n",
    "    hover_name='CoinName',\n",
    "    hover_data= ['Algorithm'],\n",
    "    color=\"Class\",\n",
    "    symbol=\"Class\",\n",
    "    width=1000,\n",
    "    title = \"Scatter Diagram\"\n",
    ")\n",
    "fig.update_layout(legend=dict(x=0, y=1))\n",
    "fig.show()\n"
   ]
  },
  {
   "cell_type": "markdown",
   "metadata": {},
   "source": [
    "#### Table of Tradable Cryptocurrencies"
   ]
  },
  {
   "cell_type": "code",
   "execution_count": 77,
   "metadata": {},
   "outputs": [
    {
     "data": {},
     "metadata": {},
     "output_type": "display_data"
    },
    {
     "data": {
      "application/vnd.holoviews_exec.v0+json": "",
      "text/html": [
       "<div id='2543'>\n",
       "\n",
       "\n",
       "\n",
       "\n",
       "\n",
       "  <div class=\"bk-root\" id=\"c5397686-0cb8-419c-b0eb-06c3a0e79816\" data-root-id=\"2543\"></div>\n",
       "</div>\n",
       "<script type=\"application/javascript\">(function(root) {\n",
       "  function embed_document(root) {\n",
       "    var docs_json = {\"16fb5964-51ce-4a3b-9a38-f637fe0a7b04\":{\"defs\":[{\"extends\":null,\"module\":null,\"name\":\"ReactiveHTML1\",\"overrides\":[],\"properties\":[]},{\"extends\":null,\"module\":null,\"name\":\"FlexBox1\",\"overrides\":[],\"properties\":[{\"default\":\"flex-start\",\"kind\":null,\"name\":\"align_content\"},{\"default\":\"flex-start\",\"kind\":null,\"name\":\"align_items\"},{\"default\":\"row\",\"kind\":null,\"name\":\"flex_direction\"},{\"default\":\"wrap\",\"kind\":null,\"name\":\"flex_wrap\"},{\"default\":\"flex-start\",\"kind\":null,\"name\":\"justify_content\"}]},{\"extends\":null,\"module\":null,\"name\":\"TemplateActions1\",\"overrides\":[],\"properties\":[{\"default\":0,\"kind\":null,\"name\":\"open_modal\"},{\"default\":0,\"kind\":null,\"name\":\"close_modal\"}]},{\"extends\":null,\"module\":null,\"name\":\"MaterialTemplateActions1\",\"overrides\":[],\"properties\":[{\"default\":0,\"kind\":null,\"name\":\"open_modal\"},{\"default\":0,\"kind\":null,\"name\":\"close_modal\"}]}],\"roots\":{\"references\":[{\"attributes\":{},\"id\":\"2552\",\"type\":\"StringFormatter\"},{\"attributes\":{\"editor\":{\"id\":\"2568\"},\"field\":\"TotalCoinsMined\",\"formatter\":{\"id\":\"2567\"},\"title\":\"TotalCoinsMined\"},\"id\":\"2569\",\"type\":\"TableColumn\"},{\"attributes\":{},\"id\":\"2572\",\"type\":\"NumberFormatter\"},{\"attributes\":{},\"id\":\"2563\",\"type\":\"IntEditor\"},{\"attributes\":{},\"id\":\"2568\",\"type\":\"NumberEditor\"},{\"attributes\":{\"editor\":{\"id\":\"2558\"},\"field\":\"ProofType\",\"formatter\":{\"id\":\"2557\"},\"title\":\"ProofType\"},\"id\":\"2559\",\"type\":\"TableColumn\"},{\"attributes\":{\"children\":[{\"id\":\"2544\"},{\"id\":\"2577\"},{\"id\":\"2584\"}],\"margin\":[0,0,0,0],\"name\":\"Row04853\",\"tags\":[\"embedded\"]},\"id\":\"2543\",\"type\":\"Row\"},{\"attributes\":{},\"id\":\"2547\",\"type\":\"StringFormatter\"},{\"attributes\":{},\"id\":\"2558\",\"type\":\"StringEditor\"},{\"attributes\":{},\"id\":\"2548\",\"type\":\"StringEditor\"},{\"attributes\":{},\"id\":\"2562\",\"type\":\"NumberFormatter\"},{\"attributes\":{},\"id\":\"2581\",\"type\":\"UnionRenderers\"},{\"attributes\":{\"editor\":{\"id\":\"2548\"},\"field\":\"CoinName\",\"formatter\":{\"id\":\"2547\"},\"title\":\"CoinName\"},\"id\":\"2549\",\"type\":\"TableColumn\"},{\"attributes\":{\"format\":\"0,0.0[00000]\"},\"id\":\"2567\",\"type\":\"NumberFormatter\"},{\"attributes\":{\"margin\":[5,5,5,5],\"name\":\"HSpacer04857\",\"sizing_mode\":\"stretch_width\"},\"id\":\"2544\",\"type\":\"Spacer\"},{\"attributes\":{\"data\":{\"Algorithm\":[\"Scrypt\",\"Scrypt\",\"X13\",\"SHA-256\",\"Ethash\",\"Scrypt\",\"X11\",\"CryptoNight-V7\",\"Ethash\",\"Equihash\",\"SHA-512\",\"Multiple\",\"SHA-256\",\"SHA-256\",\"Scrypt\",\"X15\",\"X11\",\"Scrypt\",\"Scrypt\",\"Scrypt\",\"Multiple\",\"Scrypt\",\"SHA-256\",\"Scrypt\",\"Scrypt\",\"Scrypt\",\"Quark\",\"Groestl\",\"Scrypt\",\"Scrypt\",\"Scrypt\",\"Scrypt\",\"Scrypt\",\"X11\",\"Scrypt\",\"Groestl\",\"Multiple\",\"SHA-256\",\"Scrypt\",\"Scrypt\",\"Scrypt\",\"Scrypt\",\"PoS\",\"Scrypt\",\"Scrypt\",\"NeoScrypt\",\"Scrypt\",\"Scrypt\",\"Scrypt\",\"Scrypt\",\"X11\",\"Scrypt\",\"X11\",\"SHA-256\",\"Scrypt\",\"Scrypt\",\"Scrypt\",\"SHA3\",\"Scrypt\",\"HybridScryptHash256\",\"Scrypt\",\"Scrypt\",\"SHA-256\",\"Scrypt\",\"X13\",\"Scrypt\",\"SHA-256\",\"Scrypt\",\"X13\",\"NeoScrypt\",\"Scrypt\",\"Scrypt\",\"Scrypt\",\"Scrypt\",\"Scrypt\",\"Scrypt\",\"X11\",\"X11\",\"SHA-256\",\"Multiple\",\"SHA-256\",\"PHI1612\",\"X11\",\"SHA-256\",\"SHA-256\",\"SHA-256\",\"X11\",\"Scrypt\",\"Scrypt\",\"Scrypt\",\"Scrypt\",\"Lyra2REv2\",\"Scrypt\",\"X11\",\"Multiple\",\"SHA-256\",\"X13\",\"Scrypt\",\"CryptoNight\",\"CryptoNight\",\"Shabal256\",\"Counterparty\",\"Scrypt\",\"SHA-256\",\"Groestl\",\"Scrypt\",\"Scrypt\",\"Scrypt\",\"X13\",\"Scrypt\",\"Scrypt\",\"Scrypt\",\"Scrypt\",\"X13\",\"Scrypt\",\"Stanford Folding\",\"X11\",\"Multiple\",\"QuBit\",\"Scrypt\",\"Scrypt\",\"Scrypt\",\"M7 POW\",\"Scrypt\",\"SHA-256\",\"Scrypt\",\"X11\",\"SHA3\",\"X11\",\"Lyra2RE\",\"SHA-256\",\"QUAIT\",\"X11\",\"X11\",\"Scrypt\",\"Scrypt\",\"Scrypt\",\"Ethash\",\"X13\",\"Blake2b\",\"SHA-256\",\"X15\",\"X11\",\"SHA-256\",\"BLAKE256\",\"Scrypt\",\"1GB AES Pattern Search\",\"SHA-256\",\"X11\",\"Scrypt\",\"SHA-256\",\"SHA-256\",\"NIST5\",\"Scrypt\",\"Scrypt\",\"X11\",\"Dagger\",\"Scrypt\",\"X11GOST\",\"X11\",\"Scrypt\",\"SHA-256\",\"Scrypt\",\"PoS\",\"Scrypt\",\"X11\",\"X11\",\"SHA-256\",\"SHA-256\",\"NIST5\",\"X11\",\"Scrypt\",\"POS 3.0\",\"Scrypt\",\"Scrypt\",\"Scrypt\",\"X13\",\"X11\",\"X11\",\"Equihash\",\"X11\",\"Scrypt\",\"CryptoNight\",\"SHA-256\",\"SHA-256\",\"X11\",\"Scrypt\",\"Multiple\",\"Scrypt\",\"Scrypt\",\"Scrypt\",\"SHA-256\",\"Scrypt\",\"Scrypt\",\"SHA-256D\",\"PoS\",\"Scrypt\",\"X11\",\"Lyra2Z\",\"PoS\",\"X13\",\"X14\",\"PoS\",\"SHA-256D\",\"Ethash\",\"Equihash\",\"DPoS\",\"X11\",\"Scrypt\",\"X11\",\"X13\",\"X11\",\"PoS\",\"Scrypt\",\"Scrypt\",\"X11\",\"PoS\",\"X11\",\"SHA-256\",\"Scrypt\",\"X11\",\"Scrypt\",\"Scrypt\",\"X11\",\"CryptoNight\",\"Scrypt\",\"Scrypt\",\"Scrypt\",\"Scrypt\",\"Quark\",\"QuBit\",\"Scrypt\",\"CryptoNight\",\"Lyra2RE\",\"Scrypt\",\"SHA-256\",\"X11\",\"Scrypt\",\"X11\",\"Scrypt\",\"CryptoNight-V7\",\"Scrypt\",\"Scrypt\",\"Scrypt\",\"X13\",\"X11\",\"Equihash\",\"Scrypt\",\"Scrypt\",\"Lyra2RE\",\"Scrypt\",\"Dagger-Hashimoto\",\"X11\",\"Blake2S\",\"X11\",\"Scrypt\",\"PoS\",\"X11\",\"NIST5\",\"PoS\",\"X11\",\"Scrypt\",\"Scrypt\",\"Scrypt\",\"SHA-256\",\"X11\",\"Scrypt\",\"Scrypt\",\"SHA-256\",\"PoS\",\"Scrypt\",\"X15\",\"SHA-256\",\"Scrypt\",\"POS 3.0\",\"CryptoNight-V7\",\"536\",\"Argon2d\",\"Blake2b\",\"Cloverhash\",\"CryptoNight\",\"NIST5\",\"X11\",\"NIST5\",\"Skein\",\"Scrypt\",\"X13\",\"Scrypt\",\"X11\",\"X11\",\"Scrypt\",\"CryptoNight\",\"X13\",\"Time Travel\",\"Scrypt\",\"Keccak\",\"SkunkHash v2 Raptor\",\"X11\",\"Skein\",\"SHA-256\",\"X11\",\"Scrypt\",\"VeChainThor Authority\",\"Scrypt\",\"PoS\",\"Scrypt\",\"Scrypt\",\"Scrypt\",\"Scrypt\",\"Scrypt\",\"Scrypt\",\"Scrypt\",\"CryptoNight\",\"SHA-512\",\"Ouroboros\",\"X11\",\"Equihash\",\"NeoScrypt\",\"X11\",\"Scrypt\",\"NeoScrypt\",\"Lyra2REv2\",\"Equihash\",\"Scrypt\",\"SHA-256\",\"NIST5\",\"PHI1612\",\"Dagger\",\"Scrypt\",\"Quark\",\"Scrypt\",\"POS 2.0\",\"Scrypt\",\"SHA-256\",\"X11\",\"NeoScrypt\",\"Ethash\",\"NeoScrypt\",\"X11\",\"DPoS\",\"NIST5\",\"X13\",\"Multiple\",\"Scrypt\",\"CryptoNight\",\"CryptoNight\",\"Ethash\",\"NIST5\",\"Quark\",\"X11\",\"CryptoNight-V7\",\"Scrypt\",\"Scrypt\",\"Scrypt\",\"X11\",\"BLAKE256\",\"X11\",\"NeoScrypt\",\"Quark\",\"NeoScrypt\",\"Scrypt\",\"Scrypt\",\"Scrypt\",\"X11\",\"X11\",\"SHA-256\",\"C11\",\"POS 3.0\",\"Ethash\",\"Scrypt\",\"CryptoNight\",\"SkunkHash\",\"Scrypt\",\"CryptoNight\",\"Scrypt\",\"Dagger\",\"Lyra2REv2\",\"X13\",\"Proof-of-BibleHash\",\"SHA-256 + Hive\",\"Scrypt\",\"Scrypt\",\"X11\",\"C11\",\"Proof-of-Authority\",\"X11\",\"XEVAN\",\"Scrypt\",\"VBFT\",\"Ethash\",\"CryptoNight\",\"Scrypt\",\"IMesh\",\"NIST5\",\"Scrypt\",\"Scrypt\",\"Equihash\",\"Scrypt\",\"Lyra2Z\",\"Green Protocol\",\"PoS\",\"Scrypt\",\"Semux BFT consensus\",\"X11\",\"Quark\",\"PoS\",\"CryptoNight\",\"X16R\",\"Scrypt\",\"NIST5\",\"Lyra2RE\",\"XEVAN\",\"Tribus\",\"Scrypt\",\"Lyra2Z\",\"CryptoNight\",\"CryptoNight Heavy\",\"CryptoNight\",\"Scrypt\",\"Scrypt\",\"Jump Consistent Hash\",\"SHA-256D\",\"CryptoNight\",\"Scrypt\",\"X15\",\"Scrypt\",\"Quark\",\"SHA-256\",\"DPoS\",\"X16R\",\"HMQ1725\",\"X11\",\"X16R\",\"Quark\",\"Quark\",\"Scrypt\",\"Lyra2REv2\",\"Quark\",\"Scrypt\",\"Scrypt\",\"CryptoNight-V7\",\"Cryptonight-GPU\",\"XEVAN\",\"CryptoNight Heavy\",\"X11\",\"X11\",\"Scrypt\",\"PoS\",\"SHA-256\",\"Keccak\",\"X11\",\"X11\",\"Scrypt\",\"SHA-512\",\"X16R\",\"ECC 256K1\",\"Equihash\",\"XEVAN\",\"Lyra2Z\",\"SHA-256\",\"XEVAN\",\"X11\",\"CryptoNight\",\"Quark\",\"Blake\",\"Blake\",\"Equihash\",\"Exosis\",\"Scrypt\",\"Scrypt\",\"Equihash\",\"Quark\",\"Equihash\",\"Quark\",\"Scrypt\",\"QuBit\",\"X11\",\"Scrypt\",\"XEVAN\",\"SHA-256D\",\"X11\",\"SHA-256\",\"X13\",\"SHA-256\",\"X11\",\"DPoS\",\"Scrypt\",\"Scrypt\",\"X11\",\"NeoScrypt\",\"Scrypt\",\"Blake\",\"Scrypt\",\"SHA-256\",\"Scrypt\",\"X11\",\"Scrypt\",\"Scrypt\",\"SHA-256\",\"X11\",\"SHA-256\",\"Scrypt\",\"Scrypt\",\"Scrypt\",\"Groestl\",\"X11\",\"Scrypt\",\"PoS\",\"Scrypt\",\"Scrypt\",\"X11\",\"SHA-256\",\"DPoS\",\"Scrypt\",\"Scrypt\",\"NeoScrypt\",\"SHA3-256\",\"Multiple\",\"X13\",\"Equihash+Scrypt\",\"DPoS\",\"Ethash\",\"DPoS\",\"SHA-256\",\"Leased POS\",\"PoS\",\"TRC10\",\"PoS\",\"SHA-256\",\"Scrypt\",\"CryptoNight\",\"Equihash\",\"Scrypt\"],\"Class\":{\"__ndarray__\":\"AAAAAAAAAAAAAAAAAAAAAAAAAAAAAAAAAAAAAAAAAAAAAAAAAAAAAAAAAAAAAAAAAAAAAAAAAAAAAAAAAAAAAAAAAAAAAAAAAAAAAAAAAAAAAAAAAAAAAAAAAAAAAAAAAAAAAAAAAAAAAAAAAAAAAAAAAAAAAAAAAAAAAAAAAAAAAAAAAAAAAAAAAAAAAAAAAAAAAAAAAAAAAAAAAAAAAAAAAAAAAAAAAAAAAAAAAAAAAAAAAAAAAAAAAAAAAAAAAAAAAAAAAAAAAAAAAAAAAAAAAAAAAAAAAAAAAAAAAAAAAAAAAAAAAAAAAAAAAAAAAAAAAAAAAAAAAAAAAAAAAAAAAAAAAAAAAAAAAAAAAAAAAAAAAAAAAAAAAAAAAAAAAAAAAAAAAAAAAAAAAAAAAAAAAAAAAAAAAAAAAAAAAAAAAAAAAAAAAAAAAAAAAAAAAAAAAAAAAAAAAAAAAAAAAAAAAAAAAAAAAAAAAAAAAAAAAAAAAAAAAAAAAAAAAAAAAAAAAAAAAAAAAAAAAAAAAAAAAAAAAAAAAAAAAAAAAAAAAAAAAAAAAAAAAAAAAAAAAAAAAAAAAAAAAAAAAAAAAAAAAAAAAAAAAAAAAAAAAAAAAAAAAAAAAAAAAAAAAAAAAAAAAAAAAAAAAAAAAAAAAAAAAAAAAAAAAAAAAAAAAAAAAAAAAAAAAAAAAAAAAAAAAAAAAAAAAAAAAAAAAAAAAAAAAAAAAAAAAAAAAAAAAAAAAAAAAAAAAAAAAAAAAAAAAAAAAAAAAAAAAAAAAAAAAAAAAAAAAAAAAAAAAAAAAAAAAAAAAAAAAAAAAAAAAAAAAAAAAAAAAAAAAAAAAAAAAAAAAAAAAAAAAAAAAAAAAAAAAAAAAAAAAAAAAAAAAAAAAAAAAAAAAAAAAAAAAAAAAAAAAAAAAAAAAAAAAAAAAAAAAAAAAAAAAAAAAAAAAAAAAAAAAAAAAAAAAAAAAAAAAAAAAAAAAAAAAAAAAAAAAAAAAAAAAAAAAAAAAAAAAAAAAAAAAAAAAAAAAAAAAAAAAAAAAAAAAAAAAAAAAAAAAAAAAAAAAAAAAAAAAAAAAAAAAAAAAAAAAAAAAAAAAAAAAAAAAAAAAAAAAAAAAAAAAAAAAAAAAAAAAAAAAAAAAAAAAAAAAAAAAAAAAAAAAAAAAAAAAAAAAAAAAAAAAAAAAAAAAAAAAAAAAAAAAAAAAAAAAAAAAAAAAAAAAAAAAAAAAAAAAAAAAAAAAAAAAAAAAAAAAAAAAAAAAAAAAAAAAAAAAAAAAAAAAAAAAAAAAAAAAAAAAAAAAAAAAAAAAAAAAAAAAAAAAAAAAAAAAAAAAAAAAAAAAAAAAAAAAAAAAAAAAAAAAAAAAAAAAAAAAAAAAAAAAAAAAAAAAAAAAAAAAAAAAAAAAAAAAAAAAAAAAAAAAAAAAAAAAAAAAAAAAAAAAAAAAAAAAAAAAAAAAAAAAAAAAAAAAAAAAAAAAAAAAAAAAAAAAAAAAAAAAAAAAAAAAAAAAAAAAAAAAAAAAAAAAAAAAAAAAAAAAAAAAAAAAAAAAAAAAAAAAAAAAAAAAAAAAAAAAAAAAAAAAAAAAAAAAAAAAAAAAAAAAAADAAAAAAAAAAAAAAAAAAAAAAAAAAAAAAAAAAAAAAAAAAAAAAAAAAAAAAAAAAAAAAAAAAAAAAAAAAAAAAAAAAAAAAAAAAAAAAAAAAAAAAAAAAAAAAAAAAAAAAAAAAAAAAAAAAAAAAAAAAAAAAAAAAAAAAAAAAAAAAAAAAAAAAAAAAAAAAAAAAAAAAAAAAAAAAAAAAAAAAAAAAAAAAAAAAAAAAAAAAAAAAAAAAAAAAAAAAAAAAAAAAAAAAAAAAAAAAAAAAAAAAAAAAAAAAAAAAAAAAAAAAAAAAAAAAAAAAAAAAAAAAAAAAAAAAAAAAAAAAAAAAAAAAAAAAAAAAAAAAAAAAAAAAAAAAAAAAAAAAAAAAAAAAAAAAAAAAAAAAAAAAAAAAAAAAAAAAAAAAAAAAAAAQAAAAEAAAAAAAAAAAAAAAAAAAAAAAAAAwAAAAAAAAAAAAAAAAAAAAAAAAAAAAAAAAAAAAAAAAAAAAAAAAAAAAAAAAAAAAAAAAAAAAAAAAAAAAAAAAAAAAAAAAAAAAAAAAAAAAAAAAAAAAAAAAAAAAAAAAAAAAAAAAAAAAAAAAAAAAAAAAAAAAAAAAAAAAAAAAAAAAAAAAAAAAAAAAAAAAAAAAAAAAAAAAAAAAAAAAAAAAAAAAAAAAAAAAAAAAAAAAAAAAAAAAAAAAAAAAAAAAAAAAAAAAAAAAAAAAAAAAAAAAAAAAAAAAAAAAAAAAAAAAAAAAAAAAAAAAAAAAAAAAAAAAAAAAAAAAAAAAAAAAAAAAAAAAAAAAAAAAAAAAAAAAAAAAAAAAAAAAAAAAAAAAAAAAAAAAAAAAAAAAAAAAAAAAAAAAAAAAAAAAAAAAAAAAAAAAAAAAAAAAAAAAAAAAAAAAAAAAAAAAAAAAAAAAAAAAAAAAAAAAAAAAAAAAAAAAAAAAAAAAAAAAAAAAAAAAAAAAAAAAAAAAAAAAAAAAAAAAAAAAAAAAAAAAAAAAAAAAAAAAAAAAAAAAAAAAAAAAAAAAAAAAAAAAAAAAAAAAAAAAAAAAAAAAAAAAAAAAAAAAAAAAAAAAAAAAAAAAAAAAAAAAAAAAAAAAAAAAAAAAAAAAAAAAAAAAAAAAAAAAAAAAAAAAAAAAAAAAAAAAAAAAAAAAAAAAAAAAAAAAAAAAAAAAAAAAAAAAAAAAAAAAAAAAAAAAAAAAAAAAAAAAAAAAIAAAAAAAAAAAAAAAAAAAAAAAAAAAAAAAAAAAA=\",\"dtype\":\"int32\",\"order\":\"little\",\"shape\":[533]},\"CoinName\":[\"42 Coin\",\"404Coin\",\"EliteCoin\",\"Bitcoin\",\"Ethereum\",\"Litecoin\",\"Dash\",\"Monero\",\"Ethereum Classic\",\"ZCash\",\"Bitshares\",\"DigiByte\",\"BitcoinDark\",\"PayCoin\",\"ProsperCoin\",\"KoboCoin\",\"Spreadcoin\",\"Argentum\",\"Aurora Coin\",\"BlueCoin\",\"MyriadCoin\",\"MoonCoin\",\"ZetaCoin\",\"SexCoin\",\"Quatloo\",\"EnergyCoin\",\"QuarkCoin\",\"Riecoin\",\"Digitalcoin \",\"BitBar\",\"Catcoin\",\"CryptoBullion\",\"CannaCoin\",\"CryptCoin\",\"CasinoCoin\",\"Diamond\",\"Verge\",\"DevCoin\",\"EarthCoin\",\"E-Gulden\",\"Einsteinium\",\"Emerald\",\"Exclusive Coin\",\"FlutterCoin\",\"Franko\",\"FeatherCoin\",\"GrandCoin\",\"GlobalCoin\",\"GoldCoin\",\"HoboNickels\",\"HyperStake\",\"Infinite Coin\",\"IOCoin\",\"IXcoin\",\"KrugerCoin\",\"LuckyCoin\",\"Litebar \",\"MaxCoin\",\"MegaCoin\",\"MediterraneanCoin\",\"MintCoin\",\"MinCoin\",\"MazaCoin\",\"Nautilus Coin\",\"NavCoin\",\"NobleCoin\",\"Namecoin\",\"NyanCoin\",\"OpalCoin\",\"Orbitcoin\",\"PotCoin\",\"PhoenixCoin\",\"Reddcoin\",\"RonPaulCoin\",\"StableCoin\",\"SmartCoin\",\"SuperCoin\",\"SyncCoin\",\"SysCoin\",\"TeslaCoin\",\"TigerCoin\",\"TittieCoin\",\"TorCoin\",\"TerraCoin\",\"UnbreakableCoin\",\"Unobtanium\",\"UroCoin\",\"UnitaryStatus Dollar\",\"UltraCoin\",\"ViaCoin\",\"VeriCoin\",\"Vertcoin\",\"WorldCoin\",\"X11 Coin\",\"Crypti\",\"JouleCoin\",\"StealthCoin\",\"ZCC Coin\",\"ByteCoin\",\"DigitalNote \",\"BurstCoin\",\"StorjCoin\",\"MonaCoin\",\"Neutron\",\"FairCoin\",\"Gulden\",\"RubyCoin\",\"PesetaCoin\",\"Kore\",\"Wild Beast Coin\",\"Dnotes\",\"Flo\",\"8BIT Coin\",\"Sativa Coin\",\"ArtByte\",\"Folding Coin\",\"Ucoin\",\"Unitus\",\"CypherPunkCoin\",\"OmniCron\",\"Vtorrent\",\"GreenCoin\",\"Cryptonite\",\"MasterCoin\",\"SoonCoin\",\"1Credit\",\"IslaCoin\",\"Nexus\",\"MarsCoin \",\"Crypto\",\"Anarchists Prime\",\"Droidz\",\"BowsCoin\",\"Squall Coin\",\"Song Coin\",\"BitZeny\",\"Diggits\",\"Expanse\",\"Paycon\",\"Siacoin\",\"Emercoin\",\"EverGreenCoin\",\"MindCoin\",\"I0coin\",\"Decred\",\"Revolution VR\",\"HOdlcoin\",\"EDRCoin\",\"Hitcoin\",\"Gamecredits\",\"DubaiCoin\",\"CarpeDiemCoin\",\"PWR Coin\",\"BillaryCoin\",\"GPU Coin\",\"Adzcoin\",\"SoilCoin\",\"YoCoin\",\"SibCoin\",\"EuropeCoin\",\"ZeitCoin\",\"SwingCoin\",\"SafeExchangeCoin\",\"Nebuchadnezzar\",\"Francs\",\"BolivarCoin\",\"Ratecoin\",\"Revenu\",\"Clockcoin\",\"VIP Tokens\",\"BitSend\",\"Omni\",\"Let it Ride\",\"PutinCoin\",\"iBankCoin\",\"Frankywillcoin\",\"MudraCoin\",\"PizzaCoin\",\"Lutetium Coin\",\"Komodo\",\"GoldBlocks\",\"CarterCoin\",\"Karbo\",\"BitTokens\",\"ZayedCoin\",\"MustangCoin\",\"ZoneCoin\",\"Circuits of Value\",\"RootCoin\",\"DopeCoin\",\"BitCurrency\",\"DollarCoin\",\"Swiscoin\",\"Shilling\",\"BuzzCoin\",\"Opair\",\"PesoBit\",\"Halloween Coin\",\"ZCoin\",\"CoffeeCoin\",\"RoyalCoin\",\"GanjaCoin V2\",\"TeamUP\",\"LanaCoin\",\"Elementrem\",\"ZClassic\",\"ARK\",\"InsaneCoin\",\"KiloCoin\",\"ArtexCoin\",\"EmberCoin\",\"XenixCoin\",\"FreeCoin\",\"PLNCoin\",\"AquariusCoin\",\"Kurrent\",\"Creatio\",\"Eternity\",\"Eurocoin\",\"BitcoinFast\",\"Stakenet\",\"BitConnect Coin\",\"MoneyCoin\",\"Enigma\",\"Cannabis Industry Coin\",\"Russiacoin\",\"PandaCoin\",\"GameUnits\",\"GAKHcoin\",\"Allsafe\",\"LiteCreed\",\"OsmiumCoin\",\"Bikercoins\",\"HexxCoin\",\"Klingon Empire Darsek\",\"Internet of People\",\"KushCoin\",\"Printerium\",\"PacCoin\",\"Impeach\",\"Citadel\",\"Zilbercoin\",\"FirstCoin\",\"BeaverCoin\",\"FindCoin\",\"VaultCoin\",\"Zero\",\"OpenChat\",\"Canada eCoin\",\"Zoin\",\"RenosCoin\",\"DubaiCoin\",\"VirtacoinPlus\",\"TajCoin\",\"Impact\",\"EB3coin\",\"Atmos\",\"HappyCoin\",\"Coinonat\",\"MacronCoin\",\"Condensate\",\"Independent Money System\",\"ArgusCoin\",\"LomoCoin\",\"ProCurrency\",\"GoldReserve\",\"BenjiRolls\",\"GrowthCoin\",\"ILCoin\",\"Phreak\",\"Degas Coin\",\"HTML5 Coin\",\"Ultimate Secure Cash\",\"EquiTrader\",\"QTUM\",\"Quantum Resistant Ledger\",\"Espers\",\"Dynamic\",\"Nano\",\"ChanCoin\",\"Dinastycoin\",\"Denarius\",\"DigitalPrice\",\"Virta Unique Coin\",\"Bitcoin Planet\",\"Unify\",\"BritCoin\",\"SocialCoin\",\"ArcticCoin\",\"DAS\",\"Linda\",\"LeviarCoin\",\"DeepOnion\",\"Bitcore\",\"gCn Coin\",\"SmartCash\",\"Signatum\",\"Onix\",\"Cream\",\"Bitcoin Cash\",\"Monoeci\",\"Draftcoin\",\"Vechain\",\"Sojourn Coin\",\"Stakecoin\",\"NewYorkCoin\",\"FrazCoin\",\"Kronecoin\",\"AdCoin\",\"Linx\",\"CoinonatX\",\"Ethereum Dark\",\"Sumokoin\",\"Obsidian\",\"Cardano\",\"Regalcoin\",\"BitcoinZ\",\"TrezarCoin\",\"Elements\",\"TerraNovaCoin\",\"VIVO Coin\",\"Rupee\",\"Bitcoin Gold\",\"WomenCoin\",\"Theresa May Coin\",\"NamoCoin\",\"LUXCoin\",\"Pirl\",\"Xios\",\"Bitcloud 2.0\",\"eBoost\",\"KekCoin\",\"BlackholeCoin\",\"Infinity Economics\",\"Pura\",\"Innova\",\"Ellaism\",\"GoByte\",\"Magnet\",\"Lamden Tau\",\"Electra\",\"Bitcoin Diamond\",\"SHIELD\",\"Cash & Back Coin\",\"UltraNote\",\"BitCoal\",\"DaxxCoin\",\"Bulwark\",\"Kalkulus\",\"AC3\",\"Lethean\",\"GermanCoin\",\"LiteCoin Ultra\",\"PopularCoin\",\"PhantomX\",\"Photon\",\"Sucre\",\"SparksPay\",\"Digiwage\",\"GunCoin\",\"IrishCoin\",\"Trollcoin\",\"Litecoin Plus\",\"Monkey Project\",\"Pioneer Coin\",\"UnitedBitcoin\",\"Interzone\",\"TokenPay\",\"1717 Masonic Commemorative Token\",\"My Big Coin\",\"TurtleCoin\",\"MUNcoin\",\"Unified Society USDEX\",\"Niobio Cash\",\"ShareChain\",\"Travelflex\",\"KREDS\",\"Tokyo Coin\",\"BiblePay\",\"LitecoinCash\",\"BitFlip\",\"LottoCoin\",\"Crypto Improvement Fund\",\"Stipend\",\"Poa Network\",\"Pushi\",\"Ellerium\",\"Velox\",\"Ontology\",\"Callisto Network\",\"BitTube\",\"Poseidon\",\"Aidos Kuneen\",\"Bitspace\",\"Briacoin\",\"Ignition\",\"Bitrolium\",\"MedicCoin\",\"Alpenschillling\",\"Bitcoin Green\",\"Deviant Coin\",\"Abjcoin\",\"Semux\",\"FuturoCoin\",\"Carebit\",\"Zealium\",\"Monero Classic\",\"Proton\",\"iDealCash\",\"Jumpcoin\",\"Infinex\",\"Bitcoin Incognito\",\"KEYCO\",\"HollyWoodCoin\",\"GINcoin\",\"PlatinCoin\",\"Loki\",\"Newton Coin\",\"Swisscoin\",\"Xt3ch\",\"MassGrid\",\"TheVig\",\"PluraCoin\",\"EmaratCoin\",\"Dekado\",\"Lynx\",\"Poseidon Quark\",\"BitcoinWSpectrum\",\"Muse\",\"Motion\",\"PlusOneCoin\",\"Axe\",\"Trivechain\",\"Dystem\",\"Giant\",\"Peony Coin\",\"Absolute Coin\",\"Vitae\",\"HexCoin\",\"TPCash\",\"Webchain\",\"Ryo\",\"Urals Coin\",\"Qwertycoin\",\"ARENON\",\"EUNO\",\"MMOCoin\",\"Ketan\",\"Project Pai\",\"XDNA\",\"PAXEX\",\"Azart\",\"ThunderStake\",\"Kcash\",\"Xchange\",\"Acute Angle Cloud\",\"CrypticCoin\",\"Bettex coin\",\"Actinium\",\"Bitcoin SV\",\"BitMoney\",\"Junson Ming Chan Coin\",\"FREDEnergy\",\"HerbCoin\",\"Universal Molecule\",\"Lithium\",\"PirateCash\",\"Exosis\",\"Block-Logic\",\"Oduwa\",\"Beam\",\"Galilel\",\"Bithereum\",\"Crypto Sports\",\"Credit\",\"SLICE\",\"Dash Platinum\",\"Nasdacoin\",\"Beetle Coin\",\"Titan Coin\",\"Award\",\"BLAST\",\"Bitcoin Rhodium\",\"GlobalToken\",\"Insane Coin\",\"ALAX\",\"LiteDoge\",\"SolarCoin\",\"TruckCoin\",\"UFO Coin\",\"OrangeCoin\",\"BlakeCoin\",\"BitstarCoin\",\"NeosCoin\",\"HyperCoin\",\"PinkCoin\",\"Crypto Escudo\",\"AudioCoin\",\"IncaKoin\",\"Piggy Coin\",\"Crown Coin\",\"Genstake\",\"SmileyCoin\",\"XiaoMiCoin\",\"Groestlcoin\",\"CapriCoin\",\" ClubCoin\",\"Radium\",\"Bata\",\"Pakcoin\",\"Creditbit \",\"OKCash\",\"Lisk\",\"HiCoin\",\"WhiteCoin\",\"FriendshipCoin\",\"Fiii\",\"JoinCoin\",\"Triangles Coin\",\"Vollar\",\"EOS\",\"Reality Clash\",\"Oxycoin\",\"TigerCash\",\"Waves\",\"Particl\",\"BitTorrent\",\"Nxt\",\"ZEPHYR\",\"Gapcoin\",\"Beldex\",\"Horizen\",\"BitcoinPlus\"],\"ProofType\":[\"PoW/PoS\",\"PoW/PoS\",\"PoW/PoS\",\"PoW\",\"PoW\",\"PoW\",\"PoW/PoS\",\"PoW\",\"PoW\",\"PoW\",\"PoS\",\"PoW\",\"PoW/PoS\",\"PoS\",\"PoW\",\"PoW/PoS\",\"PoW\",\"PoW\",\"PoW/PoS\",\"PoW/PoS\",\"PoW\",\"PoW\",\"PoW\",\"PoW\",\"PoW\",\"PoW/PoS\",\"PoW\",\"PoW\",\"PoW\",\"PoW/PoS\",\"PoW\",\"PoW/PoS\",\"PoW\",\"PoW\",\"PoC\",\"PoW/PoS\",\"PoW\",\"PoW\",\"PoW\",\"PoW\",\"PoW\",\"PoW\",\"PoS\",\"PoS/PoW/PoT\",\"PoW\",\"PoW\",\"PoW\",\"PoW\",\"PoW\",\"PoW/PoS\",\"PoS\",\"PoW\",\"PoW/PoS\",\"PoW\",\"PoW\",\"PoW\",\"PoW\",\"PoW/PoS\",\"PoW\",\"PoW\",\"PoS\",\"PoW\",\"PoW/PoS\",\"PoS\",\"PoW/PoS\",\"PoW\",\"PoW\",\"PoW\",\"PoW/PoS\",\"PoW/PoS\",\"PoW/PoS\",\"PoW/PoS\",\"PoW/PoS\",\"PoW\",\"PoW\",\"PoW\",\"PoS\",\"PoW/PoS\",\"PoW\",\"PoS\",\"PoW\",\"PoS\",\"PoW/PoS\",\"PoW\",\"PoW\",\"PoW\",\"PoW\",\"PoW/PoS\",\"PoW/PoS\",\"PoW\",\"PoST\",\"PoW\",\"PoW\",\"PoW/PoS\",\"PoS\",\"PoW\",\"PoW/PoS\",\"PoW/PoS\",\"PoW\",\"PoW\",\"PoC\",\"PoS\",\"PoW\",\"PoW/PoS\",\"PoW/PoS\",\"PoW\",\"PoS\",\"PoW\",\"PoW/PoS\",\"PoW\",\"PoS\",\"PoW\",\"PoW/PoS\",\"PoW/PoS\",\"PoW\",\"PoW\",\"PoS\",\"PoW\",\"PoW\",\"PoW\",\"PoW/PoS\",\"PoW\",\"PoW\",\"PoW\",\"PoW\",\"PoW\",\"PoW/PoS\",\"PoW/nPoS\",\"PoW\",\"PoW\",\"PoW\",\"PoW/PoS\",\"PoW\",\"PoS/PoW\",\"PoW\",\"PoW\",\"PoS\",\"PoW\",\"PoW/PoS\",\"PoW\",\"PoW/PoS\",\"PoW/PoS\",\"PoW\",\"PoW\",\"PoW/PoS\",\"PoW\",\"PoW\",\"PoW/PoS\",\"PoW/PoS\",\"PoW\",\"PoW/PoS\",\"PoW\",\"PoW/PoS\",\"PoW/PoS\",\"PoS\",\"PoW\",\"PoW\",\"PoW\",\"PoW\",\"PoW/PoS\",\"PoS\",\"PoW/PoS\",\"PoC\",\"PoS\",\"PoW\",\"PoW\",\"PoW/PoS\",\"PoW/PoS\",\"PoW/PoS\",\"PoW/PoS\",\"PoW/PoS\",\"PoW\",\"PoS\",\"PoW/PoS\",\"PoW/PoS\",\"PoW/PoS\",\"PoS\",\"PoW\",\"PoS\",\"dPoW/PoW\",\"PoW/PoS\",\"PoW/PoS\",\"PoW\",\"PoW/PoS\",\"PoW\",\"PoW/PoS\",\"PoW/PoS\",\"PoW\",\"PoW/PoS\",\"PoW\",\"PoS\",\"PoW\",\"PoW/PoW\",\"PoW\",\"PoW/PoS\",\"PoS\",\"PoW/PoS\",\"PoW/PoS\",\"PoW\",\"PoS\",\"PoS\",\"PoW/PoS\",\"PoS\",\"PoW/PoS\",\"PoW\",\"PoW\",\"DPoS\",\"PoW/PoS\",\"PoW\",\"PoW\",\"PoW/PoS\",\"PoW/PoS\",\"PoS\",\"PoW/PoS\",\"PoW/PoS\",\"PoW\",\"PoS\",\"PoW/PoS\",\"PoW/PoS\",\"PoW/PoS\",\"TPoS\",\"PoW/PoS\",\"PoW/PoS\",\"PoW/PoS\",\"PoW\",\"PoW/PoS\",\"PoS\",\"PoW/PoS\",\"PoW/PoS\",\"PoS\",\"PoW/PoS\",\"PoW\",\"PoW\",\"PoW\",\"PoW/PoS\",\"PoW/PoS\",\"PoW/PoS\",\"PoW/PoS\",\"PoW\",\"PoW/PoS\",\"PoW\",\"PoS\",\"PoW/PoS \",\"PoW\",\"PoS\",\"PoW\",\"PoW\",\"PoW/PoS\",\"PoW\",\"PoW\",\"PoS\",\"PoW\",\"PoW/PoS\",\"PoW/PoS\",\"PoW/PoS\",\"PoW\",\"PoS\",\"PoW/PoS\",\"PoW\",\"PoS\",\"PoW/PoS\",\"PoW/PoS\",\"PoW/PoS\",\"PoW/PoS\",\"PoS\",\"PoW/PoS\",\"PoW\",\"PoS\",\"PoW\",\"PoS\",\"PoW/PoS\",\"PoW/PoS\",\"PoS\",\"PoW\",\"PoS\",\"PoW\",\"PoW/PoS\",\"PoW\",\"PoW\",\"PoW\",\"PoW\",\"PoW/PoS\",\"PoW\",\"PoW/PoS\",\"PoW/PoS\",\"PoW\",\"PoW/PoS\",\"PoW\",\"PoW\",\"PoW\",\"PoW/PoS\",\"PoW\",\"PoW/PoS\",\"PoW\",\"PoW\",\"PoW\",\"PoS\",\"PoW\",\"PoW/PoS\",\"PoW\",\"PoW/PoS\",\"PoS\",\"Proof of Authority\",\"PoW\",\"PoS\",\"PoW\",\"PoW\",\"PoW\",\"PoW\",\"PoW\",\"PoW/PoS\",\"PoW/PoS\",\"PoW\",\"PoS\",\"PoS\",\"PoW/PoS\",\"PoW\",\"PoW/PoS\",\"PoW\",\"PoW/PoS\",\"PoW\",\"PoS\",\"PoW\",\"PoW/PoS\",\"PoW/PoS\",\"PoW/PoS\",\"PoW/PoS\",\"PoW\",\"PoW/PoS\",\"PoW/PoS\",\"PoW\",\"PoS\",\"PoW/PoS\",\"PoS\",\"PoW\",\"PoW\",\"PoW\",\"PoW\",\"PoW/PoS\",\"DPoS\",\"PoW/PoS\",\"PoW/PoS\",\"PoW\",\"PoW/PoS\",\"PoW\",\"PoW\",\"PoW\",\"PoS\",\"PoS\",\"PoW\",\"PoW\",\"PoW/PoS\",\"PoW/PoS\",\"PoW\",\"PoW/PoS\",\"PoW\",\"PoW\",\"PoW\",\"PoS\",\"PoW\",\"PoW\",\"PoW/PoS\",\"PoW/PoS\",\"PoS\",\"PoW\",\"PoW\",\"PoW\",\"PoS\",\"PoS\",\"PoW and PoS\",\"PoW\",\"PoW\",\"PoW/PoS\",\"PoW\",\"PoW\",\"PoW\",\"PoW\",\"PoS\",\"POBh\",\"PoW + Hive\",\"PoW\",\"PoW\",\"PoW\",\"PoW/PoS\",\"PoA\",\"PoW/PoS\",\"PoW/PoS\",\"PoS\",\"PoS\",\"PoW\",\"PoW\",\"PoW\",\"PoW\",\"PoW/PoS\",\"PoW/PoS\",\"PoW/PoS\",\"PoW\",\"PoS\",\"PoW\",\"PoS\",\"PoS\",\"PoW/PoS\",\"DPoS\",\"PoW\",\"PoW/PoS\",\"PoS\",\"PoW\",\"PoS\",\"PoW/PoS\",\"PoW\",\"PoW\",\"PoS/PoW\",\"PoW\",\"PoS\",\"PoW\",\"PoW\",\"PoW\",\"PoW\",\"PoW/PoS\",\"PoS\",\"PoW\",\"PoW/PoS\",\"PoW\",\"PoW/PoS\",\"PoS\",\"HPoW\",\"PoS\",\"PoS\",\"PoS\",\"PoW\",\"PoW\",\"PoW\",\"PoW/PoS\",\"PoS\",\"PoW/PoS\",\"PoS\",\"PoW/PoS\",\"PoS\",\"PoW\",\"PoW/PoS\",\"PoW\",\"PoW\",\"PoW\",\"PoW\",\"PoS\",\"PoW/PoS\",\"PoS\",\"PoS\",\"PoW\",\"PoW/PoS\",\"PoS\",\"PoW\",\"PoW/PoS\",\"Zero-Knowledge Proof\",\"PoW\",\"DPOS\",\"PoW\",\"PoS\",\"PoW\",\"PoW\",\"Pos\",\"PoS\",\"PoW\",\"PoW/PoS\",\"PoW\",\"PoW\",\"PoS\",\"PoW\",\"PoW\",\"PoW/PoS\",\"PoW\",\"PoW/PoS\",\"PoW\",\"PoS\",\"PoW/PoS\",\"PoW\",\"PoS\",\"PoW/PoS\",\"PoW/PoS\",\"PoW/PoS\",\"PoW/PoS\",\"PoW\",\"PoW\",\"PoW\",\"PoW/PoS\",\"DPoS\",\"PoW/PoS\",\"PoW\",\"PoW/PoS\",\"PoW\",\"PoW/PoS\",\"PoW\",\"PoW/PoS\",\"PoS\",\"PoW/PoS\",\"PoW/PoS\",\"PoW\",\"PoW/PoS\",\"PoW/PoS\",\"PoW/PoS\",\"PoW\",\"PoW/PoS\",\"PoW\",\"PoW/PoS\",\"PoW\",\"PoW/PoS\",\"PoW/PoS\",\"PoS\",\"PoW\",\"PoW\",\"Proof of Trust\",\"PoW/PoS\",\"DPoS\",\"PoS\",\"PoW/PoS\",\"PoW/PoS\",\"DPoC\",\"PoW\",\"PoW/PoS\",\"PoW\",\"DPoS\",\"PoW\",\"DPoS\",\"PoS\",\"LPoS\",\"PoS\",\"DPoS\",\"PoS/LPoS\",\"DPoS\",\"PoW/PoS\",\"PoW\",\"PoW\",\"PoS\"],\"TotalCoinSupply\":{\"__ndarray__\":\"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\",\"dtype\":\"int32\",\"order\":\"little\",\"shape\":[533]},\"TotalCoinsMined\":{\"__ndarray__\":\"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\",\"dtype\":\"float64\",\"order\":\"little\",\"shape\":[533]}},\"selected\":{\"id\":\"2546\"},\"selection_policy\":{\"id\":\"2581\"}},\"id\":\"2545\",\"type\":\"ColumnDataSource\"},{\"attributes\":{},\"id\":\"2573\",\"type\":\"IntEditor\"},{\"attributes\":{\"margin\":[5,5,5,5],\"name\":\"HSpacer04858\",\"sizing_mode\":\"stretch_width\"},\"id\":\"2584\",\"type\":\"Spacer\"},{\"attributes\":{\"editor\":{\"id\":\"2573\"},\"field\":\"Class\",\"formatter\":{\"id\":\"2572\"},\"title\":\"Class\"},\"id\":\"2574\",\"type\":\"TableColumn\"},{\"attributes\":{},\"id\":\"2557\",\"type\":\"StringFormatter\"},{\"attributes\":{\"source\":{\"id\":\"2545\"}},\"id\":\"2579\",\"type\":\"CDSView\"},{\"attributes\":{\"editor\":{\"id\":\"2553\"},\"field\":\"Algorithm\",\"formatter\":{\"id\":\"2552\"},\"title\":\"Algorithm\"},\"id\":\"2554\",\"type\":\"TableColumn\"},{\"attributes\":{\"editor\":{\"id\":\"2563\"},\"field\":\"TotalCoinSupply\",\"formatter\":{\"id\":\"2562\"},\"title\":\"TotalCoinSupply\"},\"id\":\"2564\",\"type\":\"TableColumn\"},{\"attributes\":{},\"id\":\"2553\",\"type\":\"StringEditor\"},{\"attributes\":{\"columns\":[{\"id\":\"2549\"},{\"id\":\"2554\"},{\"id\":\"2559\"},{\"id\":\"2564\"},{\"id\":\"2569\"},{\"id\":\"2574\"}],\"height\":300,\"reorderable\":false,\"source\":{\"id\":\"2545\"},\"view\":{\"id\":\"2579\"},\"width\":700},\"id\":\"2577\",\"type\":\"DataTable\"},{\"attributes\":{},\"id\":\"2546\",\"type\":\"Selection\"}],\"root_ids\":[\"2543\"]},\"title\":\"Bokeh Application\",\"version\":\"2.3.2\"}};\n",
       "    var render_items = [{\"docid\":\"16fb5964-51ce-4a3b-9a38-f637fe0a7b04\",\"root_ids\":[\"2543\"],\"roots\":{\"2543\":\"c5397686-0cb8-419c-b0eb-06c3a0e79816\"}}];\n",
       "    root.Bokeh.embed.embed_items_notebook(docs_json, render_items);\n",
       "  }\n",
       "  if (root.Bokeh !== undefined && root.Bokeh.Panel !== undefined) {\n",
       "    embed_document(root);\n",
       "  } else {\n",
       "    var attempts = 0;\n",
       "    var timer = setInterval(function(root) {\n",
       "      if (root.Bokeh !== undefined && root.Bokeh.Panel !== undefined) {\n",
       "        clearInterval(timer);\n",
       "        embed_document(root);\n",
       "      } else if (document.readyState == \"complete\") {\n",
       "        attempts++;\n",
       "        if (attempts > 200) {\n",
       "          clearInterval(timer);\n",
       "          console.log(\"Bokeh: ERROR: Unable to run BokehJS code because BokehJS library is missing\");\n",
       "        }\n",
       "      }\n",
       "    }, 25, root)\n",
       "  }\n",
       "})(window);</script>"
      ],
      "text/plain": [
       ":Table   [CoinName,Algorithm,ProofType,TotalCoinSupply,TotalCoinsMined,Class]"
      ]
     },
     "execution_count": 77,
     "metadata": {
      "application/vnd.holoviews_exec.v0+json": {
       "id": "2543"
      }
     },
     "output_type": "execute_result"
    }
   ],
   "source": [
    "# Table with tradable cryptos\n",
    "clustered_df.hvplot.table(columns = \n",
    "            ['CoinName', 'Algorithm', 'ProofType', 'TotalCoinSupply', 'TotalCoinsMined', 'Class'], \n",
    "            sortable=True, selectable=True)"
   ]
  },
  {
   "cell_type": "code",
   "execution_count": 78,
   "metadata": {},
   "outputs": [
    {
     "name": "stdout",
     "output_type": "stream",
     "text": [
      "Total number of tradeable currencies: 533\n"
     ]
    }
   ],
   "source": [
    "# Print the total number of tradable cryptocurrencies\n",
    "print(f\"Total number of tradeable currencies: {len(clustered_df['CoinName'])}\")"
   ]
  },
  {
   "cell_type": "markdown",
   "metadata": {},
   "source": [
    "#### Scatter Plot with Tradable Cryptocurrencies"
   ]
  },
  {
   "cell_type": "code",
   "execution_count": 79,
   "metadata": {},
   "outputs": [
    {
     "data": {
      "text/html": [
       "<div>\n",
       "<style scoped>\n",
       "    .dataframe tbody tr th:only-of-type {\n",
       "        vertical-align: middle;\n",
       "    }\n",
       "\n",
       "    .dataframe tbody tr th {\n",
       "        vertical-align: top;\n",
       "    }\n",
       "\n",
       "    .dataframe thead th {\n",
       "        text-align: right;\n",
       "    }\n",
       "</style>\n",
       "<table border=\"1\" class=\"dataframe\">\n",
       "  <thead>\n",
       "    <tr style=\"text-align: right;\">\n",
       "      <th></th>\n",
       "      <th>Algorithm</th>\n",
       "      <th>ProofType</th>\n",
       "      <th>TotalCoinsMined</th>\n",
       "      <th>TotalCoinSupply</th>\n",
       "      <th>PC 1</th>\n",
       "      <th>PC 2</th>\n",
       "      <th>PC 3</th>\n",
       "      <th>CoinName</th>\n",
       "      <th>Class</th>\n",
       "      <th>TotalCoinsMined_scaled</th>\n",
       "      <th>TotalCoinSupply_scaled</th>\n",
       "    </tr>\n",
       "  </thead>\n",
       "  <tbody>\n",
       "    <tr>\n",
       "      <th>0</th>\n",
       "      <td>Scrypt</td>\n",
       "      <td>PoW/PoS</td>\n",
       "      <td>4.199995e+01</td>\n",
       "      <td>42</td>\n",
       "      <td>-0.352015</td>\n",
       "      <td>-0.214946</td>\n",
       "      <td>-0.061645</td>\n",
       "      <td>42 Coin</td>\n",
       "      <td>0</td>\n",
       "      <td>0.005942</td>\n",
       "      <td>-0.500000</td>\n",
       "    </tr>\n",
       "    <tr>\n",
       "      <th>2</th>\n",
       "      <td>Scrypt</td>\n",
       "      <td>PoW/PoS</td>\n",
       "      <td>1.055185e+09</td>\n",
       "      <td>532000000</td>\n",
       "      <td>-0.340548</td>\n",
       "      <td>-0.216588</td>\n",
       "      <td>-0.061960</td>\n",
       "      <td>404Coin</td>\n",
       "      <td>0</td>\n",
       "      <td>0.007002</td>\n",
       "      <td>-0.376134</td>\n",
       "    </tr>\n",
       "    <tr>\n",
       "      <th>5</th>\n",
       "      <td>X13</td>\n",
       "      <td>PoW/PoS</td>\n",
       "      <td>2.927942e+10</td>\n",
       "      <td>-2147483648</td>\n",
       "      <td>0.230463</td>\n",
       "      <td>-0.116102</td>\n",
       "      <td>-0.139519</td>\n",
       "      <td>EliteCoin</td>\n",
       "      <td>0</td>\n",
       "      <td>0.035342</td>\n",
       "      <td>0.000000</td>\n",
       "    </tr>\n",
       "    <tr>\n",
       "      <th>7</th>\n",
       "      <td>SHA-256</td>\n",
       "      <td>PoW</td>\n",
       "      <td>1.792718e+07</td>\n",
       "      <td>21000000</td>\n",
       "      <td>-0.154872</td>\n",
       "      <td>-0.157621</td>\n",
       "      <td>0.085021</td>\n",
       "      <td>Bitcoin</td>\n",
       "      <td>0</td>\n",
       "      <td>0.005960</td>\n",
       "      <td>-0.495111</td>\n",
       "    </tr>\n",
       "    <tr>\n",
       "      <th>8</th>\n",
       "      <td>Ethash</td>\n",
       "      <td>PoW</td>\n",
       "      <td>1.076842e+08</td>\n",
       "      <td>0</td>\n",
       "      <td>-0.110379</td>\n",
       "      <td>-0.214674</td>\n",
       "      <td>0.003895</td>\n",
       "      <td>Ethereum</td>\n",
       "      <td>0</td>\n",
       "      <td>0.006050</td>\n",
       "      <td>-0.500000</td>\n",
       "    </tr>\n",
       "  </tbody>\n",
       "</table>\n",
       "</div>"
      ],
      "text/plain": [
       "  Algorithm ProofType  TotalCoinsMined  TotalCoinSupply      PC 1      PC 2  \\\n",
       "0    Scrypt   PoW/PoS     4.199995e+01               42 -0.352015 -0.214946   \n",
       "2    Scrypt   PoW/PoS     1.055185e+09        532000000 -0.340548 -0.216588   \n",
       "5       X13   PoW/PoS     2.927942e+10      -2147483648  0.230463 -0.116102   \n",
       "7   SHA-256       PoW     1.792718e+07         21000000 -0.154872 -0.157621   \n",
       "8    Ethash       PoW     1.076842e+08                0 -0.110379 -0.214674   \n",
       "\n",
       "       PC 3   CoinName  Class  TotalCoinsMined_scaled  TotalCoinSupply_scaled  \n",
       "0 -0.061645    42 Coin      0                0.005942               -0.500000  \n",
       "2 -0.061960    404Coin      0                0.007002               -0.376134  \n",
       "5 -0.139519  EliteCoin      0                0.035342                0.000000  \n",
       "7  0.085021    Bitcoin      0                0.005960               -0.495111  \n",
       "8  0.003895   Ethereum      0                0.006050               -0.500000  "
      ]
     },
     "execution_count": 79,
     "metadata": {},
     "output_type": "execute_result"
    }
   ],
   "source": [
    "clustered_df.head()"
   ]
  },
  {
   "cell_type": "code",
   "execution_count": 80,
   "metadata": {},
   "outputs": [],
   "source": [
    "# Scale data to create the scatter plot- Max-min scaling\n",
    "clustered_df['TotalCoinsMined_scaled'] = (clustered_df['TotalCoinsMined'] - clustered_df['TotalCoinsMined'].min()) / (clustered_df['TotalCoinsMined'].max()- clustered_df['TotalCoinsMined'].min())"
   ]
  },
  {
   "cell_type": "code",
   "execution_count": 81,
   "metadata": {},
   "outputs": [],
   "source": [
    "# Scale data to create the scatter plot- Max-min scaling\n",
    "clustered_df['TotalCoinSupply'] = clustered_df['TotalCoinSupply'].astype('float')\n",
    "clustered_df['TotalCoinSupply'] = clustered_df['TotalCoinSupply'].astype('int')\n",
    "clustered_df['TotalCoinSupply_scaled'] = (clustered_df['TotalCoinSupply'] - clustered_df['TotalCoinSupply'].min()) / (clustered_df['TotalCoinSupply'].max() - clustered_df['TotalCoinSupply'].min())"
   ]
  },
  {
   "cell_type": "code",
   "execution_count": 82,
   "metadata": {},
   "outputs": [
    {
     "data": {
      "text/html": [
       "<div>\n",
       "<style scoped>\n",
       "    .dataframe tbody tr th:only-of-type {\n",
       "        vertical-align: middle;\n",
       "    }\n",
       "\n",
       "    .dataframe tbody tr th {\n",
       "        vertical-align: top;\n",
       "    }\n",
       "\n",
       "    .dataframe thead th {\n",
       "        text-align: right;\n",
       "    }\n",
       "</style>\n",
       "<table border=\"1\" class=\"dataframe\">\n",
       "  <thead>\n",
       "    <tr style=\"text-align: right;\">\n",
       "      <th></th>\n",
       "      <th>Algorithm</th>\n",
       "      <th>ProofType</th>\n",
       "      <th>TotalCoinsMined</th>\n",
       "      <th>TotalCoinSupply</th>\n",
       "      <th>PC 1</th>\n",
       "      <th>PC 2</th>\n",
       "      <th>PC 3</th>\n",
       "      <th>CoinName</th>\n",
       "      <th>Class</th>\n",
       "      <th>TotalCoinsMined_scaled</th>\n",
       "      <th>TotalCoinSupply_scaled</th>\n",
       "    </tr>\n",
       "  </thead>\n",
       "  <tbody>\n",
       "    <tr>\n",
       "      <th>0</th>\n",
       "      <td>Scrypt</td>\n",
       "      <td>PoW/PoS</td>\n",
       "      <td>4.199995e+01</td>\n",
       "      <td>42</td>\n",
       "      <td>-0.352015</td>\n",
       "      <td>-0.214946</td>\n",
       "      <td>-0.061645</td>\n",
       "      <td>42 Coin</td>\n",
       "      <td>0</td>\n",
       "      <td>0.005942</td>\n",
       "      <td>-0.500000</td>\n",
       "    </tr>\n",
       "    <tr>\n",
       "      <th>2</th>\n",
       "      <td>Scrypt</td>\n",
       "      <td>PoW/PoS</td>\n",
       "      <td>1.055185e+09</td>\n",
       "      <td>532000000</td>\n",
       "      <td>-0.340548</td>\n",
       "      <td>-0.216588</td>\n",
       "      <td>-0.061960</td>\n",
       "      <td>404Coin</td>\n",
       "      <td>0</td>\n",
       "      <td>0.007002</td>\n",
       "      <td>-0.376134</td>\n",
       "    </tr>\n",
       "    <tr>\n",
       "      <th>5</th>\n",
       "      <td>X13</td>\n",
       "      <td>PoW/PoS</td>\n",
       "      <td>2.927942e+10</td>\n",
       "      <td>-2147483648</td>\n",
       "      <td>0.230463</td>\n",
       "      <td>-0.116102</td>\n",
       "      <td>-0.139519</td>\n",
       "      <td>EliteCoin</td>\n",
       "      <td>0</td>\n",
       "      <td>0.035342</td>\n",
       "      <td>0.000000</td>\n",
       "    </tr>\n",
       "    <tr>\n",
       "      <th>7</th>\n",
       "      <td>SHA-256</td>\n",
       "      <td>PoW</td>\n",
       "      <td>1.792718e+07</td>\n",
       "      <td>21000000</td>\n",
       "      <td>-0.154872</td>\n",
       "      <td>-0.157621</td>\n",
       "      <td>0.085021</td>\n",
       "      <td>Bitcoin</td>\n",
       "      <td>0</td>\n",
       "      <td>0.005960</td>\n",
       "      <td>-0.495111</td>\n",
       "    </tr>\n",
       "    <tr>\n",
       "      <th>8</th>\n",
       "      <td>Ethash</td>\n",
       "      <td>PoW</td>\n",
       "      <td>1.076842e+08</td>\n",
       "      <td>0</td>\n",
       "      <td>-0.110379</td>\n",
       "      <td>-0.214674</td>\n",
       "      <td>0.003895</td>\n",
       "      <td>Ethereum</td>\n",
       "      <td>0</td>\n",
       "      <td>0.006050</td>\n",
       "      <td>-0.500000</td>\n",
       "    </tr>\n",
       "    <tr>\n",
       "      <th>9</th>\n",
       "      <td>Scrypt</td>\n",
       "      <td>PoW</td>\n",
       "      <td>6.303924e+07</td>\n",
       "      <td>84000000</td>\n",
       "      <td>-0.283511</td>\n",
       "      <td>-0.268401</td>\n",
       "      <td>0.029545</td>\n",
       "      <td>Litecoin</td>\n",
       "      <td>0</td>\n",
       "      <td>0.006006</td>\n",
       "      <td>-0.480442</td>\n",
       "    </tr>\n",
       "    <tr>\n",
       "      <th>10</th>\n",
       "      <td>X11</td>\n",
       "      <td>PoW/PoS</td>\n",
       "      <td>9.031294e+06</td>\n",
       "      <td>22000000</td>\n",
       "      <td>-0.305151</td>\n",
       "      <td>-0.111183</td>\n",
       "      <td>0.038715</td>\n",
       "      <td>Dash</td>\n",
       "      <td>0</td>\n",
       "      <td>0.005951</td>\n",
       "      <td>-0.494878</td>\n",
       "    </tr>\n",
       "    <tr>\n",
       "      <th>11</th>\n",
       "      <td>CryptoNight-V7</td>\n",
       "      <td>PoW</td>\n",
       "      <td>1.720114e+07</td>\n",
       "      <td>0</td>\n",
       "      <td>-0.040446</td>\n",
       "      <td>-0.282616</td>\n",
       "      <td>0.050728</td>\n",
       "      <td>Monero</td>\n",
       "      <td>0</td>\n",
       "      <td>0.005960</td>\n",
       "      <td>-0.500000</td>\n",
       "    </tr>\n",
       "    <tr>\n",
       "      <th>12</th>\n",
       "      <td>Ethash</td>\n",
       "      <td>PoW</td>\n",
       "      <td>1.133597e+08</td>\n",
       "      <td>210000000</td>\n",
       "      <td>-0.291624</td>\n",
       "      <td>-0.217495</td>\n",
       "      <td>0.016220</td>\n",
       "      <td>Ethereum Classic</td>\n",
       "      <td>0</td>\n",
       "      <td>0.006056</td>\n",
       "      <td>-0.451106</td>\n",
       "    </tr>\n",
       "    <tr>\n",
       "      <th>13</th>\n",
       "      <td>Equihash</td>\n",
       "      <td>PoW</td>\n",
       "      <td>7.383056e+06</td>\n",
       "      <td>21000000</td>\n",
       "      <td>-0.260010</td>\n",
       "      <td>-0.180115</td>\n",
       "      <td>0.094730</td>\n",
       "      <td>ZCash</td>\n",
       "      <td>0</td>\n",
       "      <td>0.005950</td>\n",
       "      <td>-0.495111</td>\n",
       "    </tr>\n",
       "  </tbody>\n",
       "</table>\n",
       "</div>"
      ],
      "text/plain": [
       "         Algorithm ProofType  TotalCoinsMined  TotalCoinSupply      PC 1  \\\n",
       "0           Scrypt   PoW/PoS     4.199995e+01               42 -0.352015   \n",
       "2           Scrypt   PoW/PoS     1.055185e+09        532000000 -0.340548   \n",
       "5              X13   PoW/PoS     2.927942e+10      -2147483648  0.230463   \n",
       "7          SHA-256       PoW     1.792718e+07         21000000 -0.154872   \n",
       "8           Ethash       PoW     1.076842e+08                0 -0.110379   \n",
       "9           Scrypt       PoW     6.303924e+07         84000000 -0.283511   \n",
       "10             X11   PoW/PoS     9.031294e+06         22000000 -0.305151   \n",
       "11  CryptoNight-V7       PoW     1.720114e+07                0 -0.040446   \n",
       "12          Ethash       PoW     1.133597e+08        210000000 -0.291624   \n",
       "13        Equihash       PoW     7.383056e+06         21000000 -0.260010   \n",
       "\n",
       "        PC 2      PC 3          CoinName  Class  TotalCoinsMined_scaled  \\\n",
       "0  -0.214946 -0.061645           42 Coin      0                0.005942   \n",
       "2  -0.216588 -0.061960           404Coin      0                0.007002   \n",
       "5  -0.116102 -0.139519         EliteCoin      0                0.035342   \n",
       "7  -0.157621  0.085021           Bitcoin      0                0.005960   \n",
       "8  -0.214674  0.003895          Ethereum      0                0.006050   \n",
       "9  -0.268401  0.029545          Litecoin      0                0.006006   \n",
       "10 -0.111183  0.038715              Dash      0                0.005951   \n",
       "11 -0.282616  0.050728            Monero      0                0.005960   \n",
       "12 -0.217495  0.016220  Ethereum Classic      0                0.006056   \n",
       "13 -0.180115  0.094730             ZCash      0                0.005950   \n",
       "\n",
       "    TotalCoinSupply_scaled  \n",
       "0                -0.500000  \n",
       "2                -0.376134  \n",
       "5                 0.000000  \n",
       "7                -0.495111  \n",
       "8                -0.500000  \n",
       "9                -0.480442  \n",
       "10               -0.494878  \n",
       "11               -0.500000  \n",
       "12               -0.451106  \n",
       "13               -0.495111  "
      ]
     },
     "execution_count": 82,
     "metadata": {},
     "output_type": "execute_result"
    }
   ],
   "source": [
    "clustered_df.head(10)\n",
    "#clustered_df['TotalCoinSupply_scaled'] = (clustered_df['TotalCoinSupply'] - clustered_df['TotalCoinSupply'].min()) / (clustered_df['TotalCoinSupply'].max() - clustered_df['TotalCoinSupply'].min())"
   ]
  },
  {
   "cell_type": "code",
   "execution_count": 83,
   "metadata": {},
   "outputs": [
    {
     "data": {},
     "metadata": {},
     "output_type": "display_data"
    },
    {
     "data": {
      "application/vnd.holoviews_exec.v0+json": "",
      "text/html": [
       "<div id='2596'>\n",
       "\n",
       "\n",
       "\n",
       "\n",
       "\n",
       "  <div class=\"bk-root\" id=\"a177608e-c317-4eb8-a018-a76457cf0892\" data-root-id=\"2596\"></div>\n",
       "</div>\n",
       "<script type=\"application/javascript\">(function(root) {\n",
       "  function embed_document(root) {\n",
       "    var docs_json = {\"5aae7fe4-fb18-4a4b-9c16-9bd645d134fb\":{\"defs\":[{\"extends\":null,\"module\":null,\"name\":\"ReactiveHTML1\",\"overrides\":[],\"properties\":[]},{\"extends\":null,\"module\":null,\"name\":\"FlexBox1\",\"overrides\":[],\"properties\":[{\"default\":\"flex-start\",\"kind\":null,\"name\":\"align_content\"},{\"default\":\"flex-start\",\"kind\":null,\"name\":\"align_items\"},{\"default\":\"row\",\"kind\":null,\"name\":\"flex_direction\"},{\"default\":\"wrap\",\"kind\":null,\"name\":\"flex_wrap\"},{\"default\":\"flex-start\",\"kind\":null,\"name\":\"justify_content\"}]},{\"extends\":null,\"module\":null,\"name\":\"TemplateActions1\",\"overrides\":[],\"properties\":[{\"default\":0,\"kind\":null,\"name\":\"open_modal\"},{\"default\":0,\"kind\":null,\"name\":\"close_modal\"}]},{\"extends\":null,\"module\":null,\"name\":\"MaterialTemplateActions1\",\"overrides\":[],\"properties\":[{\"default\":0,\"kind\":null,\"name\":\"open_modal\"},{\"default\":0,\"kind\":null,\"name\":\"close_modal\"}]}],\"roots\":{\"references\":[{\"attributes\":{\"callback\":null,\"renderers\":[{\"id\":\"2646\"},{\"id\":\"2667\"},{\"id\":\"2689\"},{\"id\":\"2713\"}],\"tags\":[\"hv_created\"],\"tooltips\":[[\"Class\",\"@{Class}\"],[\"TotalCoinsMined_scaled\",\"@{TotalCoinsMined_scaled}\"],[\"TotalCoinSupply_scaled\",\"@{TotalCoinSupply_scaled}\"],[\"CoinName\",\"@{CoinName}\"]]},\"id\":\"2600\",\"type\":\"HoverTool\"},{\"attributes\":{},\"id\":\"2621\",\"type\":\"SaveTool\"},{\"attributes\":{},\"id\":\"2622\",\"type\":\"PanTool\"},{\"attributes\":{},\"id\":\"2625\",\"type\":\"ResetTool\"},{\"attributes\":{},\"id\":\"2623\",\"type\":\"WheelZoomTool\"},{\"attributes\":{\"overlay\":{\"id\":\"2626\"}},\"id\":\"2624\",\"type\":\"BoxZoomTool\"},{\"attributes\":{\"data\":{\"Class\":[2],\"CoinName\":[\"BitTorrent\"],\"TotalCoinSupply_scaled\":{\"__ndarray__\":\"AAAAAAAAAAA=\",\"dtype\":\"float64\",\"order\":\"little\",\"shape\":[1]},\"TotalCoinsMined_scaled\":{\"__ndarray__\":\"AAAAAAAA8D8=\",\"dtype\":\"float64\",\"order\":\"little\",\"shape\":[1]}},\"selected\":{\"id\":\"2684\"},\"selection_policy\":{\"id\":\"2703\"}},\"id\":\"2683\",\"type\":\"ColumnDataSource\"},{\"attributes\":{\"fill_alpha\":{\"value\":0.1},\"fill_color\":{\"value\":\"#6d904f\"},\"line_alpha\":{\"value\":0.1},\"line_color\":{\"value\":\"#6d904f\"},\"size\":{\"value\":5.477225575051661},\"x\":{\"field\":\"TotalCoinsMined_scaled\"},\"y\":{\"field\":\"TotalCoinSupply_scaled\"}},\"id\":\"2711\",\"type\":\"Scatter\"},{\"attributes\":{},\"id\":\"2708\",\"type\":\"Selection\"},{\"attributes\":{\"source\":{\"id\":\"2640\"}},\"id\":\"2647\",\"type\":\"CDSView\"},{\"attributes\":{},\"id\":\"2637\",\"type\":\"BasicTickFormatter\"},{\"attributes\":{\"click_policy\":\"mute\",\"items\":[{\"id\":\"2659\"},{\"id\":\"2681\"},{\"id\":\"2705\"},{\"id\":\"2731\"}],\"location\":[0,0],\"title\":\"Class\"},\"id\":\"2658\",\"type\":\"Legend\"},{\"attributes\":{\"fill_alpha\":{\"value\":0.2},\"fill_color\":{\"value\":\"#fc4f30\"},\"line_alpha\":{\"value\":0.2},\"line_color\":{\"value\":\"#fc4f30\"},\"size\":{\"value\":5.477225575051661},\"x\":{\"field\":\"TotalCoinsMined_scaled\"},\"y\":{\"field\":\"TotalCoinSupply_scaled\"}},\"id\":\"2666\",\"type\":\"Scatter\"},{\"attributes\":{\"label\":{\"value\":\"2\"},\"renderers\":[{\"id\":\"2689\"}]},\"id\":\"2705\",\"type\":\"LegendItem\"},{\"attributes\":{\"fill_alpha\":{\"value\":0.2},\"fill_color\":{\"value\":\"#30a2da\"},\"line_alpha\":{\"value\":0.2},\"line_color\":{\"value\":\"#30a2da\"},\"size\":{\"value\":5.477225575051661},\"x\":{\"field\":\"TotalCoinsMined_scaled\"},\"y\":{\"field\":\"TotalCoinSupply_scaled\"}},\"id\":\"2645\",\"type\":\"Scatter\"},{\"attributes\":{},\"id\":\"2662\",\"type\":\"Selection\"},{\"attributes\":{\"angle\":{\"value\":0.0},\"fill_alpha\":{\"value\":1.0},\"fill_color\":{\"value\":\"#30a2da\"},\"hatch_alpha\":{\"value\":1.0},\"hatch_color\":{\"value\":\"black\"},\"hatch_scale\":{\"value\":12.0},\"hatch_weight\":{\"value\":1.0},\"line_alpha\":{\"value\":1.0},\"line_cap\":{\"value\":\"butt\"},\"line_color\":{\"value\":\"#30a2da\"},\"line_dash\":{\"value\":[]},\"line_dash_offset\":{\"value\":0},\"line_join\":{\"value\":\"bevel\"},\"line_width\":{\"value\":1},\"marker\":{\"value\":\"circle\"},\"size\":{\"value\":5.477225575051661},\"x\":{\"field\":\"TotalCoinsMined_scaled\"},\"y\":{\"field\":\"TotalCoinSupply_scaled\"}},\"id\":\"2660\",\"type\":\"Scatter\"},{\"attributes\":{\"active_multi\":null,\"tools\":[{\"id\":\"2600\"},{\"id\":\"2621\"},{\"id\":\"2622\"},{\"id\":\"2623\"},{\"id\":\"2624\"},{\"id\":\"2625\"}]},\"id\":\"2627\",\"type\":\"Toolbar\"},{\"attributes\":{\"label\":{\"value\":\"1\"},\"renderers\":[{\"id\":\"2667\"}]},\"id\":\"2681\",\"type\":\"LegendItem\"},{\"attributes\":{\"angle\":{\"value\":0.0},\"fill_alpha\":{\"value\":1.0},\"fill_color\":{\"value\":\"#fc4f30\"},\"hatch_alpha\":{\"value\":1.0},\"hatch_color\":{\"value\":\"black\"},\"hatch_scale\":{\"value\":12.0},\"hatch_weight\":{\"value\":1.0},\"line_alpha\":{\"value\":1.0},\"line_cap\":{\"value\":\"butt\"},\"line_color\":{\"value\":\"#fc4f30\"},\"line_dash\":{\"value\":[]},\"line_dash_offset\":{\"value\":0},\"line_join\":{\"value\":\"bevel\"},\"line_width\":{\"value\":1},\"marker\":{\"value\":\"circle\"},\"size\":{\"value\":5.477225575051661},\"x\":{\"field\":\"TotalCoinsMined_scaled\"},\"y\":{\"field\":\"TotalCoinSupply_scaled\"}},\"id\":\"2682\",\"type\":\"Scatter\"},{\"attributes\":{\"label\":{\"value\":\"0\"},\"renderers\":[{\"id\":\"2646\"}]},\"id\":\"2659\",\"type\":\"LegendItem\"},{\"attributes\":{\"margin\":[5,5,5,5],\"name\":\"HSpacer05055\",\"sizing_mode\":\"stretch_width\"},\"id\":\"2597\",\"type\":\"Spacer\"},{\"attributes\":{\"source\":{\"id\":\"2661\"}},\"id\":\"2668\",\"type\":\"CDSView\"},{\"attributes\":{\"bottom_units\":\"screen\",\"fill_alpha\":0.5,\"fill_color\":\"lightgrey\",\"left_units\":\"screen\",\"level\":\"overlay\",\"line_alpha\":1.0,\"line_color\":\"black\",\"line_dash\":[4,4],\"line_width\":2,\"right_units\":\"screen\",\"syncable\":false,\"top_units\":\"screen\"},\"id\":\"2626\",\"type\":\"BoxAnnotation\"},{\"attributes\":{\"data_source\":{\"id\":\"2683\"},\"glyph\":{\"id\":\"2686\"},\"hover_glyph\":null,\"muted_glyph\":{\"id\":\"2688\"},\"nonselection_glyph\":{\"id\":\"2687\"},\"selection_glyph\":{\"id\":\"2706\"},\"view\":{\"id\":\"2690\"}},\"id\":\"2689\",\"type\":\"GlyphRenderer\"},{\"attributes\":{\"data_source\":{\"id\":\"2640\"},\"glyph\":{\"id\":\"2643\"},\"hover_glyph\":null,\"muted_glyph\":{\"id\":\"2645\"},\"nonselection_glyph\":{\"id\":\"2644\"},\"selection_glyph\":{\"id\":\"2660\"},\"view\":{\"id\":\"2647\"}},\"id\":\"2646\",\"type\":\"GlyphRenderer\"},{\"attributes\":{},\"id\":\"2638\",\"type\":\"AllLabels\"},{\"attributes\":{},\"id\":\"2679\",\"type\":\"UnionRenderers\"},{\"attributes\":{\"fill_color\":{\"value\":\"#30a2da\"},\"line_color\":{\"value\":\"#30a2da\"},\"size\":{\"value\":5.477225575051661},\"x\":{\"field\":\"TotalCoinsMined_scaled\"},\"y\":{\"field\":\"TotalCoinSupply_scaled\"}},\"id\":\"2643\",\"type\":\"Scatter\"},{\"attributes\":{\"fill_alpha\":{\"value\":0.2},\"fill_color\":{\"value\":\"#e5ae38\"},\"line_alpha\":{\"value\":0.2},\"line_color\":{\"value\":\"#e5ae38\"},\"size\":{\"value\":5.477225575051661},\"x\":{\"field\":\"TotalCoinsMined_scaled\"},\"y\":{\"field\":\"TotalCoinSupply_scaled\"}},\"id\":\"2688\",\"type\":\"Scatter\"},{\"attributes\":{\"source\":{\"id\":\"2683\"}},\"id\":\"2690\",\"type\":\"CDSView\"},{\"attributes\":{},\"id\":\"2614\",\"type\":\"BasicTicker\"},{\"attributes\":{\"children\":[{\"id\":\"2597\"},{\"id\":\"2604\"},{\"id\":\"2877\"}],\"margin\":[0,0,0,0],\"name\":\"Row05051\",\"tags\":[\"embedded\"]},\"id\":\"2596\",\"type\":\"Row\"},{\"attributes\":{},\"id\":\"2635\",\"type\":\"AllLabels\"},{\"attributes\":{},\"id\":\"2703\",\"type\":\"UnionRenderers\"},{\"attributes\":{\"data\":{\"Class\":[3,3],\"CoinName\":[\"Vechain\",\"Poa Network\"],\"TotalCoinSupply_scaled\":{\"__ndarray__\":\"AAAAAAAAAADwPBxA8Dzcvw==\",\"dtype\":\"float64\",\"order\":\"little\",\"shape\":[2]},\"TotalCoinsMined_scaled\":{\"__ndarray__\":\"XBjsm06Nrz/h0YxdPy55Pw==\",\"dtype\":\"float64\",\"order\":\"little\",\"shape\":[2]}},\"selected\":{\"id\":\"2708\"},\"selection_policy\":{\"id\":\"2729\"}},\"id\":\"2707\",\"type\":\"ColumnDataSource\"},{\"attributes\":{\"data\":{\"Class\":[1,1],\"CoinName\":[\"BiblePay\",\"LitecoinCash\"],\"TotalCoinSupply_scaled\":{\"__ndarray__\":\"AAAAAAAAAACoexOAp3vTvw==\",\"dtype\":\"float64\",\"order\":\"little\",\"shape\":[2]},\"TotalCoinsMined_scaled\":{\"__ndarray__\":\"d3s1s8Ogfz9wjSUfGfd6Pw==\",\"dtype\":\"float64\",\"order\":\"little\",\"shape\":[2]}},\"selected\":{\"id\":\"2662\"},\"selection_policy\":{\"id\":\"2679\"}},\"id\":\"2661\",\"type\":\"ColumnDataSource\"},{\"attributes\":{\"end\":1.042857142857143,\"reset_end\":1.042857142857143,\"reset_start\":-0.04285714285714286,\"start\":-0.04285714285714286,\"tags\":[[[\"TotalCoinsMined_scaled\",\"TotalCoinsMined_scaled\",null]]]},\"id\":\"2598\",\"type\":\"Range1d\"},{\"attributes\":{\"fill_alpha\":{\"value\":0.1},\"fill_color\":{\"value\":\"#30a2da\"},\"line_alpha\":{\"value\":0.1},\"line_color\":{\"value\":\"#30a2da\"},\"size\":{\"value\":5.477225575051661},\"x\":{\"field\":\"TotalCoinsMined_scaled\"},\"y\":{\"field\":\"TotalCoinSupply_scaled\"}},\"id\":\"2644\",\"type\":\"Scatter\"},{\"attributes\":{\"axis\":{\"id\":\"2613\"},\"grid_line_color\":null,\"ticker\":null},\"id\":\"2616\",\"type\":\"Grid\"},{\"attributes\":{\"fill_color\":{\"value\":\"#fc4f30\"},\"line_color\":{\"value\":\"#fc4f30\"},\"size\":{\"value\":5.477225575051661},\"x\":{\"field\":\"TotalCoinsMined_scaled\"},\"y\":{\"field\":\"TotalCoinSupply_scaled\"}},\"id\":\"2664\",\"type\":\"Scatter\"},{\"attributes\":{\"source\":{\"id\":\"2707\"}},\"id\":\"2714\",\"type\":\"CDSView\"},{\"attributes\":{\"below\":[{\"id\":\"2613\"}],\"center\":[{\"id\":\"2616\"},{\"id\":\"2620\"}],\"height\":300,\"left\":[{\"id\":\"2617\"}],\"margin\":[5,5,5,5],\"min_border_bottom\":10,\"min_border_left\":10,\"min_border_right\":10,\"min_border_top\":10,\"renderers\":[{\"id\":\"2646\"},{\"id\":\"2667\"},{\"id\":\"2689\"},{\"id\":\"2713\"}],\"right\":[{\"id\":\"2658\"}],\"sizing_mode\":\"fixed\",\"title\":{\"id\":\"2605\"},\"toolbar\":{\"id\":\"2627\"},\"width\":700,\"x_range\":{\"id\":\"2598\"},\"x_scale\":{\"id\":\"2609\"},\"y_range\":{\"id\":\"2599\"},\"y_scale\":{\"id\":\"2611\"}},\"id\":\"2604\",\"subtype\":\"Figure\",\"type\":\"Plot\"},{\"attributes\":{},\"id\":\"2609\",\"type\":\"LinearScale\"},{\"attributes\":{\"fill_color\":{\"value\":\"#6d904f\"},\"line_color\":{\"value\":\"#6d904f\"},\"size\":{\"value\":5.477225575051661},\"x\":{\"field\":\"TotalCoinsMined_scaled\"},\"y\":{\"field\":\"TotalCoinSupply_scaled\"}},\"id\":\"2710\",\"type\":\"Scatter\"},{\"attributes\":{\"text_color\":\"black\",\"text_font_size\":\"12pt\"},\"id\":\"2605\",\"type\":\"Title\"},{\"attributes\":{\"fill_alpha\":{\"value\":0.2},\"fill_color\":{\"value\":\"#6d904f\"},\"line_alpha\":{\"value\":0.2},\"line_color\":{\"value\":\"#6d904f\"},\"size\":{\"value\":5.477225575051661},\"x\":{\"field\":\"TotalCoinsMined_scaled\"},\"y\":{\"field\":\"TotalCoinSupply_scaled\"}},\"id\":\"2712\",\"type\":\"Scatter\"},{\"attributes\":{},\"id\":\"2641\",\"type\":\"Selection\"},{\"attributes\":{},\"id\":\"2611\",\"type\":\"LinearScale\"},{\"attributes\":{\"margin\":[5,5,5,5],\"name\":\"HSpacer05056\",\"sizing_mode\":\"stretch_width\"},\"id\":\"2877\",\"type\":\"Spacer\"},{\"attributes\":{\"axis_label\":\"TotalCoinSupply_scaled\",\"formatter\":{\"id\":\"2637\"},\"major_label_policy\":{\"id\":\"2638\"},\"ticker\":{\"id\":\"2618\"}},\"id\":\"2617\",\"type\":\"LinearAxis\"},{\"attributes\":{\"data_source\":{\"id\":\"2661\"},\"glyph\":{\"id\":\"2664\"},\"hover_glyph\":null,\"muted_glyph\":{\"id\":\"2666\"},\"nonselection_glyph\":{\"id\":\"2665\"},\"selection_glyph\":{\"id\":\"2682\"},\"view\":{\"id\":\"2668\"}},\"id\":\"2667\",\"type\":\"GlyphRenderer\"},{\"attributes\":{\"axis_label\":\"TotalCoinsMined_scaled\",\"formatter\":{\"id\":\"2634\"},\"major_label_policy\":{\"id\":\"2635\"},\"ticker\":{\"id\":\"2614\"}},\"id\":\"2613\",\"type\":\"LinearAxis\"},{\"attributes\":{\"fill_alpha\":{\"value\":0.1},\"fill_color\":{\"value\":\"#fc4f30\"},\"line_alpha\":{\"value\":0.1},\"line_color\":{\"value\":\"#fc4f30\"},\"size\":{\"value\":5.477225575051661},\"x\":{\"field\":\"TotalCoinsMined_scaled\"},\"y\":{\"field\":\"TotalCoinSupply_scaled\"}},\"id\":\"2665\",\"type\":\"Scatter\"},{\"attributes\":{\"angle\":{\"value\":0.0},\"fill_alpha\":{\"value\":1.0},\"fill_color\":{\"value\":\"#6d904f\"},\"hatch_alpha\":{\"value\":1.0},\"hatch_color\":{\"value\":\"black\"},\"hatch_scale\":{\"value\":12.0},\"hatch_weight\":{\"value\":1.0},\"line_alpha\":{\"value\":1.0},\"line_cap\":{\"value\":\"butt\"},\"line_color\":{\"value\":\"#6d904f\"},\"line_dash\":{\"value\":[]},\"line_dash_offset\":{\"value\":0},\"line_join\":{\"value\":\"bevel\"},\"line_width\":{\"value\":1},\"marker\":{\"value\":\"circle\"},\"size\":{\"value\":5.477225575051661},\"x\":{\"field\":\"TotalCoinsMined_scaled\"},\"y\":{\"field\":\"TotalCoinSupply_scaled\"}},\"id\":\"2732\",\"type\":\"Scatter\"},{\"attributes\":{\"fill_alpha\":{\"value\":0.1},\"fill_color\":{\"value\":\"#e5ae38\"},\"line_alpha\":{\"value\":0.1},\"line_color\":{\"value\":\"#e5ae38\"},\"size\":{\"value\":5.477225575051661},\"x\":{\"field\":\"TotalCoinsMined_scaled\"},\"y\":{\"field\":\"TotalCoinSupply_scaled\"}},\"id\":\"2687\",\"type\":\"Scatter\"},{\"attributes\":{},\"id\":\"2618\",\"type\":\"BasicTicker\"},{\"attributes\":{},\"id\":\"2729\",\"type\":\"UnionRenderers\"},{\"attributes\":{\"axis\":{\"id\":\"2617\"},\"dimension\":1,\"grid_line_color\":null,\"ticker\":null},\"id\":\"2620\",\"type\":\"Grid\"},{\"attributes\":{\"fill_color\":{\"value\":\"#e5ae38\"},\"line_color\":{\"value\":\"#e5ae38\"},\"size\":{\"value\":5.477225575051661},\"x\":{\"field\":\"TotalCoinsMined_scaled\"},\"y\":{\"field\":\"TotalCoinSupply_scaled\"}},\"id\":\"2686\",\"type\":\"Scatter\"},{\"attributes\":{\"end\":0.05000000001164154,\"reset_end\":0.05000000001164154,\"reset_start\":-0.5500000001280568,\"start\":-0.5500000001280568,\"tags\":[[[\"TotalCoinSupply_scaled\",\"TotalCoinSupply_scaled\",null]]]},\"id\":\"2599\",\"type\":\"Range1d\"},{\"attributes\":{\"angle\":{\"value\":0.0},\"fill_alpha\":{\"value\":1.0},\"fill_color\":{\"value\":\"#e5ae38\"},\"hatch_alpha\":{\"value\":1.0},\"hatch_color\":{\"value\":\"black\"},\"hatch_scale\":{\"value\":12.0},\"hatch_weight\":{\"value\":1.0},\"line_alpha\":{\"value\":1.0},\"line_cap\":{\"value\":\"butt\"},\"line_color\":{\"value\":\"#e5ae38\"},\"line_dash\":{\"value\":[]},\"line_dash_offset\":{\"value\":0},\"line_join\":{\"value\":\"bevel\"},\"line_width\":{\"value\":1},\"marker\":{\"value\":\"circle\"},\"size\":{\"value\":5.477225575051661},\"x\":{\"field\":\"TotalCoinsMined_scaled\"},\"y\":{\"field\":\"TotalCoinSupply_scaled\"}},\"id\":\"2706\",\"type\":\"Scatter\"},{\"attributes\":{},\"id\":\"2656\",\"type\":\"UnionRenderers\"},{\"attributes\":{\"data_source\":{\"id\":\"2707\"},\"glyph\":{\"id\":\"2710\"},\"hover_glyph\":null,\"muted_glyph\":{\"id\":\"2712\"},\"nonselection_glyph\":{\"id\":\"2711\"},\"selection_glyph\":{\"id\":\"2732\"},\"view\":{\"id\":\"2714\"}},\"id\":\"2713\",\"type\":\"GlyphRenderer\"},{\"attributes\":{},\"id\":\"2634\",\"type\":\"BasicTickFormatter\"},{\"attributes\":{\"label\":{\"value\":\"3\"},\"renderers\":[{\"id\":\"2713\"}]},\"id\":\"2731\",\"type\":\"LegendItem\"},{\"attributes\":{},\"id\":\"2684\",\"type\":\"Selection\"},{\"attributes\":{\"data\":{\"Class\":[0,0,0,0,0,0,0,0,0,0,0,0,0,0,0,0,0,0,0,0,0,0,0,0,0,0,0,0,0,0,0,0,0,0,0,0,0,0,0,0,0,0,0,0,0,0,0,0,0,0,0,0,0,0,0,0,0,0,0,0,0,0,0,0,0,0,0,0,0,0,0,0,0,0,0,0,0,0,0,0,0,0,0,0,0,0,0,0,0,0,0,0,0,0,0,0,0,0,0,0,0,0,0,0,0,0,0,0,0,0,0,0,0,0,0,0,0,0,0,0,0,0,0,0,0,0,0,0,0,0,0,0,0,0,0,0,0,0,0,0,0,0,0,0,0,0,0,0,0,0,0,0,0,0,0,0,0,0,0,0,0,0,0,0,0,0,0,0,0,0,0,0,0,0,0,0,0,0,0,0,0,0,0,0,0,0,0,0,0,0,0,0,0,0,0,0,0,0,0,0,0,0,0,0,0,0,0,0,0,0,0,0,0,0,0,0,0,0,0,0,0,0,0,0,0,0,0,0,0,0,0,0,0,0,0,0,0,0,0,0,0,0,0,0,0,0,0,0,0,0,0,0,0,0,0,0,0,0,0,0,0,0,0,0,0,0,0,0,0,0,0,0,0,0,0,0,0,0,0,0,0,0,0,0,0,0,0,0,0,0,0,0,0,0,0,0,0,0,0,0,0,0,0,0,0,0,0,0,0,0,0,0,0,0,0,0,0,0,0,0,0,0,0,0,0,0,0,0,0,0,0,0,0,0,0,0,0,0,0,0,0,0,0,0,0,0,0,0,0,0,0,0,0,0,0,0,0,0,0,0,0,0,0,0,0,0,0,0,0,0,0,0,0,0,0,0,0,0,0,0,0,0,0,0,0,0,0,0,0,0,0,0,0,0,0,0,0,0,0,0,0,0,0,0,0,0,0,0,0,0,0,0,0,0,0,0,0,0,0,0,0,0,0,0,0,0,0,0,0,0,0,0,0,0,0,0,0,0,0,0,0,0,0,0,0,0,0,0,0,0,0,0,0,0,0,0,0,0,0,0,0,0,0,0,0,0,0,0,0,0,0,0,0,0,0,0,0,0,0,0,0,0,0,0,0,0,0,0,0,0,0,0,0,0,0,0,0,0,0,0,0,0,0,0,0,0,0,0,0,0,0,0,0,0,0,0,0,0,0,0,0,0,0,0,0,0,0,0],\"CoinName\":[\"42 Coin\",\"404Coin\",\"EliteCoin\",\"Bitcoin\",\"Ethereum\",\"Litecoin\",\"Dash\",\"Monero\",\"Ethereum Classic\",\"ZCash\",\"Bitshares\",\"DigiByte\",\"BitcoinDark\",\"PayCoin\",\"ProsperCoin\",\"KoboCoin\",\"Spreadcoin\",\"Argentum\",\"Aurora Coin\",\"BlueCoin\",\"MyriadCoin\",\"MoonCoin\",\"ZetaCoin\",\"SexCoin\",\"Quatloo\",\"EnergyCoin\",\"QuarkCoin\",\"Riecoin\",\"Digitalcoin \",\"BitBar\",\"Catcoin\",\"CryptoBullion\",\"CannaCoin\",\"CryptCoin\",\"CasinoCoin\",\"Diamond\",\"Verge\",\"DevCoin\",\"EarthCoin\",\"E-Gulden\",\"Einsteinium\",\"Emerald\",\"Exclusive Coin\",\"FlutterCoin\",\"Franko\",\"FeatherCoin\",\"GrandCoin\",\"GlobalCoin\",\"GoldCoin\",\"HoboNickels\",\"HyperStake\",\"Infinite Coin\",\"IOCoin\",\"IXcoin\",\"KrugerCoin\",\"LuckyCoin\",\"Litebar \",\"MaxCoin\",\"MegaCoin\",\"MediterraneanCoin\",\"MintCoin\",\"MinCoin\",\"MazaCoin\",\"Nautilus Coin\",\"NavCoin\",\"NobleCoin\",\"Namecoin\",\"NyanCoin\",\"OpalCoin\",\"Orbitcoin\",\"PotCoin\",\"PhoenixCoin\",\"Reddcoin\",\"RonPaulCoin\",\"StableCoin\",\"SmartCoin\",\"SuperCoin\",\"SyncCoin\",\"SysCoin\",\"TeslaCoin\",\"TigerCoin\",\"TittieCoin\",\"TorCoin\",\"TerraCoin\",\"UnbreakableCoin\",\"Unobtanium\",\"UroCoin\",\"UnitaryStatus Dollar\",\"UltraCoin\",\"ViaCoin\",\"VeriCoin\",\"Vertcoin\",\"WorldCoin\",\"X11 Coin\",\"Crypti\",\"JouleCoin\",\"StealthCoin\",\"ZCC Coin\",\"ByteCoin\",\"DigitalNote \",\"BurstCoin\",\"StorjCoin\",\"MonaCoin\",\"Neutron\",\"FairCoin\",\"Gulden\",\"RubyCoin\",\"PesetaCoin\",\"Kore\",\"Wild Beast Coin\",\"Dnotes\",\"Flo\",\"8BIT Coin\",\"Sativa Coin\",\"ArtByte\",\"Folding Coin\",\"Ucoin\",\"Unitus\",\"CypherPunkCoin\",\"OmniCron\",\"Vtorrent\",\"GreenCoin\",\"Cryptonite\",\"MasterCoin\",\"SoonCoin\",\"1Credit\",\"IslaCoin\",\"Nexus\",\"MarsCoin \",\"Crypto\",\"Anarchists Prime\",\"Droidz\",\"BowsCoin\",\"Squall Coin\",\"Song Coin\",\"BitZeny\",\"Diggits\",\"Expanse\",\"Paycon\",\"Siacoin\",\"Emercoin\",\"EverGreenCoin\",\"MindCoin\",\"I0coin\",\"Decred\",\"Revolution VR\",\"HOdlcoin\",\"EDRCoin\",\"Hitcoin\",\"Gamecredits\",\"DubaiCoin\",\"CarpeDiemCoin\",\"PWR Coin\",\"BillaryCoin\",\"GPU Coin\",\"Adzcoin\",\"SoilCoin\",\"YoCoin\",\"SibCoin\",\"EuropeCoin\",\"ZeitCoin\",\"SwingCoin\",\"SafeExchangeCoin\",\"Nebuchadnezzar\",\"Francs\",\"BolivarCoin\",\"Ratecoin\",\"Revenu\",\"Clockcoin\",\"VIP Tokens\",\"BitSend\",\"Omni\",\"Let it Ride\",\"PutinCoin\",\"iBankCoin\",\"Frankywillcoin\",\"MudraCoin\",\"PizzaCoin\",\"Lutetium Coin\",\"Komodo\",\"GoldBlocks\",\"CarterCoin\",\"Karbo\",\"BitTokens\",\"ZayedCoin\",\"MustangCoin\",\"ZoneCoin\",\"Circuits of Value\",\"RootCoin\",\"DopeCoin\",\"BitCurrency\",\"DollarCoin\",\"Swiscoin\",\"Shilling\",\"BuzzCoin\",\"Opair\",\"PesoBit\",\"Halloween Coin\",\"ZCoin\",\"CoffeeCoin\",\"RoyalCoin\",\"GanjaCoin V2\",\"TeamUP\",\"LanaCoin\",\"Elementrem\",\"ZClassic\",\"ARK\",\"InsaneCoin\",\"KiloCoin\",\"ArtexCoin\",\"EmberCoin\",\"XenixCoin\",\"FreeCoin\",\"PLNCoin\",\"AquariusCoin\",\"Kurrent\",\"Creatio\",\"Eternity\",\"Eurocoin\",\"BitcoinFast\",\"Stakenet\",\"BitConnect Coin\",\"MoneyCoin\",\"Enigma\",\"Cannabis Industry Coin\",\"Russiacoin\",\"PandaCoin\",\"GameUnits\",\"GAKHcoin\",\"Allsafe\",\"LiteCreed\",\"OsmiumCoin\",\"Bikercoins\",\"HexxCoin\",\"Klingon Empire Darsek\",\"Internet of People\",\"KushCoin\",\"Printerium\",\"PacCoin\",\"Impeach\",\"Citadel\",\"Zilbercoin\",\"FirstCoin\",\"BeaverCoin\",\"FindCoin\",\"VaultCoin\",\"Zero\",\"OpenChat\",\"Canada eCoin\",\"Zoin\",\"RenosCoin\",\"DubaiCoin\",\"VirtacoinPlus\",\"TajCoin\",\"Impact\",\"EB3coin\",\"Atmos\",\"HappyCoin\",\"Coinonat\",\"MacronCoin\",\"Condensate\",\"Independent Money System\",\"ArgusCoin\",\"LomoCoin\",\"ProCurrency\",\"GoldReserve\",\"BenjiRolls\",\"GrowthCoin\",\"ILCoin\",\"Phreak\",\"Degas Coin\",\"HTML5 Coin\",\"Ultimate Secure Cash\",\"EquiTrader\",\"QTUM\",\"Quantum Resistant Ledger\",\"Espers\",\"Dynamic\",\"Nano\",\"ChanCoin\",\"Dinastycoin\",\"Denarius\",\"DigitalPrice\",\"Virta Unique Coin\",\"Bitcoin Planet\",\"Unify\",\"BritCoin\",\"SocialCoin\",\"ArcticCoin\",\"DAS\",\"Linda\",\"LeviarCoin\",\"DeepOnion\",\"Bitcore\",\"gCn Coin\",\"SmartCash\",\"Signatum\",\"Onix\",\"Cream\",\"Bitcoin Cash\",\"Monoeci\",\"Draftcoin\",\"Sojourn Coin\",\"Stakecoin\",\"NewYorkCoin\",\"FrazCoin\",\"Kronecoin\",\"AdCoin\",\"Linx\",\"CoinonatX\",\"Ethereum Dark\",\"Sumokoin\",\"Obsidian\",\"Cardano\",\"Regalcoin\",\"BitcoinZ\",\"TrezarCoin\",\"Elements\",\"TerraNovaCoin\",\"VIVO Coin\",\"Rupee\",\"Bitcoin Gold\",\"WomenCoin\",\"Theresa May Coin\",\"NamoCoin\",\"LUXCoin\",\"Pirl\",\"Xios\",\"Bitcloud 2.0\",\"eBoost\",\"KekCoin\",\"BlackholeCoin\",\"Infinity Economics\",\"Pura\",\"Innova\",\"Ellaism\",\"GoByte\",\"Magnet\",\"Lamden Tau\",\"Electra\",\"Bitcoin Diamond\",\"SHIELD\",\"Cash & Back Coin\",\"UltraNote\",\"BitCoal\",\"DaxxCoin\",\"Bulwark\",\"Kalkulus\",\"AC3\",\"Lethean\",\"GermanCoin\",\"LiteCoin Ultra\",\"PopularCoin\",\"PhantomX\",\"Photon\",\"Sucre\",\"SparksPay\",\"Digiwage\",\"GunCoin\",\"IrishCoin\",\"Trollcoin\",\"Litecoin Plus\",\"Monkey Project\",\"Pioneer Coin\",\"UnitedBitcoin\",\"Interzone\",\"TokenPay\",\"1717 Masonic Commemorative Token\",\"My Big Coin\",\"TurtleCoin\",\"MUNcoin\",\"Unified Society USDEX\",\"Niobio Cash\",\"ShareChain\",\"Travelflex\",\"KREDS\",\"Tokyo Coin\",\"BitFlip\",\"LottoCoin\",\"Crypto Improvement Fund\",\"Stipend\",\"Pushi\",\"Ellerium\",\"Velox\",\"Ontology\",\"Callisto Network\",\"BitTube\",\"Poseidon\",\"Aidos Kuneen\",\"Bitspace\",\"Briacoin\",\"Ignition\",\"Bitrolium\",\"MedicCoin\",\"Alpenschillling\",\"Bitcoin Green\",\"Deviant Coin\",\"Abjcoin\",\"Semux\",\"FuturoCoin\",\"Carebit\",\"Zealium\",\"Monero Classic\",\"Proton\",\"iDealCash\",\"Jumpcoin\",\"Infinex\",\"Bitcoin Incognito\",\"KEYCO\",\"HollyWoodCoin\",\"GINcoin\",\"PlatinCoin\",\"Loki\",\"Newton Coin\",\"Swisscoin\",\"Xt3ch\",\"MassGrid\",\"TheVig\",\"PluraCoin\",\"EmaratCoin\",\"Dekado\",\"Lynx\",\"Poseidon Quark\",\"BitcoinWSpectrum\",\"Muse\",\"Motion\",\"PlusOneCoin\",\"Axe\",\"Trivechain\",\"Dystem\",\"Giant\",\"Peony Coin\",\"Absolute Coin\",\"Vitae\",\"HexCoin\",\"TPCash\",\"Webchain\",\"Ryo\",\"Urals Coin\",\"Qwertycoin\",\"ARENON\",\"EUNO\",\"MMOCoin\",\"Ketan\",\"Project Pai\",\"XDNA\",\"PAXEX\",\"Azart\",\"ThunderStake\",\"Kcash\",\"Xchange\",\"Acute Angle Cloud\",\"CrypticCoin\",\"Bettex coin\",\"Actinium\",\"Bitcoin SV\",\"BitMoney\",\"Junson Ming Chan Coin\",\"FREDEnergy\",\"HerbCoin\",\"Universal Molecule\",\"Lithium\",\"PirateCash\",\"Exosis\",\"Block-Logic\",\"Oduwa\",\"Beam\",\"Galilel\",\"Bithereum\",\"Crypto Sports\",\"Credit\",\"SLICE\",\"Dash Platinum\",\"Nasdacoin\",\"Beetle Coin\",\"Titan Coin\",\"Award\",\"BLAST\",\"Bitcoin Rhodium\",\"GlobalToken\",\"Insane Coin\",\"ALAX\",\"LiteDoge\",\"SolarCoin\",\"TruckCoin\",\"UFO Coin\",\"OrangeCoin\",\"BlakeCoin\",\"BitstarCoin\",\"NeosCoin\",\"HyperCoin\",\"PinkCoin\",\"Crypto Escudo\",\"AudioCoin\",\"IncaKoin\",\"Piggy Coin\",\"Crown Coin\",\"Genstake\",\"SmileyCoin\",\"XiaoMiCoin\",\"Groestlcoin\",\"CapriCoin\",\" ClubCoin\",\"Radium\",\"Bata\",\"Pakcoin\",\"Creditbit \",\"OKCash\",\"Lisk\",\"HiCoin\",\"WhiteCoin\",\"FriendshipCoin\",\"Fiii\",\"JoinCoin\",\"Triangles Coin\",\"Vollar\",\"EOS\",\"Reality Clash\",\"Oxycoin\",\"TigerCash\",\"Waves\",\"Particl\",\"Nxt\",\"ZEPHYR\",\"Gapcoin\",\"Beldex\",\"Horizen\",\"BitcoinPlus\"],\"TotalCoinSupply_scaled\":{\"__ndarray__\":\"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\",\"dtype\":\"float64\",\"order\":\"little\",\"shape\":[528]},\"TotalCoinsMined_scaled\":{\"__ndarray__\":\"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\",\"dtype\":\"float64\",\"order\":\"little\",\"shape\":[528]}},\"selected\":{\"id\":\"2641\"},\"selection_policy\":{\"id\":\"2656\"}},\"id\":\"2640\",\"type\":\"ColumnDataSource\"}],\"root_ids\":[\"2596\"]},\"title\":\"Bokeh Application\",\"version\":\"2.3.2\"}};\n",
       "    var render_items = [{\"docid\":\"5aae7fe4-fb18-4a4b-9c16-9bd645d134fb\",\"root_ids\":[\"2596\"],\"roots\":{\"2596\":\"a177608e-c317-4eb8-a018-a76457cf0892\"}}];\n",
       "    root.Bokeh.embed.embed_items_notebook(docs_json, render_items);\n",
       "  }\n",
       "  if (root.Bokeh !== undefined && root.Bokeh.Panel !== undefined) {\n",
       "    embed_document(root);\n",
       "  } else {\n",
       "    var attempts = 0;\n",
       "    var timer = setInterval(function(root) {\n",
       "      if (root.Bokeh !== undefined && root.Bokeh.Panel !== undefined) {\n",
       "        clearInterval(timer);\n",
       "        embed_document(root);\n",
       "      } else if (document.readyState == \"complete\") {\n",
       "        attempts++;\n",
       "        if (attempts > 200) {\n",
       "          clearInterval(timer);\n",
       "          console.log(\"Bokeh: ERROR: Unable to run BokehJS code because BokehJS library is missing\");\n",
       "        }\n",
       "      }\n",
       "    }, 25, root)\n",
       "  }\n",
       "})(window);</script>"
      ],
      "text/plain": [
       ":NdOverlay   [Class]\n",
       "   :Scatter   [TotalCoinsMined_scaled]   (TotalCoinSupply_scaled,CoinName)"
      ]
     },
     "execution_count": 83,
     "metadata": {
      "application/vnd.holoviews_exec.v0+json": {
       "id": "2596"
      }
     },
     "output_type": "execute_result"
    }
   ],
   "source": [
    "# Plot the scatter with x=\"TotalCoinsMined\" and y=\"TotalCoinSupply\"\n",
    "clustered_df.hvplot.scatter(\n",
    "    x=\"TotalCoinsMined_scaled\",\n",
    "    y=\"TotalCoinSupply_scaled\",\n",
    "    hover_cols=[\"CoinName\"],\n",
    "    by=\"Class\",\n",
    ")"
   ]
  },
  {
   "cell_type": "code",
   "execution_count": 84,
   "metadata": {},
   "outputs": [],
   "source": [
    "#The End"
   ]
  }
 ],
 "metadata": {
  "file_extension": ".py",
  "kernelspec": {
   "display_name": "Python 3",
   "language": "python",
   "name": "python3"
  },
  "language_info": {
   "codemirror_mode": {
    "name": "ipython",
    "version": 3
   },
   "file_extension": ".py",
   "mimetype": "text/x-python",
   "name": "python",
   "nbconvert_exporter": "python",
   "pygments_lexer": "ipython3",
   "version": "3.7.10"
  },
  "mimetype": "text/x-python",
  "name": "python",
  "npconvert_exporter": "python",
  "pygments_lexer": "ipython3",
  "version": 3
 },
 "nbformat": 4,
 "nbformat_minor": 4
}
